{
 "cells": [
  {
   "cell_type": "markdown",
   "metadata": {},
   "source": [
    "#Make a smaller notebook just to try and get a handle on how to merge two files...\n",
    "24 August 2015"
   ]
  },
  {
   "cell_type": "code",
   "execution_count": 74,
   "metadata": {
    "collapsed": false
   },
   "outputs": [],
   "source": [
    "import pandas as pd\n",
    "import urllib2\n",
    "from bs4 import BeautifulSoup\n",
    "import re\n",
    "import matplotlib.pyplot as plt\n",
    "from sklearn.cluster import KMeans\n",
    "import palettable as pal\n",
    "\n",
    "%matplotlib inline"
   ]
  },
  {
   "cell_type": "code",
   "execution_count": 75,
   "metadata": {
    "collapsed": false
   },
   "outputs": [],
   "source": [
    "#mtabFile = 'RImetabolites_unique.2015.08.19.csv' #this was the file with the mtabs that only have one isomer in KEGG\n",
    "mtabFile = 'RImetabolites_isomers.2015.08.21.csv' #first column is RInumber"
   ]
  },
  {
   "cell_type": "code",
   "execution_count": 76,
   "metadata": {
    "collapsed": false
   },
   "outputs": [
    {
     "data": {
      "text/html": [
       "<div style=\"max-height:1000px;max-width:1500px;overflow:auto;\">\n",
       "<table border=\"1\" class=\"dataframe\">\n",
       "  <thead>\n",
       "    <tr style=\"text-align: right;\">\n",
       "      <th></th>\n",
       "      <th>cNumber</th>\n",
       "      <th>S1</th>\n",
       "      <th>S2</th>\n",
       "      <th>S3</th>\n",
       "      <th>S4</th>\n",
       "      <th>S5</th>\n",
       "    </tr>\n",
       "    <tr>\n",
       "      <th>RInumber</th>\n",
       "      <th></th>\n",
       "      <th></th>\n",
       "      <th></th>\n",
       "      <th></th>\n",
       "      <th></th>\n",
       "      <th></th>\n",
       "    </tr>\n",
       "  </thead>\n",
       "  <tbody>\n",
       "    <tr>\n",
       "      <th>RI1</th>\n",
       "      <td> C00047</td>\n",
       "      <td> 0.000841</td>\n",
       "      <td> 0.001725</td>\n",
       "      <td> 0.001201</td>\n",
       "      <td> 0.000771</td>\n",
       "      <td> 0.000604</td>\n",
       "    </tr>\n",
       "    <tr>\n",
       "      <th>RI2</th>\n",
       "      <td> C00078</td>\n",
       "      <td> 0.005920</td>\n",
       "      <td> 0.007708</td>\n",
       "      <td> 0.003950</td>\n",
       "      <td> 0.010562</td>\n",
       "      <td> 0.027481</td>\n",
       "    </tr>\n",
       "    <tr>\n",
       "      <th>RI3</th>\n",
       "      <td> C00079</td>\n",
       "      <td> 0.000229</td>\n",
       "      <td> 0.000310</td>\n",
       "      <td> 0.000320</td>\n",
       "      <td> 0.000169</td>\n",
       "      <td> 0.000356</td>\n",
       "    </tr>\n",
       "    <tr>\n",
       "      <th>RI4</th>\n",
       "      <td> C00079</td>\n",
       "      <td> 0.002722</td>\n",
       "      <td> 0.004054</td>\n",
       "      <td> 0.002479</td>\n",
       "      <td> 0.002422</td>\n",
       "      <td> 0.001029</td>\n",
       "    </tr>\n",
       "    <tr>\n",
       "      <th>RI5</th>\n",
       "      <td> C00079</td>\n",
       "      <td> 0.031454</td>\n",
       "      <td> 0.045236</td>\n",
       "      <td> 0.017831</td>\n",
       "      <td> 0.040436</td>\n",
       "      <td> 0.086708</td>\n",
       "    </tr>\n",
       "  </tbody>\n",
       "</table>\n",
       "</div>"
      ],
      "text/plain": [
       "         cNumber        S1        S2        S3        S4        S5\n",
       "RInumber                                                          \n",
       "RI1       C00047  0.000841  0.001725  0.001201  0.000771  0.000604\n",
       "RI2       C00078  0.005920  0.007708  0.003950  0.010562  0.027481\n",
       "RI3       C00079  0.000229  0.000310  0.000320  0.000169  0.000356\n",
       "RI4       C00079  0.002722  0.004054  0.002479  0.002422  0.001029\n",
       "RI5       C00079  0.031454  0.045236  0.017831  0.040436  0.086708"
      ]
     },
     "execution_count": 76,
     "metadata": {},
     "output_type": "execute_result"
    }
   ],
   "source": [
    "CO_RawData=pd.read_csv(mtabFile, index_col='RInumber')\n",
    "#can immediately see the multiple iterations of a CO number right at the top five rows. \n",
    "#The compound labeled as C00079 shows up at least three times bc found at \n",
    "#different retention times. Need to track this since cNumber is not unique\n",
    "##BUT, only matters in the Kmeans clustering, does not matter in the data gathering from KEGG\n",
    "CO_RawData.head(n=5)"
   ]
  },
  {
   "cell_type": "markdown",
   "metadata": {},
   "source": [
    "So, not sure what the best way is to organize this...dive in and see what happens. First, try pulling out the RInumber into its own matrix. Then most of the code should be the same as before, but will still have a unique number to track at the end."
   ]
  },
  {
   "cell_type": "code",
   "execution_count": 242,
   "metadata": {
    "collapsed": false
   },
   "outputs": [],
   "source": [
    "CO_RawData_all = pd.read_csv('RImetabolites_isomers.2015.08.21.csv',index_col = 'RInumber')"
   ]
  },
  {
   "cell_type": "code",
   "execution_count": 243,
   "metadata": {
    "collapsed": true
   },
   "outputs": [],
   "source": [
    "df = CO_RawData_all"
   ]
  },
  {
   "cell_type": "code",
   "execution_count": 244,
   "metadata": {
    "collapsed": false
   },
   "outputs": [
    {
     "data": {
      "text/plain": [
       "Index([u'cNumber', u'S1', u'S2', u'S3', u'S4', u'S5'], dtype='object')"
      ]
     },
     "execution_count": 244,
     "metadata": {},
     "output_type": "execute_result"
    }
   ],
   "source": [
    "df.columns"
   ]
  },
  {
   "cell_type": "code",
   "execution_count": 245,
   "metadata": {
    "collapsed": false
   },
   "outputs": [
    {
     "data": {
      "text/plain": [
       "Index([u'RI1', u'RI2', u'RI3', u'RI4', u'RI5', u'RI6', u'RI7', u'RI8', u'RI9', u'RI10', u'RI11', u'RI12', u'RI13', u'RI14', u'RI15', u'RI16', u'RI17', u'RI18', u'RI19', u'RI20', u'RI21', u'RI22', u'RI23', u'RI24', u'RI25', u'RI26', u'RI27', u'RI28', u'RI29', u'RI30', u'RI31', u'RI32', u'RI33', u'RI34', u'RI35', u'RI36', u'RI37', u'RI38', u'RI39', u'RI40', u'RI41', u'RI42', u'RI43', u'RI44', u'RI45', u'RI46', u'RI47', u'RI48', u'RI49', u'RI50', u'RI51', u'RI52', u'RI53', u'RI54', u'RI55', u'RI56', u'RI57', u'RI58', u'RI59', u'RI60', u'RI61', u'RI62', u'RI63', u'RI64', u'RI65', u'RI66', u'RI67', u'RI68', u'RI69', u'RI70', u'RI71', u'RI72', u'RI73', u'RI74', u'RI75', u'RI76', u'RI77', u'RI78', u'RI79', u'RI80', u'RI81', u'RI82', u'RI83', u'RI84', u'RI85', u'RI86', u'RI87', u'RI88', u'RI89', u'RI90', u'RI91', u'RI92', u'RI93', u'RI94', u'RI95', u'RI96', u'RI97', u'RI98', u'RI99', u'RI100', ...], dtype='object')"
      ]
     },
     "execution_count": 245,
     "metadata": {},
     "output_type": "execute_result"
    }
   ],
   "source": [
    "df.index"
   ]
  },
  {
   "cell_type": "code",
   "execution_count": 249,
   "metadata": {
    "collapsed": false
   },
   "outputs": [
    {
     "data": {
      "text/plain": [
       "'C00047'"
      ]
     },
     "execution_count": 249,
     "metadata": {},
     "output_type": "execute_result"
    }
   ],
   "source": [
    "df.ix[0,'cNumber']"
   ]
  },
  {
   "cell_type": "code",
   "execution_count": null,
   "metadata": {
    "collapsed": true
   },
   "outputs": [],
   "source": []
  },
  {
   "cell_type": "code",
   "execution_count": 248,
   "metadata": {
    "collapsed": false
   },
   "outputs": [
    {
     "data": {
      "text/html": [
       "<div style=\"max-height:1000px;max-width:1500px;overflow:auto;\">\n",
       "<table border=\"1\" class=\"dataframe\">\n",
       "  <thead>\n",
       "    <tr style=\"text-align: right;\">\n",
       "      <th></th>\n",
       "      <th>cNumber</th>\n",
       "      <th>S1</th>\n",
       "      <th>S2</th>\n",
       "      <th>S3</th>\n",
       "      <th>S4</th>\n",
       "      <th>S5</th>\n",
       "    </tr>\n",
       "    <tr>\n",
       "      <th>RInumber</th>\n",
       "      <th></th>\n",
       "      <th></th>\n",
       "      <th></th>\n",
       "      <th></th>\n",
       "      <th></th>\n",
       "      <th></th>\n",
       "    </tr>\n",
       "  </thead>\n",
       "  <tbody>\n",
       "    <tr>\n",
       "      <th>RI1</th>\n",
       "      <td> C00047</td>\n",
       "      <td> 0.000841</td>\n",
       "      <td> 0.001725</td>\n",
       "      <td> 0.001201</td>\n",
       "      <td> 0.000771</td>\n",
       "      <td> 0.000604</td>\n",
       "    </tr>\n",
       "    <tr>\n",
       "      <th>RI2</th>\n",
       "      <td> C00078</td>\n",
       "      <td> 0.005920</td>\n",
       "      <td> 0.007708</td>\n",
       "      <td> 0.003950</td>\n",
       "      <td> 0.010562</td>\n",
       "      <td> 0.027481</td>\n",
       "    </tr>\n",
       "    <tr>\n",
       "      <th>RI3</th>\n",
       "      <td> C00079</td>\n",
       "      <td> 0.000229</td>\n",
       "      <td> 0.000310</td>\n",
       "      <td> 0.000320</td>\n",
       "      <td> 0.000169</td>\n",
       "      <td> 0.000356</td>\n",
       "    </tr>\n",
       "    <tr>\n",
       "      <th>RI4</th>\n",
       "      <td> C00079</td>\n",
       "      <td> 0.002722</td>\n",
       "      <td> 0.004054</td>\n",
       "      <td> 0.002479</td>\n",
       "      <td> 0.002422</td>\n",
       "      <td> 0.001029</td>\n",
       "    </tr>\n",
       "    <tr>\n",
       "      <th>RI5</th>\n",
       "      <td> C00079</td>\n",
       "      <td> 0.031454</td>\n",
       "      <td> 0.045236</td>\n",
       "      <td> 0.017831</td>\n",
       "      <td> 0.040436</td>\n",
       "      <td> 0.086708</td>\n",
       "    </tr>\n",
       "  </tbody>\n",
       "</table>\n",
       "</div>"
      ],
      "text/plain": [
       "         cNumber        S1        S2        S3        S4        S5\n",
       "RInumber                                                          \n",
       "RI1       C00047  0.000841  0.001725  0.001201  0.000771  0.000604\n",
       "RI2       C00078  0.005920  0.007708  0.003950  0.010562  0.027481\n",
       "RI3       C00079  0.000229  0.000310  0.000320  0.000169  0.000356\n",
       "RI4       C00079  0.002722  0.004054  0.002479  0.002422  0.001029\n",
       "RI5       C00079  0.031454  0.045236  0.017831  0.040436  0.086708"
      ]
     },
     "execution_count": 248,
     "metadata": {},
     "output_type": "execute_result"
    }
   ],
   "source": [
    "df.head(5)"
   ]
  },
  {
   "cell_type": "code",
   "execution_count": null,
   "metadata": {
    "collapsed": true
   },
   "outputs": [],
   "source": []
  },
  {
   "cell_type": "code",
   "execution_count": null,
   "metadata": {
    "collapsed": true
   },
   "outputs": [],
   "source": []
  },
  {
   "cell_type": "code",
   "execution_count": 236,
   "metadata": {
    "collapsed": false
   },
   "outputs": [
    {
     "data": {
      "text/plain": [
       "True"
      ]
     },
     "execution_count": 236,
     "metadata": {},
     "output_type": "execute_result"
    }
   ],
   "source": [
    "'S1' in CO_RawData_all.keys()"
   ]
  },
  {
   "cell_type": "code",
   "execution_count": null,
   "metadata": {
    "collapsed": true
   },
   "outputs": [],
   "source": []
  },
  {
   "cell_type": "code",
   "execution_count": 237,
   "metadata": {
    "collapsed": false
   },
   "outputs": [
    {
     "data": {
      "text/html": [
       "<div style=\"max-height:1000px;max-width:1500px;overflow:auto;\">\n",
       "<table border=\"1\" class=\"dataframe\">\n",
       "  <thead>\n",
       "    <tr style=\"text-align: right;\">\n",
       "      <th></th>\n",
       "      <th>cNumber</th>\n",
       "      <th>S1</th>\n",
       "      <th>S2</th>\n",
       "      <th>S3</th>\n",
       "      <th>S4</th>\n",
       "      <th>S5</th>\n",
       "    </tr>\n",
       "    <tr>\n",
       "      <th>RInumber</th>\n",
       "      <th></th>\n",
       "      <th></th>\n",
       "      <th></th>\n",
       "      <th></th>\n",
       "      <th></th>\n",
       "      <th></th>\n",
       "    </tr>\n",
       "  </thead>\n",
       "  <tbody>\n",
       "    <tr>\n",
       "      <th>RI1</th>\n",
       "      <td> C00047</td>\n",
       "      <td> 0.000841</td>\n",
       "      <td> 0.001725</td>\n",
       "      <td> 0.001201</td>\n",
       "      <td> 0.000771</td>\n",
       "      <td> 0.000604</td>\n",
       "    </tr>\n",
       "    <tr>\n",
       "      <th>RI2</th>\n",
       "      <td> C00078</td>\n",
       "      <td> 0.005920</td>\n",
       "      <td> 0.007708</td>\n",
       "      <td> 0.003950</td>\n",
       "      <td> 0.010562</td>\n",
       "      <td> 0.027481</td>\n",
       "    </tr>\n",
       "    <tr>\n",
       "      <th>RI3</th>\n",
       "      <td> C00079</td>\n",
       "      <td> 0.000229</td>\n",
       "      <td> 0.000310</td>\n",
       "      <td> 0.000320</td>\n",
       "      <td> 0.000169</td>\n",
       "      <td> 0.000356</td>\n",
       "    </tr>\n",
       "    <tr>\n",
       "      <th>RI4</th>\n",
       "      <td> C00079</td>\n",
       "      <td> 0.002722</td>\n",
       "      <td> 0.004054</td>\n",
       "      <td> 0.002479</td>\n",
       "      <td> 0.002422</td>\n",
       "      <td> 0.001029</td>\n",
       "    </tr>\n",
       "    <tr>\n",
       "      <th>RI5</th>\n",
       "      <td> C00079</td>\n",
       "      <td> 0.031454</td>\n",
       "      <td> 0.045236</td>\n",
       "      <td> 0.017831</td>\n",
       "      <td> 0.040436</td>\n",
       "      <td> 0.086708</td>\n",
       "    </tr>\n",
       "  </tbody>\n",
       "</table>\n",
       "</div>"
      ],
      "text/plain": [
       "         cNumber        S1        S2        S3        S4        S5\n",
       "RInumber                                                          \n",
       "RI1       C00047  0.000841  0.001725  0.001201  0.000771  0.000604\n",
       "RI2       C00078  0.005920  0.007708  0.003950  0.010562  0.027481\n",
       "RI3       C00079  0.000229  0.000310  0.000320  0.000169  0.000356\n",
       "RI4       C00079  0.002722  0.004054  0.002479  0.002422  0.001029\n",
       "RI5       C00079  0.031454  0.045236  0.017831  0.040436  0.086708"
      ]
     },
     "execution_count": 237,
     "metadata": {},
     "output_type": "execute_result"
    }
   ],
   "source": [
    "CO_RawData_all.head(5)"
   ]
  },
  {
   "cell_type": "code",
   "execution_count": 80,
   "metadata": {
    "collapsed": false
   },
   "outputs": [
    {
     "data": {
      "text/html": [
       "<div style=\"max-height:1000px;max-width:1500px;overflow:auto;\">\n",
       "<table border=\"1\" class=\"dataframe\">\n",
       "  <thead>\n",
       "    <tr style=\"text-align: right;\">\n",
       "      <th></th>\n",
       "      <th>S1</th>\n",
       "      <th>S2</th>\n",
       "      <th>S3</th>\n",
       "      <th>S4</th>\n",
       "      <th>S5</th>\n",
       "    </tr>\n",
       "    <tr>\n",
       "      <th>RInumber</th>\n",
       "      <th></th>\n",
       "      <th></th>\n",
       "      <th></th>\n",
       "      <th></th>\n",
       "      <th></th>\n",
       "    </tr>\n",
       "  </thead>\n",
       "  <tbody>\n",
       "    <tr>\n",
       "      <th>RI1</th>\n",
       "      <td> 0.000841</td>\n",
       "      <td> 0.001725</td>\n",
       "      <td> 0.001201</td>\n",
       "      <td> 0.000771</td>\n",
       "      <td> 0.000604</td>\n",
       "    </tr>\n",
       "    <tr>\n",
       "      <th>RI2</th>\n",
       "      <td> 0.005920</td>\n",
       "      <td> 0.007708</td>\n",
       "      <td> 0.003950</td>\n",
       "      <td> 0.010562</td>\n",
       "      <td> 0.027481</td>\n",
       "    </tr>\n",
       "    <tr>\n",
       "      <th>RI3</th>\n",
       "      <td> 0.000229</td>\n",
       "      <td> 0.000310</td>\n",
       "      <td> 0.000320</td>\n",
       "      <td> 0.000169</td>\n",
       "      <td> 0.000356</td>\n",
       "    </tr>\n",
       "    <tr>\n",
       "      <th>RI4</th>\n",
       "      <td> 0.002722</td>\n",
       "      <td> 0.004054</td>\n",
       "      <td> 0.002479</td>\n",
       "      <td> 0.002422</td>\n",
       "      <td> 0.001029</td>\n",
       "    </tr>\n",
       "    <tr>\n",
       "      <th>RI5</th>\n",
       "      <td> 0.031454</td>\n",
       "      <td> 0.045236</td>\n",
       "      <td> 0.017831</td>\n",
       "      <td> 0.040436</td>\n",
       "      <td> 0.086708</td>\n",
       "    </tr>\n",
       "  </tbody>\n",
       "</table>\n",
       "</div>"
      ],
      "text/plain": [
       "                S1        S2        S3        S4        S5\n",
       "RInumber                                                  \n",
       "RI1       0.000841  0.001725  0.001201  0.000771  0.000604\n",
       "RI2       0.005920  0.007708  0.003950  0.010562  0.027481\n",
       "RI3       0.000229  0.000310  0.000320  0.000169  0.000356\n",
       "RI4       0.002722  0.004054  0.002479  0.002422  0.001029\n",
       "RI5       0.031454  0.045236  0.017831  0.040436  0.086708"
      ]
     },
     "execution_count": 80,
     "metadata": {},
     "output_type": "execute_result"
    }
   ],
   "source": [
    "#get rid of the cNumber...? or make a new matrix without it? probably best to make a new matrix\n",
    "#without it\n",
    "somelist = ['S1','S2','S3','S4','S5']\n",
    "CO_RawData = CO_RawData_all[somelist]\n",
    "CO_RawData.head(5)"
   ]
  },
  {
   "cell_type": "code",
   "execution_count": 81,
   "metadata": {
    "collapsed": false
   },
   "outputs": [],
   "source": [
    "#now, keep the rows where the CO number has a matching KO number...but remember, still have duplicate CNumbers\n",
    "RIandCO = CO_RawData_all['cNumber']"
   ]
  },
  {
   "cell_type": "code",
   "execution_count": 82,
   "metadata": {
    "collapsed": false
   },
   "outputs": [
    {
     "data": {
      "text/plain": [
       "RInumber\n",
       "RI1         C00047\n",
       "RI2         C00078\n",
       "RI3         C00079\n",
       "RI4         C00079\n",
       "RI5         C00079\n",
       "Name: cNumber, dtype: object"
      ]
     },
     "execution_count": 82,
     "metadata": {},
     "output_type": "execute_result"
    }
   ],
   "source": [
    "RIandCO.head(5)"
   ]
  },
  {
   "cell_type": "code",
   "execution_count": 83,
   "metadata": {
    "collapsed": false
   },
   "outputs": [
    {
     "data": {
      "text/plain": [
       "pandas.core.series.Series"
      ]
     },
     "execution_count": 83,
     "metadata": {},
     "output_type": "execute_result"
    }
   ],
   "source": [
    "type(RIandCO)"
   ]
  },
  {
   "cell_type": "code",
   "execution_count": 84,
   "metadata": {
    "collapsed": false
   },
   "outputs": [
    {
     "data": {
      "text/plain": [
       "True"
      ]
     },
     "execution_count": 84,
     "metadata": {},
     "output_type": "execute_result"
    }
   ],
   "source": [
    "#while I would think this finds the index...keys here appears to be the columns with data?\n",
    "'cNumber' in CO_RawData_all.keys()"
   ]
  },
  {
   "cell_type": "code",
   "execution_count": 85,
   "metadata": {
    "collapsed": false
   },
   "outputs": [
    {
     "data": {
      "text/plain": [
       "False"
      ]
     },
     "execution_count": 85,
     "metadata": {},
     "output_type": "execute_result"
    }
   ],
   "source": [
    "'RInumber' in CO_RawData_all.keys()"
   ]
  },
  {
   "cell_type": "code",
   "execution_count": 86,
   "metadata": {
    "collapsed": false
   },
   "outputs": [
    {
     "data": {
      "text/plain": [
       "['cNumber', 'S1', 'S2', 'S3', 'S4', 'S5']"
      ]
     },
     "execution_count": 86,
     "metadata": {},
     "output_type": "execute_result"
    }
   ],
   "source": [
    "list(CO_RawData_all.columns.values)"
   ]
  },
  {
   "cell_type": "code",
   "execution_count": 87,
   "metadata": {
    "collapsed": false
   },
   "outputs": [
    {
     "data": {
      "text/plain": [
       "RInumber\n",
       "RI1         C00047\n",
       "Name: cNumber, dtype: object"
      ]
     },
     "execution_count": 87,
     "metadata": {},
     "output_type": "execute_result"
    }
   ],
   "source": [
    "RIandCO[RIandCO == 'C00047']"
   ]
  },
  {
   "cell_type": "code",
   "execution_count": 88,
   "metadata": {
    "collapsed": false
   },
   "outputs": [
    {
     "data": {
      "text/plain": [
       "False"
      ]
     },
     "execution_count": 88,
     "metadata": {},
     "output_type": "execute_result"
    }
   ],
   "source": [
    "RIandCO[0]==AllCO"
   ]
  },
  {
   "cell_type": "code",
   "execution_count": 89,
   "metadata": {
    "collapsed": true
   },
   "outputs": [],
   "source": [
    "import cPickle as cpk\n",
    "WorkingFile = cpk.load(open('running_Script.pickle','r'))"
   ]
  },
  {
   "cell_type": "code",
   "execution_count": 90,
   "metadata": {
    "collapsed": false
   },
   "outputs": [
    {
     "name": "stdout",
     "output_type": "stream",
     "text": [
      "There are 303 COs with an associated KO. 1036 are not associated with a KO.\n"
     ]
    }
   ],
   "source": [
    "def SplitCODict(WorkingFile):\n",
    "    CO_withoutKO={}\n",
    "    CO_withKO={}\n",
    "    for CO in WorkingFile.keys():\n",
    "\n",
    "        if WorkingFile[CO]['Related KO']==[]:\n",
    "            CO_withoutKO[CO]=WorkingFile[CO]\n",
    "        else:\n",
    "            CO_withKO[CO]=WorkingFile[CO]\n",
    "    return CO_withoutKO, CO_withKO\n",
    "\n",
    "CO_withoutKO, CO_withKO=SplitCODict(WorkingFile)\n",
    "print 'There are', len(CO_withKO), 'COs with an associated KO.', len(CO_withoutKO), 'are not associated with a KO.'\n",
    "\n"
   ]
  },
  {
   "cell_type": "code",
   "execution_count": 91,
   "metadata": {
    "collapsed": true
   },
   "outputs": [],
   "source": [
    "AllKO=[]\n",
    "AllCO=[]\n",
    "for key in CO_withKO:\n",
    "    AllKO.append(CO_withKO[key]['Related KO'])\n",
    "    AllCO.append(CO_withKO[key]['Related CO'])\n",
    "AllKO=list(set([item for sublist in AllKO for item in sublist]))\n",
    "AllCO=list(set([item for sublist in AllCO for item in sublist]))\n",
    "\n",
    "# CO_limited_Norm2Mean=CO_Norm2Mean.loc[AllCO].dropna()"
   ]
  },
  {
   "cell_type": "code",
   "execution_count": 180,
   "metadata": {
    "collapsed": false
   },
   "outputs": [
    {
     "data": {
      "text/plain": [
       "['cNumber', 'S1', 'S2', 'S3', 'S4', 'S5', 'new']"
      ]
     },
     "execution_count": 180,
     "metadata": {},
     "output_type": "execute_result"
    }
   ],
   "source": [
    "list(CO_RawData_all.columns.values)"
   ]
  },
  {
   "cell_type": "code",
   "execution_count": 95,
   "metadata": {
    "collapsed": false
   },
   "outputs": [
    {
     "data": {
      "text/html": [
       "<div style=\"max-height:1000px;max-width:1500px;overflow:auto;\">\n",
       "<table border=\"1\" class=\"dataframe\">\n",
       "  <thead>\n",
       "    <tr style=\"text-align: right;\">\n",
       "      <th></th>\n",
       "      <th>cNumber</th>\n",
       "      <th>S1</th>\n",
       "      <th>S2</th>\n",
       "      <th>S3</th>\n",
       "      <th>S4</th>\n",
       "      <th>S5</th>\n",
       "    </tr>\n",
       "    <tr>\n",
       "      <th>RInumber</th>\n",
       "      <th></th>\n",
       "      <th></th>\n",
       "      <th></th>\n",
       "      <th></th>\n",
       "      <th></th>\n",
       "      <th></th>\n",
       "    </tr>\n",
       "  </thead>\n",
       "  <tbody>\n",
       "    <tr>\n",
       "      <th>RI1</th>\n",
       "      <td> C00047</td>\n",
       "      <td> 0.000841</td>\n",
       "      <td> 0.001725</td>\n",
       "      <td> 0.001201</td>\n",
       "      <td> 0.000771</td>\n",
       "      <td> 0.000604</td>\n",
       "    </tr>\n",
       "    <tr>\n",
       "      <th>RI2</th>\n",
       "      <td> C00078</td>\n",
       "      <td> 0.005920</td>\n",
       "      <td> 0.007708</td>\n",
       "      <td> 0.003950</td>\n",
       "      <td> 0.010562</td>\n",
       "      <td> 0.027481</td>\n",
       "    </tr>\n",
       "    <tr>\n",
       "      <th>RI3</th>\n",
       "      <td> C00079</td>\n",
       "      <td> 0.000229</td>\n",
       "      <td> 0.000310</td>\n",
       "      <td> 0.000320</td>\n",
       "      <td> 0.000169</td>\n",
       "      <td> 0.000356</td>\n",
       "    </tr>\n",
       "    <tr>\n",
       "      <th>RI4</th>\n",
       "      <td> C00079</td>\n",
       "      <td> 0.002722</td>\n",
       "      <td> 0.004054</td>\n",
       "      <td> 0.002479</td>\n",
       "      <td> 0.002422</td>\n",
       "      <td> 0.001029</td>\n",
       "    </tr>\n",
       "    <tr>\n",
       "      <th>RI5</th>\n",
       "      <td> C00079</td>\n",
       "      <td> 0.031454</td>\n",
       "      <td> 0.045236</td>\n",
       "      <td> 0.017831</td>\n",
       "      <td> 0.040436</td>\n",
       "      <td> 0.086708</td>\n",
       "    </tr>\n",
       "  </tbody>\n",
       "</table>\n",
       "</div>"
      ],
      "text/plain": [
       "         cNumber        S1        S2        S3        S4        S5\n",
       "RInumber                                                          \n",
       "RI1       C00047  0.000841  0.001725  0.001201  0.000771  0.000604\n",
       "RI2       C00078  0.005920  0.007708  0.003950  0.010562  0.027481\n",
       "RI3       C00079  0.000229  0.000310  0.000320  0.000169  0.000356\n",
       "RI4       C00079  0.002722  0.004054  0.002479  0.002422  0.001029\n",
       "RI5       C00079  0.031454  0.045236  0.017831  0.040436  0.086708"
      ]
     },
     "execution_count": 95,
     "metadata": {},
     "output_type": "execute_result"
    }
   ],
   "source": [
    "CO_RawData_all.head(5)"
   ]
  },
  {
   "cell_type": "code",
   "execution_count": null,
   "metadata": {
    "collapsed": true
   },
   "outputs": [],
   "source": []
  },
  {
   "cell_type": "code",
   "execution_count": 42,
   "metadata": {
    "collapsed": false
   },
   "outputs": [
    {
     "data": {
      "text/plain": [
       "'C00047'"
      ]
     },
     "execution_count": 42,
     "metadata": {},
     "output_type": "execute_result"
    }
   ],
   "source": [
    "m = CO_RawData_all['cNumber'][0]\n",
    "m"
   ]
  },
  {
   "cell_type": "code",
   "execution_count": 114,
   "metadata": {
    "collapsed": false
   },
   "outputs": [
    {
     "data": {
      "text/plain": [
       "True"
      ]
     },
     "execution_count": 114,
     "metadata": {},
     "output_type": "execute_result"
    }
   ],
   "source": [
    "m in AllCO"
   ]
  },
  {
   "cell_type": "code",
   "execution_count": 115,
   "metadata": {
    "collapsed": false
   },
   "outputs": [
    {
     "data": {
      "text/plain": [
       "list"
      ]
     },
     "execution_count": 115,
     "metadata": {},
     "output_type": "execute_result"
    }
   ],
   "source": [
    "type(AllCO)"
   ]
  },
  {
   "cell_type": "code",
   "execution_count": 187,
   "metadata": {
    "collapsed": false
   },
   "outputs": [
    {
     "data": {
      "text/plain": [
       "Index([u'cNumber', u'S1', u'S2', u'S3', u'S4', u'S5', u'new'], dtype='object')"
      ]
     },
     "execution_count": 187,
     "metadata": {},
     "output_type": "execute_result"
    }
   ],
   "source": [
    "CO_RawData_all.keys()"
   ]
  },
  {
   "cell_type": "code",
   "execution_count": 297,
   "metadata": {
    "collapsed": false
   },
   "outputs": [
    {
     "data": {
      "text/html": [
       "<div style=\"max-height:1000px;max-width:1500px;overflow:auto;\">\n",
       "<table border=\"1\" class=\"dataframe\">\n",
       "  <thead>\n",
       "    <tr style=\"text-align: right;\">\n",
       "      <th></th>\n",
       "      <th>cNumber</th>\n",
       "      <th>S1</th>\n",
       "      <th>S2</th>\n",
       "      <th>S3</th>\n",
       "      <th>S4</th>\n",
       "      <th>S5</th>\n",
       "      <th>new</th>\n",
       "    </tr>\n",
       "    <tr>\n",
       "      <th>RInumber</th>\n",
       "      <th></th>\n",
       "      <th></th>\n",
       "      <th></th>\n",
       "      <th></th>\n",
       "      <th></th>\n",
       "      <th></th>\n",
       "      <th></th>\n",
       "    </tr>\n",
       "  </thead>\n",
       "  <tbody>\n",
       "    <tr>\n",
       "      <th>RI1</th>\n",
       "      <td> C00047</td>\n",
       "      <td> 0.000841</td>\n",
       "      <td> 0.001725</td>\n",
       "      <td> 0.001201</td>\n",
       "      <td> 0.000771</td>\n",
       "      <td> 0.000604</td>\n",
       "      <td> True</td>\n",
       "    </tr>\n",
       "    <tr>\n",
       "      <th>RI2</th>\n",
       "      <td> C00078</td>\n",
       "      <td> 0.005920</td>\n",
       "      <td> 0.007708</td>\n",
       "      <td> 0.003950</td>\n",
       "      <td> 0.010562</td>\n",
       "      <td> 0.027481</td>\n",
       "      <td> True</td>\n",
       "    </tr>\n",
       "    <tr>\n",
       "      <th>RI3</th>\n",
       "      <td> C00079</td>\n",
       "      <td> 0.000229</td>\n",
       "      <td> 0.000310</td>\n",
       "      <td> 0.000320</td>\n",
       "      <td> 0.000169</td>\n",
       "      <td> 0.000356</td>\n",
       "      <td> True</td>\n",
       "    </tr>\n",
       "    <tr>\n",
       "      <th>RI4</th>\n",
       "      <td> C00079</td>\n",
       "      <td> 0.002722</td>\n",
       "      <td> 0.004054</td>\n",
       "      <td> 0.002479</td>\n",
       "      <td> 0.002422</td>\n",
       "      <td> 0.001029</td>\n",
       "      <td> True</td>\n",
       "    </tr>\n",
       "    <tr>\n",
       "      <th>RI5</th>\n",
       "      <td> C00079</td>\n",
       "      <td> 0.031454</td>\n",
       "      <td> 0.045236</td>\n",
       "      <td> 0.017831</td>\n",
       "      <td> 0.040436</td>\n",
       "      <td> 0.086708</td>\n",
       "      <td> True</td>\n",
       "    </tr>\n",
       "  </tbody>\n",
       "</table>\n",
       "</div>"
      ],
      "text/plain": [
       "         cNumber        S1        S2        S3        S4        S5   new\n",
       "RInumber                                                                \n",
       "RI1       C00047  0.000841  0.001725  0.001201  0.000771  0.000604  True\n",
       "RI2       C00078  0.005920  0.007708  0.003950  0.010562  0.027481  True\n",
       "RI3       C00079  0.000229  0.000310  0.000320  0.000169  0.000356  True\n",
       "RI4       C00079  0.002722  0.004054  0.002479  0.002422  0.001029  True\n",
       "RI5       C00079  0.031454  0.045236  0.017831  0.040436  0.086708  True"
      ]
     },
     "execution_count": 297,
     "metadata": {},
     "output_type": "execute_result"
    }
   ],
   "source": [
    "df.head(5)"
   ]
  },
  {
   "cell_type": "code",
   "execution_count": 298,
   "metadata": {
    "collapsed": false
   },
   "outputs": [
    {
     "data": {
      "text/plain": [
       "'C00078'"
      ]
     },
     "execution_count": 298,
     "metadata": {},
     "output_type": "execute_result"
    }
   ],
   "source": [
    "df.iloc[1].loc['cNumber']"
   ]
  },
  {
   "cell_type": "code",
   "execution_count": null,
   "metadata": {
    "collapsed": true
   },
   "outputs": [],
   "source": []
  },
  {
   "cell_type": "code",
   "execution_count": 301,
   "metadata": {
    "collapsed": false
   },
   "outputs": [],
   "source": [
    "# df.ix[0,'cNumber'] #this will allow me to mix integers with labels\n",
    "#more current way apparently uses iloc and loc, to use integers and labels respectively\n",
    "# this would be df.iloc[0].loc['cNumber] {can't get that to work in the if statement}\n",
    "#go through CO_RawData_all one row at a time (inefficient for sure, but I understand what is happening)\n",
    "#make a new column in CO_RawData_all\n",
    "CO_RawData_all['new'] = \"\"\n",
    "\n",
    "for idx in range(0,len(CO_RawData_all)):\n",
    "# for idx in range(0):\n",
    "    fc = CO_RawData_all.ix[idx,'cNumber']\n",
    "    if fc in AllCO:\n",
    "        CO_RawData_all.ix[idx,'new'] = True\n",
    "    else:\n",
    "        CO_RawData_all.ix[idx,'new'] = False       "
   ]
  },
  {
   "cell_type": "code",
   "execution_count": 302,
   "metadata": {
    "collapsed": false
   },
   "outputs": [
    {
     "data": {
      "text/plain": [
       "'C18316'"
      ]
     },
     "execution_count": 302,
     "metadata": {},
     "output_type": "execute_result"
    }
   ],
   "source": [
    "fc"
   ]
  },
  {
   "cell_type": "code",
   "execution_count": null,
   "metadata": {
    "collapsed": true
   },
   "outputs": [],
   "source": []
  },
  {
   "cell_type": "code",
   "execution_count": 304,
   "metadata": {
    "collapsed": false
   },
   "outputs": [],
   "source": [
    "CO_RawData_all.to_csv('check2.csv')"
   ]
  },
  {
   "cell_type": "code",
   "execution_count": null,
   "metadata": {
    "collapsed": true
   },
   "outputs": [],
   "source": []
  },
  {
   "cell_type": "code",
   "execution_count": null,
   "metadata": {
    "collapsed": true
   },
   "outputs": [],
   "source": []
  },
  {
   "cell_type": "code",
   "execution_count": null,
   "metadata": {
    "collapsed": true
   },
   "outputs": [],
   "source": []
  },
  {
   "cell_type": "code",
   "execution_count": 281,
   "metadata": {
    "collapsed": false
   },
   "outputs": [
    {
     "data": {
      "text/plain": [
       "False"
      ]
     },
     "execution_count": 281,
     "metadata": {},
     "output_type": "execute_result"
    }
   ],
   "source": [
    "'C00525' in AllCO"
   ]
  },
  {
   "cell_type": "code",
   "execution_count": 51,
   "metadata": {
    "collapsed": false
   },
   "outputs": [
    {
     "data": {
      "text/plain": [
       "(1614, 6)"
      ]
     },
     "execution_count": 51,
     "metadata": {},
     "output_type": "execute_result"
    }
   ],
   "source": [
    "CO_RawData_all.shape"
   ]
  },
  {
   "cell_type": "code",
   "execution_count": 52,
   "metadata": {
    "collapsed": false
   },
   "outputs": [
    {
     "data": {
      "text/plain": [
       "list"
      ]
     },
     "execution_count": 52,
     "metadata": {},
     "output_type": "execute_result"
    }
   ],
   "source": [
    "type(AllCO)"
   ]
  },
  {
   "cell_type": "code",
   "execution_count": null,
   "metadata": {
    "collapsed": true
   },
   "outputs": [],
   "source": []
  },
  {
   "cell_type": "code",
   "execution_count": null,
   "metadata": {
    "collapsed": true
   },
   "outputs": [],
   "source": []
  },
  {
   "cell_type": "code",
   "execution_count": null,
   "metadata": {
    "collapsed": true
   },
   "outputs": [],
   "source": []
  },
  {
   "cell_type": "code",
   "execution_count": null,
   "metadata": {
    "collapsed": true
   },
   "outputs": [],
   "source": []
  },
  {
   "cell_type": "code",
   "execution_count": null,
   "metadata": {
    "collapsed": true
   },
   "outputs": [],
   "source": []
  }
 ],
 "metadata": {
  "kernelspec": {
   "display_name": "Python 2",
   "language": "python",
   "name": "python2"
  },
  "language_info": {
   "codemirror_mode": {
    "name": "ipython",
    "version": 2
   },
   "file_extension": ".py",
   "mimetype": "text/x-python",
   "name": "python",
   "nbconvert_exporter": "python",
   "pygments_lexer": "ipython2",
   "version": "2.7.9"
  }
 },
 "nbformat": 4,
 "nbformat_minor": 0
}
