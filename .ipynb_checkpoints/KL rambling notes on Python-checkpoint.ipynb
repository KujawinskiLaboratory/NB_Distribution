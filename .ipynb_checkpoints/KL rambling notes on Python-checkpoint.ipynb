{
 "cells": [
  {
   "cell_type": "markdown",
   "metadata": {},
   "source": [
    "Use this to keep track of useful code bits as I learn Python\n",
    "Krista, August 19, 2015"
   ]
  },
  {
   "cell_type": "markdown",
   "metadata": {},
   "source": [
    "\n",
    "\n",
    "Shortcut \tAction\n",
    "Shift-Enter \trun cell\n",
    "Ctrl-Enter \trun cell in-place\n",
    "Alt-Enter \trun cell, insert below"
   ]
  },
  {
   "cell_type": "code",
   "execution_count": null,
   "metadata": {
    "collapsed": true
   },
   "outputs": [],
   "source": [
    "#First up...list the files in a directory\n",
    "import os,sys\n",
    "os.listdir(os.getcwd())"
   ]
  },
  {
   "cell_type": "code",
   "execution_count": null,
   "metadata": {
    "collapsed": true
   },
   "outputs": [],
   "source": [
    "#insert an image...the gif file here would be in the folder\n",
    "Image(url=\"R02485.gif\")"
   ]
  },
  {
   "cell_type": "code",
   "execution_count": null,
   "metadata": {
    "collapsed": true
   },
   "outputs": [],
   "source": [
    "for x in range(0, 3):\n",
    "    print(\"hello\")"
   ]
  },
  {
   "cell_type": "code",
   "execution_count": null,
   "metadata": {
    "collapsed": true
   },
   "outputs": [],
   "source": [
    "fig.suptitle(CO + ' working') #use the plus sign to concatenate strings for the title"
   ]
  },
  {
   "cell_type": "code",
   "execution_count": null,
   "metadata": {
    "collapsed": true
   },
   "outputs": [],
   "source": [
    "from IPython.core.debugger import Tracer #used this to step into the function and debug it, also need line with Tracer()() \n",
    "for i, CO in enumerate(CO_withKO):\n",
    "    #if i==2:\n",
    "         #break\n",
    "    kos=CO_withKO[CO]['Related KO']\n",
    "    cos=CO_withKO[CO]['Related CO']\n",
    "    for k in kos: \n",
    "        if k in KO_RawData.index: \n",
    "            kData=KO_RawData.loc[kos].dropna()\n",
    "            kData=(kData.T/kData.sum(axis=1)).T\n",
    "            cData=CO_RawData.loc[cos].dropna()\n",
    "            cData=(cData.T/cData.sum(axis=1)).T\n",
    "            \n",
    "            fig, ax=plt.subplots(1)\n",
    "            kData.T.plot(color='r', ax=ax)\n",
    "            cData.T.plot(color='k', ax=ax)\n",
    "            \n",
    "            Tracer()()\n",
    "            \n",
    "            getKmeans = CcoClust.loc['C01909']['kmeans']\n",
    "            makeStringLabel = CO + '_kmeansCluster_' + str(getKmeans)\n",
    "            #fig.suptitle(CO)\n",
    "            fig.suptitle(makeStringLabel)\n",
    "            \n",
    "            #fig.savefig(CO+'.png') #stop saving all the images for now...\n",
    "            break"
   ]
  },
  {
   "cell_type": "code",
   "execution_count": 7,
   "metadata": {
    "collapsed": false
   },
   "outputs": [
    {
     "data": {
      "image/png": "[encoded data removed]",
      "text/plain": [
       "<IPython.core.display.Image object>"
      ]
     },
     "execution_count": 7,
     "metadata": {},
     "output_type": "execute_result"
    }
   ],
   "source": [
    "#here, tData is a pandas data frame that I want to plot into a bar graph\n",
    "#tData.plot(kind = \"bar\") ##this would be the code to run if tData existed...\n",
    "#instead I am reading in the file saved and present in my working directory using this:\n",
    "from IPython.display import Image\n",
    "Image(filename=\"SampleBarGraph.png\")"
   ]
  },
  {
   "cell_type": "code",
   "execution_count": 8,
   "metadata": {
    "collapsed": false
   },
   "outputs": [
    {
     "ename": "NameError",
     "evalue": "name 'CcoClust' is not defined",
     "output_type": "error",
     "traceback": [
      "\u001b[1;31m---------------------------------------------------------------------------\u001b[0m",
      "\u001b[1;31mNameError\u001b[0m                                 Traceback (most recent call last)",
      "\u001b[1;32m<ipython-input-8-73c35b442f8f>\u001b[0m in \u001b[0;36m<module>\u001b[1;34m()\u001b[0m\n\u001b[1;32m----> 1\u001b[1;33m \u001b[0mCcoClust\u001b[0m\u001b[1;33m.\u001b[0m\u001b[0mloc\u001b[0m\u001b[1;33m[\u001b[0m\u001b[1;34m'C05356'\u001b[0m\u001b[1;33m]\u001b[0m\u001b[1;33m[\u001b[0m\u001b[1;34m'kmeans'\u001b[0m\u001b[1;33m]\u001b[0m\u001b[1;33m\u001b[0m\u001b[0m\n\u001b[0m",
      "\u001b[1;31mNameError\u001b[0m: name 'CcoClust' is not defined"
     ]
    }
   ],
   "source": [
    "#ways to subset data...\n",
    "CcoClust.loc['C05356']['kmeans']\n",
    "tData = CcoClust.loc['C05356']\n",
    "type(tData)\n",
    "\n",
    "#want to select only the first group in the kmeans clusters \n",
    "#(baby steps, eventually do this for each cluster)\n",
    "CcoClust[CcoClust.kmeans==1]"
   ]
  },
  {
   "cell_type": "code",
   "execution_count": null,
   "metadata": {
    "collapsed": true
   },
   "outputs": [],
   "source": []
  }
 ],
 "metadata": {
  "kernelspec": {
   "display_name": "Python 2",
   "language": "python",
   "name": "python2"
  },
  "language_info": {
   "codemirror_mode": {
    "name": "ipython",
    "version": 2
   },
   "file_extension": ".py",
   "mimetype": "text/x-python",
   "name": "python",
   "nbconvert_exporter": "python",
   "pygments_lexer": "ipython2",
   "version": "2.7.9"
  }
 },
 "nbformat": 4,
 "nbformat_minor": 0
}
