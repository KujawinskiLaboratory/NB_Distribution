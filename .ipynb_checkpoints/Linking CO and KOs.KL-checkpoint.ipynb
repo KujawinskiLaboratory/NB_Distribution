{
 "cells": [
  {
   "cell_type": "markdown",
   "metadata": {},
   "source": [
    "# Krista, working on linking CO and KO\n",
    "    3 December 2015: cleaning up "
   ]
  },
  {
   "cell_type": "code",
   "execution_count": null,
   "metadata": {
    "collapsed": false
   },
   "outputs": [],
   "source": [
    "import pandas as pd\n",
    "import urllib2\n",
    "from bs4 import BeautifulSoup\n",
    "import re\n",
    "from sklearn.cluster import KMeans\n",
    "import palettable as pal\n",
    "from itertools import chain\n",
    "import os\n",
    "import os.path #? not sure if I need both\n",
    "import glob\n",
    "import numpy as np\n",
    "from IPython.core.debugger import Tracer #used this to step into the function and debug it, also need line with Tracer()() \n",
    "import matplotlib.pyplot as plt\n",
    "from collections import Counter\n",
    "import cPickle as cpk\n",
    "\n",
    "from stackedBarGraph import StackedBarGrapher\n",
    "SBG = StackedBarGrapher()\n",
    "\n",
    "%matplotlib inline"
   ]
  },
  {
   "cell_type": "markdown",
   "metadata": {},
   "source": [
    "Also, will need to export the following from MATLAB\n",
    "(1) RInumber, (2) CO number, (3) ion mode information\n",
    "\n",
    "The KEGG CO numbers from the RI data are not unique. In MATLAB, I have created a new value 'RInumber' which is an arbitrary number for each 'mzRT' feature. The data exported out of MATLAB include that number, the corresponding KEGG CO number, and whether the feature was observed in positive or negative ion mode. These data will be uesd to create a lookup table which allow use of the CO numbers or RInumbers as needed."
   ]
  },
  {
   "cell_type": "code",
   "execution_count": null,
   "metadata": {
    "collapsed": false
   },
   "outputs": [],
   "source": [
    "mtabFile = 'RImetabolites_isomers.2015.08.27.csv' #first column is RInumber"
   ]
  },
  {
   "cell_type": "code",
   "execution_count": null,
   "metadata": {
    "collapsed": false
   },
   "outputs": [],
   "source": [
    "CO_fromMATLAB=pd.read_csv(mtabFile, index_col='RInumber')\n",
    "# CO_fromMATLAB=CO_RawData[CO_RawData.sum(axis=1)!=0]\n",
    "#read in the data from MATLAB and take a quick look\n",
    "CO_fromMATLAB.head(n=5)"
   ]
  },
  {
   "cell_type": "markdown",
   "metadata": {},
   "source": [
    "make the list of unique cNumbers here, do the KEGG thing and filter the list before I start splitting up the dataframes into data and metadata..."
   ]
  },
  {
   "cell_type": "code",
   "execution_count": null,
   "metadata": {
    "collapsed": false
   },
   "outputs": [],
   "source": [
    "#make a list of the unique CO numbers for the CreateHash_COtoKO.py. Export the list as CSV\n",
    "td = CO_fromMATLAB.groupby('cNumber').count()\n",
    "COnumbers = td.drop(list(td.columns.values),axis=1)\n",
    "del td\n",
    "COnumbers.to_csv('exportCOnumbers.csv',header=True)"
   ]
  },
  {
   "cell_type": "markdown",
   "metadata": {},
   "source": [
    "###Write a couple of functions to swap between CO and RInumbers"
   ]
  },
  {
   "cell_type": "code",
   "execution_count": null,
   "metadata": {
    "collapsed": true
   },
   "outputs": [],
   "source": [
    "def findRInumber(dataIn,KEGGin):\n",
    "    #find possible RI numbers for a given KEGG number. \n",
    "    dataOut = []\n",
    "    for i,KEGG in enumerate(dataIn['KEGG']):\n",
    "        if KEGG == KEGGin:\n",
    "            t = dataIn.index[i]\n",
    "            dataOut.append(t)\n",
    "    return dataOut\n",
    "\n",
    "##For example: this will give back one row, C18028 will be multiple\n",
    "#m = findRInumber(forRelatedness,'C00078') "
   ]
  },
  {
   "cell_type": "code",
   "execution_count": null,
   "metadata": {
    "collapsed": true
   },
   "outputs": [],
   "source": [
    "def convertRItoCO(dataIn,RIin):\n",
    "    #do the reverse, given an RInumber find the cNumber\n",
    "    dataOut = dataIn.loc[RIin].loc['cNumber']\n",
    "    return dataOut\n",
    "\n",
    "##This will always be a single value\n",
    "#m = convertRItoCO(forRelatedness,'RI2')"
   ]
  },
  {
   "cell_type": "code",
   "execution_count": null,
   "metadata": {
    "collapsed": true
   },
   "outputs": [],
   "source": [
    "#slight change, no need to send in a comparison file if it always the same thing\n",
    "def convertRItoCO2(RIin):\n",
    "    #do the reverse, given an RInumber find the cNumber\n",
    "    dataOut = CO_fromMATLAB.loc[RIin].loc['cNumber']\n",
    "    return dataOut\n",
    "\n",
    "##This will always be a single value, also uses CO_fromMATLAB as input "
   ]
  },
  {
   "cell_type": "markdown",
   "metadata": {},
   "source": [
    "This grabs the CO/KO links from the KEGG website. The actual code is in the CreateHash_COtoKO.py that Harriet wrote. Note that since the exportCOnumbers.csv file is a unique list of C number we essentially already have a lookup table for all the metabolites of interest."
   ]
  },
  {
   "cell_type": "code",
   "execution_count": null,
   "metadata": {
    "collapsed": false
   },
   "outputs": [],
   "source": [
    "if os.path.isfile('exportCOnumbers.csv' + '.pickle'):\n",
    "    #just read in the file\n",
    "    WorkingFile = cpk.load(open('exportCOnumbers.csv.pickle','r'))\n",
    "else:\n",
    "    #need to make the file\n",
    "    filename = \"CreateHash_COtoKO.py\"\n",
    "    %run $filename exportCOnumbers.csv \n",
    "    #then read in the file\n",
    "    WorkingFile = cpk.load(open('exportCOnumbers.csv.pickle','r'))"
   ]
  },
  {
   "cell_type": "code",
   "execution_count": null,
   "metadata": {
    "collapsed": false
   },
   "outputs": [],
   "source": [
    "def SplitCODict(WorkingFile):\n",
    "    CO_withoutKO={}\n",
    "    CO_withKO={}\n",
    "    for CO in WorkingFile.keys():\n",
    "\n",
    "        if WorkingFile[CO]['Related KO']==[]:\n",
    "            CO_withoutKO[CO]=WorkingFile[CO]\n",
    "        else:\n",
    "            CO_withKO[CO]=WorkingFile[CO]\n",
    "    return CO_withoutKO, CO_withKO\n",
    "\n",
    "CO_withoutKO, CO_withKO=SplitCODict(WorkingFile)\n",
    "print 'There are', len(CO_withKO), 'COs with an associated KO.', len(CO_withoutKO), 'are not associated with a KO.'"
   ]
  },
  {
   "cell_type": "code",
   "execution_count": null,
   "metadata": {
    "collapsed": true
   },
   "outputs": [],
   "source": [
    "AllKO=[]\n",
    "AllCO=[]\n",
    "for key in CO_withKO:\n",
    "    AllKO.append(CO_withKO[key]['Related KO'])\n",
    "    AllCO.append(CO_withKO[key]['Related CO'])\n",
    "AllKO=list(set([item for sublist in AllKO for item in sublist]))\n",
    "AllCO=list(set([item for sublist in AllCO for item in sublist]))\n",
    "\n",
    "# KO_limited_Norm2Mean=KO_Norm2Mean.loc[AllKO].dropna()\n",
    "# CO_limited_Norm2Mean=CO_Norm2Mean.loc[AllCO].dropna()"
   ]
  },
  {
   "cell_type": "code",
   "execution_count": null,
   "metadata": {
    "collapsed": false
   },
   "outputs": [],
   "source": [
    "#go through CO_RawData_all one row at a time (inefficient for sure, but I understand \n",
    "#what is happening), then make a new column in CO_RawData_all that is True/False\n",
    "CO_fromMATLAB['inList'] = \"\"\n",
    "\n",
    "for idx in range(0,len(CO_fromMATLAB)):\n",
    "# for idx in range(0):\n",
    "    fc = CO_fromMATLAB.ix[idx,'cNumber']\n",
    "    if fc in AllCO:\n",
    "        CO_fromMATLAB.ix[idx,'inList'] = True\n",
    "    else:\n",
    "        CO_fromMATLAB.ix[idx,'inList'] = False  "
   ]
  },
  {
   "cell_type": "code",
   "execution_count": null,
   "metadata": {
    "collapsed": false
   },
   "outputs": [],
   "source": [
    "#can't quite figure out how to do this in one step.\n",
    "m = CO_fromMATLAB[CO_fromMATLAB['inList']==True]\n",
    "CO_metadata_pruned = m.loc[:,['cNumber','ChargedMass','RT','ionMode']]\n",
    "\n",
    "#this list of days is useful, so define it up front. Actually want something that can't change \n",
    "#but had trouble getting a tuple to work as an index.\n",
    "dayList = ['S1','S2','S3','S4','S5'] #this makes a list (mutable, can be changed)\n",
    "#days = ('S1','S2','S3','S4','S5') #this makes a tuple (immutable)\n",
    "CO_RawData_pruned = m.loc[:,dayList]\n",
    "del m"
   ]
  },
  {
   "cell_type": "markdown",
   "metadata": {},
   "source": [
    "This is the new version, with the extended metadata. Parse the file into data and metadata."
   ]
  },
  {
   "cell_type": "code",
   "execution_count": null,
   "metadata": {
    "collapsed": true
   },
   "outputs": [],
   "source": [
    "#read in the KO data\n",
    "KO_RawData=pd.read_csv('AllPhytoKegg_KO_counts.tab', index_col='gID', delimiter='\\t')\n",
    "KO_RawData=KO_RawData[KO_RawData.sum(axis=1)!=0]"
   ]
  },
  {
   "cell_type": "code",
   "execution_count": null,
   "metadata": {
    "collapsed": false
   },
   "outputs": [],
   "source": [
    "cmap=pal.colorbrewer.sequential.YlOrRd_5.get_mpl_colormap()\n",
    "fig, axs=plt.subplots(2,2) \n",
    "fig.set_size_inches(12,12)\n",
    "for ax in axs:\n",
    "    for a in ax: \n",
    "        a.set_ylim([0,1000])\n",
    "CO_RawData_pruned.plot(kind='hist', bins=100,colormap=cmap, ax=axs[0][0])\n",
    "axs[0][0].set_title('Histogram of CO \"concentrations\"', size='large')\n",
    "KO_RawData.plot(kind='hist', bins=100,colormap=cmap,ax=axs[0][1])\n",
    "axs[0][1].set_title('Histogram of KO TPM', size='large')\n",
    "CO_RawData_pruned.plot(kind='hist',  bins=100,colormap=cmap, range = [0,0.1],ax=axs[1][0])\n",
    "KO_RawData.plot(kind='hist',  bins=100,colormap=cmap, range = [0,50],ax=axs[1][1])\n"
   ]
  },
  {
   "cell_type": "code",
   "execution_count": null,
   "metadata": {
    "collapsed": true
   },
   "outputs": [],
   "source": [
    "def NormalizeToMean(DF):\n",
    "    DF_meanNorm=DF.copy()\n",
    "    out=DF_meanNorm.copy()\n",
    "    DF_meanNorm['mean']=DF.mean(axis=1)\n",
    "\n",
    "    for i in out.columns:\n",
    "        out[i]=DF_meanNorm[i]/DF_meanNorm['mean']\n",
    "    DF_meanNorm=DF_meanNorm.T.drop('mean').T\n",
    "    return out\n",
    "\n",
    "def NormalizeToMax(DF):\n",
    "    DF_meanNorm=DF.copy()\n",
    "    out=DF_meanNorm.copy()\n",
    "    DF_meanNorm['max']=DF.max(axis=1)\n",
    "    for i in out.columns:\n",
    "        out[i]=DF_meanNorm[i]/DF_meanNorm['max']\n",
    "    DF_meanNorm=DF_meanNorm.T.drop('max').T\n",
    "    return out\n",
    "\n",
    "def NormalizeToMean_CV(DF):\n",
    "    out=DF.copy()\n",
    "    out['mean']=DF.mean(axis=1)\n",
    "    out['SD']=DF.std(axis=1)\n",
    "    \n",
    "    out['CV']=out['SD']/out['mean']\n",
    "    return out"
   ]
  },
  {
   "cell_type": "code",
   "execution_count": null,
   "metadata": {
    "collapsed": false
   },
   "outputs": [],
   "source": [
    "#several options for normalizing the data\n",
    "CO_Norm2Mean=NormalizeToMean(CO_RawData_pruned) #this is what gets used in the original code\n",
    "KO_Norm2Mean=NormalizeToMean(KO_RawData) #this is what gets used in the original code\n",
    "CO_Norm2Max=NormalizeToMax(CO_RawData_pruned)\n",
    "KO_Norm2Max=NormalizeToMax(KO_RawData)\n",
    "\n",
    "cmap=pal.colorbrewer.sequential.YlOrRd_5.get_mpl_colormap()\n",
    "\n",
    "fig, axs=plt.subplots(1,2) \n",
    "fig.set_size_inches(12,6)\n",
    "\n",
    "kplt=KO_Norm2Mean.plot(kind='hist', bins=100, title='KO Mean Normalized', colormap=cmap, ax=axs[1])\n",
    "cplt=CO_Norm2Mean.plot(kind='hist', bins=100, title='CO Mean Normalized', colormap=cmap, ax=axs[0])\n",
    "fig, axs=plt.subplots(1,2) \n",
    "fig.set_size_inches(12,6)\n",
    "\n",
    "kplt=KO_Norm2Max.plot(kind='hist', bins=100, title='KO Max Normalized', colormap=cmap, ax=axs[1])\n",
    "cplt=CO_Norm2Max.plot(kind='hist', bins=100, title='CO Max Normalized', colormap=cmap, ax=axs[0])"
   ]
  },
  {
   "cell_type": "code",
   "execution_count": null,
   "metadata": {
    "collapsed": false
   },
   "outputs": [],
   "source": [
    "#could also try the normalize to mean, CV\n",
    "cmap=pal.colorbrewer.diverging.PRGn_5.get_mpl_colormap()\n",
    "fig,ax=plt.subplots(1)\n",
    "CO_CV=NormalizeToMean_CV(CO_RawData_pruned)\n",
    "KO_CV=NormalizeToMean_CV(KO_RawData)\n",
    "\n",
    "#KL note: by using KO_CV.CV, this will only plot the 'CV' variable in the data frame\n",
    "KO_CV.CV.plot(kind='hist', ax=ax, bins=100, color='r')\n",
    "CO_CV.CV.plot(kind='hist', ax=ax, bins=100, title='Coefficient of Variation', color='k')\n",
    "fig.savefig('Coefficent of Variation')"
   ]
  },
  {
   "cell_type": "code",
   "execution_count": null,
   "metadata": {
    "collapsed": true
   },
   "outputs": [],
   "source": [
    "#use _finalOption variable names to make life easier\n",
    "KO_finalOption = KO_Norm2Mean.loc[AllKO].dropna()\n",
    "CO_finalOption = CO_Norm2Mean.dropna() #already 'limited' this before the normalization"
   ]
  },
  {
   "cell_type": "code",
   "execution_count": null,
   "metadata": {
    "collapsed": false
   },
   "outputs": [],
   "source": [
    "from sklearn.metrics import silhouette_samples, silhouette_score\n",
    "\n",
    "import matplotlib.pyplot as plt\n",
    "import matplotlib.cm as cm\n",
    "import numpy as np\n",
    "\n",
    "#this next line prints up some sort of pre-canned details about the program. \n",
    "print(__doc__) \n",
    "\n",
    "def kmeanCluster(data,nc):\n",
    "    #kmeans=KMeans(n_clusters=nc)\n",
    "    kmeans = KMeans(n_clusters = nc, max_iter = 1000, n_init = 50, init = 'random')\n",
    "    kmeans.fit(data)\n",
    "    newData=data.copy()\n",
    "    newData['kmeans']=kmeans.labels_\n",
    "    return newData\n",
    "    \n",
    "def PlotKmeans(KmeansPD, kSize=10, figSizeX=1, figSizeY=5, color='k'):\n",
    "    KmeansPD['kmeans'].plot(kind='hist', bins=kSize, color=color)\n",
    "    fig,axs=plt.subplots(figSizeX, figSizeY)\n",
    "    axs=[item for sublist in axs for item in sublist]\n",
    "    fig.set_size_inches(9,12)\n",
    "    for ax, y in zip(axs,range(kSize)):\n",
    "        pltData=KmeansPD[KmeansPD.kmeans==y].T.drop('kmeans')\n",
    "        pltData.plot(ax=ax, legend=False, grid=False, color=color)"
   ]
  },
  {
   "cell_type": "code",
   "execution_count": null,
   "metadata": {
    "collapsed": false
   },
   "outputs": [],
   "source": [
    "#run the Kmeans clustering on the KO data along first and plot results\n",
    "#koClust=kmeanCluster(KO_limited_Norm2Mean, 15)\n",
    "#PlotKmeans(koClust,15,3,5, 'r') \n",
    "koClust=kmeanCluster(KO_finalOption, 12)\n",
    "PlotKmeans(koClust,6,2,3, 'r') "
   ]
  },
  {
   "cell_type": "code",
   "execution_count": null,
   "metadata": {
    "collapsed": false
   },
   "outputs": [],
   "source": [
    "#plot up the results of one number of clusters for the CO data only\n",
    "#coClust=kmeanCluster(CO_limited_Norm2Mean, 15)\n",
    "#PlotKmeans(coClust,15,3,5, 'k') \n",
    "coClust=kmeanCluster(CO_finalOption.loc[:,(dayList)], 12)\n",
    "PlotKmeans(coClust,6,2,3, 'k') "
   ]
  },
  {
   "cell_type": "markdown",
   "metadata": {},
   "source": [
    "From HA: By normalizing the data to the mean we can then (in theory) combine the two and cluster them together?\n",
    "KL 8/20/2015 note: this is essentially a list with the CO and KO concatenated into a single data frame. Note that the actual kmeans clustering does not happen until after the silhoette analysis (bc need to set # clusters) and are using the silhouette analysis to do that."
   ]
  },
  {
   "cell_type": "markdown",
   "metadata": {},
   "source": [
    "#Do Kmeans on combined CO and KO data"
   ]
  },
  {
   "cell_type": "code",
   "execution_count": null,
   "metadata": {
    "collapsed": false
   },
   "outputs": [],
   "source": [
    "##First, combine the CO and the KO data\n",
    "#Combined_KO_CO_MeanNorm=KO_limited_Norm2Mean.append(CO_limited_Norm2Mean)\n",
    "Combined_KO_CO_final=KO_finalOption.append(CO_finalOption.loc[:,(dayList)])"
   ]
  },
  {
   "cell_type": "markdown",
   "metadata": {
    "collapsed": true
   },
   "source": [
    "#go back to Kmeans and finding the right group"
   ]
  },
  {
   "cell_type": "code",
   "execution_count": null,
   "metadata": {
    "collapsed": false
   },
   "outputs": [],
   "source": [
    "filename = 'nClustersRequired.py'\n",
    "%run $filename"
   ]
  },
  {
   "cell_type": "code",
   "execution_count": null,
   "metadata": {
    "collapsed": false
   },
   "outputs": [],
   "source": [
    "#cheat for the moment...save the data for the data I have as a CSV file and then read it in.\n",
    "#figure out the format later.\n",
    "dataFilename = 'NB_combined_for_kmeans.csv'\n",
    "Combined_KO_CO_final.to_csv(dataFilename)\n",
    "\n",
    "data = Data(dataFilename)\n",
    "#pattern_labels are the rows...for us this will the RInumber\n",
    "pattern_labels = []\n",
    "patterns_data, pattern_labels = data.load_data()"
   ]
  },
  {
   "cell_type": "code",
   "execution_count": null,
   "metadata": {
    "collapsed": true
   },
   "outputs": [],
   "source": [
    "def forest_run(dimensions, patterns, pattern_labels, metric='qe', fNamePrefix = '', k_up=20, k_down=2, simulations=55, iterations=50):\n",
    "    \"\"\"\n",
    "    A method for watching Forest Gump run\n",
    "    :param dimensions: the dimensionality of the data\n",
    "    :param patterns: the data itself\n",
    "    :param metric: the quality metric\n",
    "    :fNamePrefix: put text in here if I want to add a unique prefix to the data file spit out at end\n",
    "    :param k_up: the maximum number of clusters\n",
    "    :param k_down: the minimum number of clusters\n",
    "    :param simulations: the number of simulations for each k\n",
    "    :param iterations: the number of iterations for each k-means pass\n",
    "    \"\"\"\n",
    "    # variable to store the best result\n",
    "    best_clustering = None\n",
    "    # the quality of that result\n",
    "    best_quality = 1000.00\n",
    "    # write results out to file while simulating\n",
    "    file_out = fNamePrefix + 'MonteCarloFinalResults' + '_' + metric + '.csv'\n",
    "    #with open(file_out, 'w', newline='') as f: #newline doesn't work here\n",
    "    with open(file_out,'w') as f:\n",
    "        # different k values to test on\n",
    "        for i in range(k_down, k_up):\n",
    "            num_clusters = i\n",
    "            # number of retries / simulations\n",
    "            print('working on ' , i, '# of kmeans groups') #works, but doesn't look as I intended.\n",
    "            \n",
    "            for j in range(simulations):\n",
    "                # create a clustering solution and apply k-means\n",
    "                clustering = Clustering(dimensions, num_clusters, patterns, 0.0001)\n",
    "                clustering.k_means_clustering(iterations)\n",
    "                # used to compute quality of the solution\n",
    "                quality = ClusteringQuality(clustering, 0.0001)\n",
    "                this_quality = 0.0\n",
    "                if metric == 'qe':\n",
    "                    this_quality = quality.quantization_error()\n",
    "                if metric == 'si':\n",
    "                    this_quality = quality.average_silhouette_index()\n",
    "                if metric == 'db':\n",
    "                    this_quality = quality.davies_bouldin()\n",
    "                # update the best clustering\n",
    "                if this_quality < best_quality:\n",
    "                    best_quality = this_quality\n",
    "                    best_clustering = clustering\n",
    "                    #print(\"Updated best clustering\") #comment out, clogging up display\n",
    "                # write result to the file\n",
    "                result = [num_clusters, this_quality]\n",
    "                for x in result:\n",
    "                    f.write(str(x))\n",
    "                    f.write(\",\")\n",
    "                f.write(\"\\n\")\n",
    "                f.flush()\n",
    "                #print(j, result) #comment out, clogging up display\n",
    "                \n",
    "        # print the actual clustering out to console...comment this out, too much information\n",
    "        #best_clustering.print_solution(pattern_labels)"
   ]
  },
  {
   "cell_type": "code",
   "execution_count": null,
   "metadata": {
    "collapsed": true
   },
   "outputs": [],
   "source": [
    "dimensions = 5 #this is a function of the data itself. In the NB data we have five sampling days.\n",
    "setSimulations = 100\n",
    "setIterations = 100 #this is the default from the Turing Finance code\n",
    "setKup = 20\n",
    "setKdown = 2"
   ]
  },
  {
   "cell_type": "code",
   "execution_count": null,
   "metadata": {
    "collapsed": true
   },
   "outputs": [],
   "source": [
    "#for now, set if to False for the forest_run in the next three cells...that is time consuming"
   ]
  },
  {
   "cell_type": "code",
   "execution_count": null,
   "metadata": {
    "collapsed": false
   },
   "outputs": [],
   "source": [
    "prefix = 'KO_norm2mean_'\n",
    "\n",
    "if False:   \n",
    "    forest_run(dimensions, patterns_data, pattern_labels, metric='db', fNamePrefix = prefix,\n",
    "           simulations=setSimulations, k_down=setKdown, k_up=setKup, iterations = setIterations)\n",
    "\n",
    "#read in the results\n",
    "riScores_db=pd.read_csv((prefix + 'MonteCarloFinalResults_db.csv'),header=None,delimiter=',',\n",
    "                index_col=False,names=['nClusters', 'score'])\n",
    "\n",
    "#optimal cluster solution has the smallest Davies-Bouldin index"
   ]
  },
  {
   "cell_type": "code",
   "execution_count": null,
   "metadata": {
    "collapsed": false
   },
   "outputs": [],
   "source": [
    "grouped = riScores_db.groupby('nClusters')\n",
    "means = grouped.mean().unstack()\n",
    "errors = grouped.std().unstack()\n",
    "fig, ax = plt.subplots()\n",
    "plt.plot(range(setKdown,setKup),means,marker = 'o',color = '#1b9e77')\n",
    "plt.errorbar(range(setKdown,setKup),means,errors,marker = 'o',color = '#1b9e77')\n",
    "plt.title('Kmeans, Davies-Bouldin')\n",
    "ax.set_xlabel('nClusters')\n",
    "plt.show()"
   ]
  },
  {
   "cell_type": "code",
   "execution_count": null,
   "metadata": {
    "collapsed": false
   },
   "outputs": [],
   "source": [
    "prefix = 'KO_norm2mean_'\n",
    "\n",
    "if False:\n",
    "    forest_run(dimensions, patterns_data, pattern_labels, metric='qe', fNamePrefix = prefix,\n",
    "           simulations=setSimulations, k_down=setKdown, k_up=setKup, iterations = setIterations)\n",
    "\n",
    "#now read in the results\n",
    "riScores_qe=pd.read_csv((prefix + 'MonteCarloFinalResults_qe.csv'),header=None,delimiter=',',\n",
    "                index_col=False,names=['nClusters', 'score'])"
   ]
  },
  {
   "cell_type": "code",
   "execution_count": null,
   "metadata": {
    "collapsed": true
   },
   "outputs": [],
   "source": [
    "#goal is to minimize quantization error. QE is the distance between a sample\n",
    "#and its representation. Lower quantization errors represent a good data cluster."
   ]
  },
  {
   "cell_type": "code",
   "execution_count": null,
   "metadata": {
    "collapsed": false
   },
   "outputs": [],
   "source": [
    "grouped = riScores_qe.groupby('nClusters')\n",
    "means = grouped.mean().unstack()\n",
    "errors = grouped.std().unstack()\n",
    "fig, ax = plt.subplots()\n",
    "plt.plot(range(setKdown,setKup),means,marker = 'o',color = '#1b9e77')\n",
    "plt.errorbar(range(setKdown,setKup),means,errors,marker = 'o',color = '#1b9e77')\n",
    "plt.title('Kmeans, Quantization error')\n",
    "ax.set_xlabel('nClusters')\n",
    "plt.show()"
   ]
  },
  {
   "cell_type": "code",
   "execution_count": null,
   "metadata": {
    "collapsed": false
   },
   "outputs": [],
   "source": [
    "##silhouette is really slow cfd to the other\n",
    "prefix = 'KO_norm2mean_'\n",
    "\n",
    "# #silhouette is quite slow cfd to the other two metrics\n",
    "if False:\n",
    "    forest_run(dimensions, patterns_data, pattern_labels, metric='si', fNamePrefix = prefix,\n",
    "           simulations=setSimulations, k_down=setKdown, k_up=setKup, iterations = setIterations)\n",
    "\n",
    "riScores_si=pd.read_csv((prefix + 'MonteCarloFinalResults_si.csv'),header=None,delimiter=',',\n",
    "                index_col=False,names=['nClusters', 'score'])\n",
    "\n",
    "\n",
    "##note, want to maximize the silhouette value for each pattern in the dataset"
   ]
  },
  {
   "cell_type": "code",
   "execution_count": null,
   "metadata": {
    "collapsed": false
   },
   "outputs": [],
   "source": [
    "grouped = riScores_si.groupby('nClusters')\n",
    "means = grouped.mean().unstack()\n",
    "errors = grouped.std().unstack()\n",
    "fig, ax = plt.subplots()\n",
    "plt.plot(range(setKdown,setKup),means,marker = 'o',color = '#1b9e77')\n",
    "plt.errorbar(range(setKdown,setKup),means,errors,marker = 'o',color = '#1b9e77')\n",
    "plt.title('Kmeans, silhouette index')\n",
    "ax.set_xlabel('nClusters')\n",
    "plt.show()\n",
    "\n",
    "#remember, want to maximize this value"
   ]
  },
  {
   "cell_type": "markdown",
   "metadata": {
    "collapsed": true
   },
   "source": [
    "#Move forward with 'best' number of clusters"
   ]
  },
  {
   "cell_type": "code",
   "execution_count": null,
   "metadata": {
    "collapsed": true
   },
   "outputs": [],
   "source": [
    "#setting # of clusters manually, also some good options with lower # of clusters I think\n",
    "#this number will get used later when plotting up the BRITE categories and the Kmeans clusters\n",
    "makeNclusters = 9"
   ]
  },
  {
   "cell_type": "code",
   "execution_count": null,
   "metadata": {
    "collapsed": true
   },
   "outputs": [],
   "source": [
    "#do the K-means clustering with the final # of clusters\n",
    "CcoClust=kmeanCluster(Combined_KO_CO_final, makeNclusters) #was 18 \n",
    "\n",
    "#this will result in a data frame with the kmeans cluster as an added column. Remember\n",
    "#this will have RI numbers for the compounds"
   ]
  },
  {
   "cell_type": "code",
   "execution_count": null,
   "metadata": {
    "collapsed": false
   },
   "outputs": [],
   "source": [
    "def PlotKmeansCombined(KmeansPD, kSize=10, figSizeX=1, figSizeY=5, color='k'):\n",
    "    KmeansPD['kmeans'].plot(kind='hist', bins=kSize, color='k',range = (0,kSize),align = 'left')\n",
    "    fig,axs=plt.subplots(figSizeX, figSizeY)\n",
    "    axs=[item for sublist in axs for item in sublist]\n",
    "    fig.set_size_inches(15,9)\n",
    "    i=KmeansPD.index\n",
    "    i=list(i)\n",
    "    Ks=re.compile('K.*')\n",
    "    #Cs=re.compile('C.*')\n",
    "    Cs = re.compile('R.*') #this is the RInumber I created...for the moment, do not need the Cnumber\n",
    "    C = filter(Cs.search, i)  \n",
    "    K = filter(Ks.search, i)  \n",
    "    Ksplit=KmeansPD.loc[K]\n",
    "    Csplit=KmeansPD.loc[C]\n",
    "    for ax, y in zip(axs,range(kSize)):\n",
    "        KData=Ksplit[Ksplit.kmeans==y].T.drop('kmeans')\n",
    "        KData.plot(ax=ax, legend=False, grid=False, color='r')\n",
    "        CData=Csplit[Csplit.kmeans==y].T.drop('kmeans')\n",
    "        CData.plot(ax=ax, legend=False, grid=False, color='k')\n",
    "        SumKC=len(KData.T)+len(CData.T)\n",
    "        KPct=(len(KData.T))\n",
    "        CPct=(len(CData.T))\n",
    "        ax.set_title('nGenes ' + str(KPct) + ', nCpds ' + str(CPct) + ', Cluster ' + str(y))\n",
    "        ax.set_ylim([0,5])\n",
    "    fig.savefig('CombinedKOandCO_Kmeans')\n",
    "\n",
    "PlotKmeansCombined(CcoClust,makeNclusters,3,3, 'r') "
   ]
  },
  {
   "cell_type": "markdown",
   "metadata": {},
   "source": [
    "###focus on things with common linked reactions..."
   ]
  },
  {
   "cell_type": "code",
   "execution_count": null,
   "metadata": {
    "collapsed": false
   },
   "outputs": [],
   "source": [
    "#But...for the CheckRelatedness...do need to go back to the cNumber...\n",
    "#for now, easiest to just make yet another matrix and put the cNumbers back in.\n",
    "forRelatedness = CcoClust.copy(deep=True) #make a copy of the CcoClust data frame\n",
    "forRelatedness.insert(0,'KEGG',\"\") #add a column called 'KEGG'\n",
    "forRelatedness.head(5)"
   ]
  },
  {
   "cell_type": "code",
   "execution_count": null,
   "metadata": {
    "collapsed": false
   },
   "outputs": [],
   "source": [
    "for idx in range(0,len(forRelatedness)):\n",
    "    t = forRelatedness.iloc[idx,:].name\n",
    "\n",
    "    if t[0]=='R':\n",
    "        #go find the matching cNumber in CO_RawData_all\n",
    "        t2 = CO_fromMATLAB.loc[t,('cNumber')]\n",
    "        forRelatedness.ix[idx,('KEGG')] = t2\n",
    "    elif t[0] == 'K':\n",
    "        #just copy the K number over\n",
    "        forRelatedness.ix[idx,('KEGG')] = t"
   ]
  },
  {
   "cell_type": "code",
   "execution_count": null,
   "metadata": {
    "collapsed": false
   },
   "outputs": [],
   "source": [
    "def CheckRelatedness(inClust,nC):\n",
    "    df=pd.DataFrame(columns=['Common Rxn','No linked Rxn'], index=range(nC))\n",
    "    for n in range(nC):\n",
    "        kClust=inClust[inClust.kmeans==n]\n",
    "        #i=kClust.index\n",
    "        i = kClust.KEGG #change the new column I created with Cnumbers and Knumbers\n",
    "        i=list(i)\n",
    "        #note...re is one of the things imported at the very beginning\n",
    "        Csearc=re.compile('C.*') #re is regular expression...perl-like; re.compile bascially makes an object \n",
    "        Cs = filter(Csearc.search, i)\n",
    "        Ksearc=re.compile('K.*')\n",
    "        Kis = filter(Ksearc.search, i)\n",
    "        Kis=set(Kis)\n",
    "        Ks=[]\n",
    "        for c in Cs:\n",
    "            if c in CO_withKO.keys():\n",
    "                Ks.append(CO_withKO[c]['Related KO'])\n",
    "        Ks=set([item for sublist in Ks for item in sublist])\n",
    "        df.loc[n,'Common Rxn']=len(Kis.intersection(Ks))\n",
    "        df.loc[n, 'No linked Rxn']=len(Kis)-len(Kis.intersection(Ks))\n",
    "    df.plot(kind='bar', stacked=True, colormap=pal.colorbrewer.diverging.PRGn_5.get_mpl_colormap(), grid=False)\n",
    "     \n",
    "CheckRelatedness(forRelatedness, makeNclusters)"
   ]
  },
  {
   "cell_type": "markdown",
   "metadata": {},
   "source": [
    "pick up here to change to using biopython module to get maps with merged KO and CO data within a K means group\n",
    "12 November 2015"
   ]
  },
  {
   "cell_type": "code",
   "execution_count": null,
   "metadata": {
    "collapsed": true
   },
   "outputs": [],
   "source": [
    "from Bio import SeqIO\n",
    "from Bio.KEGG.REST import *\n",
    "from Bio.KEGG.KGML import KGML_parser\n",
    "from Bio.Graphics.KGML_vis import KGMLCanvas\n",
    "from Bio.Graphics.ColorSpiral import ColorSpiral\n",
    "\n",
    "from IPython.display import Image, HTML\n",
    "\n",
    "# import random #seems like I can probably skip this, but just comment out in case that is not true\n",
    "\n",
    "# A bit of code that will help us display the PDF output\n",
    "def PDF(filename):\n",
    "    return HTML('<iframe src=%s width=700 height=350></iframe>' % filename)\n",
    "\n",
    "# A bit of helper code to shorten long text\n",
    "def head(text, lines=10):\n",
    "    \"\"\" Print the first lines lines of the passed text.\n",
    "    \"\"\"\n",
    "    print '\\n'.join(text.split('\\n')[:lines] + ['[...]'])"
   ]
  },
  {
   "cell_type": "code",
   "execution_count": null,
   "metadata": {
    "collapsed": true
   },
   "outputs": [],
   "source": [
    "#set up a function to get the list of K orthologues for a given pathway (must be defined as ko00140 NOT map00140)\n",
    "def getKfrom_ko(ko_id):\n",
    "    pathway_file = kegg_get(ko_id).read()  # query and read the pathway\n",
    "    K_list = []\n",
    "\n",
    "    current_section = None\n",
    "    for line in pathway_file.rstrip().split(\"\\n\"):\n",
    "        section = line[:12].strip()  # section names are within 12 columns\n",
    "        if not section == \"\":\n",
    "            current_section = section\n",
    "        if current_section == \"ORTHOLOGY\":\n",
    "            K_identifiers = line[12:].split(\"; \")\n",
    "            t = K_identifiers[0]\n",
    "            K_id = t[0:6]\n",
    "\n",
    "            if not K_id in K_list:\n",
    "                K_list.append(K_id)\n",
    "    return K_list"
   ]
  },
  {
   "cell_type": "code",
   "execution_count": null,
   "metadata": {
    "collapsed": true
   },
   "outputs": [],
   "source": [
    "#set up a function to get the list of compounds for a given pathway (must be defined as ko00140 NOT map00140)\n",
    "def getCfrom_ko(ko_id):\n",
    "    pathway_file = kegg_get(ko_id).read()  # query and read the pathway\n",
    "    compound_list = []\n",
    "\n",
    "    current_section = None\n",
    "    for line in pathway_file.rstrip().split(\"\\n\"):\n",
    "        section = line[:12].strip()  # section names are within 12 columns\n",
    "        if not section == \"\":\n",
    "            current_section = section\n",
    "        if current_section == \"COMPOUND\":\n",
    "            compound_identifiers = line[12:].split(\"; \")\n",
    "            t = compound_identifiers[0]\n",
    "            compound_id = t[0:6]\n",
    "\n",
    "            if not compound_id in compound_list:\n",
    "                compound_list.append(compound_id)\n",
    "    return compound_list"
   ]
  },
  {
   "cell_type": "code",
   "execution_count": null,
   "metadata": {
    "collapsed": false
   },
   "outputs": [],
   "source": [
    "allPathways = kegg_list(\"pathway\").read()\n",
    "len(allPathways.split('\\n'))"
   ]
  },
  {
   "cell_type": "code",
   "execution_count": null,
   "metadata": {
    "collapsed": true
   },
   "outputs": [],
   "source": [
    "#so, 481 pathways at KEGG, not all of which are likely to be interesting.\n",
    "#up to 483 on 12/16/2015"
   ]
  },
  {
   "cell_type": "code",
   "execution_count": null,
   "metadata": {
    "collapsed": true
   },
   "outputs": [],
   "source": [
    "trimPath = []\n",
    "current_section = None\n",
    "for line in allPathways.rstrip().split(\"\\n\"):\n",
    "#     Tracer()()\n",
    "    tp = line[8:13]\n",
    "    \n",
    "    trimPath.append('ko' + tp)"
   ]
  },
  {
   "cell_type": "code",
   "execution_count": null,
   "metadata": {
    "collapsed": false
   },
   "outputs": [],
   "source": [
    "#have some cases where KEGG will send back a pathway, but the pathway itself is not searchable...seems to \n",
    "#be a KEGG bug, 'ko00351' was first, then realized there are many of these,\n",
    "#did this list manually since I thought it would be short...\n",
    "toDelete = ('ko00351','ko01010','ko01060', 'ko01061',  'ko01062', 'ko01063', 'ko01064', 'ko01065', 'ko01066',\n",
    " 'ko01070', 'ko07011', 'ko07012', 'ko07013', 'ko07014', 'ko07015', 'ko07016', 'ko07017', 'ko07018', 'ko07019',\n",
    " 'ko07020', 'ko07021', 'ko07023', 'ko07024', 'ko07025', 'ko07026', 'ko07027', 'ko07028', 'ko07029', 'ko07030',\n",
    " 'ko07031', 'ko07032', 'ko07033', 'ko07034', 'ko07035', 'ko07036', 'ko07037', 'ko07038', 'ko07039', 'ko07040',\n",
    " 'ko07041', 'ko07042', 'ko07043', 'ko07044', 'ko07045', 'ko07046', 'ko07047', 'ko07048', 'ko07049', 'ko07050',\n",
    " 'ko07051', 'ko07052', 'ko07053', 'ko07054', 'ko07055', 'ko07056', 'ko07057', 'ko07110', 'ko07112', 'ko07114',\n",
    " 'ko07117', 'ko07211', 'ko07212', 'ko07213', 'ko07214', 'ko07215', 'ko07216', 'ko07217', 'ko07218', 'ko07219',\n",
    " 'ko07220', 'ko07221', 'ko07222', 'ko07223', 'ko07224', 'ko07225', 'ko07226', 'ko07227', 'ko07228', 'ko07229',\n",
    " 'ko07230', 'ko07231', 'ko07232', 'ko07233', 'ko07234', 'ko07235','ko04933')\n",
    "\n",
    "#probably a way to do this without the for loop, but this will work\n",
    "for item in toDelete:\n",
    "    trimPath.remove(item)"
   ]
  },
  {
   "cell_type": "code",
   "execution_count": null,
   "metadata": {
    "collapsed": false
   },
   "outputs": [],
   "source": [
    "colLabel = ['nCpds','nGenes'] #starting with this is easiest - makes one list, no need to flatten\n",
    "\n",
    "for item in range(makeNclusters):\n",
    "    colLabel.append('Km' + str(item) + '_cpd')\n",
    "    colLabel.append('Km' + str(item) + '_gene')\n",
    "    \n",
    "gatherCounts = pd.DataFrame(0, index = trimPath, columns = colLabel)"
   ]
  },
  {
   "cell_type": "code",
   "execution_count": null,
   "metadata": {
    "collapsed": false
   },
   "outputs": [],
   "source": [
    "# #useColors = pal.colorbrewer.diverging.PiYG_4.hex_colors\n",
    "# useColors = pal.colorbrewer.qualitative.Set3_4_r.hex_colors\n",
    "# # useColors = pal.colorbrewer.qualitative.Accent_4_r.hex_colors\n",
    "# # useColors = pal.colorbrewer.qualitative.Dark2_4.hex_colors\n",
    "# # cmap=pal.colorbrewer.sequential.YlOrRd_5.get_mpl_colormap()\n",
    "#manually set the colors\n",
    "#useColors = ('#e41a1c','#377eb8','#f7f7f7','#4daf4a','#984ea3') #[red,blue,white,green,purple]\n",
    "\n",
    "useColors = pal.colorbrewer.qualitative.Set3_4.hex_colors\n",
    "useColors.insert(2,'#f7f7f7')"
   ]
  },
  {
   "cell_type": "markdown",
   "metadata": {},
   "source": [
    "##Filtering pathways to plot based on reactions"
   ]
  },
  {
   "cell_type": "code",
   "execution_count": null,
   "metadata": {
    "collapsed": false
   },
   "outputs": [],
   "source": [
    "#messing around with colors...change back to red/blue/white/green/purple for now\n",
    "useColors = pal.colorbrewer.qualitative.Set1_4.hex_colors\n",
    "useColors.insert(2,'#f7f7f7') #insert the white\n",
    "\n",
    "#this set of looks works on one pathway at a time, only plotting if I get more than one case with a reaction\n",
    "#containing both a gene and a metabolite within the pathway of interest\n",
    "if True: #can be time consuming (off for editing).\n",
    "    \n",
    "    #setup the strings to match first\n",
    "    rnString = re.compile('(?:[rn:R])(\\d+)$') #will return R00190\n",
    "    cpdString = re.compile('(?:[cpd:C])(\\d+)$') #will return C00190\n",
    "\n",
    "    size = 20 #turns out I can increase the size of the compounds in the plots\n",
    "\n",
    "    for kn in range(makeNclusters):\n",
    "    #for kn in range(3,6): \n",
    "    #for kn in range(1):    \n",
    "\n",
    "        fullSet = set(forRelatedness.KEGG)\n",
    "        oneK = forRelatedness[forRelatedness.kmeans == kn] #get gene & transcript information for one Kmeans group\n",
    "        getKm = 'Km' + str(kn)\n",
    "\n",
    "        #check if the directories exist \n",
    "        directoryPDF = 'plots_9Kmeans' + str(kn) + '/PDFfiles'\n",
    "        if not os.path.exists(directoryPDF):\n",
    "            os.makedirs(directoryPDF)\n",
    "\n",
    "        #check if the directories exist \n",
    "        directoryPNG = 'plots_9Kmeans' + str(kn) + '/PNGfiles'\n",
    "        if not os.path.exists(directoryPNG):\n",
    "            os.makedirs(directoryPNG)    \n",
    "        \n",
    "        for item in trimPath: #searching within one pathway at a time\n",
    "        #for item in shortList: #short list for testing\n",
    "            plotPathway = [] #gather up yes/no and will only plot if have linked genes/mtabs\n",
    "        \n",
    "            genes = getKfrom_ko(item)\n",
    "            compounds = getCfrom_ko(item)\n",
    "\n",
    "            gatherCounts.loc[item,'nCpds'] = len(compounds)\n",
    "            gatherCounts.loc[item,'nGenes'] = len(genes)     \n",
    "\n",
    "            #have to track genes and compounds differently for the biopython plotting later on \n",
    "            setG = set(genes)\n",
    "            setC = set(compounds)\n",
    "            setB = set(oneK.KEGG)\n",
    "            intGenes = setG.intersection(setB)\n",
    "            intCompounds = setC.intersection(setB)\n",
    "\n",
    "            gatherCounts.loc[item,(getKm + '_gene')] = len(intGenes)\n",
    "            gatherCounts.loc[item,(getKm + '_cpd')] = len(intCompounds)\n",
    "\n",
    "            #now, before plotting, look for intersection of genes/compounds using the reaction information\n",
    "            current_section = None\n",
    "            \n",
    "            for gen in intGenes: #go through each gene...one at a time\n",
    "                countCpd = []\n",
    "                countGene = []\n",
    "                \n",
    "                rnList = kegg_link('reaction',gen).read() #get the list of reactions for that gene\n",
    "\n",
    "                for line in rnList.rstrip().split('\\n'):\n",
    "                    m = rnString.search(line) #get the reaction number\n",
    "\n",
    "                    cpdList = kegg_link('cpd',m.group(0)).read() #now go get the compounds for that reaction\n",
    "\n",
    "                    #can have no compounds in a reaction (only glycans, begin with G, nothing I have matched)\n",
    "                    if len(cpdList) > 1: #will be true if cpdList includes compounds\n",
    "                        for line2 in cpdList.rstrip().split('\\n'):\n",
    "                            m2 = cpdString.search(line2).group(0)\n",
    "                            #now that I have a compound, check if it is in intCompounds\n",
    "                            if m2 in intCompounds:\n",
    "                                countCpd.append(m2) \n",
    "                                countGene.append(gen)\n",
    "                                plotPathway.append('yes')\n",
    "       \n",
    "                ##First, plot the PNG files (one for each reaction within a pathway)\n",
    "                if len(countCpd) > 0:\n",
    "                    kData = pd.DataFrame(columns = dayList)\n",
    "                    for k in set(countGene):\n",
    "                        kData = kData.append(oneK.ix[k,dayList])\n",
    "\n",
    "                    cData = pd.DataFrame(columns = dayList)\n",
    "                    for co in set(countCpd):\n",
    "                        #convert CO to RI, can have multiple options\n",
    "                        j = findRInumber(oneK,co)\n",
    "                        cData = cData.append(oneK.loc[j,dayList])\n",
    "\n",
    "                    fig,ax = plt.subplots(1)\n",
    "                    cData.T.plot(color = 'k',ax=ax)\n",
    "                    kData.T.plot(color = 'r',ax=ax)\n",
    "\n",
    "                    handles, labels = ax.get_legend_handles_labels()\n",
    "                    #convert the RI numbers to COnumbers for the figure\n",
    "                    for ia, a in enumerate(labels):\n",
    "                        #add compound/gene name to the legend\n",
    "                        ##kegg_list('C00020').read()\n",
    "                        #will have annoying tabs, use this to find them\n",
    "                        if a[0]== 'R':\n",
    "                            tLabel = convertRItoCO(CO_fromMATLAB,a)\n",
    "                            fn = kegg_list(tLabel).read()                          \n",
    "                            labels[ia] = fn\n",
    "                        elif a[0] == 'K':\n",
    "                            fn = kegg_list(a).read()\n",
    "                            labels[ia] = fn\n",
    "\n",
    "                    ax.legend(handles, labels, bbox_to_anchor = ([-1, 0.5]))\n",
    "                    fig.suptitle('pathway ' + item + ', Kmeans grp ' + str(kn))\n",
    "                    pngName = 'pathway' + item + '_' + m.group(0) + '.png'\n",
    "                    fig.savefig(directoryPNG + '/' + pngName, bbox_inches = 'tight')\n",
    "                    plt.close()\n",
    "                \n",
    "            if len(plotPathway) > 0: # not empty\n",
    "                ## plot the pathway map for this pathway, get details from KEGG for plotting\n",
    "                pathway = KGML_parser.read(kegg_get(item, \"kgml\"))\n",
    "                \n",
    "                for element in pathway.orthologs:\n",
    "                    #print element.name\n",
    "                    for graphic in element.graphics:\n",
    "                        tg = element.name[3:9] #skip over the 'ko:'\n",
    "\n",
    "                        if (tg in intGenes):\n",
    "                            #in the pathway AND in the set for this particular K means group\n",
    "                            graphic.bgcolor = useColors[0] #red\n",
    "\n",
    "                        elif (tg in fullSet) and (tg in genes) and (tg not in intGenes):\n",
    "                            #in the pathway AND in the set of genes from RI, but *not* in this Kmeans group\n",
    "                            graphic.bgcolor = useColors[1] #blue\n",
    "\n",
    "                        elif (tg not in fullSet) and (tg in genes):\n",
    "                            #in the pathway, but *not* in anything from the RI samples\n",
    "                            graphic.bgcolor = useColors[2] #white\n",
    "\n",
    "                # Change the colours of compounds\n",
    "                for element in pathway.compounds:\n",
    "                    for graphic in element.graphics:\n",
    "                        tc = element.name[4:10] #skip over the 'cpd:'\n",
    "\n",
    "                        if (tc in intCompounds):\n",
    "                            #in the pathway AND in the set for this particular K means group\n",
    "                            graphic.bgcolor = useColors[3] #green\n",
    "                            graphic.width = size\n",
    "                            graphic.height = size\n",
    "\n",
    "                        elif (tc in fullSet) and (tc in compounds) and (tc not in intCompounds):\n",
    "                            #in the pathway AND in the set of compounds from RI, but *not* in this Kmeans group\n",
    "                            graphic.bgcolor = useColors[4] #purple\n",
    "                            graphic.width = size\n",
    "                            graphic.height = size\n",
    "\n",
    "                        elif (tc not in fullSet) and (tc in compounds):\n",
    "                            #in the pathway, but *not* in anything from the RI samples\n",
    "                            graphic.bgcolor = useColors[2] #white\n",
    "\n",
    "                canvas = KGMLCanvas(pathway, import_imagemap=True)\n",
    "                pdfName = 'mapWithColors_' + str(item) + '.pdf'\n",
    "                canvas.draw(directoryPDF + '/' + pdfName)\n",
    "                #PDF(fName) #comment this out to *not* see the PDF within the iPython notebook':"
   ]
  },
  {
   "cell_type": "code",
   "execution_count": null,
   "metadata": {
    "collapsed": true
   },
   "outputs": [],
   "source": [
    "#want to export gatherCounts, with the added pathway name as a new column\n",
    "gatherCounts['pathwayInfo'] = ''\n",
    "gatherCounts['pathwayGroup_A'] = ''\n",
    "gatherCounts['pathwayGroup_B'] = ''"
   ]
  },
  {
   "cell_type": "code",
   "execution_count": null,
   "metadata": {
    "collapsed": true
   },
   "outputs": [],
   "source": [
    "#organize pathways into the groups defined in the BRITE file (didn't work well for compounds, \n",
    "#but the pathway groups seem useful)\n",
    "def ReadBRITEfile(briteFile):\n",
    "    forBrite = pd.DataFrame(columns = ['map','A','B','C','wholeThing'])\n",
    "    # set up the expressions to match each level in the BRITE hierarchy\n",
    "    \n",
    "    textA = re.compile(r'(^A<b>)(.+)(</b>)\\s*(.*)$')\n",
    "    textB = re.compile(r'(^B)\\s*(.*)$')\n",
    "    textC = re.compile(r'(\\d+)\\s*(.*)$')\n",
    "    #this relies on the fact that the rows are in order: A, with B subheadings, then C subheadings\n",
    "    setA = []\n",
    "    idxA = []\n",
    "\n",
    "    setB = []\n",
    "    setC = []\n",
    "\n",
    "    with open(briteFile) as f:\n",
    "        for idx,line in enumerate(f):\n",
    "            if line[0] is not '#': #skip over the comments\n",
    "                mA = textA.search(line) \n",
    "                mB = textB.search(line) \n",
    "                mC = textC.search(line) \n",
    "                if mA:\n",
    "                    setA = mA.group(2)\n",
    "                    #house cleaning (probably c)\n",
    "                    idxA = idx\n",
    "                    forBrite.loc[idx,'A'] = setA\n",
    "                    forBrite.loc[idx,'wholeThing'] = line #using this as a double check for now\n",
    "                    #forBrite.loc[idx,'map'] = mC.group(1)\n",
    "                elif mB:\n",
    "                    setB = mB.group(2)\n",
    "                    forBrite.loc[idx,'A'] = setA\n",
    "                    forBrite.loc[idx,'B'] = setB\n",
    "                    forBrite.loc[idx,'wholeThing'] = line\n",
    "                    #forBrite.loc[idx,'map'] = mC.group(1)\n",
    "                elif mC:\n",
    "                    #Tracer()()\n",
    "                    setC = mC.group(2)\n",
    "                    forBrite.loc[idx,'A'] = setA\n",
    "                    forBrite.loc[idx,'B'] = setB\n",
    "                    forBrite.loc[idx,'C'] = setC\n",
    "                    forBrite.loc[idx,'wholeThing'] = line\n",
    "                    forBrite.loc[idx,'map'] = mC.group(1)\n",
    "\n",
    "        return forBrite"
   ]
  },
  {
   "cell_type": "code",
   "execution_count": null,
   "metadata": {
    "collapsed": false
   },
   "outputs": [],
   "source": [
    "D = glob.glob('br08901.keg') #from http://www.genome.jp/kegg-bin/get_htext?br08901.keg; 12/15/2015\n",
    "allBRITE=[]\n",
    "for idx,nof in enumerate(D):\n",
    "    allBRITE = ReadBRITEfile(nof) \n",
    "    \n",
    "allBRITE.loc[allBRITE['map']=='01100']"
   ]
  },
  {
   "cell_type": "code",
   "execution_count": null,
   "metadata": {
    "collapsed": false
   },
   "outputs": [],
   "source": [
    "#KEGG seems to be updating pathways...finding some where gatherCounts has a pathway, \n",
    "#but it is missing from the BRITE file\n",
    "#ko04139, added to KEGG 12/1/15, pathway is: 'regulation of mitophagy' \n",
    "#ko04211, added to KEGG 12/14/15, pathway is 'longevity regulating pathway mammal\n",
    "#let's delete it from gatherCounts\n",
    "gatherCounts = gatherCounts.drop(['ko04139'])\n",
    "gatherCounts = gatherCounts.drop(['ko04211'])\n",
    "\n",
    "#note that this cell will only work once"
   ]
  },
  {
   "cell_type": "code",
   "execution_count": null,
   "metadata": {
    "collapsed": false
   },
   "outputs": [],
   "source": [
    "#put the pathway name and group into the data frame before exporting it\n",
    "for item in gatherCounts.index:\n",
    "    pathstr = kegg_list(item).read()\n",
    "    #this next line splits the string at the '\\t', then keeps the piece at index = 1, and strips off the '\\n'\n",
    "    gatherCounts.loc[item,('pathwayInfo')] = pathstr.split('\\t')[1].rstrip()\n",
    "    \n",
    "    t = allBRITE.loc[allBRITE['map']==item[2:]]  \n",
    "    gatherCounts.set_value(item,'pathwayGroup_A',t['A'].values[0])\n",
    "    gatherCounts.set_value(item,'pathwayGroup_B',t['B'].values[0])\n",
    "    del t"
   ]
  },
  {
   "cell_type": "code",
   "execution_count": null,
   "metadata": {
    "collapsed": true
   },
   "outputs": [],
   "source": [
    "if True:\n",
    "    #now export the result as CSV file\n",
    "    gatherCounts.to_csv('pathways_with_Kmeans_KOnorm2Mean.2015.12.15.csv', header = True)"
   ]
  },
  {
   "cell_type": "code",
   "execution_count": null,
   "metadata": {
    "collapsed": false
   },
   "outputs": [],
   "source": [
    "#now...save all that so I don't have to do this everytime BUT be careful with re-assigning K means group numbers!\n",
    "cpk.dump(gatherCounts, open('gatherCounts_norm2mean.pickle', 'wb'))\n",
    "cpk.load(open('gatherCounts_norm2mean.pickle','rb'))\n",
    "gatherCounts.head(2)"
   ]
  },
  {
   "cell_type": "code",
   "execution_count": null,
   "metadata": {
    "collapsed": false
   },
   "outputs": [],
   "source": [
    "colLabel"
   ]
  },
  {
   "cell_type": "code",
   "execution_count": null,
   "metadata": {
    "collapsed": true
   },
   "outputs": [],
   "source": [
    "newCols = colLabel[2:]"
   ]
  },
  {
   "cell_type": "code",
   "execution_count": null,
   "metadata": {
    "collapsed": false
   },
   "outputs": [],
   "source": [
    "cpdCols = colLabel[2::2]\n",
    "cpdCols "
   ]
  },
  {
   "cell_type": "code",
   "execution_count": null,
   "metadata": {
    "collapsed": false
   },
   "outputs": [],
   "source": [
    "geneCols = colLabel[3::2]\n",
    "geneCols"
   ]
  },
  {
   "cell_type": "code",
   "execution_count": null,
   "metadata": {
    "collapsed": false
   },
   "outputs": [],
   "source": [
    "#only keep the ones where I have some value...no sense in tracking zeros\n",
    "s = gatherCounts[(gatherCounts.loc[:,newCols].values > 0).any(axis=1)]\n",
    "pGroup = pd.unique(s.pathwayGroup_A.ravel())"
   ]
  },
  {
   "cell_type": "code",
   "execution_count": null,
   "metadata": {
    "collapsed": false
   },
   "outputs": [],
   "source": [
    "dfHighest = pd.DataFrame(index = pGroup,columns = newCols)\n",
    "#do the math - add up the genes/cpds by higher level grouping\n",
    "for i, group in s.groupby('pathwayGroup_A'):\n",
    "    d2 = group.loc[:,newCols]\n",
    "    out = d2.sum(axis=0)\n",
    "    dfHighest.loc[i,newCols] = out"
   ]
  },
  {
   "cell_type": "code",
   "execution_count": null,
   "metadata": {
    "collapsed": false
   },
   "outputs": [],
   "source": [
    "# playing around with color palettes\n",
    "useColors = pal.tableau.GreenOrange_12.hex_colors\n",
    "dfHighest.plot(kind = 'bar',color=useColors)"
   ]
  },
  {
   "cell_type": "code",
   "execution_count": null,
   "metadata": {
    "collapsed": false
   },
   "outputs": [],
   "source": [
    "useColors = pal.tableau.GreenOrange_6.hex_colors\n",
    "toPlot = dfHighest.loc[:,cpdCols]\n",
    "toPlot.plot(kind = 'bar',color = useColors)"
   ]
  },
  {
   "cell_type": "code",
   "execution_count": null,
   "metadata": {
    "collapsed": true
   },
   "outputs": [],
   "source": [
    "##let's narrow in on the metabolism group since that is the only one that is really interesting\n",
    "plotMetabolism = gatherCounts[gatherCounts.loc[:,'pathwayGroup_A']=='Metabolism']"
   ]
  },
  {
   "cell_type": "code",
   "execution_count": null,
   "metadata": {
    "collapsed": true
   },
   "outputs": [],
   "source": [
    "s = plotMetabolism[(plotMetabolism.loc[:,newCols].values > 0).any(axis=1)]\n",
    "dataToPlot = s.loc[:,newCols]\n",
    "\n",
    "pGroup = pd.unique(plotMetabolism.pathwayGroup_B.ravel())\n",
    "\n",
    "newDFmtab = pd.DataFrame(index = pGroup,columns = newCols)\n",
    "\n",
    "for i, group in s.groupby('pathwayGroup_B'):\n",
    "    d2 = group.loc[:,newCols]\n",
    "    out = d2.sum(axis=0)\n",
    "    newDFmtab.loc[i,newCols] = out"
   ]
  },
  {
   "cell_type": "code",
   "execution_count": null,
   "metadata": {
    "collapsed": false
   },
   "outputs": [],
   "source": [
    "useColors = pal.colorbrewer.qualitative.Set1_6.hex_colors\n",
    "toPlot_cpds = newDFmtab.loc[:,cpdCols]\n",
    "toPlot_cpds.plot(kind = 'barh',color=useColors)\n",
    "toPlot_cpds.to_csv('compounds_byKmeans.csv')"
   ]
  },
  {
   "cell_type": "code",
   "execution_count": null,
   "metadata": {
    "collapsed": false
   },
   "outputs": [],
   "source": [
    "useColors = pal.colorbrewer.qualitative.Paired_12.hex_colors\n",
    "toPlot_cpds = newDFmtab.loc[:,cpdCols]\n",
    "toPlot_cpds.T.plot(kind = 'barh',color=useColors)\n",
    "plt.legend(bbox_to_anchor=([-1, 0.5]))"
   ]
  },
  {
   "cell_type": "code",
   "execution_count": null,
   "metadata": {
    "collapsed": false
   },
   "outputs": [],
   "source": [
    "useColors = pal.colorbrewer.qualitative.Paired_12.hex_colors\n",
    "toPlot_cpds = newDFmtab.loc[:,cpdCols]\n",
    "toPlot_cpds.T.plot(kind = 'barh',color=useColors,figsize = (12,12))\n",
    "plt.legend(bbox_to_anchor=([-0.15, 0.5]))"
   ]
  },
  {
   "cell_type": "code",
   "execution_count": null,
   "metadata": {
    "collapsed": false
   },
   "outputs": [],
   "source": [
    "useColors = pal.colorbrewer.qualitative.Paired_12.hex_colors\n",
    "toPlot_genes.T.plot(kind = 'barh',color=useColors,figsize = (12,12))\n",
    "plt.legend(bbox_to_anchor=([-0.15, 0.5]))"
   ]
  },
  {
   "cell_type": "code",
   "execution_count": null,
   "metadata": {
    "collapsed": true
   },
   "outputs": [],
   "source": [
    "s = plotMetabolism[(plotMetabolism.loc[:,newCols].values > 0).any(axis=1)]\n",
    "\n",
    "pGroup = pd.unique(plotMetabolism.pathwayInfo.ravel())\n",
    "\n",
    "newDFmtabLower = pd.DataFrame(index = pGroup,columns = newCols)\n",
    "\n",
    "for i, group in s.groupby('pathwayInfo'):\n",
    "    d2 = group.loc[:,newCols]\n",
    "    out = d2.sum(axis=0)\n",
    "    newDFmtabLower.loc[i,newCols] = out"
   ]
  },
  {
   "cell_type": "code",
   "execution_count": null,
   "metadata": {
    "collapsed": false
   },
   "outputs": [],
   "source": [
    "testing = toPlot_cpds.loc[:,'Km2_cpd']\n",
    "testing.plot(kind = 'barh',color = 'blue')\n",
    "plt.legend(bbox_to_anchor=([-1, 0.5]))"
   ]
  },
  {
   "cell_type": "code",
   "execution_count": null,
   "metadata": {
    "collapsed": false
   },
   "outputs": [],
   "source": [
    "useColors = pal.colorbrewer.qualitative.Paired_12.hex_colors\n",
    "toPlot_cpds = newDFmtab.loc[:,cpdCols]\n",
    "toPlot_cpds.T.plot(kind = 'barh',color=useColors)\n",
    "plt.legend(bbox_to_anchor=([-1, 0.5]))"
   ]
  },
  {
   "cell_type": "code",
   "execution_count": null,
   "metadata": {
    "collapsed": false
   },
   "outputs": [],
   "source": [
    "toPlot_cpds_proportion=toPlot_cpds.copy()\n",
    "toPlot_cpds['sum']=toPlot_cpds.sum(axis=1)\n",
    "\n",
    "for i in toPlot_cpds_proportion.columns:\n",
    "    toPlot_cpds_proportion[i]=toPlot_cpds[i]/toPlot_cpds['sum']\n",
    "    \n",
    "toPlot_cpds=toPlot_cpds.T.drop('sum').T"
   ]
  },
  {
   "cell_type": "code",
   "execution_count": null,
   "metadata": {
    "collapsed": false
   },
   "outputs": [],
   "source": [
    "#can play around with the colors\n",
    "useColors = pal.colorbrewer.qualitative.Set1_6.hex_colors\n",
    "toPlot_cpds_proportion.plot(kind = 'barh',stacked=True,color=useColors)\n",
    "plt.legend(bbox_to_anchor=([-1, 0.5]))\n",
    "plt.title('proportions')"
   ]
  },
  {
   "cell_type": "code",
   "execution_count": null,
   "metadata": {
    "collapsed": true
   },
   "outputs": [],
   "source": [
    "#what about the genes?\n",
    "toPlot_genes = newDFmtab.loc[:,geneCols]\n",
    "toPlot_genes_proportion=toPlot_genes.copy()\n",
    "toPlot_genes['sum']=toPlot_genes.sum(axis=1)\n",
    "for i in toPlot_genes_proportion.columns:\n",
    "    toPlot_genes_proportion[i]=toPlot_genes[i]/toPlot_genes['sum']\n",
    "    \n",
    "toPlot_genes=toPlot_genes.T.drop('sum').T\n",
    "toPlot_genes.to_csv('genes_byKmeans.csv')"
   ]
  },
  {
   "cell_type": "code",
   "execution_count": null,
   "metadata": {
    "collapsed": false
   },
   "outputs": [],
   "source": [
    "useColors = pal.colorbrewer.qualitative.Set1_6.hex_colors\n",
    "toPlot_genes_proportion.plot(kind = 'barh',stacked=True,color = useColors)\n",
    "plt.legend(bbox_to_anchor=([-1, 0.5]))"
   ]
  },
  {
   "cell_type": "code",
   "execution_count": null,
   "metadata": {
    "collapsed": true
   },
   "outputs": [],
   "source": [
    "#what about the genes?\n",
    "toPlot_genes = newDFmtab.loc[:,geneCols]\n",
    "toPlot_genes_proportion=toPlot_genes.copy()\n",
    "toPlot_genes['sum']=toPlot_genes.sum(axis=1)\n",
    "for i in toPlot_genes_proportion.columns:\n",
    "    toPlot_genes_proportion[i]=toPlot_genes[i]/toPlot_genes['sum']\n",
    "    \n",
    "toPlot_genes=toPlot_genes.T.drop('sum').T\n",
    "toPlot_genes.to_csv('genes_byKmeans.csv')"
   ]
  },
  {
   "cell_type": "code",
   "execution_count": null,
   "metadata": {
    "collapsed": false
   },
   "outputs": [],
   "source": [
    "toPlot_genes.T.head(6)"
   ]
  },
  {
   "cell_type": "code",
   "execution_count": null,
   "metadata": {
    "collapsed": false
   },
   "outputs": [],
   "source": [
    "working = toPlot_genes.T\n",
    "workingC = toPlot_cpds.T"
   ]
  },
  {
   "cell_type": "code",
   "execution_count": null,
   "metadata": {
    "collapsed": false
   },
   "outputs": [],
   "source": [
    "working['sum'] = toPlot_genes.T.sum(axis = 1)\n",
    "workingC['sum'] = toPlot_cpds.T.sum(axis=1)"
   ]
  },
  {
   "cell_type": "code",
   "execution_count": null,
   "metadata": {
    "collapsed": true
   },
   "outputs": [],
   "source": [
    "for i in workingC.columns:\n",
    "    workingC[i] = workingC[i]/workingC['sum']\n",
    "workingC = workingC.T.drop('sum').T"
   ]
  },
  {
   "cell_type": "code",
   "execution_count": null,
   "metadata": {
    "collapsed": false
   },
   "outputs": [],
   "source": [
    "for i in working.columns:\n",
    "    working[i] = working[i]/working['sum']\n",
    "working = working.T.drop('sum').T"
   ]
  },
  {
   "cell_type": "code",
   "execution_count": null,
   "metadata": {
    "collapsed": false
   },
   "outputs": [],
   "source": [
    "useColors = pal.colorbrewer.qualitative.Paired_12.hex_colors\n",
    "working.plot(kind = 'barh',stacked=True,color = useColors)\n",
    "plt.legend(bbox_to_anchor=([-1, 0.5]))"
   ]
  },
  {
   "cell_type": "code",
   "execution_count": null,
   "metadata": {
    "collapsed": false
   },
   "outputs": [],
   "source": [
    "useColors = pal.colorbrewer.qualitative.Paired_12.hex_colors\n",
    "workingC.plot(kind = 'barh',stacked=True,color = useColors)\n",
    "plt.legend(bbox_to_anchor=([-1, 0.5]))"
   ]
  },
  {
   "cell_type": "code",
   "execution_count": null,
   "metadata": {
    "collapsed": true
   },
   "outputs": [],
   "source": [
    "#exported this table to a CSV file for the paper (did one for compounds too)\n",
    "toPlot_genes.to_csv('genes.csv')\n",
    "toPlot_cpds.to_csv('cpds.csv')"
   ]
  },
  {
   "cell_type": "code",
   "execution_count": null,
   "metadata": {
    "collapsed": true
   },
   "outputs": [],
   "source": [
    "# plot one compound or gene (for paper)\n",
    "oneCO = 'C02666'"
   ]
  },
  {
   "cell_type": "code",
   "execution_count": null,
   "metadata": {
    "collapsed": false
   },
   "outputs": [],
   "source": [
    "plotOne = forRelatedness[forRelatedness['KEGG']==oneCO]"
   ]
  },
  {
   "cell_type": "code",
   "execution_count": null,
   "metadata": {
    "collapsed": true
   },
   "outputs": [],
   "source": [
    "kData = plotOne.ix[:,dayList]"
   ]
  },
  {
   "cell_type": "code",
   "execution_count": null,
   "metadata": {
    "collapsed": false
   },
   "outputs": [],
   "source": [
    "fig,ax = plt.subplots(1)\n",
    "kData.T.plot(color = 'r',ax=ax, ylim = [0,5])\n",
    "\n",
    "handles, labels = ax.get_legend_handles_labels()\n",
    "#convert the RI numbers to COnumbers for the figure\n",
    "for ia, a in enumerate(labels):\n",
    "    #add compound/gene name to the legend\n",
    "    ##kegg_list('C00020').read()\n",
    "    #will have annoying tabs, use this to find them\n",
    "    if a[0]== 'R':\n",
    "        tLabel = convertRItoCO(CO_fromMATLAB,a)\n",
    "        fn = kegg_list(tLabel).read()                          \n",
    "        labels[ia] = fn\n",
    "    elif a[0] == 'K':\n",
    "        fn = kegg_list(a).read()\n",
    "        labels[ia] = fn\n",
    "\n",
    "ax.legend(handles, labels, bbox_to_anchor = ([-1, 0.5]))\n",
    "fig.suptitle('pathway ' + item + ', Kmeans grp ' + str(kn))\n",
    "pngName = 'pathway' + item + '_' + m.group(0) + '_' + oneCO + '.png'\n",
    "fig.savefig(pngName)"
   ]
  },
  {
   "cell_type": "code",
   "execution_count": null,
   "metadata": {
    "collapsed": true
   },
   "outputs": [],
   "source": []
  },
  {
   "cell_type": "code",
   "execution_count": null,
   "metadata": {
    "collapsed": true
   },
   "outputs": [],
   "source": []
  },
  {
   "cell_type": "code",
   "execution_count": null,
   "metadata": {
    "collapsed": true
   },
   "outputs": [],
   "source": []
  },
  {
   "cell_type": "code",
   "execution_count": null,
   "metadata": {
    "collapsed": true
   },
   "outputs": [],
   "source": []
  },
  {
   "cell_type": "code",
   "execution_count": null,
   "metadata": {
    "collapsed": true
   },
   "outputs": [],
   "source": []
  }
 ],
 "metadata": {
  "kernelspec": {
   "display_name": "Python 2",
   "language": "python",
   "name": "python2"
  },
  "language_info": {
   "codemirror_mode": {
    "name": "ipython",
    "version": 2
   },
   "file_extension": ".py",
   "mimetype": "text/x-python",
   "name": "python",
   "nbconvert_exporter": "python",
   "pygments_lexer": "ipython2",
   "version": "2.7.9"
  }
 },
 "nbformat": 4,
 "nbformat_minor": 0
}
