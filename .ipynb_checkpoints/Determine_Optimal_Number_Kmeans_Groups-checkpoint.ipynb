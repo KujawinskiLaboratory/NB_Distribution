{
 "cells": [
  {
   "cell_type": "code",
   "execution_count": 11,
   "metadata": {
    "collapsed": true
   },
   "outputs": [],
   "source": [
    "#use this notebook to determine the optimal number of K means groups for the dataset\n",
    "#there are three options\n",
    "#KL 12 April 2016"
   ]
  },
  {
   "cell_type": "code",
   "execution_count": 16,
   "metadata": {
    "collapsed": true
   },
   "outputs": [],
   "source": [
    "import pandas as pd\n",
    "import matplotlib.pyplot as plt\n",
    "%matplotlib inline"
   ]
  },
  {
   "cell_type": "code",
   "execution_count": 6,
   "metadata": {
    "collapsed": true
   },
   "outputs": [],
   "source": [
    "#this sets the stage to figure out the optimal number of K means groups\n",
    "filename = 'nClustersRequired.py'\n",
    "%run $filename"
   ]
  },
  {
   "cell_type": "code",
   "execution_count": null,
   "metadata": {
    "collapsed": true
   },
   "outputs": [],
   "source": [
    "##the data file read into the next cell was created as follows:\n",
    "##(in main iPython notebook)\n",
    "#dataFilename = 'NB_combined_for_kmeans.csv'\n",
    "#Combined_KO_CO_final.to_csv(dataFilename)"
   ]
  },
  {
   "cell_type": "code",
   "execution_count": 7,
   "metadata": {
    "collapsed": false
   },
   "outputs": [],
   "source": [
    "dataFilename = 'NB_combined_for_kmeans.csv'\n",
    "data = Data(dataFilename)\n",
    "#pattern_labels are the rows...for us this will the RInumber\n",
    "pattern_labels = []\n",
    "patterns_data, pattern_labels = data.load_data()"
   ]
  },
  {
   "cell_type": "code",
   "execution_count": 8,
   "metadata": {
    "collapsed": true
   },
   "outputs": [],
   "source": [
    "def forest_run(dimensions, patterns, pattern_labels, metric='qe', fNamePrefix = '', k_up=20, k_down=2, simulations=55, iterations=50):\n",
    "    \"\"\"\n",
    "    A method for watching Forest Gump run\n",
    "    :param dimensions: the dimensionality of the data\n",
    "    :param patterns: the data itself\n",
    "    :param metric: the quality metric\n",
    "    :fNamePrefix: put text in here if I want to add a unique prefix to the data file spit out at end\n",
    "    :param k_up: the maximum number of clusters\n",
    "    :param k_down: the minimum number of clusters\n",
    "    :param simulations: the number of simulations for each k\n",
    "    :param iterations: the number of iterations for each k-means pass\n",
    "    \"\"\"\n",
    "    # variable to store the best result\n",
    "    best_clustering = None\n",
    "    # the quality of that result\n",
    "    best_quality = 1000.00\n",
    "    # write results out to file while simulating\n",
    "    file_out = fNamePrefix + 'MonteCarloFinalResults' + '_' + metric + '.csv'\n",
    "    #with open(file_out, 'w', newline='') as f: #newline doesn't work here\n",
    "    with open(file_out,'w') as f:\n",
    "        # different k values to test on\n",
    "        for i in range(k_down, k_up):\n",
    "            num_clusters = i\n",
    "            # number of retries / simulations\n",
    "            print('working on ' , i, '# of kmeans groups') #works, but doesn't look as I intended.\n",
    "            \n",
    "            for j in range(simulations):\n",
    "                # create a clustering solution and apply k-means\n",
    "                clustering = Clustering(dimensions, num_clusters, patterns, 0.0001)\n",
    "                clustering.k_means_clustering(iterations)\n",
    "                # used to compute quality of the solution\n",
    "                quality = ClusteringQuality(clustering, 0.0001)\n",
    "                this_quality = 0.0\n",
    "                if metric == 'qe':\n",
    "                    this_quality = quality.quantization_error()\n",
    "                if metric == 'si':\n",
    "                    this_quality = quality.average_silhouette_index()\n",
    "                if metric == 'db':\n",
    "                    this_quality = quality.davies_bouldin()\n",
    "                # update the best clustering\n",
    "                if this_quality < best_quality:\n",
    "                    best_quality = this_quality\n",
    "                    best_clustering = clustering\n",
    "                    #print(\"Updated best clustering\") #comment out, clogging up display\n",
    "                # write result to the file\n",
    "                result = [num_clusters, this_quality]\n",
    "                for x in result:\n",
    "                    f.write(str(x))\n",
    "                    f.write(\",\")\n",
    "                f.write(\"\\n\")\n",
    "                f.flush()\n"
   ]
  },
  {
   "cell_type": "code",
   "execution_count": 9,
   "metadata": {
    "collapsed": true
   },
   "outputs": [],
   "source": [
    "dimensions = 5 #this is a function of the data itself. In the NB data we have five sampling days.\n",
    "setSimulations = 100\n",
    "setIterations = 100 #this is the default from the Turing Finance code\n",
    "setKup = 20\n",
    "setKdown = 2"
   ]
  },
  {
   "cell_type": "code",
   "execution_count": 17,
   "metadata": {
    "collapsed": false
   },
   "outputs": [
    {
     "data": {
      "image/png": "[encoded data removed]",
      "text/plain": [
       "<matplotlib.figure.Figure at 0x26a2208>"
      ]
     },
     "metadata": {},
     "output_type": "display_data"
    }
   ],
   "source": [
    "#first method to try is Davies-Bouldin index\n",
    "prefix = 'newKO_norm2mean_'\n",
    "\n",
    "#set the next line to true to actually run this\n",
    "if False:   \n",
    "    forest_run(dimensions, patterns_data, pattern_labels, metric='db', fNamePrefix = prefix,\n",
    "           simulations=setSimulations, k_down=setKdown, k_up=setKup, iterations = setIterations)\n",
    "\n",
    "#read in the results\n",
    "riScores_db=pd.read_csv((prefix + 'MonteCarloFinalResults_db.csv'),header=None,delimiter=',',\n",
    "                index_col=False,names=['nClusters', 'score'])\n",
    "\n",
    "#optimal cluster solution has the smallest Davies-Bouldin index\n",
    "grouped = riScores_db.groupby('nClusters')\n",
    "means = grouped.mean().unstack()\n",
    "errors = grouped.std().unstack()\n",
    "fig, ax = plt.subplots()\n",
    "plt.plot(range(setKdown,setKup),means,marker = 'o',color = '#1b9e77')\n",
    "plt.errorbar(range(setKdown,setKup),means,errors,marker = 'o',color = '#1b9e77')\n",
    "plt.title('Kmeans, Davies-Bouldin')\n",
    "ax.set_xlabel('nClusters')\n",
    "plt.show() \n",
    "fig.savefig('DaviesBouldin_newKO.pdf')"
   ]
  },
  {
   "cell_type": "code",
   "execution_count": null,
   "metadata": {
    "collapsed": true
   },
   "outputs": [],
   "source": [
    "#next method is quantization error \n",
    "if False:\n",
    "    prefix = 'newKO_norm2mean_'\n",
    "\n",
    "    if False:\n",
    "        forest_run(dimensions, patterns_data, pattern_labels, metric='qe', fNamePrefix = prefix,\n",
    "               simulations=setSimulations, k_down=setKdown, k_up=setKup, iterations = setIterations)\n",
    "\n",
    "    #now read in the results\n",
    "    riScores_qe=pd.read_csv((prefix + 'MonteCarloFinalResults_qe.csv'),header=None,delimiter=',',\n",
    "                    index_col=False,names=['nClusters', 'score'])\n",
    "\n",
    "    grouped = riScores_qe.groupby('nClusters')\n",
    "    means = grouped.mean().unstack()\n",
    "    errors = grouped.std().unstack()\n",
    "    fig, ax = plt.subplots()\n",
    "    plt.plot(range(setKdown,setKup),means,marker = 'o',color = '#1b9e77')\n",
    "    plt.errorbar(range(setKdown,setKup),means,errors,marker = 'o',color = '#1b9e77')\n",
    "    plt.title('Kmeans, Quantization error')\n",
    "    ax.set_xlabel('nClusters')\n",
    "    plt.show()\n",
    "\n",
    "    #goal is to minimize quantization error. QE is the distance between a sample\n",
    "    #and its representation. Lower quantization errors represent a good data cluster."
   ]
  },
  {
   "cell_type": "code",
   "execution_count": null,
   "metadata": {
    "collapsed": true
   },
   "outputs": [],
   "source": [
    "#final method is silhouette error\n",
    "if False: ##silhouette is really slow cfd to the other\n",
    "    prefix = 'newKO_norm2mean_'\n",
    "\n",
    "    # #silhouette is quite slow cfd to the other two metrics\n",
    "    if False:\n",
    "        forest_run(dimensions, patterns_data, pattern_labels, metric='si', fNamePrefix = prefix,\n",
    "               simulations=setSimulations, k_down=setKdown, k_up=setKup, iterations = setIterations)\n",
    "\n",
    "    riScores_si=pd.read_csv((prefix + 'MonteCarloFinalResults_si.csv'),header=None,delimiter=',',\n",
    "                    index_col=False,names=['nClusters', 'score'])\n",
    "\n",
    "\n",
    "    ##note, want to maximize the silhouette value for each pattern in the dataset\n",
    "    grouped = riScores_si.groupby('nClusters')\n",
    "    means = grouped.mean().unstack()\n",
    "    errors = grouped.std().unstack()\n",
    "    fig, ax = plt.subplots()\n",
    "    plt.plot(range(setKdown,setKup),means,marker = 'o',color = '#1b9e77')\n",
    "    plt.errorbar(range(setKdown,setKup),means,errors,marker = 'o',color = '#1b9e77')\n",
    "    plt.title('Kmeans, silhouette index')\n",
    "    ax.set_xlabel('nClusters')\n",
    "    plt.show()\n",
    "\n",
    "    #remember, want to maximize this value"
   ]
  }
 ],
 "metadata": {
  "kernelspec": {
   "display_name": "Python 2",
   "language": "python",
   "name": "python2"
  },
  "language_info": {
   "codemirror_mode": {
    "name": "ipython",
    "version": 2
   },
   "file_extension": ".py",
   "mimetype": "text/x-python",
   "name": "python",
   "nbconvert_exporter": "python",
   "pygments_lexer": "ipython2",
   "version": "2.7.9"
  }
 },
 "nbformat": 4,
 "nbformat_minor": 0
}
