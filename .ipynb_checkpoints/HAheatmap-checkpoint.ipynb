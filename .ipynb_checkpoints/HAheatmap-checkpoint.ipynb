{
 "cells": [
  {
   "cell_type": "markdown",
   "metadata": {},
   "source": [
    "Harriet's heatmap code...\n",
    "Keep this in the learning python folder since I can imagine using it again.\n",
    "31 March 2016"
   ]
  },
  {
   "cell_type": "code",
   "execution_count": 3,
   "metadata": {
    "collapsed": true
   },
   "outputs": [],
   "source": [
    "#start by generating random data...use that figure figure out what I want from Harriet's code"
   ]
  },
  {
   "cell_type": "code",
   "execution_count": 6,
   "metadata": {
    "collapsed": false
   },
   "outputs": [],
   "source": [
    "import pandas as pd\n",
    "import palettable as pal\n",
    "import palettable.colorbrewer as b2m\n",
    "import numpy as np\n",
    "import matplotlib.pyplot as plt\n",
    "from matplotlib.colors import LogNorm, NoNorm, BoundaryNorm\n",
    "\n",
    "%matplotlib inline"
   ]
  },
  {
   "cell_type": "code",
   "execution_count": 2,
   "metadata": {
    "collapsed": true
   },
   "outputs": [],
   "source": [
    "forCols = list('ABCD')"
   ]
  },
  {
   "cell_type": "code",
   "execution_count": 3,
   "metadata": {
    "collapsed": false
   },
   "outputs": [],
   "source": [
    "# df = pd.DataFrame(np.random.randint(0,100,size=(100, 4)), columns=list('ABCD'))\n",
    "df = pd.DataFrame(np.random.randint(0,1000,size=(11, 4)), columns=forCols)\n"
   ]
  },
  {
   "cell_type": "code",
   "execution_count": 5,
   "metadata": {
    "collapsed": false
   },
   "outputs": [
    {
     "data": {
      "text/plain": [
       "pandas.core.frame.DataFrame"
      ]
     },
     "execution_count": 5,
     "metadata": {},
     "output_type": "execute_result"
    }
   ],
   "source": [
    "type(df)"
   ]
  },
  {
   "cell_type": "code",
   "execution_count": null,
   "metadata": {
    "collapsed": true
   },
   "outputs": [],
   "source": []
  },
  {
   "cell_type": "code",
   "execution_count": 52,
   "metadata": {
    "collapsed": true
   },
   "outputs": [],
   "source": [
    "#can sort the data to make the figure look 'nicer':\n",
    "df['mean']=df.mean(skipna=1, axis=1) #calculate mean value for each class\n",
    "df=df.sort(columns='mean', ascending=False)\n",
    "df=df.drop('mean',1) #drop mean column\n",
    "df=df.loc[df.sum(axis=1)!=0] ##get rid of the rows with no data (sum=0)"
   ]
  },
  {
   "cell_type": "code",
   "execution_count": 53,
   "metadata": {
    "collapsed": false
   },
   "outputs": [
    {
     "data": {
      "image/png": "[encoded data removed]",
      "text/plain": [
       "<matplotlib.figure.Figure at 0xe1d6cf8>"
      ]
     },
     "metadata": {},
     "output_type": "display_data"
    }
   ],
   "source": [
    "def HeatMap(heatmapData, columns=None,colormap=b2m.sequential.GnBu_9.get_mpl_colormap(), m=1e-5):\n",
    "\n",
    "    heatmapData['mean']=heatmapData.mean(skipna=1, axis=1) #calculate mean value for each class\n",
    "\n",
    "    heatmapData=heatmapData.sort(columns='mean', ascending=False)#Sort by the mean value\n",
    "\n",
    "    heatmapData=heatmapData.drop('mean',1) #drop mean column\n",
    "    heatmapData=heatmapData.loc[heatmapData.sum(axis=1)!=0]\n",
    "\n",
    "    col_labels=list(heatmapData.index)\n",
    "    row_labels=list(heatmapData.columns.values)\n",
    "    fig3,ax3=plt.subplots()\n",
    "    fig3.set_figheight(len(col_labels)/3)\n",
    "    fig3.set_figwidth(len(row_labels))\n",
    "    heatmap3 = ax3.pcolor(heatmapData, cmap=colormap)\n",
    "    #heatmap3 = ax3.pcolor(heatmapData, cmap=colormap, norm=NoNorm(vmin=m, vmax=heatmapData.max().max()))\n",
    "    #heatmap3 = ax3.pcolor(All_insitu_Percent, cmap=colormap, norm=LogNorm(vmin=m, vmax=All_insitu_Percent.max().max()))\n",
    "    ax3.set_xticks(np.arange(heatmapData.shape[1])+0.5, minor=False)\n",
    "    ax3.set_yticks(np.arange(heatmapData.shape[0])+0.5, minor=False)\n",
    "    ax3.invert_yaxis()\n",
    "    ax3.xaxis.tick_top()\n",
    "    ax3.margins(0,0)\n",
    "\n",
    "    ax3.set_xticklabels(row_labels, minor=False)\n",
    "    ax3.set_yticklabels(col_labels, minor=False)\n",
    "    plt.colorbar(heatmap3)\n",
    "    plt.show()\n",
    "    return fig3\n",
    "\n",
    "\n",
    "#Insitu_HeatMap.savefig('Insitu_KEGG_Heatmap.pdf')\n",
    "Testing=HeatMap(df, columns=forCols)"
   ]
  },
  {
   "cell_type": "code",
   "execution_count": null,
   "metadata": {
    "collapsed": true
   },
   "outputs": [],
   "source": []
  },
  {
   "cell_type": "code",
   "execution_count": 8,
   "metadata": {
    "collapsed": false
   },
   "outputs": [
    {
     "data": {
      "image/png": "[encoded data removed]",
      "text/plain": [
       "<matplotlib.figure.Figure at 0x9541c88>"
      ]
     },
     "metadata": {},
     "output_type": "display_data"
    }
   ],
   "source": [
    "def HeatMap(heatmapData, columns=None,colormap=b2m.sequential.GnBu_9.get_mpl_colormap(), m=1e-5):\n",
    "\n",
    "    heatmapData['mean']=heatmapData.mean(skipna=1, axis=1) #calculate mean value for each class\n",
    "\n",
    "    heatmapData=heatmapData.sort_values(by ='mean', ascending=False)#Sort by the mean value\n",
    "\n",
    "    heatmapData=heatmapData.drop('mean',1) #drop mean column\n",
    "    heatmapData=heatmapData.loc[heatmapData.sum(axis=1)!=0]\n",
    "\n",
    "    col_labels=list(heatmapData.index)\n",
    "    row_labels=list(heatmapData.columns.values)\n",
    "    fig3,ax3=plt.subplots()\n",
    "    fig3.set_figheight(len(col_labels)/3)\n",
    "    fig3.set_figwidth(len(row_labels))\n",
    "\n",
    "    #this works, but looks like one color until I start increasing ncolors to bigger numbers...\n",
    "    bounds = np.linspace(heatmapData.min().min() ,heatmapData.max().max())\n",
    "    heatmap3 = ax3.pcolor(heatmapData, cmap=colormap, norm=BoundaryNorm(boundaries = bounds,ncolors=300))\n",
    "    \n",
    "    ax3.set_xticks(np.arange(heatmapData.shape[1])+0.5, minor=False)\n",
    "    ax3.set_yticks(np.arange(heatmapData.shape[0])+0.5, minor=False)\n",
    "    ax3.invert_yaxis()\n",
    "    ax3.xaxis.tick_top()\n",
    "    ax3.margins(0,0)\n",
    "\n",
    "    ax3.set_xticklabels(row_labels, minor=False)\n",
    "    ax3.set_yticklabels(col_labels, minor=False)\n",
    "    plt.colorbar(heatmap3)\n",
    "    plt.show()\n",
    "    return fig3\n",
    "\n",
    "\n",
    "#Insitu_HeatMap.savefig('Insitu_KEGG_Heatmap.pdf')\n",
    "Testing=HeatMap(df, columns=forCols)"
   ]
  },
  {
   "cell_type": "code",
   "execution_count": null,
   "metadata": {
    "collapsed": true
   },
   "outputs": [],
   "source": [
    "    \n",
    "\n",
    " "
   ]
  }
 ],
 "metadata": {
  "kernelspec": {
   "display_name": "Python 2",
   "language": "python",
   "name": "python2"
  },
  "language_info": {
   "codemirror_mode": {
    "name": "ipython",
    "version": 2
   },
   "file_extension": ".py",
   "mimetype": "text/x-python",
   "name": "python",
   "nbconvert_exporter": "python",
   "pygments_lexer": "ipython2",
   "version": "2.7.9"
  }
 },
 "nbformat": 4,
 "nbformat_minor": 0
}
