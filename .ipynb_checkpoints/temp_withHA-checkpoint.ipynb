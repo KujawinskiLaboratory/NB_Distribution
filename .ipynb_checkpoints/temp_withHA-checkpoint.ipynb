{
 "cells": [
  {
   "cell_type": "code",
   "execution_count": 1,
   "metadata": {
    "collapsed": true
   },
   "outputs": [],
   "source": [
    "import matplotlib as mpl"
   ]
  },
  {
   "cell_type": "code",
   "execution_count": 18,
   "metadata": {
    "collapsed": false
   },
   "outputs": [],
   "source": [
    "import matplotlib.pyplot as plt\n",
    "import numpy.random as random\n",
    "%matplotlib inline"
   ]
  },
  {
   "cell_type": "code",
   "execution_count": 28,
   "metadata": {
    "collapsed": false
   },
   "outputs": [
    {
     "data": {
      "text/plain": [
       "[<matplotlib.lines.Line2D at 0xccfc860>]"
      ]
     },
     "execution_count": 28,
     "metadata": {},
     "output_type": "execute_result"
    },
    {
     "data": {
      "image/png": "[encoded data removed]",
      "text/plain": [
       "<matplotlib.figure.Figure at 0xb9d8fd0>"
      ]
     },
     "metadata": {},
     "output_type": "display_data"
    }
   ],
   "source": [
    "fig,axs = plt.subplots(2,3)\n",
    "# axs=axs.flatten()\n",
    "\n",
    "for i,axrow in enumerate(axs):\n",
    "    \n",
    "    for ax in axrow:\n",
    "        if i==0:\n",
    "            ax.scatter(x,y, c='r')\n",
    "        else:\n",
    "            ax.scatter(x,y)\n",
    "\n",
    "axs[0][1].plot([2,2],[3,3], 'g')"
   ]
  },
  {
   "cell_type": "code",
   "execution_count": 21,
   "metadata": {
    "collapsed": false
   },
   "outputs": [
    {
     "data": {
      "text/plain": [
       "array([[<matplotlib.axes._subplots.AxesSubplot object at 0x000000000CE51F60>,\n",
       "        <matplotlib.axes._subplots.AxesSubplot object at 0x000000000CF21358>,\n",
       "        <matplotlib.axes._subplots.AxesSubplot object at 0x000000000D059B38>],\n",
       "       [<matplotlib.axes._subplots.AxesSubplot object at 0x000000000B40F3C8>,\n",
       "        <matplotlib.axes._subplots.AxesSubplot object at 0x000000000C04FF60>,\n",
       "        <matplotlib.axes._subplots.AxesSubplot object at 0x000000000AFF2BE0>]], dtype=object)"
      ]
     },
     "execution_count": 21,
     "metadata": {},
     "output_type": "execute_result"
    }
   ],
   "source": [
    "axs"
   ]
  },
  {
   "cell_type": "code",
   "execution_count": null,
   "metadata": {
    "collapsed": true
   },
   "outputs": [],
   "source": []
  }
 ],
 "metadata": {
  "kernelspec": {
   "display_name": "Python 2",
   "language": "python",
   "name": "python2"
  },
  "language_info": {
   "codemirror_mode": {
    "name": "ipython",
    "version": 2
   },
   "file_extension": ".py",
   "mimetype": "text/x-python",
   "name": "python",
   "nbconvert_exporter": "python",
   "pygments_lexer": "ipython2",
   "version": "2.7.9"
  }
 },
 "nbformat": 4,
 "nbformat_minor": 0
}
