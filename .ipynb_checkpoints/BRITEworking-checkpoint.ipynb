{
 "cells": [
  {
   "cell_type": "code",
   "execution_count": 1,
   "metadata": {
    "collapsed": true
   },
   "outputs": [],
   "source": [
    "import csv\n",
    "import re"
   ]
  },
  {
   "cell_type": "code",
   "execution_count": 2,
   "metadata": {
    "collapsed": true
   },
   "outputs": [],
   "source": [
    "with open('KEGG_BRITE_br/br08002.keg','rb') as f:\n",
    "    reader = csv.reader(f,delimiter = '\\t')\n",
    "    for row in reader:\n",
    "        if row == ['A<b>Antibiotics</b>']:\n",
    "            print row"
   ]
  },
  {
   "cell_type": "markdown",
   "metadata": {},
   "source": [
    "essentially...want to search for a given compound, find its group. Then can plot by group either as the most specific group or all the way up the hierarchy to the broadest group"
   ]
  },
  {
   "cell_type": "code",
   "execution_count": 3,
   "metadata": {
    "collapsed": true
   },
   "outputs": [],
   "source": [
    "import cPickle as cpk"
   ]
  },
  {
   "cell_type": "code",
   "execution_count": 4,
   "metadata": {
    "collapsed": false
   },
   "outputs": [],
   "source": [
    "WorkingFile = cpk.load(open('exportCOnumbers.csv.pickle','r'))"
   ]
  },
  {
   "cell_type": "code",
   "execution_count": 5,
   "metadata": {
    "collapsed": false
   },
   "outputs": [
    {
     "data": {
      "text/plain": [
       "{'Modules': [],\n",
       " 'Name': 'C14666',\n",
       " 'Reaction': {},\n",
       " 'Related CO': [],\n",
       " 'Related KO': []}"
      ]
     },
     "execution_count": 5,
     "metadata": {},
     "output_type": "execute_result"
    }
   ],
   "source": [
    "WorkingFile['C14666']"
   ]
  },
  {
   "cell_type": "code",
   "execution_count": 40,
   "metadata": {
    "collapsed": true
   },
   "outputs": [],
   "source": [
    "import pandas as pd\n",
    "import numpy as np"
   ]
  },
  {
   "cell_type": "code",
   "execution_count": 7,
   "metadata": {
    "collapsed": false
   },
   "outputs": [],
   "source": [
    "briteFile=pd.read_table('KEGG_BRITE_br/br08002.keg',sep = '\\t',skiprows=7)"
   ]
  },
  {
   "cell_type": "code",
   "execution_count": 8,
   "metadata": {
    "collapsed": false
   },
   "outputs": [
    {
     "data": {
      "text/html": [
       "<div style=\"max-height:1000px;max-width:1500px;overflow:auto;\">\n",
       "<table border=\"1\" class=\"dataframe\">\n",
       "  <thead>\n",
       "    <tr style=\"text-align: right;\">\n",
       "      <th></th>\n",
       "      <th>!</th>\n",
       "    </tr>\n",
       "  </thead>\n",
       "  <tbody>\n",
       "    <tr>\n",
       "      <th>0</th>\n",
       "      <td>                A&lt;b&gt;FA  Fatty acyls&lt;/b&gt;</td>\n",
       "    </tr>\n",
       "    <tr>\n",
       "      <th>1</th>\n",
       "      <td>     B  FA01 Fatty Acids and Conjugates</td>\n",
       "    </tr>\n",
       "    <tr>\n",
       "      <th>2</th>\n",
       "      <td> C    FA0101 Straight chain fatty acids</td>\n",
       "    </tr>\n",
       "    <tr>\n",
       "      <th>3</th>\n",
       "      <td>             D      C00058  Formic acid</td>\n",
       "    </tr>\n",
       "    <tr>\n",
       "      <th>4</th>\n",
       "      <td>             D      C00033  Acetic acid</td>\n",
       "    </tr>\n",
       "    <tr>\n",
       "      <th>5</th>\n",
       "      <td>          D      C00163  Propanoic acid</td>\n",
       "    </tr>\n",
       "    <tr>\n",
       "      <th>6</th>\n",
       "      <td>           D      C00246  Butanoic acid</td>\n",
       "    </tr>\n",
       "    <tr>\n",
       "      <th>7</th>\n",
       "      <td>          D      C00803  Pentanoic acid</td>\n",
       "    </tr>\n",
       "    <tr>\n",
       "      <th>8</th>\n",
       "      <td>           D      C01585  Hexanoic acid</td>\n",
       "    </tr>\n",
       "    <tr>\n",
       "      <th>9</th>\n",
       "      <td>          D      C17714  Heptanoic acid</td>\n",
       "    </tr>\n",
       "  </tbody>\n",
       "</table>\n",
       "</div>"
      ],
      "text/plain": [
       "                                        !\n",
       "0                 A<b>FA  Fatty acyls</b>\n",
       "1      B  FA01 Fatty Acids and Conjugates\n",
       "2  C    FA0101 Straight chain fatty acids\n",
       "3              D      C00058  Formic acid\n",
       "4              D      C00033  Acetic acid\n",
       "5           D      C00163  Propanoic acid\n",
       "6            D      C00246  Butanoic acid\n",
       "7           D      C00803  Pentanoic acid\n",
       "8            D      C01585  Hexanoic acid\n",
       "9           D      C17714  Heptanoic acid"
      ]
     },
     "execution_count": 8,
     "metadata": {},
     "output_type": "execute_result"
    }
   ],
   "source": [
    "briteFile.head(10)"
   ]
  },
  {
   "cell_type": "code",
   "execution_count": 9,
   "metadata": {
    "collapsed": false
   },
   "outputs": [
    {
     "data": {
      "text/plain": [
       "(2803, 1)"
      ]
     },
     "execution_count": 9,
     "metadata": {},
     "output_type": "execute_result"
    }
   ],
   "source": [
    "briteFile.shape"
   ]
  },
  {
   "cell_type": "code",
   "execution_count": 10,
   "metadata": {
    "collapsed": false
   },
   "outputs": [
    {
     "data": {
      "text/plain": [
       "!    D      C01585  Hexanoic acid\n",
       "Name: 8, dtype: object"
      ]
     },
     "execution_count": 10,
     "metadata": {},
     "output_type": "execute_result"
    }
   ],
   "source": [
    "briteFile.loc[8,:]"
   ]
  },
  {
   "cell_type": "code",
   "execution_count": 11,
   "metadata": {
    "collapsed": false
   },
   "outputs": [
    {
     "data": {
      "text/plain": [
       "!    D      C01585  Hexanoic acid\n",
       "Name: 8, dtype: object"
      ]
     },
     "execution_count": 11,
     "metadata": {},
     "output_type": "execute_result"
    }
   ],
   "source": [
    "m = briteFile.loc[8,:]\n",
    "m"
   ]
  },
  {
   "cell_type": "code",
   "execution_count": 12,
   "metadata": {
    "collapsed": false
   },
   "outputs": [
    {
     "data": {
      "text/plain": [
       "pandas.core.series.Series"
      ]
     },
     "execution_count": 12,
     "metadata": {},
     "output_type": "execute_result"
    }
   ],
   "source": [
    "type(m)"
   ]
  },
  {
   "cell_type": "code",
   "execution_count": 13,
   "metadata": {
    "collapsed": true
   },
   "outputs": [],
   "source": [
    "briteRE = re.compile(r'(^D)\\s+(C\\d{5})\\s*(.*)$') #three groups: D, C#, text with name"
   ]
  },
  {
   "cell_type": "code",
   "execution_count": 14,
   "metadata": {
    "collapsed": false
   },
   "outputs": [
    {
     "data": {
      "text/plain": [
       "Index([u'!'], dtype='object')"
      ]
     },
     "execution_count": 14,
     "metadata": {},
     "output_type": "execute_result"
    }
   ],
   "source": [
    "m.index"
   ]
  },
  {
   "cell_type": "code",
   "execution_count": 15,
   "metadata": {
    "collapsed": false
   },
   "outputs": [
    {
     "data": {
      "text/plain": [
       "'D      C01585  Hexanoic acid'"
      ]
     },
     "execution_count": 15,
     "metadata": {},
     "output_type": "execute_result"
    }
   ],
   "source": [
    "m['!']"
   ]
  },
  {
   "cell_type": "code",
   "execution_count": 16,
   "metadata": {
    "collapsed": false
   },
   "outputs": [
    {
     "data": {
      "text/plain": [
       "count                                1\n",
       "unique                               1\n",
       "top       D      C01585  Hexanoic acid\n",
       "freq                                 1\n",
       "Name: 8, dtype: object"
      ]
     },
     "execution_count": 16,
     "metadata": {},
     "output_type": "execute_result"
    }
   ],
   "source": [
    "m.describe()"
   ]
  },
  {
   "cell_type": "code",
   "execution_count": 17,
   "metadata": {
    "collapsed": false
   },
   "outputs": [
    {
     "data": {
      "text/plain": [
       "'D      C01585  Hexanoic acid'"
      ]
     },
     "execution_count": 17,
     "metadata": {},
     "output_type": "execute_result"
    }
   ],
   "source": [
    "m.item()"
   ]
  },
  {
   "cell_type": "code",
   "execution_count": 18,
   "metadata": {
    "collapsed": false
   },
   "outputs": [
    {
     "data": {
      "text/plain": [
       "array(['D      C01585  Hexanoic acid'], dtype=object)"
      ]
     },
     "execution_count": 18,
     "metadata": {},
     "output_type": "execute_result"
    }
   ],
   "source": [
    "m.ravel()"
   ]
  },
  {
   "cell_type": "code",
   "execution_count": 19,
   "metadata": {
    "collapsed": false
   },
   "outputs": [
    {
     "data": {
      "text/plain": [
       "<bound method Series.unstack of !    D      C01585  Hexanoic acid\n",
       "Name: 8, dtype: object>"
      ]
     },
     "execution_count": 19,
     "metadata": {},
     "output_type": "execute_result"
    }
   ],
   "source": [
    "m.unstack"
   ]
  },
  {
   "cell_type": "code",
   "execution_count": 20,
   "metadata": {
    "collapsed": false
   },
   "outputs": [],
   "source": [
    "r = m.unstack"
   ]
  },
  {
   "cell_type": "code",
   "execution_count": 21,
   "metadata": {
    "collapsed": false
   },
   "outputs": [
    {
     "data": {
      "text/plain": [
       "<bound method Series.unstack of !    D      C01585  Hexanoic acid\n",
       "Name: 8, dtype: object>"
      ]
     },
     "execution_count": 21,
     "metadata": {},
     "output_type": "execute_result"
    }
   ],
   "source": [
    "r"
   ]
  },
  {
   "cell_type": "code",
   "execution_count": null,
   "metadata": {
    "collapsed": true
   },
   "outputs": [],
   "source": []
  },
  {
   "cell_type": "code",
   "execution_count": 22,
   "metadata": {
    "collapsed": false
   },
   "outputs": [
    {
     "data": {
      "text/html": [
       "<div style=\"max-height:1000px;max-width:1500px;overflow:auto;\">\n",
       "<table border=\"1\" class=\"dataframe\">\n",
       "  <thead>\n",
       "    <tr style=\"text-align: right;\">\n",
       "      <th></th>\n",
       "      <th>!</th>\n",
       "    </tr>\n",
       "  </thead>\n",
       "  <tbody>\n",
       "    <tr>\n",
       "      <th>5</th>\n",
       "      <td> D      C00163  Propanoic acid</td>\n",
       "    </tr>\n",
       "  </tbody>\n",
       "</table>\n",
       "</div>"
      ],
      "text/plain": [
       "                               !\n",
       "5  D      C00163  Propanoic acid"
      ]
     },
     "execution_count": 22,
     "metadata": {},
     "output_type": "execute_result"
    }
   ],
   "source": [
    "m = briteFile[briteFile['!'].str.contains(\"C00163\")]\n",
    "m"
   ]
  },
  {
   "cell_type": "markdown",
   "metadata": {},
   "source": [
    "so, now can I search back up the rows to find the C, B, and A compound information?"
   ]
  },
  {
   "cell_type": "code",
   "execution_count": 23,
   "metadata": {
    "collapsed": false
   },
   "outputs": [
    {
     "data": {
      "text/plain": [
       "pandas.core.frame.DataFrame"
      ]
     },
     "execution_count": 23,
     "metadata": {},
     "output_type": "execute_result"
    }
   ],
   "source": [
    "type(m)"
   ]
  },
  {
   "cell_type": "code",
   "execution_count": 24,
   "metadata": {
    "collapsed": false
   },
   "outputs": [
    {
     "data": {
      "text/plain": [
       "Int64Index([5], dtype='int64')"
      ]
     },
     "execution_count": 24,
     "metadata": {},
     "output_type": "execute_result"
    }
   ],
   "source": [
    "m.index"
   ]
  },
  {
   "cell_type": "code",
   "execution_count": 25,
   "metadata": {
    "collapsed": false
   },
   "outputs": [],
   "source": [
    "df = briteFile.copy(deep = True)"
   ]
  },
  {
   "cell_type": "code",
   "execution_count": 26,
   "metadata": {
    "collapsed": false
   },
   "outputs": [],
   "source": [
    "r = m.loc"
   ]
  },
  {
   "cell_type": "code",
   "execution_count": 27,
   "metadata": {
    "collapsed": false
   },
   "outputs": [
    {
     "data": {
      "text/plain": [
       "<pandas.core.indexing._LocIndexer at 0xc4539e8>"
      ]
     },
     "execution_count": 27,
     "metadata": {},
     "output_type": "execute_result"
    }
   ],
   "source": [
    "r"
   ]
  },
  {
   "cell_type": "code",
   "execution_count": null,
   "metadata": {
    "collapsed": true
   },
   "outputs": [],
   "source": []
  },
  {
   "cell_type": "code",
   "execution_count": 32,
   "metadata": {
    "collapsed": false
   },
   "outputs": [],
   "source": [
    "briteFile = 'KEGG_BRITE_br/br08002.keg'\n",
    "#britekoRE = re.compile(r'^[A-Z]\\s+(K\\d{5})\\s*(.*)$') #example from kegg.py\n",
    "\n",
    "readDlevel = re.compile(r'(^D)\\s+(C\\d{5})\\s*(.*)$') #three groups: D, C#, text with name\n"
   ]
  },
  {
   "cell_type": "code",
   "execution_count": 33,
   "metadata": {
    "collapsed": false
   },
   "outputs": [],
   "source": [
    "my_dict = {}\n",
    "#counter = 1\n",
    "with open(briteFile) as f:\n",
    "    for line in f:\n",
    "        #print line\n",
    "        m = briteRE.search(line)\n",
    "        if m:\n",
    "            cNumber = m.group(2)\n",
    "            level = m.group(1)\n",
    "            cName=m.group(3)\n",
    "            small = {}\n",
    "            small['level'] = level\n",
    "            small['cName'] = cName\n",
    "            my_dict[cNumber]=small\n"
   ]
  },
  {
   "cell_type": "code",
   "execution_count": 34,
   "metadata": {
    "collapsed": false
   },
   "outputs": [
    {
     "data": {
      "text/plain": [
       "{'cName': '(E)-4-Nitrostilbene', 'level': 'D'}"
      ]
     },
     "execution_count": 34,
     "metadata": {},
     "output_type": "execute_result"
    }
   ],
   "source": [
    "my_dict['C14662']"
   ]
  },
  {
   "cell_type": "code",
   "execution_count": 57,
   "metadata": {
    "collapsed": true
   },
   "outputs": [],
   "source": [
    "briteFile = 'KEGG_BRITE_br/br08002.keg'\n",
    "textA = re.compile(r'(^A)\\s*(.*)$')\n",
    "textB = re.compile(r'(^B)\\s*(.*)$')\n",
    "textC = re.compile(r'(^C)\\s*(.*)$')\n",
    "textD = re.compile(r'(^D)\\s+(C\\d{5})\\s*(.*)$') #three groups: D, C#, text with name\n",
    "text_cNumber = re.compile(r'(\\d*)+(C\\d{5})\\s*(.*)$')"
   ]
  },
  {
   "cell_type": "code",
   "execution_count": 76,
   "metadata": {
    "collapsed": false
   },
   "outputs": [],
   "source": [
    "\n",
    "#outside info to get the range..."
   ]
  },
  {
   "cell_type": "code",
   "execution_count": 77,
   "metadata": {
    "collapsed": false
   },
   "outputs": [
    {
     "data": {
      "text/html": [
       "<div style=\"max-height:1000px;max-width:1500px;overflow:auto;\">\n",
       "<table border=\"1\" class=\"dataframe\">\n",
       "  <thead>\n",
       "    <tr style=\"text-align: right;\">\n",
       "      <th></th>\n",
       "      <th>cNumber</th>\n",
       "      <th>A</th>\n",
       "      <th>B</th>\n",
       "      <th>C</th>\n",
       "      <th>D</th>\n",
       "      <th>wholeThing</th>\n",
       "    </tr>\n",
       "  </thead>\n",
       "  <tbody>\n",
       "    <tr>\n",
       "      <th>0</th>\n",
       "      <td> NaN</td>\n",
       "      <td> NaN</td>\n",
       "      <td> NaN</td>\n",
       "      <td> NaN</td>\n",
       "      <td> NaN</td>\n",
       "      <td> NaN</td>\n",
       "    </tr>\n",
       "    <tr>\n",
       "      <th>1</th>\n",
       "      <td> NaN</td>\n",
       "      <td> NaN</td>\n",
       "      <td> NaN</td>\n",
       "      <td> NaN</td>\n",
       "      <td> NaN</td>\n",
       "      <td> NaN</td>\n",
       "    </tr>\n",
       "    <tr>\n",
       "      <th>2</th>\n",
       "      <td> NaN</td>\n",
       "      <td> NaN</td>\n",
       "      <td> NaN</td>\n",
       "      <td> NaN</td>\n",
       "      <td> NaN</td>\n",
       "      <td> NaN</td>\n",
       "    </tr>\n",
       "    <tr>\n",
       "      <th>3</th>\n",
       "      <td> NaN</td>\n",
       "      <td> NaN</td>\n",
       "      <td> NaN</td>\n",
       "      <td> NaN</td>\n",
       "      <td> NaN</td>\n",
       "      <td> NaN</td>\n",
       "    </tr>\n",
       "    <tr>\n",
       "      <th>4</th>\n",
       "      <td> NaN</td>\n",
       "      <td> NaN</td>\n",
       "      <td> NaN</td>\n",
       "      <td> NaN</td>\n",
       "      <td> NaN</td>\n",
       "      <td> NaN</td>\n",
       "    </tr>\n",
       "  </tbody>\n",
       "</table>\n",
       "</div>"
      ],
      "text/plain": [
       "  cNumber    A    B    C    D wholeThing\n",
       "0     NaN  NaN  NaN  NaN  NaN        NaN\n",
       "1     NaN  NaN  NaN  NaN  NaN        NaN\n",
       "2     NaN  NaN  NaN  NaN  NaN        NaN\n",
       "3     NaN  NaN  NaN  NaN  NaN        NaN\n",
       "4     NaN  NaN  NaN  NaN  NaN        NaN"
      ]
     },
     "execution_count": 77,
     "metadata": {},
     "output_type": "execute_result"
    }
   ],
   "source": [
    "forBrite.head(5)"
   ]
  },
  {
   "cell_type": "markdown",
   "metadata": {},
   "source": [
    "logic not quite right below...but getting close. Stopping for night."
   ]
  },
  {
   "cell_type": "code",
   "execution_count": 106,
   "metadata": {
    "collapsed": false
   },
   "outputs": [
    {
     "name": "stdout",
     "output_type": "stream",
     "text": [
      "> \u001b[1;32m<ipython-input-106-ea85b3fc0e0f>\u001b[0m(53)\u001b[0;36m<module>\u001b[1;34m()\u001b[0m\n",
      "\u001b[1;32m     52 \u001b[1;33m                \u001b[0mTracer\u001b[0m\u001b[1;33m(\u001b[0m\u001b[1;33m)\u001b[0m\u001b[1;33m(\u001b[0m\u001b[1;33m)\u001b[0m\u001b[1;33m\u001b[0m\u001b[0m\n",
      "\u001b[0m\u001b[1;32m---> 53 \u001b[1;33m                \u001b[0mforBrite\u001b[0m\u001b[1;33m.\u001b[0m\u001b[0mloc\u001b[0m\u001b[1;33m[\u001b[0m\u001b[0midx\u001b[0m\u001b[1;33m,\u001b[0m\u001b[1;34m'D'\u001b[0m\u001b[1;33m]\u001b[0m \u001b[1;33m=\u001b[0m \u001b[0mmD\u001b[0m\u001b[1;33m.\u001b[0m\u001b[0mgroup\u001b[0m\u001b[1;33m(\u001b[0m\u001b[1;36m0\u001b[0m\u001b[1;33m)\u001b[0m\u001b[1;33m\u001b[0m\u001b[0m\n",
      "\u001b[0m\u001b[1;32m     54 \u001b[1;33m\u001b[1;33m\u001b[0m\u001b[0m\n",
      "\u001b[0m\n",
      "ipdb> print mD.group()\n",
      "D      C00058  Formic acid\n",
      "ipdb> mD.group(2)\n",
      "'C00058'\n",
      "ipdb> quit\n"
     ]
    },
    {
     "ename": "AttributeError",
     "evalue": "'NoneType' object has no attribute 'set_completer_delims'",
     "output_type": "error",
     "traceback": [
      "\u001b[1;31m---------------------------------------------------------------------------\u001b[0m",
      "\u001b[1;31mAttributeError\u001b[0m                            Traceback (most recent call last)",
      "\u001b[1;32m<ipython-input-106-ea85b3fc0e0f>\u001b[0m in \u001b[0;36m<module>\u001b[1;34m()\u001b[0m\n\u001b[0;32m     51\u001b[0m \u001b[1;33m\u001b[0m\u001b[0m\n\u001b[0;32m     52\u001b[0m                 \u001b[0mTracer\u001b[0m\u001b[1;33m(\u001b[0m\u001b[1;33m)\u001b[0m\u001b[1;33m(\u001b[0m\u001b[1;33m)\u001b[0m\u001b[1;33m\u001b[0m\u001b[0m\n\u001b[1;32m---> 53\u001b[1;33m                 \u001b[0mforBrite\u001b[0m\u001b[1;33m.\u001b[0m\u001b[0mloc\u001b[0m\u001b[1;33m[\u001b[0m\u001b[0midx\u001b[0m\u001b[1;33m,\u001b[0m\u001b[1;34m'D'\u001b[0m\u001b[1;33m]\u001b[0m \u001b[1;33m=\u001b[0m \u001b[0mmD\u001b[0m\u001b[1;33m.\u001b[0m\u001b[0mgroup\u001b[0m\u001b[1;33m(\u001b[0m\u001b[1;36m0\u001b[0m\u001b[1;33m)\u001b[0m\u001b[1;33m\u001b[0m\u001b[0m\n\u001b[0m\u001b[0;32m     54\u001b[0m \u001b[1;33m\u001b[0m\u001b[0m\n\u001b[0;32m     55\u001b[0m                 \u001b[0mforBrite\u001b[0m\u001b[1;33m.\u001b[0m\u001b[0mloc\u001b[0m\u001b[1;33m[\u001b[0m\u001b[0midx\u001b[0m\u001b[1;33m,\u001b[0m\u001b[1;34m'C'\u001b[0m\u001b[1;33m]\u001b[0m \u001b[1;33m=\u001b[0m \u001b[0msetC\u001b[0m\u001b[1;33m\u001b[0m\u001b[0m\n",
      "\u001b[1;32m<ipython-input-106-ea85b3fc0e0f>\u001b[0m in \u001b[0;36m<module>\u001b[1;34m()\u001b[0m\n\u001b[0;32m     51\u001b[0m \u001b[1;33m\u001b[0m\u001b[0m\n\u001b[0;32m     52\u001b[0m                 \u001b[0mTracer\u001b[0m\u001b[1;33m(\u001b[0m\u001b[1;33m)\u001b[0m\u001b[1;33m(\u001b[0m\u001b[1;33m)\u001b[0m\u001b[1;33m\u001b[0m\u001b[0m\n\u001b[1;32m---> 53\u001b[1;33m                 \u001b[0mforBrite\u001b[0m\u001b[1;33m.\u001b[0m\u001b[0mloc\u001b[0m\u001b[1;33m[\u001b[0m\u001b[0midx\u001b[0m\u001b[1;33m,\u001b[0m\u001b[1;34m'D'\u001b[0m\u001b[1;33m]\u001b[0m \u001b[1;33m=\u001b[0m \u001b[0mmD\u001b[0m\u001b[1;33m.\u001b[0m\u001b[0mgroup\u001b[0m\u001b[1;33m(\u001b[0m\u001b[1;36m0\u001b[0m\u001b[1;33m)\u001b[0m\u001b[1;33m\u001b[0m\u001b[0m\n\u001b[0m\u001b[0;32m     54\u001b[0m \u001b[1;33m\u001b[0m\u001b[0m\n\u001b[0;32m     55\u001b[0m                 \u001b[0mforBrite\u001b[0m\u001b[1;33m.\u001b[0m\u001b[0mloc\u001b[0m\u001b[1;33m[\u001b[0m\u001b[0midx\u001b[0m\u001b[1;33m,\u001b[0m\u001b[1;34m'C'\u001b[0m\u001b[1;33m]\u001b[0m \u001b[1;33m=\u001b[0m \u001b[0msetC\u001b[0m\u001b[1;33m\u001b[0m\u001b[0m\n",
      "\u001b[1;32mC:\\Anaconda\\lib\\bdb.pyc\u001b[0m in \u001b[0;36mtrace_dispatch\u001b[1;34m(self, frame, event, arg)\u001b[0m\n\u001b[0;32m     47\u001b[0m             \u001b[1;32mreturn\u001b[0m \u001b[1;31m# None\u001b[0m\u001b[1;33m\u001b[0m\u001b[0m\n\u001b[0;32m     48\u001b[0m         \u001b[1;32mif\u001b[0m \u001b[0mevent\u001b[0m \u001b[1;33m==\u001b[0m \u001b[1;34m'line'\u001b[0m\u001b[1;33m:\u001b[0m\u001b[1;33m\u001b[0m\u001b[0m\n\u001b[1;32m---> 49\u001b[1;33m             \u001b[1;32mreturn\u001b[0m \u001b[0mself\u001b[0m\u001b[1;33m.\u001b[0m\u001b[0mdispatch_line\u001b[0m\u001b[1;33m(\u001b[0m\u001b[0mframe\u001b[0m\u001b[1;33m)\u001b[0m\u001b[1;33m\u001b[0m\u001b[0m\n\u001b[0m\u001b[0;32m     50\u001b[0m         \u001b[1;32mif\u001b[0m \u001b[0mevent\u001b[0m \u001b[1;33m==\u001b[0m \u001b[1;34m'call'\u001b[0m\u001b[1;33m:\u001b[0m\u001b[1;33m\u001b[0m\u001b[0m\n\u001b[0;32m     51\u001b[0m             \u001b[1;32mreturn\u001b[0m \u001b[0mself\u001b[0m\u001b[1;33m.\u001b[0m\u001b[0mdispatch_call\u001b[0m\u001b[1;33m(\u001b[0m\u001b[0mframe\u001b[0m\u001b[1;33m,\u001b[0m \u001b[0marg\u001b[0m\u001b[1;33m)\u001b[0m\u001b[1;33m\u001b[0m\u001b[0m\n",
      "\u001b[1;32mC:\\Anaconda\\lib\\bdb.pyc\u001b[0m in \u001b[0;36mdispatch_line\u001b[1;34m(self, frame)\u001b[0m\n\u001b[0;32m     65\u001b[0m     \u001b[1;32mdef\u001b[0m \u001b[0mdispatch_line\u001b[0m\u001b[1;33m(\u001b[0m\u001b[0mself\u001b[0m\u001b[1;33m,\u001b[0m \u001b[0mframe\u001b[0m\u001b[1;33m)\u001b[0m\u001b[1;33m:\u001b[0m\u001b[1;33m\u001b[0m\u001b[0m\n\u001b[0;32m     66\u001b[0m         \u001b[1;32mif\u001b[0m \u001b[0mself\u001b[0m\u001b[1;33m.\u001b[0m\u001b[0mstop_here\u001b[0m\u001b[1;33m(\u001b[0m\u001b[0mframe\u001b[0m\u001b[1;33m)\u001b[0m \u001b[1;32mor\u001b[0m \u001b[0mself\u001b[0m\u001b[1;33m.\u001b[0m\u001b[0mbreak_here\u001b[0m\u001b[1;33m(\u001b[0m\u001b[0mframe\u001b[0m\u001b[1;33m)\u001b[0m\u001b[1;33m:\u001b[0m\u001b[1;33m\u001b[0m\u001b[0m\n\u001b[1;32m---> 67\u001b[1;33m             \u001b[0mself\u001b[0m\u001b[1;33m.\u001b[0m\u001b[0muser_line\u001b[0m\u001b[1;33m(\u001b[0m\u001b[0mframe\u001b[0m\u001b[1;33m)\u001b[0m\u001b[1;33m\u001b[0m\u001b[0m\n\u001b[0m\u001b[0;32m     68\u001b[0m             \u001b[1;32mif\u001b[0m \u001b[0mself\u001b[0m\u001b[1;33m.\u001b[0m\u001b[0mquitting\u001b[0m\u001b[1;33m:\u001b[0m \u001b[1;32mraise\u001b[0m \u001b[0mBdbQuit\u001b[0m\u001b[1;33m\u001b[0m\u001b[0m\n\u001b[0;32m     69\u001b[0m         \u001b[1;32mreturn\u001b[0m \u001b[0mself\u001b[0m\u001b[1;33m.\u001b[0m\u001b[0mtrace_dispatch\u001b[0m\u001b[1;33m\u001b[0m\u001b[0m\n",
      "\u001b[1;32mC:\\Anaconda\\lib\\pdb.pyc\u001b[0m in \u001b[0;36muser_line\u001b[1;34m(self, frame)\u001b[0m\n\u001b[0;32m    156\u001b[0m             \u001b[0mself\u001b[0m\u001b[1;33m.\u001b[0m\u001b[0m_wait_for_mainpyfile\u001b[0m \u001b[1;33m=\u001b[0m \u001b[1;36m0\u001b[0m\u001b[1;33m\u001b[0m\u001b[0m\n\u001b[0;32m    157\u001b[0m         \u001b[1;32mif\u001b[0m \u001b[0mself\u001b[0m\u001b[1;33m.\u001b[0m\u001b[0mbp_commands\u001b[0m\u001b[1;33m(\u001b[0m\u001b[0mframe\u001b[0m\u001b[1;33m)\u001b[0m\u001b[1;33m:\u001b[0m\u001b[1;33m\u001b[0m\u001b[0m\n\u001b[1;32m--> 158\u001b[1;33m             \u001b[0mself\u001b[0m\u001b[1;33m.\u001b[0m\u001b[0minteraction\u001b[0m\u001b[1;33m(\u001b[0m\u001b[0mframe\u001b[0m\u001b[1;33m,\u001b[0m \u001b[0mNone\u001b[0m\u001b[1;33m)\u001b[0m\u001b[1;33m\u001b[0m\u001b[0m\n\u001b[0m\u001b[0;32m    159\u001b[0m \u001b[1;33m\u001b[0m\u001b[0m\n\u001b[0;32m    160\u001b[0m     \u001b[1;32mdef\u001b[0m \u001b[0mbp_commands\u001b[0m\u001b[1;33m(\u001b[0m\u001b[0mself\u001b[0m\u001b[1;33m,\u001b[0m\u001b[0mframe\u001b[0m\u001b[1;33m)\u001b[0m\u001b[1;33m:\u001b[0m\u001b[1;33m\u001b[0m\u001b[0m\n",
      "\u001b[1;32mC:\\Anaconda\\lib\\site-packages\\IPython\\core\\debugger.pyc\u001b[0m in \u001b[0;36minteraction\u001b[1;34m(self, frame, traceback)\u001b[0m\n\u001b[0;32m    276\u001b[0m         \u001b[1;32mwhile\u001b[0m \u001b[0mTrue\u001b[0m\u001b[1;33m:\u001b[0m\u001b[1;33m\u001b[0m\u001b[0m\n\u001b[0;32m    277\u001b[0m             \u001b[1;32mtry\u001b[0m\u001b[1;33m:\u001b[0m\u001b[1;33m\u001b[0m\u001b[0m\n\u001b[1;32m--> 278\u001b[1;33m                 \u001b[0mOldPdb\u001b[0m\u001b[1;33m.\u001b[0m\u001b[0minteraction\u001b[0m\u001b[1;33m(\u001b[0m\u001b[0mself\u001b[0m\u001b[1;33m,\u001b[0m \u001b[0mframe\u001b[0m\u001b[1;33m,\u001b[0m \u001b[0mtraceback\u001b[0m\u001b[1;33m)\u001b[0m\u001b[1;33m\u001b[0m\u001b[0m\n\u001b[0m\u001b[0;32m    279\u001b[0m             \u001b[1;32mexcept\u001b[0m \u001b[0mKeyboardInterrupt\u001b[0m\u001b[1;33m:\u001b[0m\u001b[1;33m\u001b[0m\u001b[0m\n\u001b[0;32m    280\u001b[0m                 \u001b[0mself\u001b[0m\u001b[1;33m.\u001b[0m\u001b[0mshell\u001b[0m\u001b[1;33m.\u001b[0m\u001b[0mwrite\u001b[0m\u001b[1;33m(\u001b[0m\u001b[1;34m'\\n'\u001b[0m \u001b[1;33m+\u001b[0m \u001b[0mself\u001b[0m\u001b[1;33m.\u001b[0m\u001b[0mshell\u001b[0m\u001b[1;33m.\u001b[0m\u001b[0mget_exception_only\u001b[0m\u001b[1;33m(\u001b[0m\u001b[1;33m)\u001b[0m\u001b[1;33m)\u001b[0m\u001b[1;33m\u001b[0m\u001b[0m\n",
      "\u001b[1;32mC:\\Anaconda\\lib\\pdb.pyc\u001b[0m in \u001b[0;36minteraction\u001b[1;34m(self, frame, traceback)\u001b[0m\n\u001b[0;32m    208\u001b[0m         \u001b[0mself\u001b[0m\u001b[1;33m.\u001b[0m\u001b[0msetup\u001b[0m\u001b[1;33m(\u001b[0m\u001b[0mframe\u001b[0m\u001b[1;33m,\u001b[0m \u001b[0mtraceback\u001b[0m\u001b[1;33m)\u001b[0m\u001b[1;33m\u001b[0m\u001b[0m\n\u001b[0;32m    209\u001b[0m         \u001b[0mself\u001b[0m\u001b[1;33m.\u001b[0m\u001b[0mprint_stack_entry\u001b[0m\u001b[1;33m(\u001b[0m\u001b[0mself\u001b[0m\u001b[1;33m.\u001b[0m\u001b[0mstack\u001b[0m\u001b[1;33m[\u001b[0m\u001b[0mself\u001b[0m\u001b[1;33m.\u001b[0m\u001b[0mcurindex\u001b[0m\u001b[1;33m]\u001b[0m\u001b[1;33m)\u001b[0m\u001b[1;33m\u001b[0m\u001b[0m\n\u001b[1;32m--> 210\u001b[1;33m         \u001b[0mself\u001b[0m\u001b[1;33m.\u001b[0m\u001b[0mcmdloop\u001b[0m\u001b[1;33m(\u001b[0m\u001b[1;33m)\u001b[0m\u001b[1;33m\u001b[0m\u001b[0m\n\u001b[0m\u001b[0;32m    211\u001b[0m         \u001b[0mself\u001b[0m\u001b[1;33m.\u001b[0m\u001b[0mforget\u001b[0m\u001b[1;33m(\u001b[0m\u001b[1;33m)\u001b[0m\u001b[1;33m\u001b[0m\u001b[0m\n\u001b[0;32m    212\u001b[0m \u001b[1;33m\u001b[0m\u001b[0m\n",
      "\u001b[1;32mC:\\Anaconda\\lib\\cmd.pyc\u001b[0m in \u001b[0;36mcmdloop\u001b[1;34m(self, intro)\u001b[0m\n\u001b[0;32m    140\u001b[0m                             \u001b[0mline\u001b[0m \u001b[1;33m=\u001b[0m \u001b[0mline\u001b[0m\u001b[1;33m.\u001b[0m\u001b[0mrstrip\u001b[0m\u001b[1;33m(\u001b[0m\u001b[1;34m'\\r\\n'\u001b[0m\u001b[1;33m)\u001b[0m\u001b[1;33m\u001b[0m\u001b[0m\n\u001b[0;32m    141\u001b[0m                 \u001b[0mline\u001b[0m \u001b[1;33m=\u001b[0m \u001b[0mself\u001b[0m\u001b[1;33m.\u001b[0m\u001b[0mprecmd\u001b[0m\u001b[1;33m(\u001b[0m\u001b[0mline\u001b[0m\u001b[1;33m)\u001b[0m\u001b[1;33m\u001b[0m\u001b[0m\n\u001b[1;32m--> 142\u001b[1;33m                 \u001b[0mstop\u001b[0m \u001b[1;33m=\u001b[0m \u001b[0mself\u001b[0m\u001b[1;33m.\u001b[0m\u001b[0monecmd\u001b[0m\u001b[1;33m(\u001b[0m\u001b[0mline\u001b[0m\u001b[1;33m)\u001b[0m\u001b[1;33m\u001b[0m\u001b[0m\n\u001b[0m\u001b[0;32m    143\u001b[0m                 \u001b[0mstop\u001b[0m \u001b[1;33m=\u001b[0m \u001b[0mself\u001b[0m\u001b[1;33m.\u001b[0m\u001b[0mpostcmd\u001b[0m\u001b[1;33m(\u001b[0m\u001b[0mstop\u001b[0m\u001b[1;33m,\u001b[0m \u001b[0mline\u001b[0m\u001b[1;33m)\u001b[0m\u001b[1;33m\u001b[0m\u001b[0m\n\u001b[0;32m    144\u001b[0m             \u001b[0mself\u001b[0m\u001b[1;33m.\u001b[0m\u001b[0mpostloop\u001b[0m\u001b[1;33m(\u001b[0m\u001b[1;33m)\u001b[0m\u001b[1;33m\u001b[0m\u001b[0m\n",
      "\u001b[1;32mC:\\Anaconda\\lib\\pdb.pyc\u001b[0m in \u001b[0;36monecmd\u001b[1;34m(self, line)\u001b[0m\n\u001b[0;32m    277\u001b[0m         \"\"\"\n\u001b[0;32m    278\u001b[0m         \u001b[1;32mif\u001b[0m \u001b[1;32mnot\u001b[0m \u001b[0mself\u001b[0m\u001b[1;33m.\u001b[0m\u001b[0mcommands_defining\u001b[0m\u001b[1;33m:\u001b[0m\u001b[1;33m\u001b[0m\u001b[0m\n\u001b[1;32m--> 279\u001b[1;33m             \u001b[1;32mreturn\u001b[0m \u001b[0mcmd\u001b[0m\u001b[1;33m.\u001b[0m\u001b[0mCmd\u001b[0m\u001b[1;33m.\u001b[0m\u001b[0monecmd\u001b[0m\u001b[1;33m(\u001b[0m\u001b[0mself\u001b[0m\u001b[1;33m,\u001b[0m \u001b[0mline\u001b[0m\u001b[1;33m)\u001b[0m\u001b[1;33m\u001b[0m\u001b[0m\n\u001b[0m\u001b[0;32m    280\u001b[0m         \u001b[1;32melse\u001b[0m\u001b[1;33m:\u001b[0m\u001b[1;33m\u001b[0m\u001b[0m\n\u001b[0;32m    281\u001b[0m             \u001b[1;32mreturn\u001b[0m \u001b[0mself\u001b[0m\u001b[1;33m.\u001b[0m\u001b[0mhandle_command_def\u001b[0m\u001b[1;33m(\u001b[0m\u001b[0mline\u001b[0m\u001b[1;33m)\u001b[0m\u001b[1;33m\u001b[0m\u001b[0m\n",
      "\u001b[1;32mC:\\Anaconda\\lib\\cmd.pyc\u001b[0m in \u001b[0;36monecmd\u001b[1;34m(self, line)\u001b[0m\n\u001b[0;32m    219\u001b[0m             \u001b[1;32mexcept\u001b[0m \u001b[0mAttributeError\u001b[0m\u001b[1;33m:\u001b[0m\u001b[1;33m\u001b[0m\u001b[0m\n\u001b[0;32m    220\u001b[0m                 \u001b[1;32mreturn\u001b[0m \u001b[0mself\u001b[0m\u001b[1;33m.\u001b[0m\u001b[0mdefault\u001b[0m\u001b[1;33m(\u001b[0m\u001b[0mline\u001b[0m\u001b[1;33m)\u001b[0m\u001b[1;33m\u001b[0m\u001b[0m\n\u001b[1;32m--> 221\u001b[1;33m             \u001b[1;32mreturn\u001b[0m \u001b[0mfunc\u001b[0m\u001b[1;33m(\u001b[0m\u001b[0marg\u001b[0m\u001b[1;33m)\u001b[0m\u001b[1;33m\u001b[0m\u001b[0m\n\u001b[0m\u001b[0;32m    222\u001b[0m \u001b[1;33m\u001b[0m\u001b[0m\n\u001b[0;32m    223\u001b[0m     \u001b[1;32mdef\u001b[0m \u001b[0memptyline\u001b[0m\u001b[1;33m(\u001b[0m\u001b[0mself\u001b[0m\u001b[1;33m)\u001b[0m\u001b[1;33m:\u001b[0m\u001b[1;33m\u001b[0m\u001b[0m\n",
      "\u001b[1;32mC:\\Anaconda\\lib\\site-packages\\IPython\\core\\debugger.pyc\u001b[0m in \u001b[0;36mwrapper\u001b[1;34m(*args, **kw)\u001b[0m\n\u001b[0;32m    176\u001b[0m     by Duncan Booth.\"\"\"\n\u001b[0;32m    177\u001b[0m     \u001b[1;32mdef\u001b[0m \u001b[0mwrapper\u001b[0m\u001b[1;33m(\u001b[0m\u001b[1;33m*\u001b[0m\u001b[0margs\u001b[0m\u001b[1;33m,\u001b[0m \u001b[1;33m**\u001b[0m\u001b[0mkw\u001b[0m\u001b[1;33m)\u001b[0m\u001b[1;33m:\u001b[0m\u001b[1;33m\u001b[0m\u001b[0m\n\u001b[1;32m--> 178\u001b[1;33m         \u001b[1;32mreturn\u001b[0m \u001b[0mnew_fn\u001b[0m\u001b[1;33m(\u001b[0m\u001b[1;33m*\u001b[0m\u001b[0margs\u001b[0m\u001b[1;33m,\u001b[0m \u001b[1;33m**\u001b[0m\u001b[0mkw\u001b[0m\u001b[1;33m)\u001b[0m\u001b[1;33m\u001b[0m\u001b[0m\n\u001b[0m\u001b[0;32m    179\u001b[0m     \u001b[1;32mif\u001b[0m \u001b[0mold_fn\u001b[0m\u001b[1;33m.\u001b[0m\u001b[0m__doc__\u001b[0m\u001b[1;33m:\u001b[0m\u001b[1;33m\u001b[0m\u001b[0m\n\u001b[0;32m    180\u001b[0m         \u001b[0mwrapper\u001b[0m\u001b[1;33m.\u001b[0m\u001b[0m__doc__\u001b[0m \u001b[1;33m=\u001b[0m \u001b[0mold_fn\u001b[0m\u001b[1;33m.\u001b[0m\u001b[0m__doc__\u001b[0m \u001b[1;33m+\u001b[0m \u001b[0madditional_text\u001b[0m\u001b[1;33m\u001b[0m\u001b[0m\n",
      "\u001b[1;32mC:\\Anaconda\\lib\\site-packages\\IPython\\core\\debugger.pyc\u001b[0m in \u001b[0;36mnew_do_quit\u001b[1;34m(self, arg)\u001b[0m\n\u001b[0;32m    304\u001b[0m \u001b[1;33m\u001b[0m\u001b[0m\n\u001b[0;32m    305\u001b[0m         \u001b[1;31m# Pdb sets readline delimiters, so set them back to our own\u001b[0m\u001b[1;33m\u001b[0m\u001b[1;33m\u001b[0m\u001b[0m\n\u001b[1;32m--> 306\u001b[1;33m         \u001b[0mself\u001b[0m\u001b[1;33m.\u001b[0m\u001b[0mshell\u001b[0m\u001b[1;33m.\u001b[0m\u001b[0mreadline\u001b[0m\u001b[1;33m.\u001b[0m\u001b[0mset_completer_delims\u001b[0m\u001b[1;33m(\u001b[0m\u001b[0mself\u001b[0m\u001b[1;33m.\u001b[0m\u001b[0mshell\u001b[0m\u001b[1;33m.\u001b[0m\u001b[0mreadline_delims\u001b[0m\u001b[1;33m)\u001b[0m\u001b[1;33m\u001b[0m\u001b[0m\n\u001b[0m\u001b[0;32m    307\u001b[0m \u001b[1;33m\u001b[0m\u001b[0m\n\u001b[0;32m    308\u001b[0m         \u001b[1;32mreturn\u001b[0m \u001b[0mOldPdb\u001b[0m\u001b[1;33m.\u001b[0m\u001b[0mdo_quit\u001b[0m\u001b[1;33m(\u001b[0m\u001b[0mself\u001b[0m\u001b[1;33m,\u001b[0m \u001b[0marg\u001b[0m\u001b[1;33m)\u001b[0m\u001b[1;33m\u001b[0m\u001b[0m\n",
      "\u001b[1;31mAttributeError\u001b[0m: 'NoneType' object has no attribute 'set_completer_delims'"
     ]
    }
   ],
   "source": [
    "#forBrite = pd.DataFrame(columns = ['cNumber','A','B','C','D','wholeThing'],index = np.arange(3000))\n",
    "forBrite = pd.DataFrame(columns = ['cNumber','A','B','C','D','wholeThing'])\n",
    "\n",
    "from IPython.core.debugger import Tracer #\n",
    "setA = []\n",
    "idxA = []\n",
    "\n",
    "setB = []\n",
    "setC = []\n",
    "setD = []\n",
    "\n",
    "counter = 1\n",
    "with open(briteFile) as f:\n",
    "    for idx,line in enumerate(f):\n",
    "        #if counter < 30:\n",
    "            mA = textA.search(line) \n",
    "            mB = textB.search(line) \n",
    "            mC = textC.search(line) \n",
    "            mD = textD.search(line) \n",
    "            if mA:\n",
    "                setA = mA.group(0) #reset when I get to the next A\n",
    "                idxA = idx\n",
    "                forBrite.loc[idx,'A'] = setA\n",
    "                forBrite.loc[idx,'wholeThing'] = line #using this as a double check for now\n",
    "            elif mB:\n",
    "                #Tracer()()\n",
    "                setB = mB.group(2)\n",
    "                forBrite.loc[idx,'B'] = setB\n",
    "                forBrite.loc[idx,'A'] = setA\n",
    "                #Tracer()()\n",
    "                forBrite.loc[idx,'wholeThing'] = line\n",
    "            elif mC:\n",
    "                #first, check to make sure this is not a cNumber               \n",
    "                test = text_cNumber.search(line)\n",
    "                if test:\n",
    "                    #put the cNumber into the right place\n",
    "                    forBrite.loc[idx,'cNumber'] = test.group(2)\n",
    "                #Tracer()()\n",
    "                setC = mC.group(2)\n",
    "                forBrite.loc[idx,'C'] = setC\n",
    "                forBrite.loc[idx,'B'] = setB\n",
    "                forBrite.loc[idx,'A'] = setA\n",
    "                \n",
    "                forBrite.loc[idx,'wholeThing'] = line\n",
    "            elif mD:\n",
    "                #first, check to make sure this is not a cNumber               \n",
    "                test = text_cNumber.search(line)\n",
    "                if test:\n",
    "                    #put the cNumber into the right place\n",
    "                    forBrite.loc[idx,'cNumber'] = test.group(2)\n",
    "\n",
    "                #Tracer()()\n",
    "                forBrite.loc[idx,'D'] = mD.group(2)\n",
    "                \n",
    "                forBrite.loc[idx,'C'] = setC\n",
    "                forBrite.loc[idx,'B'] = setB\n",
    "                forBrite.loc[idx,'A'] = setA\n",
    "\n",
    "                forBrite.loc[idx,'wholeThing'] = line\n",
    "\n",
    "\n",
    "                \n",
    "                \n",
    "                \n",
    "#                 print m.group(0)\n",
    "                #print line,idx\n",
    "#         counter = counter +1\n",
    "        \n",
    "#        if m:\n",
    "#             cNumber = m.group(2)\n",
    "#             level = m.group(1)\n",
    "#             cName=m.group(3)\n",
    "#             small = {}\n",
    "#             small['level'] = level\n",
    "#             small['cName'] = cName\n",
    "#             my_dict[cNumber]=small"
   ]
  },
  {
   "cell_type": "code",
   "execution_count": 105,
   "metadata": {
    "collapsed": false
   },
   "outputs": [
    {
     "data": {
      "text/html": [
       "<div style=\"max-height:1000px;max-width:1500px;overflow:auto;\">\n",
       "<table border=\"1\" class=\"dataframe\">\n",
       "  <thead>\n",
       "    <tr style=\"text-align: right;\">\n",
       "      <th></th>\n",
       "      <th>cNumber</th>\n",
       "      <th>A</th>\n",
       "      <th>B</th>\n",
       "      <th>C</th>\n",
       "      <th>D</th>\n",
       "      <th>wholeThing</th>\n",
       "    </tr>\n",
       "  </thead>\n",
       "  <tbody>\n",
       "    <tr>\n",
       "      <th>8   </th>\n",
       "      <td>    NaN</td>\n",
       "      <td> A&lt;b&gt;FA  Fatty acyls&lt;/b&gt;</td>\n",
       "      <td>                                           NaN</td>\n",
       "      <td>                                               NaN</td>\n",
       "      <td> NaN</td>\n",
       "      <td>                         A&lt;b&gt;FA  Fatty acyls&lt;/b&gt;\\n</td>\n",
       "    </tr>\n",
       "    <tr>\n",
       "      <th>9   </th>\n",
       "      <td>    NaN</td>\n",
       "      <td> A&lt;b&gt;FA  Fatty acyls&lt;/b&gt;</td>\n",
       "      <td>               FA01 Fatty Acids and Conjugates</td>\n",
       "      <td>                                               NaN</td>\n",
       "      <td> NaN</td>\n",
       "      <td>              B  FA01 Fatty Acids and Conjugates\\n</td>\n",
       "    </tr>\n",
       "    <tr>\n",
       "      <th>10  </th>\n",
       "      <td>    NaN</td>\n",
       "      <td> A&lt;b&gt;FA  Fatty acyls&lt;/b&gt;</td>\n",
       "      <td>               FA01 Fatty Acids and Conjugates</td>\n",
       "      <td>                 FA0101 Straight chain fatty acids</td>\n",
       "      <td> NaN</td>\n",
       "      <td>          C    FA0101 Straight chain fatty acids\\n</td>\n",
       "    </tr>\n",
       "    <tr>\n",
       "      <th>32  </th>\n",
       "      <td>    NaN</td>\n",
       "      <td> A&lt;b&gt;FA  Fatty acyls&lt;/b&gt;</td>\n",
       "      <td>               FA01 Fatty Acids and Conjugates</td>\n",
       "      <td>                       FA0102 Branched fatty acids</td>\n",
       "      <td> NaN</td>\n",
       "      <td>                C    FA0102 Branched fatty acids\\n</td>\n",
       "    </tr>\n",
       "    <tr>\n",
       "      <th>53  </th>\n",
       "      <td>    NaN</td>\n",
       "      <td> A&lt;b&gt;FA  Fatty acyls&lt;/b&gt;</td>\n",
       "      <td>               FA01 Fatty Acids and Conjugates</td>\n",
       "      <td>                    FA0103 Unsaturated fatty acids</td>\n",
       "      <td> NaN</td>\n",
       "      <td>             C    FA0103 Unsaturated fatty acids\\n</td>\n",
       "    </tr>\n",
       "    <tr>\n",
       "      <th>84  </th>\n",
       "      <td>    NaN</td>\n",
       "      <td> A&lt;b&gt;FA  Fatty acyls&lt;/b&gt;</td>\n",
       "      <td>               FA01 Fatty Acids and Conjugates</td>\n",
       "      <td>                    FA0104 Hydroperoxy fatty acids</td>\n",
       "      <td> NaN</td>\n",
       "      <td>             C    FA0104 Hydroperoxy fatty acids\\n</td>\n",
       "    </tr>\n",
       "    <tr>\n",
       "      <th>91  </th>\n",
       "      <td>    NaN</td>\n",
       "      <td> A&lt;b&gt;FA  Fatty acyls&lt;/b&gt;</td>\n",
       "      <td>               FA01 Fatty Acids and Conjugates</td>\n",
       "      <td>                        FA0105 Hydroxy fatty acids</td>\n",
       "      <td> NaN</td>\n",
       "      <td>                 C    FA0105 Hydroxy fatty acids\\n</td>\n",
       "    </tr>\n",
       "    <tr>\n",
       "      <th>109 </th>\n",
       "      <td>    NaN</td>\n",
       "      <td> A&lt;b&gt;FA  Fatty acyls&lt;/b&gt;</td>\n",
       "      <td>               FA01 Fatty Acids and Conjugates</td>\n",
       "      <td>                            FA0106 Oxo fatty acids</td>\n",
       "      <td> NaN</td>\n",
       "      <td>                     C    FA0106 Oxo fatty acids\\n</td>\n",
       "    </tr>\n",
       "    <tr>\n",
       "      <th>140 </th>\n",
       "      <td>    NaN</td>\n",
       "      <td> A&lt;b&gt;FA  Fatty acyls&lt;/b&gt;</td>\n",
       "      <td>               FA01 Fatty Acids and Conjugates</td>\n",
       "      <td>                          FA0107 Epoxy fatty acids</td>\n",
       "      <td> NaN</td>\n",
       "      <td>                   C    FA0107 Epoxy fatty acids\\n</td>\n",
       "    </tr>\n",
       "    <tr>\n",
       "      <th>147 </th>\n",
       "      <td>    NaN</td>\n",
       "      <td> A&lt;b&gt;FA  Fatty acyls&lt;/b&gt;</td>\n",
       "      <td>               FA01 Fatty Acids and Conjugates</td>\n",
       "      <td>                        FA0108 Methoxy fatty acids</td>\n",
       "      <td> NaN</td>\n",
       "      <td>                 C    FA0108 Methoxy fatty acids\\n</td>\n",
       "    </tr>\n",
       "    <tr>\n",
       "      <th>151 </th>\n",
       "      <td>    NaN</td>\n",
       "      <td> A&lt;b&gt;FA  Fatty acyls&lt;/b&gt;</td>\n",
       "      <td>               FA01 Fatty Acids and Conjugates</td>\n",
       "      <td>                    FA0109 Halogenated fatty acids</td>\n",
       "      <td> NaN</td>\n",
       "      <td>             C    FA0109 Halogenated fatty acids\\n</td>\n",
       "    </tr>\n",
       "    <tr>\n",
       "      <th>155 </th>\n",
       "      <td>    NaN</td>\n",
       "      <td> A&lt;b&gt;FA  Fatty acyls&lt;/b&gt;</td>\n",
       "      <td>               FA01 Fatty Acids and Conjugates</td>\n",
       "      <td>                          FA0110 Amino fatty acids</td>\n",
       "      <td> NaN</td>\n",
       "      <td>                   C    FA0110 Amino fatty acids\\n</td>\n",
       "    </tr>\n",
       "    <tr>\n",
       "      <th>170 </th>\n",
       "      <td>    NaN</td>\n",
       "      <td> A&lt;b&gt;FA  Fatty acyls&lt;/b&gt;</td>\n",
       "      <td>               FA01 Fatty Acids and Conjugates</td>\n",
       "      <td>                          FA0111 Cyano fatty acids</td>\n",
       "      <td> NaN</td>\n",
       "      <td>                   C    FA0111 Cyano fatty acids\\n</td>\n",
       "    </tr>\n",
       "    <tr>\n",
       "      <th>173 </th>\n",
       "      <td>    NaN</td>\n",
       "      <td> A&lt;b&gt;FA  Fatty acyls&lt;/b&gt;</td>\n",
       "      <td>               FA01 Fatty Acids and Conjugates</td>\n",
       "      <td>                          FA0112 Nitro fatty acids</td>\n",
       "      <td> NaN</td>\n",
       "      <td>                   C    FA0112 Nitro fatty acids\\n</td>\n",
       "    </tr>\n",
       "    <tr>\n",
       "      <th>176 </th>\n",
       "      <td>    NaN</td>\n",
       "      <td> A&lt;b&gt;FA  Fatty acyls&lt;/b&gt;</td>\n",
       "      <td>               FA01 Fatty Acids and Conjugates</td>\n",
       "      <td>                           FA0113 Thia fatty acids</td>\n",
       "      <td> NaN</td>\n",
       "      <td>                    C    FA0113 Thia fatty acids\\n</td>\n",
       "    </tr>\n",
       "    <tr>\n",
       "      <th>179 </th>\n",
       "      <td>    NaN</td>\n",
       "      <td> A&lt;b&gt;FA  Fatty acyls&lt;/b&gt;</td>\n",
       "      <td>               FA01 Fatty Acids and Conjugates</td>\n",
       "      <td>                    FA0114 Carbocyclic fatty acids</td>\n",
       "      <td> NaN</td>\n",
       "      <td>             C    FA0114 Carbocyclic fatty acids\\n</td>\n",
       "    </tr>\n",
       "    <tr>\n",
       "      <th>184 </th>\n",
       "      <td>    NaN</td>\n",
       "      <td> A&lt;b&gt;FA  Fatty acyls&lt;/b&gt;</td>\n",
       "      <td>               FA01 Fatty Acids and Conjugates</td>\n",
       "      <td>                   FA0115 Heterocyclic fatty acids</td>\n",
       "      <td> NaN</td>\n",
       "      <td>            C    FA0115 Heterocyclic fatty acids\\n</td>\n",
       "    </tr>\n",
       "    <tr>\n",
       "      <th>186 </th>\n",
       "      <td>    NaN</td>\n",
       "      <td> A&lt;b&gt;FA  Fatty acyls&lt;/b&gt;</td>\n",
       "      <td>               FA01 Fatty Acids and Conjugates</td>\n",
       "      <td>                              FA0116 Mycolic acids</td>\n",
       "      <td> NaN</td>\n",
       "      <td>                       C    FA0116 Mycolic acids\\n</td>\n",
       "    </tr>\n",
       "    <tr>\n",
       "      <th>191 </th>\n",
       "      <td>    NaN</td>\n",
       "      <td> A&lt;b&gt;FA  Fatty acyls&lt;/b&gt;</td>\n",
       "      <td>               FA01 Fatty Acids and Conjugates</td>\n",
       "      <td>                         FA0117 Dicarboxylic acids</td>\n",
       "      <td> NaN</td>\n",
       "      <td>                  C    FA0117 Dicarboxylic acids\\n</td>\n",
       "    </tr>\n",
       "    <tr>\n",
       "      <th>201 </th>\n",
       "      <td>    NaN</td>\n",
       "      <td> A&lt;b&gt;FA  Fatty acyls&lt;/b&gt;</td>\n",
       "      <td>                            FA02 Octadecanoids</td>\n",
       "      <td>                                               NaN</td>\n",
       "      <td> NaN</td>\n",
       "      <td>                           B  FA02 Octadecanoids\\n</td>\n",
       "    </tr>\n",
       "    <tr>\n",
       "      <th>202 </th>\n",
       "      <td>    NaN</td>\n",
       "      <td> A&lt;b&gt;FA  Fatty acyls&lt;/b&gt;</td>\n",
       "      <td>                            FA02 Octadecanoids</td>\n",
       "      <td>        FA0201 12-oxophytodienoic acid metabolites</td>\n",
       "      <td> NaN</td>\n",
       "      <td> C    FA0201 12-oxophytodienoic acid metabolites\\n</td>\n",
       "    </tr>\n",
       "    <tr>\n",
       "      <th>205 </th>\n",
       "      <td>    NaN</td>\n",
       "      <td> A&lt;b&gt;FA  Fatty acyls&lt;/b&gt;</td>\n",
       "      <td>                            FA02 Octadecanoids</td>\n",
       "      <td>                             FA0202 jasmonic acids</td>\n",
       "      <td> NaN</td>\n",
       "      <td>                      C    FA0202 jasmonic acids\\n</td>\n",
       "    </tr>\n",
       "    <tr>\n",
       "      <th>211 </th>\n",
       "      <td>    NaN</td>\n",
       "      <td> A&lt;b&gt;FA  Fatty acyls&lt;/b&gt;</td>\n",
       "      <td>                            FA02 Octadecanoids</td>\n",
       "      <td>                        FA0200 Other Octadecanoids</td>\n",
       "      <td> NaN</td>\n",
       "      <td>                 C    FA0200 Other Octadecanoids\\n</td>\n",
       "    </tr>\n",
       "    <tr>\n",
       "      <th>236 </th>\n",
       "      <td>    NaN</td>\n",
       "      <td> A&lt;b&gt;FA  Fatty acyls&lt;/b&gt;</td>\n",
       "      <td>                              FA03 Eicosanoids</td>\n",
       "      <td>                                               NaN</td>\n",
       "      <td> NaN</td>\n",
       "      <td>                             B  FA03 Eicosanoids\\n</td>\n",
       "    </tr>\n",
       "    <tr>\n",
       "      <th>237 </th>\n",
       "      <td>    NaN</td>\n",
       "      <td> A&lt;b&gt;FA  Fatty acyls&lt;/b&gt;</td>\n",
       "      <td>                              FA03 Eicosanoids</td>\n",
       "      <td>                             FA0301 Prostaglandins</td>\n",
       "      <td> NaN</td>\n",
       "      <td>                      C    FA0301 Prostaglandins\\n</td>\n",
       "    </tr>\n",
       "    <tr>\n",
       "      <th>266 </th>\n",
       "      <td>    NaN</td>\n",
       "      <td> A&lt;b&gt;FA  Fatty acyls&lt;/b&gt;</td>\n",
       "      <td>                              FA03 Eicosanoids</td>\n",
       "      <td>                               FA0302 Leukotrienes</td>\n",
       "      <td> NaN</td>\n",
       "      <td>                        C    FA0302 Leukotrienes\\n</td>\n",
       "    </tr>\n",
       "    <tr>\n",
       "      <th>278 </th>\n",
       "      <td>    NaN</td>\n",
       "      <td> A&lt;b&gt;FA  Fatty acyls&lt;/b&gt;</td>\n",
       "      <td>                              FA03 Eicosanoids</td>\n",
       "      <td>                               FA0303 Thromboxanes</td>\n",
       "      <td> NaN</td>\n",
       "      <td>                        C    FA0303 Thromboxanes\\n</td>\n",
       "    </tr>\n",
       "    <tr>\n",
       "      <th>282 </th>\n",
       "      <td>    NaN</td>\n",
       "      <td> A&lt;b&gt;FA  Fatty acyls&lt;/b&gt;</td>\n",
       "      <td>                              FA03 Eicosanoids</td>\n",
       "      <td>                                   FA0304 Lipoxins</td>\n",
       "      <td> NaN</td>\n",
       "      <td>                            C    FA0304 Lipoxins\\n</td>\n",
       "    </tr>\n",
       "    <tr>\n",
       "      <th>285 </th>\n",
       "      <td>    NaN</td>\n",
       "      <td> A&lt;b&gt;FA  Fatty acyls&lt;/b&gt;</td>\n",
       "      <td>                              FA03 Eicosanoids</td>\n",
       "      <td>    FA0305 Hydroxy/hydroperoxyeicosatrienoic acids</td>\n",
       "      <td> NaN</td>\n",
       "      <td> C    FA0305 Hydroxy/hydroperoxyeicosatrienoic ...</td>\n",
       "    </tr>\n",
       "    <tr>\n",
       "      <th>296 </th>\n",
       "      <td>    NaN</td>\n",
       "      <td> A&lt;b&gt;FA  Fatty acyls&lt;/b&gt;</td>\n",
       "      <td>                              FA03 Eicosanoids</td>\n",
       "      <td>  FA0306 Hydroxy/hydroperoxyeicosatetraenoic acids</td>\n",
       "      <td> NaN</td>\n",
       "      <td> C    FA0306 Hydroxy/hydroperoxyeicosatetraenoi...</td>\n",
       "    </tr>\n",
       "    <tr>\n",
       "      <th>...</th>\n",
       "      <td>...</td>\n",
       "      <td>...</td>\n",
       "      <td>...</td>\n",
       "      <td>...</td>\n",
       "      <td>...</td>\n",
       "      <td>...</td>\n",
       "    </tr>\n",
       "    <tr>\n",
       "      <th>2505</th>\n",
       "      <td>    NaN</td>\n",
       "      <td> A&lt;b&gt;PK  Polyketides&lt;/b&gt;</td>\n",
       "      <td>                               PK12 Flavonoids</td>\n",
       "      <td>                     PK1211 Flavones and Flavonols</td>\n",
       "      <td> NaN</td>\n",
       "      <td>              C    PK1211 Flavones and Flavonols\\n</td>\n",
       "    </tr>\n",
       "    <tr>\n",
       "      <th>2628</th>\n",
       "      <td>    NaN</td>\n",
       "      <td> A&lt;b&gt;PK  Polyketides&lt;/b&gt;</td>\n",
       "      <td>                               PK12 Flavonoids</td>\n",
       "      <td>             PK1212 Chalcones and dihydrochalcones</td>\n",
       "      <td> NaN</td>\n",
       "      <td>      C    PK1212 Chalcones and dihydrochalcones\\n</td>\n",
       "    </tr>\n",
       "    <tr>\n",
       "      <th>2652</th>\n",
       "      <td>    NaN</td>\n",
       "      <td> A&lt;b&gt;PK  Polyketides&lt;/b&gt;</td>\n",
       "      <td>                               PK12 Flavonoids</td>\n",
       "      <td>                          PK1213 Aurone flavonoids</td>\n",
       "      <td> NaN</td>\n",
       "      <td>                   C    PK1213 Aurone flavonoids\\n</td>\n",
       "    </tr>\n",
       "    <tr>\n",
       "      <th>2658</th>\n",
       "      <td>    NaN</td>\n",
       "      <td> A&lt;b&gt;PK  Polyketides&lt;/b&gt;</td>\n",
       "      <td>                               PK12 Flavonoids</td>\n",
       "      <td>                                 PK1214 Flavanones</td>\n",
       "      <td> NaN</td>\n",
       "      <td>                          C    PK1214 Flavanones\\n</td>\n",
       "    </tr>\n",
       "    <tr>\n",
       "      <th>2701</th>\n",
       "      <td>    NaN</td>\n",
       "      <td> A&lt;b&gt;PK  Polyketides&lt;/b&gt;</td>\n",
       "      <td>                               PK12 Flavonoids</td>\n",
       "      <td>                           PK1215 Dihydroflavonols</td>\n",
       "      <td> NaN</td>\n",
       "      <td>                    C    PK1215 Dihydroflavonols\\n</td>\n",
       "    </tr>\n",
       "    <tr>\n",
       "      <th>2702</th>\n",
       "      <td>    NaN</td>\n",
       "      <td> A&lt;b&gt;PK  Polyketides&lt;/b&gt;</td>\n",
       "      <td>                               PK12 Flavonoids</td>\n",
       "      <td>                           PK1216 Other Flavonoids</td>\n",
       "      <td> NaN</td>\n",
       "      <td>                    C    PK1216 Other Flavonoids\\n</td>\n",
       "    </tr>\n",
       "    <tr>\n",
       "      <th>2705</th>\n",
       "      <td>    NaN</td>\n",
       "      <td> A&lt;b&gt;PK  Polyketides&lt;/b&gt;</td>\n",
       "      <td>                     PK13 Aromatic polyketides</td>\n",
       "      <td>                                               NaN</td>\n",
       "      <td> NaN</td>\n",
       "      <td>                    B  PK13 Aromatic polyketides\\n</td>\n",
       "    </tr>\n",
       "    <tr>\n",
       "      <th>2706</th>\n",
       "      <td>    NaN</td>\n",
       "      <td> A&lt;b&gt;PK  Polyketides&lt;/b&gt;</td>\n",
       "      <td>                     PK13 Aromatic polyketides</td>\n",
       "      <td>            PK1301 Monocyclic aromatic polyketides</td>\n",
       "      <td> NaN</td>\n",
       "      <td>     C    PK1301 Monocyclic aromatic polyketides\\n</td>\n",
       "    </tr>\n",
       "    <tr>\n",
       "      <th>2709</th>\n",
       "      <td>    NaN</td>\n",
       "      <td> A&lt;b&gt;PK  Polyketides&lt;/b&gt;</td>\n",
       "      <td>                     PK13 Aromatic polyketides</td>\n",
       "      <td>           PK1302 Naphthalenes and naphthoquinones</td>\n",
       "      <td> NaN</td>\n",
       "      <td>    C    PK1302 Naphthalenes and naphthoquinones\\n</td>\n",
       "    </tr>\n",
       "    <tr>\n",
       "      <th>2711</th>\n",
       "      <td>    NaN</td>\n",
       "      <td> A&lt;b&gt;PK  Polyketides&lt;/b&gt;</td>\n",
       "      <td>                     PK13 Aromatic polyketides</td>\n",
       "      <td>                    PK1303 Benzoisochromanquinones</td>\n",
       "      <td> NaN</td>\n",
       "      <td>             C    PK1303 Benzoisochromanquinones\\n</td>\n",
       "    </tr>\n",
       "    <tr>\n",
       "      <th>2712</th>\n",
       "      <td>    NaN</td>\n",
       "      <td> A&lt;b&gt;PK  Polyketides&lt;/b&gt;</td>\n",
       "      <td>                     PK13 Aromatic polyketides</td>\n",
       "      <td>              PK1304 Anthracenes and phenanthrenes</td>\n",
       "      <td> NaN</td>\n",
       "      <td>       C    PK1304 Anthracenes and phenanthrenes\\n</td>\n",
       "    </tr>\n",
       "    <tr>\n",
       "      <th>2730</th>\n",
       "      <td>    NaN</td>\n",
       "      <td> A&lt;b&gt;PK  Polyketides&lt;/b&gt;</td>\n",
       "      <td>                     PK13 Aromatic polyketides</td>\n",
       "      <td>                           PK1305 Anthracyclinones</td>\n",
       "      <td> NaN</td>\n",
       "      <td>                    C    PK1305 Anthracyclinones\\n</td>\n",
       "    </tr>\n",
       "    <tr>\n",
       "      <th>2736</th>\n",
       "      <td>    NaN</td>\n",
       "      <td> A&lt;b&gt;PK  Polyketides&lt;/b&gt;</td>\n",
       "      <td>                     PK13 Aromatic polyketides</td>\n",
       "      <td> PK1306 Dibenzofurans, griseofulvins, dibenzopy...</td>\n",
       "      <td> NaN</td>\n",
       "      <td> C    PK1306 Dibenzofurans, griseofulvins, dibe...</td>\n",
       "    </tr>\n",
       "    <tr>\n",
       "      <th>2739</th>\n",
       "      <td>    NaN</td>\n",
       "      <td> A&lt;b&gt;PK  Polyketides&lt;/b&gt;</td>\n",
       "      <td>                     PK13 Aromatic polyketides</td>\n",
       "      <td> PK1307 Diphenylmethanes, acylphloroglucinols a...</td>\n",
       "      <td> NaN</td>\n",
       "      <td> C    PK1307 Diphenylmethanes, acylphloroglucin...</td>\n",
       "    </tr>\n",
       "    <tr>\n",
       "      <th>2740</th>\n",
       "      <td>    NaN</td>\n",
       "      <td> A&lt;b&gt;PK  Polyketides&lt;/b&gt;</td>\n",
       "      <td>                     PK13 Aromatic polyketides</td>\n",
       "      <td>                    PK1308 Depsides and depsidones</td>\n",
       "      <td> NaN</td>\n",
       "      <td>             C    PK1308 Depsides and depsidones\\n</td>\n",
       "    </tr>\n",
       "    <tr>\n",
       "      <th>2742</th>\n",
       "      <td>    NaN</td>\n",
       "      <td> A&lt;b&gt;PK  Polyketides&lt;/b&gt;</td>\n",
       "      <td>                     PK13 Aromatic polyketides</td>\n",
       "      <td> PK1309 Diphenyl ethers, biphenyls, dibenzyls a...</td>\n",
       "      <td> NaN</td>\n",
       "      <td> C    PK1309 Diphenyl ethers, biphenyls, dibenz...</td>\n",
       "    </tr>\n",
       "    <tr>\n",
       "      <th>2786</th>\n",
       "      <td>    NaN</td>\n",
       "      <td> A&lt;b&gt;PK  Polyketides&lt;/b&gt;</td>\n",
       "      <td>                     PK13 Aromatic polyketides</td>\n",
       "      <td>                             PK1310 Benzofuranoids</td>\n",
       "      <td> NaN</td>\n",
       "      <td>                      C    PK1310 Benzofuranoids\\n</td>\n",
       "    </tr>\n",
       "    <tr>\n",
       "      <th>2787</th>\n",
       "      <td>    NaN</td>\n",
       "      <td> A&lt;b&gt;PK  Polyketides&lt;/b&gt;</td>\n",
       "      <td>                     PK13 Aromatic polyketides</td>\n",
       "      <td>                             PK1311 Benzopyranoids</td>\n",
       "      <td> NaN</td>\n",
       "      <td>                      C    PK1311 Benzopyranoids\\n</td>\n",
       "    </tr>\n",
       "    <tr>\n",
       "      <th>2791</th>\n",
       "      <td>    NaN</td>\n",
       "      <td> A&lt;b&gt;PK  Polyketides&lt;/b&gt;</td>\n",
       "      <td>                     PK13 Aromatic polyketides</td>\n",
       "      <td>                 PK1312 Other aromatic polyketides</td>\n",
       "      <td> NaN</td>\n",
       "      <td>          C    PK1312 Other aromatic polyketides\\n</td>\n",
       "    </tr>\n",
       "    <tr>\n",
       "      <th>2795</th>\n",
       "      <td>    NaN</td>\n",
       "      <td> A&lt;b&gt;PK  Polyketides&lt;/b&gt;</td>\n",
       "      <td> PK14 Non-ribosomal peptide/polyketide hybrids</td>\n",
       "      <td>                                               NaN</td>\n",
       "      <td> NaN</td>\n",
       "      <td> B  PK14 Non-ribosomal peptide/polyketide hybri...</td>\n",
       "    </tr>\n",
       "    <tr>\n",
       "      <th>2796</th>\n",
       "      <td> C01790</td>\n",
       "      <td> A&lt;b&gt;PK  Polyketides&lt;/b&gt;</td>\n",
       "      <td> PK14 Non-ribosomal peptide/polyketide hybrids</td>\n",
       "      <td>                               C01790  Capreomycin</td>\n",
       "      <td> NaN</td>\n",
       "      <td>                        C    C01790  Capreomycin\\n</td>\n",
       "    </tr>\n",
       "    <tr>\n",
       "      <th>2797</th>\n",
       "      <td> C06854</td>\n",
       "      <td> A&lt;b&gt;PK  Polyketides&lt;/b&gt;</td>\n",
       "      <td> PK14 Non-ribosomal peptide/polyketide hybrids</td>\n",
       "      <td>                              C06854  Bleomycin A2</td>\n",
       "      <td> NaN</td>\n",
       "      <td>                       C    C06854  Bleomycin A2\\n</td>\n",
       "    </tr>\n",
       "    <tr>\n",
       "      <th>2798</th>\n",
       "      <td> C01895</td>\n",
       "      <td> A&lt;b&gt;PK  Polyketides&lt;/b&gt;</td>\n",
       "      <td> PK14 Non-ribosomal peptide/polyketide hybrids</td>\n",
       "      <td>                              C01895  Bleomycin B2</td>\n",
       "      <td> NaN</td>\n",
       "      <td>                       C    C01895  Bleomycin B2\\n</td>\n",
       "    </tr>\n",
       "    <tr>\n",
       "      <th>2799</th>\n",
       "      <td> C05086</td>\n",
       "      <td> A&lt;b&gt;PK  Polyketides&lt;/b&gt;</td>\n",
       "      <td> PK14 Non-ribosomal peptide/polyketide hybrids</td>\n",
       "      <td>                             C05086  Cyclosporin A</td>\n",
       "      <td> NaN</td>\n",
       "      <td>                      C    C05086  Cyclosporin A\\n</td>\n",
       "    </tr>\n",
       "    <tr>\n",
       "      <th>2800</th>\n",
       "      <td> C06689</td>\n",
       "      <td> A&lt;b&gt;PK  Polyketides&lt;/b&gt;</td>\n",
       "      <td> PK14 Non-ribosomal peptide/polyketide hybrids</td>\n",
       "      <td>                                C06689  Vancomycin</td>\n",
       "      <td> NaN</td>\n",
       "      <td>                         C    C06689  Vancomycin\\n</td>\n",
       "    </tr>\n",
       "    <tr>\n",
       "      <th>2801</th>\n",
       "      <td> C01775</td>\n",
       "      <td> A&lt;b&gt;PK  Polyketides&lt;/b&gt;</td>\n",
       "      <td> PK14 Non-ribosomal peptide/polyketide hybrids</td>\n",
       "      <td>                               C01775  Actinomycin</td>\n",
       "      <td> NaN</td>\n",
       "      <td>                        C    C01775  Actinomycin\\n</td>\n",
       "    </tr>\n",
       "    <tr>\n",
       "      <th>2802</th>\n",
       "      <td> C08057</td>\n",
       "      <td> A&lt;b&gt;PK  Polyketides&lt;/b&gt;</td>\n",
       "      <td> PK14 Non-ribosomal peptide/polyketide hybrids</td>\n",
       "      <td>                               C08057  Cycloserine</td>\n",
       "      <td> NaN</td>\n",
       "      <td>                        C    C08057  Cycloserine\\n</td>\n",
       "    </tr>\n",
       "    <tr>\n",
       "      <th>2803</th>\n",
       "      <td> C11612</td>\n",
       "      <td> A&lt;b&gt;PK  Polyketides&lt;/b&gt;</td>\n",
       "      <td> PK14 Non-ribosomal peptide/polyketide hybrids</td>\n",
       "      <td>                               C11612  Polymyxin B</td>\n",
       "      <td> NaN</td>\n",
       "      <td>                        C    C11612  Polymyxin B\\n</td>\n",
       "    </tr>\n",
       "    <tr>\n",
       "      <th>2804</th>\n",
       "      <td> C06770</td>\n",
       "      <td> A&lt;b&gt;PK  Polyketides&lt;/b&gt;</td>\n",
       "      <td> PK14 Non-ribosomal peptide/polyketide hybrids</td>\n",
       "      <td>                             C06770  Actinomycin D</td>\n",
       "      <td> NaN</td>\n",
       "      <td>                      C    C06770  Actinomycin D\\n</td>\n",
       "    </tr>\n",
       "    <tr>\n",
       "      <th>2805</th>\n",
       "      <td>    NaN</td>\n",
       "      <td> A&lt;b&gt;PK  Polyketides&lt;/b&gt;</td>\n",
       "      <td>                        PK00 Other Polyketides</td>\n",
       "      <td>                                               NaN</td>\n",
       "      <td> NaN</td>\n",
       "      <td>                       B  PK00 Other Polyketides\\n</td>\n",
       "    </tr>\n",
       "  </tbody>\n",
       "</table>\n",
       "<p>568 rows × 6 columns</p>\n",
       "</div>"
      ],
      "text/plain": [
       "     cNumber                        A  \\\n",
       "8        NaN  A<b>FA  Fatty acyls</b>   \n",
       "9        NaN  A<b>FA  Fatty acyls</b>   \n",
       "10       NaN  A<b>FA  Fatty acyls</b>   \n",
       "32       NaN  A<b>FA  Fatty acyls</b>   \n",
       "53       NaN  A<b>FA  Fatty acyls</b>   \n",
       "84       NaN  A<b>FA  Fatty acyls</b>   \n",
       "91       NaN  A<b>FA  Fatty acyls</b>   \n",
       "109      NaN  A<b>FA  Fatty acyls</b>   \n",
       "140      NaN  A<b>FA  Fatty acyls</b>   \n",
       "147      NaN  A<b>FA  Fatty acyls</b>   \n",
       "151      NaN  A<b>FA  Fatty acyls</b>   \n",
       "155      NaN  A<b>FA  Fatty acyls</b>   \n",
       "170      NaN  A<b>FA  Fatty acyls</b>   \n",
       "173      NaN  A<b>FA  Fatty acyls</b>   \n",
       "176      NaN  A<b>FA  Fatty acyls</b>   \n",
       "179      NaN  A<b>FA  Fatty acyls</b>   \n",
       "184      NaN  A<b>FA  Fatty acyls</b>   \n",
       "186      NaN  A<b>FA  Fatty acyls</b>   \n",
       "191      NaN  A<b>FA  Fatty acyls</b>   \n",
       "201      NaN  A<b>FA  Fatty acyls</b>   \n",
       "202      NaN  A<b>FA  Fatty acyls</b>   \n",
       "205      NaN  A<b>FA  Fatty acyls</b>   \n",
       "211      NaN  A<b>FA  Fatty acyls</b>   \n",
       "236      NaN  A<b>FA  Fatty acyls</b>   \n",
       "237      NaN  A<b>FA  Fatty acyls</b>   \n",
       "266      NaN  A<b>FA  Fatty acyls</b>   \n",
       "278      NaN  A<b>FA  Fatty acyls</b>   \n",
       "282      NaN  A<b>FA  Fatty acyls</b>   \n",
       "285      NaN  A<b>FA  Fatty acyls</b>   \n",
       "296      NaN  A<b>FA  Fatty acyls</b>   \n",
       "...      ...                      ...   \n",
       "2505     NaN  A<b>PK  Polyketides</b>   \n",
       "2628     NaN  A<b>PK  Polyketides</b>   \n",
       "2652     NaN  A<b>PK  Polyketides</b>   \n",
       "2658     NaN  A<b>PK  Polyketides</b>   \n",
       "2701     NaN  A<b>PK  Polyketides</b>   \n",
       "2702     NaN  A<b>PK  Polyketides</b>   \n",
       "2705     NaN  A<b>PK  Polyketides</b>   \n",
       "2706     NaN  A<b>PK  Polyketides</b>   \n",
       "2709     NaN  A<b>PK  Polyketides</b>   \n",
       "2711     NaN  A<b>PK  Polyketides</b>   \n",
       "2712     NaN  A<b>PK  Polyketides</b>   \n",
       "2730     NaN  A<b>PK  Polyketides</b>   \n",
       "2736     NaN  A<b>PK  Polyketides</b>   \n",
       "2739     NaN  A<b>PK  Polyketides</b>   \n",
       "2740     NaN  A<b>PK  Polyketides</b>   \n",
       "2742     NaN  A<b>PK  Polyketides</b>   \n",
       "2786     NaN  A<b>PK  Polyketides</b>   \n",
       "2787     NaN  A<b>PK  Polyketides</b>   \n",
       "2791     NaN  A<b>PK  Polyketides</b>   \n",
       "2795     NaN  A<b>PK  Polyketides</b>   \n",
       "2796  C01790  A<b>PK  Polyketides</b>   \n",
       "2797  C06854  A<b>PK  Polyketides</b>   \n",
       "2798  C01895  A<b>PK  Polyketides</b>   \n",
       "2799  C05086  A<b>PK  Polyketides</b>   \n",
       "2800  C06689  A<b>PK  Polyketides</b>   \n",
       "2801  C01775  A<b>PK  Polyketides</b>   \n",
       "2802  C08057  A<b>PK  Polyketides</b>   \n",
       "2803  C11612  A<b>PK  Polyketides</b>   \n",
       "2804  C06770  A<b>PK  Polyketides</b>   \n",
       "2805     NaN  A<b>PK  Polyketides</b>   \n",
       "\n",
       "                                                  B  \\\n",
       "8                                               NaN   \n",
       "9                   FA01 Fatty Acids and Conjugates   \n",
       "10                  FA01 Fatty Acids and Conjugates   \n",
       "32                  FA01 Fatty Acids and Conjugates   \n",
       "53                  FA01 Fatty Acids and Conjugates   \n",
       "84                  FA01 Fatty Acids and Conjugates   \n",
       "91                  FA01 Fatty Acids and Conjugates   \n",
       "109                 FA01 Fatty Acids and Conjugates   \n",
       "140                 FA01 Fatty Acids and Conjugates   \n",
       "147                 FA01 Fatty Acids and Conjugates   \n",
       "151                 FA01 Fatty Acids and Conjugates   \n",
       "155                 FA01 Fatty Acids and Conjugates   \n",
       "170                 FA01 Fatty Acids and Conjugates   \n",
       "173                 FA01 Fatty Acids and Conjugates   \n",
       "176                 FA01 Fatty Acids and Conjugates   \n",
       "179                 FA01 Fatty Acids and Conjugates   \n",
       "184                 FA01 Fatty Acids and Conjugates   \n",
       "186                 FA01 Fatty Acids and Conjugates   \n",
       "191                 FA01 Fatty Acids and Conjugates   \n",
       "201                              FA02 Octadecanoids   \n",
       "202                              FA02 Octadecanoids   \n",
       "205                              FA02 Octadecanoids   \n",
       "211                              FA02 Octadecanoids   \n",
       "236                                FA03 Eicosanoids   \n",
       "237                                FA03 Eicosanoids   \n",
       "266                                FA03 Eicosanoids   \n",
       "278                                FA03 Eicosanoids   \n",
       "282                                FA03 Eicosanoids   \n",
       "285                                FA03 Eicosanoids   \n",
       "296                                FA03 Eicosanoids   \n",
       "...                                             ...   \n",
       "2505                                PK12 Flavonoids   \n",
       "2628                                PK12 Flavonoids   \n",
       "2652                                PK12 Flavonoids   \n",
       "2658                                PK12 Flavonoids   \n",
       "2701                                PK12 Flavonoids   \n",
       "2702                                PK12 Flavonoids   \n",
       "2705                      PK13 Aromatic polyketides   \n",
       "2706                      PK13 Aromatic polyketides   \n",
       "2709                      PK13 Aromatic polyketides   \n",
       "2711                      PK13 Aromatic polyketides   \n",
       "2712                      PK13 Aromatic polyketides   \n",
       "2730                      PK13 Aromatic polyketides   \n",
       "2736                      PK13 Aromatic polyketides   \n",
       "2739                      PK13 Aromatic polyketides   \n",
       "2740                      PK13 Aromatic polyketides   \n",
       "2742                      PK13 Aromatic polyketides   \n",
       "2786                      PK13 Aromatic polyketides   \n",
       "2787                      PK13 Aromatic polyketides   \n",
       "2791                      PK13 Aromatic polyketides   \n",
       "2795  PK14 Non-ribosomal peptide/polyketide hybrids   \n",
       "2796  PK14 Non-ribosomal peptide/polyketide hybrids   \n",
       "2797  PK14 Non-ribosomal peptide/polyketide hybrids   \n",
       "2798  PK14 Non-ribosomal peptide/polyketide hybrids   \n",
       "2799  PK14 Non-ribosomal peptide/polyketide hybrids   \n",
       "2800  PK14 Non-ribosomal peptide/polyketide hybrids   \n",
       "2801  PK14 Non-ribosomal peptide/polyketide hybrids   \n",
       "2802  PK14 Non-ribosomal peptide/polyketide hybrids   \n",
       "2803  PK14 Non-ribosomal peptide/polyketide hybrids   \n",
       "2804  PK14 Non-ribosomal peptide/polyketide hybrids   \n",
       "2805                         PK00 Other Polyketides   \n",
       "\n",
       "                                                      C    D  \\\n",
       "8                                                   NaN  NaN   \n",
       "9                                                   NaN  NaN   \n",
       "10                    FA0101 Straight chain fatty acids  NaN   \n",
       "32                          FA0102 Branched fatty acids  NaN   \n",
       "53                       FA0103 Unsaturated fatty acids  NaN   \n",
       "84                       FA0104 Hydroperoxy fatty acids  NaN   \n",
       "91                           FA0105 Hydroxy fatty acids  NaN   \n",
       "109                              FA0106 Oxo fatty acids  NaN   \n",
       "140                            FA0107 Epoxy fatty acids  NaN   \n",
       "147                          FA0108 Methoxy fatty acids  NaN   \n",
       "151                      FA0109 Halogenated fatty acids  NaN   \n",
       "155                            FA0110 Amino fatty acids  NaN   \n",
       "170                            FA0111 Cyano fatty acids  NaN   \n",
       "173                            FA0112 Nitro fatty acids  NaN   \n",
       "176                             FA0113 Thia fatty acids  NaN   \n",
       "179                      FA0114 Carbocyclic fatty acids  NaN   \n",
       "184                     FA0115 Heterocyclic fatty acids  NaN   \n",
       "186                                FA0116 Mycolic acids  NaN   \n",
       "191                           FA0117 Dicarboxylic acids  NaN   \n",
       "201                                                 NaN  NaN   \n",
       "202          FA0201 12-oxophytodienoic acid metabolites  NaN   \n",
       "205                               FA0202 jasmonic acids  NaN   \n",
       "211                          FA0200 Other Octadecanoids  NaN   \n",
       "236                                                 NaN  NaN   \n",
       "237                               FA0301 Prostaglandins  NaN   \n",
       "266                                 FA0302 Leukotrienes  NaN   \n",
       "278                                 FA0303 Thromboxanes  NaN   \n",
       "282                                     FA0304 Lipoxins  NaN   \n",
       "285      FA0305 Hydroxy/hydroperoxyeicosatrienoic acids  NaN   \n",
       "296    FA0306 Hydroxy/hydroperoxyeicosatetraenoic acids  NaN   \n",
       "...                                                 ...  ...   \n",
       "2505                      PK1211 Flavones and Flavonols  NaN   \n",
       "2628              PK1212 Chalcones and dihydrochalcones  NaN   \n",
       "2652                           PK1213 Aurone flavonoids  NaN   \n",
       "2658                                  PK1214 Flavanones  NaN   \n",
       "2701                            PK1215 Dihydroflavonols  NaN   \n",
       "2702                            PK1216 Other Flavonoids  NaN   \n",
       "2705                                                NaN  NaN   \n",
       "2706             PK1301 Monocyclic aromatic polyketides  NaN   \n",
       "2709            PK1302 Naphthalenes and naphthoquinones  NaN   \n",
       "2711                     PK1303 Benzoisochromanquinones  NaN   \n",
       "2712               PK1304 Anthracenes and phenanthrenes  NaN   \n",
       "2730                            PK1305 Anthracyclinones  NaN   \n",
       "2736  PK1306 Dibenzofurans, griseofulvins, dibenzopy...  NaN   \n",
       "2739  PK1307 Diphenylmethanes, acylphloroglucinols a...  NaN   \n",
       "2740                     PK1308 Depsides and depsidones  NaN   \n",
       "2742  PK1309 Diphenyl ethers, biphenyls, dibenzyls a...  NaN   \n",
       "2786                              PK1310 Benzofuranoids  NaN   \n",
       "2787                              PK1311 Benzopyranoids  NaN   \n",
       "2791                  PK1312 Other aromatic polyketides  NaN   \n",
       "2795                                                NaN  NaN   \n",
       "2796                                C01790  Capreomycin  NaN   \n",
       "2797                               C06854  Bleomycin A2  NaN   \n",
       "2798                               C01895  Bleomycin B2  NaN   \n",
       "2799                              C05086  Cyclosporin A  NaN   \n",
       "2800                                 C06689  Vancomycin  NaN   \n",
       "2801                                C01775  Actinomycin  NaN   \n",
       "2802                                C08057  Cycloserine  NaN   \n",
       "2803                                C11612  Polymyxin B  NaN   \n",
       "2804                              C06770  Actinomycin D  NaN   \n",
       "2805                                                NaN  NaN   \n",
       "\n",
       "                                             wholeThing  \n",
       "8                             A<b>FA  Fatty acyls</b>\\n  \n",
       "9                  B  FA01 Fatty Acids and Conjugates\\n  \n",
       "10             C    FA0101 Straight chain fatty acids\\n  \n",
       "32                   C    FA0102 Branched fatty acids\\n  \n",
       "53                C    FA0103 Unsaturated fatty acids\\n  \n",
       "84                C    FA0104 Hydroperoxy fatty acids\\n  \n",
       "91                    C    FA0105 Hydroxy fatty acids\\n  \n",
       "109                       C    FA0106 Oxo fatty acids\\n  \n",
       "140                     C    FA0107 Epoxy fatty acids\\n  \n",
       "147                   C    FA0108 Methoxy fatty acids\\n  \n",
       "151               C    FA0109 Halogenated fatty acids\\n  \n",
       "155                     C    FA0110 Amino fatty acids\\n  \n",
       "170                     C    FA0111 Cyano fatty acids\\n  \n",
       "173                     C    FA0112 Nitro fatty acids\\n  \n",
       "176                      C    FA0113 Thia fatty acids\\n  \n",
       "179               C    FA0114 Carbocyclic fatty acids\\n  \n",
       "184              C    FA0115 Heterocyclic fatty acids\\n  \n",
       "186                         C    FA0116 Mycolic acids\\n  \n",
       "191                    C    FA0117 Dicarboxylic acids\\n  \n",
       "201                             B  FA02 Octadecanoids\\n  \n",
       "202   C    FA0201 12-oxophytodienoic acid metabolites\\n  \n",
       "205                        C    FA0202 jasmonic acids\\n  \n",
       "211                   C    FA0200 Other Octadecanoids\\n  \n",
       "236                               B  FA03 Eicosanoids\\n  \n",
       "237                        C    FA0301 Prostaglandins\\n  \n",
       "266                          C    FA0302 Leukotrienes\\n  \n",
       "278                          C    FA0303 Thromboxanes\\n  \n",
       "282                              C    FA0304 Lipoxins\\n  \n",
       "285   C    FA0305 Hydroxy/hydroperoxyeicosatrienoic ...  \n",
       "296   C    FA0306 Hydroxy/hydroperoxyeicosatetraenoi...  \n",
       "...                                                 ...  \n",
       "2505               C    PK1211 Flavones and Flavonols\\n  \n",
       "2628       C    PK1212 Chalcones and dihydrochalcones\\n  \n",
       "2652                    C    PK1213 Aurone flavonoids\\n  \n",
       "2658                           C    PK1214 Flavanones\\n  \n",
       "2701                     C    PK1215 Dihydroflavonols\\n  \n",
       "2702                     C    PK1216 Other Flavonoids\\n  \n",
       "2705                     B  PK13 Aromatic polyketides\\n  \n",
       "2706      C    PK1301 Monocyclic aromatic polyketides\\n  \n",
       "2709     C    PK1302 Naphthalenes and naphthoquinones\\n  \n",
       "2711              C    PK1303 Benzoisochromanquinones\\n  \n",
       "2712        C    PK1304 Anthracenes and phenanthrenes\\n  \n",
       "2730                     C    PK1305 Anthracyclinones\\n  \n",
       "2736  C    PK1306 Dibenzofurans, griseofulvins, dibe...  \n",
       "2739  C    PK1307 Diphenylmethanes, acylphloroglucin...  \n",
       "2740              C    PK1308 Depsides and depsidones\\n  \n",
       "2742  C    PK1309 Diphenyl ethers, biphenyls, dibenz...  \n",
       "2786                       C    PK1310 Benzofuranoids\\n  \n",
       "2787                       C    PK1311 Benzopyranoids\\n  \n",
       "2791           C    PK1312 Other aromatic polyketides\\n  \n",
       "2795  B  PK14 Non-ribosomal peptide/polyketide hybri...  \n",
       "2796                         C    C01790  Capreomycin\\n  \n",
       "2797                        C    C06854  Bleomycin A2\\n  \n",
       "2798                        C    C01895  Bleomycin B2\\n  \n",
       "2799                       C    C05086  Cyclosporin A\\n  \n",
       "2800                          C    C06689  Vancomycin\\n  \n",
       "2801                         C    C01775  Actinomycin\\n  \n",
       "2802                         C    C08057  Cycloserine\\n  \n",
       "2803                         C    C11612  Polymyxin B\\n  \n",
       "2804                       C    C06770  Actinomycin D\\n  \n",
       "2805                        B  PK00 Other Polyketides\\n  \n",
       "\n",
       "[568 rows x 6 columns]"
      ]
     },
     "execution_count": 105,
     "metadata": {},
     "output_type": "execute_result"
    }
   ],
   "source": [
    "forBrite"
   ]
  },
  {
   "cell_type": "code",
   "execution_count": null,
   "metadata": {
    "collapsed": true
   },
   "outputs": [],
   "source": []
  },
  {
   "cell_type": "code",
   "execution_count": null,
   "metadata": {
    "collapsed": true
   },
   "outputs": [],
   "source": []
  },
  {
   "cell_type": "code",
   "execution_count": null,
   "metadata": {
    "collapsed": true
   },
   "outputs": [],
   "source": []
  },
  {
   "cell_type": "code",
   "execution_count": null,
   "metadata": {
    "collapsed": true
   },
   "outputs": [],
   "source": []
  },
  {
   "cell_type": "code",
   "execution_count": null,
   "metadata": {
    "collapsed": true
   },
   "outputs": [],
   "source": []
  },
  {
   "cell_type": "code",
   "execution_count": null,
   "metadata": {
    "collapsed": false
   },
   "outputs": [],
   "source": [
    "forBrite"
   ]
  },
  {
   "cell_type": "code",
   "execution_count": null,
   "metadata": {
    "collapsed": true
   },
   "outputs": [],
   "source": []
  },
  {
   "cell_type": "code",
   "execution_count": null,
   "metadata": {
    "collapsed": true
   },
   "outputs": [],
   "source": []
  },
  {
   "cell_type": "code",
   "execution_count": null,
   "metadata": {
    "collapsed": true
   },
   "outputs": [],
   "source": []
  },
  {
   "cell_type": "code",
   "execution_count": null,
   "metadata": {
    "collapsed": false
   },
   "outputs": [],
   "source": [
    "forBrite"
   ]
  },
  {
   "cell_type": "code",
   "execution_count": null,
   "metadata": {
    "collapsed": true
   },
   "outputs": [],
   "source": []
  },
  {
   "cell_type": "code",
   "execution_count": null,
   "metadata": {
    "collapsed": true
   },
   "outputs": [],
   "source": []
  },
  {
   "cell_type": "code",
   "execution_count": null,
   "metadata": {
    "collapsed": false
   },
   "outputs": [],
   "source": [
    "my_dict = {}\n",
    "counter = 1\n",
    "with open(briteFile) as f:\n",
    "    for line in f:\n",
    "        if counter < 15:\n",
    "            print line\n",
    "        counter = counter + 1"
   ]
  },
  {
   "cell_type": "code",
   "execution_count": null,
   "metadata": {
    "collapsed": true
   },
   "outputs": [],
   "source": []
  }
 ],
 "metadata": {
  "kernelspec": {
   "display_name": "Python 2",
   "language": "python",
   "name": "python2"
  },
  "language_info": {
   "codemirror_mode": {
    "name": "ipython",
    "version": 2
   },
   "file_extension": ".py",
   "mimetype": "text/x-python",
   "name": "python",
   "nbconvert_exporter": "python",
   "pygments_lexer": "ipython2",
   "version": "2.7.9"
  }
 },
 "nbformat": 4,
 "nbformat_minor": 0
}
