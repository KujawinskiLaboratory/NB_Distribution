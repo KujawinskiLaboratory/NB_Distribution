{
 "cells": [
  {
   "cell_type": "markdown",
   "metadata": {},
   "source": [
    "# Linking CO and KO\n",
    "housecleaning: pull out the pieces that can go somewhere else to get a \n",
    "clean version of the iPython notebook\n",
    "4/12/2016 ; 4/15/2016\n",
    "\n",
    "#Cell 12 is the place to change the path for the transcriptomics data...too big for GitHub"
   ]
  },
  {
   "cell_type": "code",
   "execution_count": null,
   "metadata": {
    "collapsed": false
   },
   "outputs": [],
   "source": [
    "#%reset"
   ]
  },
  {
   "cell_type": "code",
   "execution_count": 1,
   "metadata": {
    "collapsed": false
   },
   "outputs": [],
   "source": [
    "import pandas as pd\n",
    "import numpy as np\n",
    "import re\n",
    "import os\n",
    "from sklearn.cluster import KMeans\n",
    "import cPickle as cpk\n",
    "\n",
    "import palettable as pal\n",
    "import matplotlib.pyplot as plt\n",
    "import matplotlib as mpl \n",
    "mpl.rcParams['pdf.fonttype'] = 42\n",
    "\n",
    "from Bio.KEGG.REST import *\n",
    "\n",
    "%matplotlib inline"
   ]
  },
  {
   "cell_type": "code",
   "execution_count": null,
   "metadata": {
    "collapsed": false
   },
   "outputs": [],
   "source": [
    "mtabFile = 'RImetabolites_isomers.2015.08.27.csv' #first column is RInumber"
   ]
  },
  {
   "cell_type": "code",
   "execution_count": null,
   "metadata": {
    "collapsed": false
   },
   "outputs": [],
   "source": [
    "CO_fromMATLAB=pd.read_csv(mtabFile, index_col='RInumber')"
   ]
  },
  {
   "cell_type": "code",
   "execution_count": null,
   "metadata": {
    "collapsed": false
   },
   "outputs": [],
   "source": [
    "#make a list of the unique CO numbers for the CreateHash_COtoKO.py. Export the list as CSV\n",
    "td = CO_fromMATLAB.groupby('cNumber').count()\n",
    "COnumbers = td.drop(list(td.columns.values),axis=1)\n",
    "del td\n",
    "COnumbers.to_csv('exportCOnumbers.csv',header=True)"
   ]
  },
  {
   "cell_type": "markdown",
   "metadata": {},
   "source": [
    "###Write a couple of functions to swap between CO and RInumbers"
   ]
  },
  {
   "cell_type": "code",
   "execution_count": null,
   "metadata": {
    "collapsed": true
   },
   "outputs": [],
   "source": [
    "def findRInumber(dataIn,KEGGin):\n",
    "    #find possible RI numbers for a given KEGG number. \n",
    "    dataOut = []\n",
    "    for i,KEGG in enumerate(dataIn['KEGG']):\n",
    "        if KEGG == KEGGin:\n",
    "            t = dataIn.index[i]\n",
    "            dataOut.append(t)\n",
    "    return dataOut\n",
    "##For example: this will give back one row, C18028 will be multiple\n",
    "#m = findRInumber(forRelatedness,'C00078') \n",
    "\n",
    "def convertRItoCO(dataIn,RIin):\n",
    "    #do the reverse, given an RInumber find the cNumber\n",
    "    dataOut = dataIn.loc[RIin].loc['cNumber']\n",
    "    return dataOut\n",
    "##This will always be a single value\n",
    "#m = convertRItoCO(forRelatedness,'RI2')\n",
    "\n",
    "#slight change, no need to send in a comparison file if it always the same thing\n",
    "def convertRItoCO2(RIin):\n",
    "    #do the reverse, given an RInumber find the cNumber\n",
    "    dataOut = CO_fromMATLAB.loc[RIin].loc['cNumber']\n",
    "    return dataOut\n",
    "##This will always be a single value, also uses CO_fromMATLAB as input "
   ]
  },
  {
   "cell_type": "code",
   "execution_count": null,
   "metadata": {
    "collapsed": false
   },
   "outputs": [],
   "source": [
    "#This grabs the CO/KO links from the KEGG website. The actual code is in the \n",
    "#CreateHash_COtoKO.py that Harriet wrote. Note that since the exportCOnumbers.csv \n",
    "#file is a unique list of C number we essentially already have a lookup table \n",
    "#for all the metabolites of interest.\n",
    "\n",
    "if os.path.isfile('exportCOnumbers.csv' + '.pickle'):\n",
    "    #just read in the file\n",
    "    WorkingFile = cpk.load(open('exportCOnumbers.csv.pickle','r'))\n",
    "else:\n",
    "    #need to make the file\n",
    "    filename = \"CreateHash_COtoKO.py\"\n",
    "    %run $filename exportCOnumbers.csv \n",
    "    #then read in the file\n",
    "    WorkingFile = cpk.load(open('exportCOnumbers.csv.pickle','r'))"
   ]
  },
  {
   "cell_type": "code",
   "execution_count": null,
   "metadata": {
    "collapsed": false
   },
   "outputs": [],
   "source": [
    "def SplitCODict(WorkingFile):\n",
    "    CO_withoutKO={}\n",
    "    CO_withKO={}\n",
    "    for CO in WorkingFile.keys():\n",
    "\n",
    "        if WorkingFile[CO]['Related KO']==[]:\n",
    "            CO_withoutKO[CO]=WorkingFile[CO]\n",
    "        else:\n",
    "            CO_withKO[CO]=WorkingFile[CO]\n",
    "    return CO_withoutKO, CO_withKO\n",
    "\n",
    "CO_withoutKO, CO_withKO=SplitCODict(WorkingFile)\n",
    "print 'There are', len(CO_withKO), 'COs with an associated KO.', len(CO_withoutKO), 'are not associated with a KO.'"
   ]
  },
  {
   "cell_type": "code",
   "execution_count": null,
   "metadata": {
    "collapsed": true
   },
   "outputs": [],
   "source": [
    "AllKO=[]\n",
    "AllCO=[]\n",
    "for key in CO_withKO:\n",
    "    AllKO.append(CO_withKO[key]['Related KO'])\n",
    "    AllCO.append(CO_withKO[key]['Related CO'])\n",
    "AllKO=list(set([item for sublist in AllKO for item in sublist]))\n",
    "AllCO=list(set([item for sublist in AllCO for item in sublist]))"
   ]
  },
  {
   "cell_type": "code",
   "execution_count": null,
   "metadata": {
    "collapsed": false
   },
   "outputs": [],
   "source": [
    "#go through CO_RawData_all one row at a time (inefficient for sure, but I understand \n",
    "#what is happening), then make a new column in CO_RawData_all that is True/False\n",
    "CO_fromMATLAB['inList'] = \"\"\n",
    "\n",
    "for idx in range(0,len(CO_fromMATLAB)):\n",
    "# for idx in range(0):\n",
    "    fc = CO_fromMATLAB.ix[idx,'cNumber']\n",
    "    if fc in AllCO:\n",
    "        CO_fromMATLAB.ix[idx,'inList'] = True\n",
    "    else:\n",
    "        CO_fromMATLAB.ix[idx,'inList'] = False  "
   ]
  },
  {
   "cell_type": "code",
   "execution_count": null,
   "metadata": {
    "collapsed": false
   },
   "outputs": [],
   "source": [
    "#can't quite figure out how to do this in one step.\n",
    "m = CO_fromMATLAB[CO_fromMATLAB['inList']==True]\n",
    "CO_metadata_pruned = m.loc[:,['cNumber','ChargedMass','RT','ionMode']]\n",
    "\n",
    "#this list of days is useful, so define it up front.\n",
    "dayList = ['S1','S2','S3','S4','S5'] \n",
    "CO_RawData_pruned = m.loc[:,dayList]\n",
    "del m"
   ]
  },
  {
   "cell_type": "code",
   "execution_count": 2,
   "metadata": {
    "collapsed": false
   },
   "outputs": [],
   "source": [
    "#Load PhytoKEGG Annotations\n",
    "#from Harriet...doesn't work, complaining about header=False \n",
    "#AllPhytoKO_ann=pd.read_table('AllPhytoKegg_annotated.tab', header=False, delimiter='\\t')\n",
    "\n",
    "#try this instead (note double \\\\ at end)\n",
    "pathToData = 'Z:\\KLtemp\\TranscriptomicsData_Feb2016\\\\'\n",
    "AllPhytoKO_ann=pd.read_table((pathToData + 'AllPhytoKegg_annotated.tab'), delimiter='\\t')\n",
    "\n",
    "InsituCounts=pd.read_table((pathToData + 'AllInsitu_NoZero.tab'), index_col='gID')"
   ]
  },
  {
   "cell_type": "code",
   "execution_count": 3,
   "metadata": {
    "collapsed": false
   },
   "outputs": [],
   "source": [
    "#normalize to the library size\n",
    "InsituTPM=InsituCounts.copy()\n",
    "InsituTPM[['S1', 'S2', 'S3', 'S4', 'S5']]=(InsituCounts[['S1', 'S2', 'S3', 'S4', 'S5']]/InsituCounts[['S1', 'S2', 'S3', 'S4', 'S5']].sum())*10**6\n",
    "\n",
    "#Add annotation information\n",
    "InsituCounts=InsituCounts.join(AllPhytoKO_ann)\n",
    "InsituTPM=InsituTPM.join(AllPhytoKO_ann)\n",
    "InsituCounts=InsituCounts.dropna()\n",
    "InsituTPM=InsituTPM.dropna()\n",
    "\n",
    "KO_RawData=InsituTPM.groupby('kID').sum()"
   ]
  },
  {
   "cell_type": "code",
   "execution_count": null,
   "metadata": {
    "collapsed": true
   },
   "outputs": [],
   "source": [
    "def NormalizeToMean(DF):\n",
    "    DF_meanNorm=DF.copy()\n",
    "    out=DF_meanNorm.copy()\n",
    "    DF_meanNorm['mean']=DF.mean(axis=1)\n",
    "\n",
    "    for i in out.columns:\n",
    "        out[i]=DF_meanNorm[i]/DF_meanNorm['mean']\n",
    "    DF_meanNorm=DF_meanNorm.T.drop('mean').T\n",
    "    return out\n",
    "\n",
    "def NormalizeToMax(DF):\n",
    "    DF_meanNorm=DF.copy()\n",
    "    out=DF_meanNorm.copy()\n",
    "    DF_meanNorm['max']=DF.max(axis=1)\n",
    "    for i in out.columns:\n",
    "        out[i]=DF_meanNorm[i]/DF_meanNorm['max']\n",
    "    DF_meanNorm=DF_meanNorm.T.drop('max').T\n",
    "    return out\n",
    "\n",
    "def NormalizeToMean_CV(DF):\n",
    "    out=DF.copy()\n",
    "    out['mean']=DF.mean(axis=1)\n",
    "    out['SD']=DF.std(axis=1)\n",
    "    \n",
    "    out['CV']=out['SD']/out['mean']\n",
    "    return out"
   ]
  },
  {
   "cell_type": "code",
   "execution_count": null,
   "metadata": {
    "collapsed": false
   },
   "outputs": [],
   "source": [
    "#norm2Mean seems based (see plots in earlier notebooks)\n",
    "KO_Norm2Mean=NormalizeToMean(KO_RawData) \n",
    "\n",
    "##two versions of the CO data: (1) regular and (2) inverse\n",
    "CO_Norm2Mean_regular=NormalizeToMean(CO_RawData_pruned) \n",
    "CO_Norm2Mean_inverse=NormalizeToMean(1/CO_RawData_pruned)"
   ]
  },
  {
   "cell_type": "code",
   "execution_count": null,
   "metadata": {
    "collapsed": true
   },
   "outputs": [],
   "source": [
    "#use _finalOption variable names to make life easier\n",
    "KO_finalOption = KO_Norm2Mean.loc[AllKO].dropna()\n",
    "CO_final_regular = CO_Norm2Mean_regular.dropna() #already 'limited' this before the normalization\n",
    "CO_final_inverse = CO_Norm2Mean_inverse.dropna() #already 'limited' this before the normalization"
   ]
  },
  {
   "cell_type": "code",
   "execution_count": null,
   "metadata": {
    "collapsed": false
   },
   "outputs": [],
   "source": [
    "##Combine the CO and the KO data in preparation for K means clustering\n",
    "Combined_KO_CO_regular=KO_finalOption.append(CO_final_regular.loc[:,(dayList)])\n",
    "Combined_KO_CO_inverse=KO_finalOption.append(CO_final_inverse.loc[:,(dayList)])"
   ]
  },
  {
   "cell_type": "code",
   "execution_count": null,
   "metadata": {
    "collapsed": true
   },
   "outputs": [],
   "source": [
    "def kmeanCluster(data,nc):\n",
    "    #kmeans=KMeans(n_clusters=nc)\n",
    "    kmeans = KMeans(n_clusters = nc, max_iter = 1000, n_init = 50, init = 'random')\n",
    "    kmeans.fit(data)\n",
    "    newData=data.copy()\n",
    "    newData['kmeans']=kmeans.labels_\n",
    "    return newData\n",
    "    \n",
    "def PlotKmeans(KmeansPD, kSize=10, figSizeX=1, figSizeY=5, color='k'):\n",
    "    KmeansPD['kmeans'].plot(kind='hist', bins=kSize, color=color)\n",
    "    fig,axs=plt.subplots(figSizeX, figSizeY)\n",
    "    axs=[item for sublist in axs for item in sublist]\n",
    "    fig.set_size_inches(9,12)\n",
    "    for ax, y in zip(axs,range(kSize)):\n",
    "        pltData=KmeansPD[KmeansPD.kmeans==y].T.drop('kmeans')\n",
    "        pltData.plot(ax=ax, legend=False, grid=False, color=color)"
   ]
  },
  {
   "cell_type": "markdown",
   "metadata": {
    "collapsed": true
   },
   "source": [
    "Move forward with 'best' number of clusters\n",
    "--> use Determine_Optimal_Number_Kmeans_Groups.ipynb to determine this number"
   ]
  },
  {
   "cell_type": "code",
   "execution_count": null,
   "metadata": {
    "collapsed": true
   },
   "outputs": [],
   "source": [
    "#setting # of clusters manually, also some good options with lower # of clusters I think\n",
    "#this number will get used later when plotting up the BRITE categories and the Kmeans clusters\n",
    "makeNclusters = 6"
   ]
  },
  {
   "cell_type": "code",
   "execution_count": null,
   "metadata": {
    "collapsed": false
   },
   "outputs": [],
   "source": [
    "#do the K-means clustering with the final # of clusters\n",
    "CcoClust_regular=kmeanCluster(Combined_KO_CO_regular, makeNclusters) \n",
    "CcoClust_inverse=kmeanCluster(Combined_KO_CO_inverse, makeNclusters) "
   ]
  },
  {
   "cell_type": "code",
   "execution_count": null,
   "metadata": {
    "collapsed": false
   },
   "outputs": [],
   "source": [
    "#import matplotlib as mpl\n",
    "def PlotKmeansCombined(KmeansPD, kSize=10, figSizeX=2, figSizeY=3, color='k',figureName = 'KmeansPlot.png'):\n",
    "    KmeansPD['kmeans'].plot(kind='hist', bins=kSize, color='k',range = (0,kSize),align = 'left')\n",
    "    fig,axs=plt.subplots(figSizeX, figSizeY)\n",
    "    axs=[item for sublist in axs for item in sublist]\n",
    "    fig.set_size_inches(15,9)\n",
    "    i=KmeansPD.index\n",
    "    i=list(i)\n",
    "    Ks=re.compile('K.*')\n",
    "    #Cs=re.compile('C.*')\n",
    "    Cs = re.compile('R.*') #this is the RInumber I created...for the moment, do not need the Cnumber\n",
    "    C = filter(Cs.search, i)  \n",
    "    K = filter(Ks.search, i)  \n",
    "    Ksplit=KmeansPD.loc[K]\n",
    "    Csplit=KmeansPD.loc[C]\n",
    "    for ax, y in zip(axs,range(kSize)):\n",
    "        KData=Ksplit[Ksplit.kmeans==y].T.drop('kmeans')\n",
    "        KData.plot(ax=ax, legend=False, grid=False, color='b')\n",
    "        CData=Csplit[Csplit.kmeans==y].T.drop('kmeans')\n",
    "        CData.plot(ax=ax, legend=False, grid=False, color='r')\n",
    "        SumKC=len(KData.T)+len(CData.T)\n",
    "        KPct=(len(KData.T))\n",
    "        CPct=(len(CData.T))\n",
    "        ax.set_title('nGenes ' + str(KPct) + ', nCpds ' + str(CPct) + ', Cluster ' + str(y))\n",
    "        ax.set_ylim([0,5])\n",
    "    fig.savefig(figureName)"
   ]
  },
  {
   "cell_type": "code",
   "execution_count": null,
   "metadata": {
    "collapsed": true
   },
   "outputs": [],
   "source": [
    "#import matplotlib as mpl\n",
    "def PlotKmeansCombined(KmeansPD, kSize=10, figSizeX=2, figSizeY=3, color='k'):\n",
    "    KmeansPD['kmeans'].plot(kind='hist', bins=kSize, color='k',range = (0,kSize),align = 'left')\n",
    "    fig,axs=plt.subplots(figSizeX, figSizeY)\n",
    "    axs=[item for sublist in axs for item in sublist]\n",
    "    fig.set_size_inches(15,9)\n",
    "    i=KmeansPD.index\n",
    "    i=list(i)\n",
    "    Ks=re.compile('K.*')\n",
    "    #Cs=re.compile('C.*')\n",
    "    Cs = re.compile('R.*') #this is the RInumber I created...for the moment, do not need the Cnumber\n",
    "    C = filter(Cs.search, i)  \n",
    "    K = filter(Ks.search, i)  \n",
    "    Ksplit=KmeansPD.loc[K]\n",
    "    Csplit=KmeansPD.loc[C]\n",
    "    for ax, y in zip(axs,range(kSize)):\n",
    "        KData=Ksplit[Ksplit.kmeans==y].T.drop('kmeans')\n",
    "        KData.plot(ax=ax, legend=False, grid=False, color='b')\n",
    "        CData=Csplit[Csplit.kmeans==y].T.drop('kmeans')\n",
    "        CData.plot(ax=ax, legend=False, grid=False, color='r')\n",
    "        SumKC=len(KData.T)+len(CData.T)\n",
    "        KPct=(len(KData.T))\n",
    "        CPct=(len(CData.T))\n",
    "        ax.set_title('nGenes ' + str(KPct) + ', nCpds ' + str(CPct) + ', Cluster ' + str(y))\n",
    "        ax.set_ylim([0,5])\n",
    "    return fig\n",
    "    #fig.savefig(figureName)"
   ]
  },
  {
   "cell_type": "code",
   "execution_count": null,
   "metadata": {
    "collapsed": false
   },
   "outputs": [],
   "source": [
    "f = PlotKmeansCombined(CcoClust_regular,makeNclusters) \n",
    "f.savefig('Kmeans_regular.png')\n",
    "del f"
   ]
  },
  {
   "cell_type": "code",
   "execution_count": null,
   "metadata": {
    "collapsed": false
   },
   "outputs": [],
   "source": [
    "f = PlotKmeansCombined(CcoClust_inverse,makeNclusters) \n",
    "f.savefig('Kmeans_inverse.png')\n",
    "del f"
   ]
  },
  {
   "cell_type": "code",
   "execution_count": 4,
   "metadata": {
    "collapsed": true
   },
   "outputs": [],
   "source": [
    "#need this cell to get the taxonomic information used in the species plots later on\n",
    "\n",
    "#load in the species/group information\n",
    "Group_Species=pd.read_table('GrpSpecies',delimiter=' ').T.drop(['MMETSP', \n",
    "                                                  'MMETSP.1']).T.drop_duplicates().set_index('SName')\n",
    "\n",
    "InsituTPMGrped=InsituTPM.groupby(['kID','sgID']).sum().reset_index().set_index('sgID')\n",
    "\n",
    "Group_Species=Group_Species.reset_index()\n",
    "#get the specific group combos\n",
    "Dia=Group_Species[Group_Species['Grp']=='Bacillariophyta']\n",
    "Din=Group_Species[Group_Species['Grp']=='Dinophyta']\n",
    "Oth=Group_Species[((Group_Species['Grp']!='Dinophyta')&\n",
    "                  (Group_Species['Grp']!='Bacillariophyta'))]\n",
    "#get the insitu counts\n",
    "Insitu_TPM_DIA=InsituTPMGrped.loc[Dia['SName']].groupby('kID').sum()\n",
    "Insitu_TPM_DIN=InsituTPMGrped.loc[Din['SName']].groupby('kID').sum()\n",
    "Insitu_TPM_Oth=InsituTPMGrped.loc[Oth['SName'].dropna()].groupby('kID').sum()\n",
    "\n",
    "D=set(Insitu_TPM_DIA.index)\n",
    "N=set(Insitu_TPM_DIN.index)\n",
    "O=set(Insitu_TPM_Oth.index)"
   ]
  },
  {
   "cell_type": "code",
   "execution_count": null,
   "metadata": {
    "collapsed": false
   },
   "outputs": [],
   "source": [
    "fig, axs=plt.subplots(2,3)\n",
    "fig.set_size_inches(9,6)\n",
    "axs=axs.flatten()\n",
    "for i in set(CcoClust_regular['kmeans']):\n",
    "    ClusterK = CcoClust_regular[CcoClust_regular['kmeans']==i]\n",
    "    ClusterKind=set([k for k in ClusterK.index if k.startswith('K')])\n",
    "\n",
    "    Di=D.intersection(ClusterKind)\n",
    "    Ni=N.intersection(ClusterKind)\n",
    "    Oi=O.intersection(ClusterKind)\n",
    "\n",
    "    Dsum=Insitu_TPM_DIA.loc[Di].sum()\n",
    "    Nsum=Insitu_TPM_DIN.loc[Ni].sum()\n",
    "    Osum=Insitu_TPM_Oth.loc[Di].sum()\n",
    "\n",
    "    ax=axs[i]\n",
    "    ax.stackplot(range(5), Dsum, Nsum, Osum, colors=\n",
    "                 pal.colorbrewer.qualitative.Set3_6_r.hex_colors, lw=0)\n",
    "    ax.set_xticks(range(5))\n",
    "    ax.set_xticklabels([1,2,3,4,5])"
   ]
  },
  {
   "cell_type": "code",
   "execution_count": null,
   "metadata": {
    "collapsed": false
   },
   "outputs": [],
   "source": [
    "fig, axs=plt.subplots(2,3)\n",
    "fig.set_size_inches(9,6)\n",
    "axs=axs.flatten()\n",
    "for i in set(CcoClust_inverse['kmeans']):\n",
    "    ClusterK = CcoClust_inverse[CcoClust_inverse['kmeans']==i]\n",
    "    ClusterKind=set([k for k in ClusterK.index if k.startswith('K')])\n",
    "\n",
    "    Di=D.intersection(ClusterKind)\n",
    "    Ni=N.intersection(ClusterKind)\n",
    "    Oi=O.intersection(ClusterKind)\n",
    "\n",
    "    Dsum=Insitu_TPM_DIA.loc[Di].sum()\n",
    "    Nsum=Insitu_TPM_DIN.loc[Ni].sum()\n",
    "    Osum=Insitu_TPM_Oth.loc[Di].sum()\n",
    "\n",
    "    ax=axs[i]\n",
    "    ax.stackplot(range(5), Dsum, Nsum, Osum, colors=\n",
    "                 pal.colorbrewer.qualitative.Set3_6_r.hex_colors, lw=0)\n",
    "    ax.set_xticks(range(5))\n",
    "    ax.set_xticklabels([1,2,3,4,5])"
   ]
  },
  {
   "cell_type": "markdown",
   "metadata": {},
   "source": [
    "###focus on things with common linked reactions..."
   ]
  },
  {
   "cell_type": "code",
   "execution_count": null,
   "metadata": {
    "collapsed": false
   },
   "outputs": [],
   "source": [
    "#But...for the CheckRelatedness...do need to go back to the cNumber...\n",
    "#for now, easiest to just make yet another matrix and put the cNumbers back in.\n",
    "forRelatedness_regular = CcoClust_regular.copy(deep=True) #make a copy of the CcoClust data frame\n",
    "forRelatedness_regular.insert(0,'KEGG',\"\") #add a column called 'KEGG'\n",
    "\n",
    "forRelatedness_inverse = CcoClust_inverse.copy(deep=True) #make a copy of the CcoClust data frame\n",
    "forRelatedness_inverse.insert(0,'KEGG',\"\") #add a column called 'KEGG'"
   ]
  },
  {
   "cell_type": "code",
   "execution_count": null,
   "metadata": {
    "collapsed": false
   },
   "outputs": [],
   "source": [
    "for idx in range(0,len(forRelatedness_regular)):\n",
    "    t = forRelatedness_regular.iloc[idx,:].name\n",
    "\n",
    "    if t[0]=='R':\n",
    "        #go find the matching cNumber in CO_RawData_all\n",
    "        t2 = CO_fromMATLAB.loc[t,('cNumber')]\n",
    "        forRelatedness_regular.ix[idx,('KEGG')] = t2\n",
    "    elif t[0] == 'K':\n",
    "        #just copy the K number over\n",
    "        forRelatedness_regular.ix[idx,('KEGG')] = t\n",
    "        \n",
    "for idx in range(0,len(forRelatedness_inverse)):\n",
    "    t = forRelatedness_inverse.iloc[idx,:].name\n",
    "\n",
    "    if t[0]=='R':\n",
    "        #go find the matching cNumber in CO_RawData_all\n",
    "        t2 = CO_fromMATLAB.loc[t,('cNumber')]\n",
    "        forRelatedness_inverse.ix[idx,('KEGG')] = t2\n",
    "    elif t[0] == 'K':\n",
    "        #just copy the K number over\n",
    "        forRelatedness_inverse.ix[idx,('KEGG')] = t"
   ]
  },
  {
   "cell_type": "code",
   "execution_count": null,
   "metadata": {
    "collapsed": false
   },
   "outputs": [],
   "source": [
    "def CheckRelatedness(inClust,nC):\n",
    "    df=pd.DataFrame(columns=['Common Rxn','No linked Rxn'], index=range(nC))\n",
    "    for n in range(nC):\n",
    "        kClust=inClust[inClust.kmeans==n]\n",
    "        #i=kClust.index\n",
    "        i = kClust.KEGG #change the new column I created with Cnumbers and Knumbers\n",
    "        i=list(i)\n",
    "        Csearc=re.compile('C.*') #re is regular expression...perl-like \n",
    "        Cs = filter(Csearc.search, i)\n",
    "        Ksearc=re.compile('K.*')\n",
    "        Kis = filter(Ksearc.search, i)\n",
    "        Kis=set(Kis)\n",
    "        Ks=[]\n",
    "        for c in Cs:\n",
    "            if c in CO_withKO.keys():\n",
    "                Ks.append(CO_withKO[c]['Related KO'])\n",
    "        Ks=set([item for sublist in Ks for item in sublist])\n",
    "        df.loc[n,'Common Rxn']=len(Kis.intersection(Ks))\n",
    "        df.loc[n, 'No linked Rxn']=len(Kis)-len(Kis.intersection(Ks))\n",
    "    df.plot(kind='bar', stacked=True, colormap=pal.colorbrewer.diverging.PRGn_5.get_mpl_colormap(), grid=False)"
   ]
  },
  {
   "cell_type": "code",
   "execution_count": null,
   "metadata": {
    "collapsed": false
   },
   "outputs": [],
   "source": [
    "CheckRelatedness(forRelatedness_regular, makeNclusters)"
   ]
  },
  {
   "cell_type": "code",
   "execution_count": null,
   "metadata": {
    "collapsed": false
   },
   "outputs": [],
   "source": [
    "CheckRelatedness(forRelatedness_inverse, makeNclusters)"
   ]
  },
  {
   "cell_type": "markdown",
   "metadata": {},
   "source": [
    "Grab the information from KEGG for plotting and bean counting"
   ]
  },
  {
   "cell_type": "code",
   "execution_count": null,
   "metadata": {
    "collapsed": false
   },
   "outputs": [],
   "source": [
    "allPathways = kegg_list(\"pathway\").read()\n",
    "len(allPathways.split('\\n'))\n",
    "#number here is the # of pathways at KEGG, up to 486 by 4/13/2016"
   ]
  },
  {
   "cell_type": "code",
   "execution_count": null,
   "metadata": {
    "collapsed": false
   },
   "outputs": [],
   "source": [
    "trimPath = []\n",
    "current_section = None\n",
    "for line in allPathways.rstrip().split(\"\\n\"):\n",
    "    tp = line[8:13]\n",
    "    trimPath.append('ko' + tp)\n",
    "    \n",
    "#have some cases where KEGG will send back a pathway, but the pathway itself is not searchable...seems to \n",
    "#be a KEGG bug, 'ko00351' was first, then realized there are many of these,\n",
    "#did this list manually since I thought it would be short...\n",
    "toDelete = ('ko00351', 'ko01010','ko01060',  'ko01061', 'ko01062', 'ko01063', \n",
    "            'ko01064', 'ko01065', 'ko01066', 'ko01070', 'ko07011', 'ko07012', \n",
    "            'ko07013', 'ko07014', 'ko07015', 'ko07016', 'ko07017', 'ko07018', \n",
    "            'ko07019', 'ko07020', 'ko07021', 'ko07023', 'ko07024', 'ko07025', \n",
    "            'ko07026', 'ko07027', 'ko07028', 'ko07029', 'ko07030', 'ko07031', \n",
    "            'ko07032', 'ko07033', 'ko07034', 'ko07035', 'ko07036', 'ko07037', \n",
    "            'ko07038', 'ko07039', 'ko07040', 'ko07041', 'ko07042', 'ko07043', \n",
    "            'ko07044', 'ko07045', 'ko07046', 'ko07047', 'ko07048', 'ko07049', \n",
    "            'ko07050', 'ko07051', 'ko07052', 'ko07053', 'ko07054', 'ko07055', \n",
    "            'ko07056', 'ko07057', 'ko07110', 'ko07112', 'ko07114', 'ko07117', \n",
    "            'ko07211', 'ko07212', 'ko07213', 'ko07214', 'ko07215', 'ko07216', \n",
    "            'ko07217', 'ko07218', 'ko07219', 'ko07220', 'ko07221', 'ko07222', \n",
    "            'ko07223', 'ko07224', 'ko07225', 'ko07226', 'ko07227', 'ko07228', \n",
    "            'ko07229', 'ko07230', 'ko07231', 'ko07232', 'ko07233', 'ko07234', \n",
    "            'ko07235', 'ko04933')\n",
    "\n",
    "#probably a way to do this without the for loop, but this will work\n",
    "for item in toDelete:\n",
    "    trimPath.remove(item)"
   ]
  },
  {
   "cell_type": "code",
   "execution_count": null,
   "metadata": {
    "collapsed": false
   },
   "outputs": [],
   "source": [
    "shortList = ['ko03010','ko03013','ko00140'] #for testing"
   ]
  },
  {
   "cell_type": "code",
   "execution_count": null,
   "metadata": {
    "collapsed": false
   },
   "outputs": [],
   "source": [
    "import fxn_gatherDetails\n",
    "##if I make a change, have to reload the function:\n",
    "#reload(fxn_gatherDetails)"
   ]
  },
  {
   "cell_type": "code",
   "execution_count": null,
   "metadata": {
    "collapsed": true
   },
   "outputs": [],
   "source": [
    "#usePathway = shortList #for testing...use complete list later\n",
    "usePathway = trimPath\n",
    "KOandCOwithKmeans = forRelatedness_regular #linked KO & CO, data, with K means information\n",
    "useCO = CO_fromMATLAB #full list of CO data, need to color pathway, and lookup table\n",
    "useKO = KO_Norm2Mean # full list of KO data, need to color pathway\n",
    "dia = Insitu_TPM_DIA #diatom TPM, for plotting species\n",
    "din = Insitu_TPM_DIN #dino TPM, for plotting species\n",
    "oth = Insitu_TPM_Oth #other TPM, for plotting species\n",
    "folder = 'plots_regular_Km'"
   ]
  },
  {
   "cell_type": "code",
   "execution_count": null,
   "metadata": {
    "collapsed": false
   },
   "outputs": [],
   "source": [
    "gc_regular = fxn_gatherDetails.gatherDetails(makeNclusters,usePathway,KOandCOwithKmeans,folder,useCO,useKO,dia,din,oth)"
   ]
  },
  {
   "cell_type": "code",
   "execution_count": null,
   "metadata": {
    "collapsed": false
   },
   "outputs": [],
   "source": [
    "#switch to inverse, repeat \n",
    "KOandCOwithKmeans = forRelatedness_inverse #linked KO & CO, data, with K means information\n",
    "folder = 'plots_inverse_Km'\n",
    "\n",
    "gc_inverse = fxn_gatherDetails.gatherDetails(makeNclusters,usePathway,KOandCOwithKmeans,folder,useCO,useKO,dia,din,oth)"
   ]
  },
  {
   "cell_type": "code",
   "execution_count": null,
   "metadata": {
    "collapsed": false
   },
   "outputs": [],
   "source": [
    "#now...save all that so I don't have to do this everytime BUT be careful with re-assigning K means group numbers!\n",
    "cpk.dump(gc_regular, open('gatherCounts_norm2mean_regular.2016.04.18.pickle', 'wb'))\n",
    "cpk.dump(gc_inverse, open('gatherCounts_norm2mean_inverse.2016.04.18.pickle', 'wb'))\n",
    "\n",
    "## this is the code to read in the file...can use this without having to go through the pain of rerunning gatherCounts\n",
    "#gatherCounts_regular = cpk.load(open('gatherCounts_norm2mean_regular.2016.04.13.pickle','rb'))"
   ]
  },
  {
   "cell_type": "code",
   "execution_count": null,
   "metadata": {
    "collapsed": true
   },
   "outputs": [],
   "source": [
    "def plotGenes_ratio(tg):\n",
    "    #if this is something in the pathway, plot up the species for the K number\n",
    "    if (tg in Insitu_TPM_DIA.index.tolist()) and (tg in Insitu_TPM_DIN.index.tolist()):\n",
    "        DaDn=Insitu_TPM_DIA.loc[tg]/Insitu_TPM_DIN.loc[tg]\n",
    "\n",
    "    if (tg in Insitu_TPM_DIA.index.tolist()) and (tg in Insitu_TPM_Oth.index.tolist()):\n",
    "        DaOt=Insitu_TPM_DIA.loc[tg]/Insitu_TPM_Oth.loc[tg]\n",
    "\n",
    "    if (tg in Insitu_TPM_DIN.index.tolist()) and (tg in Insitu_TPM_Oth.index.tolist()):\n",
    "        DnOt=Insitu_TPM_DIN.loc[tg]/Insitu_TPM_Oth.loc[tg]\n",
    "\n",
    "    useColors = pal.colorbrewer.qualitative.Set1_3.hex_colors    \n",
    "    ms = 200 #set the size of the dots\n",
    "    fig,axs=plt.subplots(1,3)\n",
    "    fig.set_size_inches(10,4)\n",
    "    axs[0].scatter(range(5),DaDn,s = ms, color = useColors[0])\n",
    "    axs[0].set_title('DIA:DIN')\n",
    "    axs[0].set_xticks(range(5))\n",
    "    axs[0].set_ylabel('Ratios')\n",
    "\n",
    "    axs[1].scatter(range(5),DaOt,s = ms, color = useColors[1])\n",
    "    axs[1].set_title('DIA:Oth')\n",
    "    axs[1].set_xticks(range(5))\n",
    "\n",
    "    axs[2].scatter(range(5),DnOt,s = ms, color = useColors[2])\n",
    "    axs[2].set_title('DIN:Oth')\n",
    "    axs[2].set_xticks(range(5))\n",
    "\n",
    "    #fig.savefig(directorySpecies + '/' + tg + '_species.png',bbox_inches='tight')\n",
    "    #plt.close()"
   ]
  },
  {
   "cell_type": "code",
   "execution_count": null,
   "metadata": {
    "collapsed": false
   },
   "outputs": [],
   "source": [
    "#not sure this is helpful since it would be another set of figures to wade through, and the \n",
    "#same information is already in the species plots...leave here to get a sense of what we \n",
    "#are looking for though in considering the ratios of the various TPMs\n",
    "r = plotGenes_ratio('K01914')"
   ]
  },
  {
   "cell_type": "code",
   "execution_count": null,
   "metadata": {
    "collapsed": true
   },
   "outputs": [],
   "source": [
    "#make a function to calculate the ratios of the three TPM groups\n",
    "#function expects a version of the forRelatedness_XXXX dataframe:\n",
    "def calcTPMratios(dataIn):\n",
    "\n",
    "    #do NOT pull the KEGG numbers bc that causes issues downstream with the plotting: confusion of numbers/text\n",
    "    df2 = dataIn.loc[:,('kmeans')]\n",
    "    \n",
    "    df2 = df2.to_frame() #this gets around the error about working on a copy of a slice\n",
    "    df2['inList'] = ''\n",
    "\n",
    "    for idx in range(0,len(df2)):\n",
    "        fc = df2.index.values[idx]\n",
    "\n",
    "        if fc[0] == 'C':\n",
    "            df2.ix[idx,'inList'] = False\n",
    "        elif fc[0] == 'K':\n",
    "            df2.ix[idx,'inList'] = True  \n",
    "\n",
    "    df2 = df2[df2['inList']==True]\n",
    "    df2 = df2.T.drop('inList').T #this somehow gets around the warning about making a change on a copy...?\n",
    "\n",
    "    for tg,row in df2.iterrows():\n",
    "\n",
    "        if (tg in Insitu_TPM_DIA.index.tolist()) and (tg in Insitu_TPM_DIN.index.tolist()):\n",
    "            #use this to get the mean, ignoring any inf/NaN values\n",
    "            tv = Insitu_TPM_DIA.loc[tg,:]/Insitu_TPM_DIN.loc[tg,:]\n",
    "            t = np.ma.masked_invalid(tv).mean()\n",
    "            df2.loc[tg,'meanDaDn'] = t \n",
    "        else:\n",
    "            df2.loc[tg,'meanDaDn'] = np.nan\n",
    "\n",
    "        if (tg in Insitu_TPM_DIA.index.tolist()) and (tg in Insitu_TPM_Oth.index.tolist()):\n",
    "            tv =  Insitu_TPM_DIA.loc[tg,:]/Insitu_TPM_Oth.loc[tg,:]\n",
    "            t = np.ma.masked_invalid(tv).mean()\n",
    "            df2.loc[tg,'meanDaOt'] = t\n",
    "        else:\n",
    "            df2.loc[tg,'meanDaOt'] = np.nan\n",
    "\n",
    "        if (tg in Insitu_TPM_DIN.index.tolist()) and (tg in Insitu_TPM_Oth.index.tolist()):\n",
    "            tv = Insitu_TPM_DIN.loc[tg,:]/Insitu_TPM_Oth.loc[tg,:]\n",
    "            t = np.ma.masked_invalid(tv).mean()\n",
    "            df2.loc[tg,'meanDnOt'] = t\n",
    "        else:\n",
    "            df2.loc[tg,'meanDnOt'] = np.nan\n",
    "            \n",
    "    return df2"
   ]
  },
  {
   "cell_type": "code",
   "execution_count": null,
   "metadata": {
    "collapsed": true
   },
   "outputs": [],
   "source": [
    "out_regular = calcTPMratios(forRelatedness_regular)\n",
    "out_inverse = calcTPMratios(forRelatedness_inverse)\n",
    "#save inverse for later, this is already complicated enough with the regular K means groups"
   ]
  },
  {
   "cell_type": "code",
   "execution_count": null,
   "metadata": {
    "collapsed": false
   },
   "outputs": [],
   "source": [
    "#not fully convinced this is actually interesting...the ratios in the extremes can be the cases\n",
    "#with small # if TPM in denominator/numerator driving to large numbers (ie. 300 / 0.05))\n",
    "axs = out_regular.boxplot(column = 'meanDaDn',by='kmeans')\n",
    "axs.set_yscale('log')\n",
    "axs.grid('off')\n",
    "axs.set_title('meanDaDn' + ' regular')"
   ]
  },
  {
   "cell_type": "code",
   "execution_count": null,
   "metadata": {
    "collapsed": false
   },
   "outputs": [],
   "source": [
    "axs = out_regular.boxplot(column = 'meanDaOt',by='kmeans')\n",
    "axs.set_yscale('log')\n",
    "axs.grid('off')\n",
    "axs.set_title('meanDaOt' + ' regular')"
   ]
  },
  {
   "cell_type": "code",
   "execution_count": null,
   "metadata": {
    "collapsed": false
   },
   "outputs": [],
   "source": [
    "axs = out_regular.boxplot(column = 'meanDnOt',by='kmeans')\n",
    "axs.set_yscale('log')\n",
    "axs.grid('off')\n",
    "axs.set_title('meanDnOt' + ' regular')"
   ]
  },
  {
   "cell_type": "code",
   "execution_count": null,
   "metadata": {
    "collapsed": false
   },
   "outputs": [],
   "source": [
    "out_regular[out_regular.loc[:,'meanDaDn']>=1000]"
   ]
  },
  {
   "cell_type": "code",
   "execution_count": null,
   "metadata": {
    "collapsed": false
   },
   "outputs": [],
   "source": [
    "out_regular.mean()"
   ]
  },
  {
   "cell_type": "code",
   "execution_count": null,
   "metadata": {
    "collapsed": false
   },
   "outputs": [],
   "source": [
    "out_regular.groupby('kmeans').mean()"
   ]
  },
  {
   "cell_type": "code",
   "execution_count": null,
   "metadata": {
    "collapsed": false
   },
   "outputs": [],
   "source": [
    "#explore...plot one gene here rather than digging it up from the folders\n",
    "kid='K01914'\n",
    "allK=InsituTPMGrped[InsituTPMGrped['kID']==kid].sum()\n",
    "allK=allK.drop('kID')\n",
    "allK=allK.astype('float')\n",
    "allK\n",
    "\n",
    "if kid in Insitu_TPM_DIA.index.tolist():\n",
    "    Dk=Insitu_TPM_DIA.loc[kid]\n",
    "else: \n",
    "    Dk = 0/allK\n",
    "\n",
    "if kid in Insitu_TPM_DIN.index.tolist():\n",
    "    Nk=Insitu_TPM_DIN.loc[kid]\n",
    "else:\n",
    "    Nk = 0/allK\n",
    "    \n",
    "if kid in Insitu_TPM_Oth.index.tolist():\n",
    "    Ok=Insitu_TPM_Oth.loc[kid]\n",
    "else:\n",
    "    Ok = 0/allK\n",
    "    \n",
    "fig,ax=plt.subplots(1)\n",
    "ax.stackplot(range(5), Dk, Nk, Ok, colors=pal.colorbrewer.qualitative.Set3_6_r.hex_colors, lw=0)\n",
    "ax.set_xticks(range(5))\n",
    "ax.set_xticklabels([1,2,3,4,5])\n",
    "plt.title(kid)\n",
    "# ax.set_ylim(0,1)\n",
    "#fig.savefig(kid +'_numbers_forTalk.pdf')\n",
    "\n",
    "#there are very small values here for DIN and other, but can't see them on the figure"
   ]
  },
  {
   "cell_type": "code",
   "execution_count": null,
   "metadata": {
    "collapsed": true
   },
   "outputs": [],
   "source": [
    "#function expects a version of the forRelatedness_XXXX dataframe:\n",
    "def averageTPM(dataIn):\n",
    "\n",
    "    #do NOT pull the KEGG numbers bc that causes issues downstream with the plotting: confusion of numbers/text\n",
    "    df2 = dataIn.loc[:,('kmeans')]\n",
    "    \n",
    "    df2 = df2.to_frame() #this gets around the error about working on a copy of a slice\n",
    "    df2['inList'] = ''\n",
    "\n",
    "    for idx in range(0,len(df2)):\n",
    "        fc = df2.index.values[idx]\n",
    "        if fc[0] == 'C':\n",
    "            df2.ix[idx,'inList'] = False\n",
    "        elif fc[0] == 'K':\n",
    "            df2.ix[idx,'inList'] = True  \n",
    "\n",
    "    df2 = df2[df2['inList']==True]\n",
    "    df2 = df2.T.drop('inList').T #this somehow gets around the warning about making a change on a copy...?\n",
    "\n",
    "    for tg,row in df2.iterrows():\n",
    "\n",
    "        if (tg in Insitu_TPM_DIA.index.tolist()) :\n",
    "            #use this to get the mean, ignoring any inf/NaN values\n",
    "            tv = Insitu_TPM_DIA.loc[tg,:]\n",
    "            t = np.ma.masked_invalid(tv).mean()\n",
    "            df2.loc[tg,'meanDia'] = t \n",
    "        else:\n",
    "            df2.loc[tg,'meanDia'] = np.nan\n",
    "\n",
    "        if (tg in Insitu_TPM_DIN.index.tolist()) :\n",
    "            tv =  Insitu_TPM_DIN.loc[tg,:]\n",
    "            t = np.ma.masked_invalid(tv).mean()\n",
    "            df2.loc[tg,'meanDin'] = t\n",
    "        else:\n",
    "            df2.loc[tg,'meanDin'] = np.nan\n",
    "\n",
    "        if (tg in Insitu_TPM_Oth.index.tolist()):\n",
    "            tv = Insitu_TPM_Oth.loc[tg,:]\n",
    "            t = np.ma.masked_invalid(tv).mean()\n",
    "            df2.loc[tg,'meanOth'] = t\n",
    "        else:\n",
    "            df2.loc[tg,'meanOth'] = np.nan\n",
    "            \n",
    "    return df2"
   ]
  },
  {
   "cell_type": "code",
   "execution_count": null,
   "metadata": {
    "collapsed": true
   },
   "outputs": [],
   "source": [
    "testing = averageTPM(forRelatedness_regular)"
   ]
  },
  {
   "cell_type": "code",
   "execution_count": null,
   "metadata": {
    "collapsed": false
   },
   "outputs": [],
   "source": [
    "testing.head(5)"
   ]
  },
  {
   "cell_type": "code",
   "execution_count": null,
   "metadata": {
    "collapsed": true
   },
   "outputs": [],
   "source": [
    "#but...ask Harriet whether she thinks 'average TPM' is really a valid concept here\n",
    "#also, remember the different K means group have different number of genes...so, the dip\n",
    "#in 'other' in K means group 4 is only considering 8 genes."
   ]
  },
  {
   "cell_type": "code",
   "execution_count": null,
   "metadata": {
    "collapsed": false
   },
   "outputs": [],
   "source": [
    "use = 'meanDia'\n",
    "axs = testing.boxplot(column = use,by='kmeans')\n",
    "axs.set_yscale('log')\n",
    "axs.grid('off')\n",
    "axs.set_title(use + ' regular')"
   ]
  },
  {
   "cell_type": "code",
   "execution_count": null,
   "metadata": {
    "collapsed": false
   },
   "outputs": [],
   "source": [
    "use = 'meanDin'\n",
    "axs = testing.boxplot(column = use,by='kmeans')\n",
    "axs.set_yscale('log')\n",
    "axs.grid('off')\n",
    "axs.set_title(use + ' regular')"
   ]
  },
  {
   "cell_type": "code",
   "execution_count": null,
   "metadata": {
    "collapsed": false
   },
   "outputs": [],
   "source": [
    "use = 'meanOth'\n",
    "axs = testing.boxplot(column = use,by='kmeans')\n",
    "axs.set_yscale('log')\n",
    "axs.grid('off')\n",
    "axs.set_title(use + ' regular')"
   ]
  },
  {
   "cell_type": "code",
   "execution_count": null,
   "metadata": {
    "collapsed": false
   },
   "outputs": [],
   "source": [
    "colLabels = list(gc_regular.columns.values)"
   ]
  },
  {
   "cell_type": "code",
   "execution_count": null,
   "metadata": {
    "collapsed": false
   },
   "outputs": [],
   "source": [
    "colLabels"
   ]
  },
  {
   "cell_type": "code",
   "execution_count": null,
   "metadata": {
    "collapsed": false
   },
   "outputs": [],
   "source": [
    "cpdLabels = colLabels[2:13:2] #odd Python syntax, from 2 to 13, in steps of 2)\n",
    "cpdLabels"
   ]
  },
  {
   "cell_type": "code",
   "execution_count": null,
   "metadata": {
    "collapsed": false
   },
   "outputs": [],
   "source": [
    "geneLabels = colLabels[3:14:2] #odd Python syntax, from 2 to 13, in steps of 2)\n",
    "geneLabels"
   ]
  },
  {
   "cell_type": "code",
   "execution_count": null,
   "metadata": {
    "collapsed": true
   },
   "outputs": [],
   "source": [
    "#I have put the bar graphs back in here since I think they are the simplest way to consider these data"
   ]
  },
  {
   "cell_type": "code",
   "execution_count": null,
   "metadata": {
    "collapsed": false
   },
   "outputs": [],
   "source": [
    "##let's narrow in on the metabolism group since that is the only one that is really interesting\n",
    "plotMetabolism = gc_regular[gc_regular.loc[:,'pathwayGroup_A']=='Metabolism']"
   ]
  },
  {
   "cell_type": "code",
   "execution_count": null,
   "metadata": {
    "collapsed": true
   },
   "outputs": [],
   "source": [
    "s = plotMetabolism[(plotMetabolism.loc[:,colLabels].values > 0).any(axis=1)]\n",
    "dataToPlot = s.loc[:,colLabels]"
   ]
  },
  {
   "cell_type": "code",
   "execution_count": null,
   "metadata": {
    "collapsed": false
   },
   "outputs": [],
   "source": [
    "dataToPlot.head(5)"
   ]
  },
  {
   "cell_type": "code",
   "execution_count": null,
   "metadata": {
    "collapsed": true
   },
   "outputs": [],
   "source": [
    "pGroup = pd.unique(plotMetabolism.pathwayGroup_B.ravel())\n",
    "pGroup"
   ]
  },
  {
   "cell_type": "code",
   "execution_count": null,
   "metadata": {
    "collapsed": false
   },
   "outputs": [],
   "source": [
    "s = plotMetabolism[(plotMetabolism.loc[:,colLabels].values > 0).any(axis=1)]\n",
    "dataToPlot = s.loc[:,colLabels]\n",
    "\n",
    "pGroup = pd.unique(plotMetabolism.pathwayGroup_B.ravel())\n",
    "newDFmtab = pd.DataFrame(index = pGroup,columns = cpdLabels)\n",
    "\n",
    "for i, group in s.groupby('pathwayGroup_B'):\n",
    "    d2 = group.loc[:,cpdLabels]\n",
    "    out = d2.sum(axis=0)\n",
    "    newDFmtab.loc[i,cpdLabels] = out\n",
    "\n",
    "# The global and overview maps will be empty, so get rid of it\n",
    "newDFmtab = newDFmtab.drop(['Global and overview maps'])"
   ]
  },
  {
   "cell_type": "code",
   "execution_count": null,
   "metadata": {
    "collapsed": false
   },
   "outputs": [],
   "source": [
    "useColors = pal.colorbrewer.qualitative.Set1_6.hex_colors\n",
    "newDFmtab.plot(kind = 'barh',color = useColors, figsize = (12,12))"
   ]
  },
  {
   "cell_type": "code",
   "execution_count": null,
   "metadata": {
    "collapsed": true
   },
   "outputs": [],
   "source": [
    "pGroup = pd.unique(plotMetabolism.pathwayGroup_B.ravel())\n",
    "newDFmtab = pd.DataFrame(index = pGroup,columns = geneLabels)\n",
    "\n",
    "for i, group in s.groupby('pathwayGroup_B'):\n",
    "    d2 = group.loc[:,geneLabels]\n",
    "    out = d2.sum(axis=0)\n",
    "    newDFmtab.loc[i,geneLabels] = out\n",
    "\n",
    "# The global and overview maps will be empty, so get rid of it\n",
    "newDFmtab = newDFmtab.drop(['Global and overview maps'])"
   ]
  },
  {
   "cell_type": "code",
   "execution_count": null,
   "metadata": {
    "collapsed": false
   },
   "outputs": [],
   "source": [
    "useColors = pal.colorbrewer.qualitative.Set1_6.hex_colors\n",
    "newDFmtab.plot(kind = 'barh',color = useColors, figsize = (12,12))"
   ]
  },
  {
   "cell_type": "code",
   "execution_count": null,
   "metadata": {
    "collapsed": false
   },
   "outputs": [],
   "source": [
    "#useColors = pal.colorbrewer.qualitative.Set3_11.hex_colors\n",
    "useColors = pal.colorbrewer.diverging.RdYlBu_11.hex_colors\n",
    "newDFmtab.T.plot(kind = 'barh',color = useColors, figsize = (12,12))"
   ]
  },
  {
   "cell_type": "code",
   "execution_count": null,
   "metadata": {
    "collapsed": false
   },
   "outputs": [],
   "source": [
    "s = plotMetabolism[(plotMetabolism.loc[:,colLabels].values > 0).any(axis=1)]\n",
    "dataToPlot = s.loc[:,colLabels]\n",
    "\n",
    "pGroup = pd.unique(plotMetabolism.pathwayGroup_B.ravel())\n",
    "newDFmtab = pd.DataFrame(index = pGroup,columns = cpdLabels)\n",
    "\n",
    "for i, group in s.groupby('pathwayGroup_C'):\n",
    "    d2 = group.loc[:,cpdLabels]\n",
    "    out = d2.sum(axis=0)\n",
    "    newDFmtab.loc[i,cpdLabels] = out\n",
    "\n",
    "# The global and overview maps will be empty, so get rid of it\n",
    "newDFmtab = newDFmtab.drop(['Global and overview maps'])\n",
    "\n",
    "useColors = pal.colorbrewer.qualitative.Set1_6.hex_colors\n",
    "newDFmtab.plot(kind = 'barh',color = useColors,figsize = (12,192))"
   ]
  },
  {
   "cell_type": "code",
   "execution_count": null,
   "metadata": {
    "collapsed": false
   },
   "outputs": [],
   "source": [
    "s = plotMetabolism[(plotMetabolism.loc[:,geneLabels].values > 0).any(axis=1)]\n",
    "dataToPlot = s.loc[:,geneLabels]\n",
    "\n",
    "pGroup = pd.unique(plotMetabolism.pathwayGroup_B.ravel())\n",
    "newDFmtab = pd.DataFrame(index = pGroup,columns = geneLabels)\n",
    "\n",
    "for i, group in s.groupby('pathwayGroup_C'):\n",
    "    d2 = group.loc[:,geneLabels]\n",
    "    out = d2.sum(axis=0)\n",
    "    newDFmtab.loc[i,geneLabels] = out\n",
    "\n",
    "# The global and overview maps will be empty, so get rid of it\n",
    "newDFmtab = newDFmtab.drop(['Global and overview maps'])\n",
    "\n",
    "useColors = pal.colorbrewer.qualitative.Set1_6.hex_colors\n",
    "newDFmtab.plot(kind = 'barh',color = useColors,figsize = (12,192))"
   ]
  },
  {
   "cell_type": "markdown",
   "metadata": {},
   "source": [
    "Liz wants to think about ratio of genes at one time point versus\n",
    "another...I think this will be driven by the small numbers again"
   ]
  },
  {
   "cell_type": "code",
   "execution_count": null,
   "metadata": {
    "collapsed": false
   },
   "outputs": [],
   "source": [
    "dtm = forRelatedness_regular.loc[:,'S2']/forRelatedness_regular.loc[:,'S3']\n",
    "#how many cases do we have with genes/compounds 10x greater at S2?\n",
    "r = dtm[dtm>10]\n",
    "r.replace(np.inf,np.nan).dropna() #replace inf with NaN, then drop the NaN"
   ]
  },
  {
   "cell_type": "code",
   "execution_count": null,
   "metadata": {
    "collapsed": false
   },
   "outputs": [],
   "source": [
    "ax2 = dtm.plot.box()\n",
    "ax2.set_yscale('log')"
   ]
  },
  {
   "cell_type": "markdown",
   "metadata": {
    "collapsed": true
   },
   "source": [
    "Consider diversity of other EC/genes (lots of examples follow)"
   ]
  },
  {
   "cell_type": "code",
   "execution_count": 8,
   "metadata": {
    "collapsed": false
   },
   "outputs": [],
   "source": [
    "def plotOneGene(kid):#explore...plot one gene here rather than digging it up from the folders\n",
    "    #kid='K03183'\n",
    "    allK=InsituTPMGrped[InsituTPMGrped['kID']==kid].sum()\n",
    "    allK=allK.drop('kID')\n",
    "    allK=allK.astype('float')\n",
    "    allK\n",
    "\n",
    "    if kid in Insitu_TPM_DIA.index.tolist():\n",
    "        Dk=Insitu_TPM_DIA.loc[kid]\n",
    "    else: \n",
    "        Dk = 0/allK\n",
    "\n",
    "    if kid in Insitu_TPM_DIN.index.tolist():\n",
    "        Nk=Insitu_TPM_DIN.loc[kid]\n",
    "    else:\n",
    "        Nk = 0/allK\n",
    "\n",
    "    if kid in Insitu_TPM_Oth.index.tolist():\n",
    "        Ok=Insitu_TPM_Oth.loc[kid]\n",
    "    else:\n",
    "        Ok = 0/allK\n",
    "        \n",
    "    #try not to plot things that are all NaN (though this will allow 'zeros', and\n",
    "    #definitely have cases with 0 and NaN for a given gene)    \n",
    "    if not Dk.dropna().empty and not Nk.dropna().empty and not Ok.dropna().empty: #only plot with data!\n",
    "        fig,ax=plt.subplots(1)\n",
    "        ax.stackplot(range(5), Dk, Nk, Ok, colors=pal.colorbrewer.qualitative.Set3_6_r.hex_colors, lw=0)\n",
    "        ax.set_xticks(range(5))\n",
    "        ax.set_xticklabels([1,2,3,4,5])\n",
    "        fig.set_size_inches(2,2) #this is a property of the figure, not the axis...\n",
    "        plt.title(kid)\n",
    "        # ax.set_ylim(0,1)\n",
    "        #fig.savefig(kid +'_numbers_forTalk.pdf')"
   ]
  },
  {
   "cell_type": "code",
   "execution_count": 9,
   "metadata": {
    "collapsed": true
   },
   "outputs": [],
   "source": [
    "#given a gene, go get all possible EC numbers, use them to search for other genes with that EC, and plot\n",
    "#this will skip over genes that are not in the RI data\n",
    "def plotMultipleEC(kid):\n",
    "    getOne = kegg_list(kid).read()\n",
    "    geneList = []\n",
    "\n",
    "    for line in getOne.rstrip().split('\\n'):\n",
    "        r1 = line.find(\"[EC:\")\n",
    "        r2 = line.find(\"]\")\n",
    "        r = line[(r1+4):r2]\n",
    "        r3 = r.split(' ')\n",
    "        #now that I have the EC numbers...get the genes for each one\n",
    "        for idx in r3:\n",
    "            getK = kegg_link('ko',idx).read()\n",
    "            for line3 in re.split('\\n',getK):\n",
    "                if line3 is not '':\n",
    "                    ge = line3.find('ko')\n",
    "                    t = line3[ge+3:]\n",
    "                    geneList.append(t)\n",
    "    geneList = set(geneList) #this will make the list of unique genes...can print that up\n",
    "\n",
    "    for idx in geneList:\n",
    "        plotOneGene(idx) #plotting function has already been defined above..."
   ]
  },
  {
   "cell_type": "code",
   "execution_count": 30,
   "metadata": {
    "collapsed": false
   },
   "outputs": [
    {
     "data": {
      "image/png": "[encoded data removed]",
      "text/plain": [
       "<matplotlib.figure.Figure at 0x5d8dcc88>"
      ]
     },
     "metadata": {},
     "output_type": "display_data"
    }
   ],
   "source": [
    "#in some cases, only get back the one gene we started with\n",
    "plotMultipleEC('K01830')"
   ]
  },
  {
   "cell_type": "code",
   "execution_count": 21,
   "metadata": {
    "collapsed": false
   },
   "outputs": [
    {
     "data": {
      "image/png": "[encoded data removed]",
      "text/plain": [
       "<matplotlib.figure.Figure at 0x400e8828>"
      ]
     },
     "metadata": {},
     "output_type": "display_data"
    },
    {
     "data": {
      "image/png": "[encoded data removed]",
      "text/plain": [
       "<matplotlib.figure.Figure at 0x39dba358>"
      ]
     },
     "metadata": {},
     "output_type": "display_data"
    },
    {
     "data": {
      "image/png": "[encoded data removed]",
      "text/plain": [
       "<matplotlib.figure.Figure at 0x488d1f60>"
      ]
     },
     "metadata": {},
     "output_type": "display_data"
    },
    {
     "data": {
      "image/png": "[encoded data removed]",
      "text/plain": [
       "<matplotlib.figure.Figure at 0x25f69978>"
      ]
     },
     "metadata": {},
     "output_type": "display_data"
    },
    {
     "data": {
      "image/png": "[encoded data removed]",
      "text/plain": [
       "<matplotlib.figure.Figure at 0x50dde320>"
      ]
     },
     "metadata": {},
     "output_type": "display_data"
    }
   ],
   "source": [
    "##KL note for Harriet: this is an ADP-ribose pyrophosphate...in the upper left corner \n",
    "##of the purine pathway\n",
    "plotMultipleEC('K13988')"
   ]
  },
  {
   "cell_type": "code",
   "execution_count": 39,
   "metadata": {
    "collapsed": false
   },
   "outputs": [
    {
     "data": {
      "image/png": "[encoded data removed]",
      "text/plain": [
       "<matplotlib.figure.Figure at 0x395fe198>"
      ]
     },
     "metadata": {},
     "output_type": "display_data"
    },
    {
     "data": {
      "image/png": "[encoded data removed]",
      "text/plain": [
       "<matplotlib.figure.Figure at 0x463838d0>"
      ]
     },
     "metadata": {},
     "output_type": "display_data"
    }
   ],
   "source": [
    "#example of something high at S2, but another version of the gene is steady throughout\n",
    "#lipid: arachidonic acid metabolism\n",
    "plotMultipleEC('K00509')"
   ]
  },
  {
   "cell_type": "code",
   "execution_count": 42,
   "metadata": {
    "collapsed": false
   },
   "outputs": [
    {
     "data": {
      "image/png": "[encoded data removed]",
      "text/plain": [
       "<matplotlib.figure.Figure at 0x5d4a2898>"
      ]
     },
     "metadata": {},
     "output_type": "display_data"
    },
    {
     "data": {
      "image/png": "[encoded data removed]",
      "text/plain": [
       "<matplotlib.figure.Figure at 0x398831d0>"
      ]
     },
     "metadata": {},
     "output_type": "display_data"
    },
    {
     "data": {
      "image/png": "[encoded data removed]",
      "text/plain": [
       "<matplotlib.figure.Figure at 0x34f0f2b0>"
      ]
     },
     "metadata": {},
     "output_type": "display_data"
    },
    {
     "data": {
      "image/png": "[encoded data removed]",
      "text/plain": [
       "<matplotlib.figure.Figure at 0x31050320>"
      ]
     },
     "metadata": {},
     "output_type": "display_data"
    },
    {
     "data": {
      "image/png": "[encoded data removed]",
      "text/plain": [
       "<matplotlib.figure.Figure at 0x4c3761d0>"
      ]
     },
     "metadata": {},
     "output_type": "display_data"
    },
    {
     "data": {
      "image/png": "[encoded data removed]",
      "text/plain": [
       "<matplotlib.figure.Figure at 0x54ff91d0>"
      ]
     },
     "metadata": {},
     "output_type": "display_data"
    },
    {
     "data": {
      "image/png": "[encoded data removed]",
      "text/plain": [
       "<matplotlib.figure.Figure at 0x2e648ba8>"
      ]
     },
     "metadata": {},
     "output_type": "display_data"
    },
    {
     "data": {
      "image/png": "[encoded data removed]",
      "text/plain": [
       "<matplotlib.figure.Figure at 0x3092dda0>"
      ]
     },
     "metadata": {},
     "output_type": "display_data"
    },
    {
     "data": {
      "image/png": "[encoded data removed]",
      "text/plain": [
       "<matplotlib.figure.Figure at 0x46383dd8>"
      ]
     },
     "metadata": {},
     "output_type": "display_data"
    },
    {
     "data": {
      "image/png": "[encoded data removed]",
      "text/plain": [
       "<matplotlib.figure.Figure at 0x59ab10f0>"
      ]
     },
     "metadata": {},
     "output_type": "display_data"
    },
    {
     "data": {
      "image/png": "[encoded data removed]",
      "text/plain": [
       "<matplotlib.figure.Figure at 0x4a53e358>"
      ]
     },
     "metadata": {},
     "output_type": "display_data"
    },
    {
     "data": {
      "image/png": "[encoded data removed]",
      "text/plain": [
       "<matplotlib.figure.Figure at 0x2cf76390>"
      ]
     },
     "metadata": {},
     "output_type": "display_data"
    },
    {
     "data": {
      "image/png": "[encoded data removed]",
      "text/plain": [
       "<matplotlib.figure.Figure at 0x48f14550>"
      ]
     },
     "metadata": {},
     "output_type": "display_data"
    },
    {
     "data": {
      "image/png": "[encoded data removed]",
      "text/plain": [
       "<matplotlib.figure.Figure at 0x48f180f0>"
      ]
     },
     "metadata": {},
     "output_type": "display_data"
    },
    {
     "data": {
      "image/png": "[encoded data removed]",
      "text/plain": [
       "<matplotlib.figure.Figure at 0x400c5c50>"
      ]
     },
     "metadata": {},
     "output_type": "display_data"
    }
   ],
   "source": [
    "plotMultipleEC('K17690')"
   ]
  },
  {
   "cell_type": "code",
   "execution_count": 45,
   "metadata": {
    "collapsed": false
   },
   "outputs": [
    {
     "data": {
      "image/png": "[encoded data removed]",
      "text/plain": [
       "<matplotlib.figure.Figure at 0x37349cc0>"
      ]
     },
     "metadata": {},
     "output_type": "display_data"
    },
    {
     "data": {
      "image/png": "[encoded data removed]",
      "text/plain": [
       "<matplotlib.figure.Figure at 0x33493be0>"
      ]
     },
     "metadata": {},
     "output_type": "display_data"
    },
    {
     "data": {
      "image/png": "[encoded data removed]",
      "text/plain": [
       "<matplotlib.figure.Figure at 0x550c6390>"
      ]
     },
     "metadata": {},
     "output_type": "display_data"
    }
   ],
   "source": [
    "plotMultipleEC('K12343')"
   ]
  },
  {
   "cell_type": "code",
   "execution_count": null,
   "metadata": {
    "collapsed": true
   },
   "outputs": [],
   "source": []
  },
  {
   "cell_type": "code",
   "execution_count": null,
   "metadata": {
    "collapsed": true
   },
   "outputs": [],
   "source": []
  },
  {
   "cell_type": "code",
   "execution_count": null,
   "metadata": {
    "collapsed": true
   },
   "outputs": [],
   "source": []
  },
  {
   "cell_type": "code",
   "execution_count": null,
   "metadata": {
    "collapsed": true
   },
   "outputs": [],
   "source": [
    "#leave bits below for the moment..."
   ]
  }
 ],
 "metadata": {
  "kernelspec": {
   "display_name": "Python 2",
   "language": "python",
   "name": "python2"
  },
  "language_info": {
   "codemirror_mode": {
    "name": "ipython",
    "version": 2
   },
   "file_extension": ".py",
   "mimetype": "text/x-python",
   "name": "python",
   "nbconvert_exporter": "python",
   "pygments_lexer": "ipython2",
   "version": "2.7.9"
  }
 },
 "nbformat": 4,
 "nbformat_minor": 0
}
