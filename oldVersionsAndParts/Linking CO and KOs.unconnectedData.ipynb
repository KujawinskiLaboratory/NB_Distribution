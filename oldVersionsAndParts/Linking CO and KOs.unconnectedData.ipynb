{
 "cells": [
  {
   "cell_type": "markdown",
   "metadata": {},
   "source": [
    "# Krista, working on linking CO and KO\n",
    "#from HA species...2/10/2016 "
   ]
  },
  {
   "cell_type": "code",
   "execution_count": 2,
   "metadata": {
    "collapsed": false
   },
   "outputs": [],
   "source": [
    "import pandas as pd\n",
    "import urllib2\n",
    "from bs4 import BeautifulSoup\n",
    "import re\n",
    "from sklearn.cluster import KMeans\n",
    "# import palettable as pal\n",
    "\n",
    "from itertools import chain\n",
    "import os\n",
    "import os.path #? not sure if I need both\n",
    "import glob\n",
    "import numpy as np\n",
    "from IPython.core.debugger import Tracer #used this to step into the function and debug it, also need line with Tracer()() \n",
    "\n",
    "import matplotlib.pyplot as plt\n",
    "import matplotlib as mpl #KL moved this here 2/12/2016\n",
    "#BUT...then messes with the plotting\n",
    "mpl.rcParams['pdf.fonttype'] = 42\n",
    "%matplotlib inline\n",
    "from collections import Counter\n",
    "import cPickle as cpk\n",
    "\n",
    "from stackedBarGraph import StackedBarGrapher\n",
    "SBG = StackedBarGrapher()\n",
    "\n"
   ]
  },
  {
   "cell_type": "markdown",
   "metadata": {},
   "source": [
    "Also, will need to export the following from MATLAB\n",
    "(1) RInumber, (2) CO number, (3) ion mode information\n",
    "\n",
    "The KEGG CO numbers from the RI data are not unique. In MATLAB, I have created a new value 'RInumber' which is an arbitrary number for each 'mzRT' feature. The data exported out of MATLAB include that number, the corresponding KEGG CO number, and whether the feature was observed in positive or negative ion mode. These data will be uesd to create a lookup table which allow use of the CO numbers or RInumbers as needed."
   ]
  },
  {
   "cell_type": "code",
   "execution_count": 3,
   "metadata": {
    "collapsed": false
   },
   "outputs": [],
   "source": [
    "mtabFile = 'RImetabolites_isomers.2015.08.27.csv' #first column is RInumber"
   ]
  },
  {
   "cell_type": "code",
   "execution_count": 4,
   "metadata": {
    "collapsed": false
   },
   "outputs": [
    {
     "data": {
      "text/html": [
       "<div>\n",
       "<table border=\"1\" class=\"dataframe\">\n",
       "  <thead>\n",
       "    <tr style=\"text-align: right;\">\n",
       "      <th></th>\n",
       "      <th>cNumber</th>\n",
       "      <th>ChargedMass</th>\n",
       "      <th>RT</th>\n",
       "      <th>ionMode</th>\n",
       "      <th>S1</th>\n",
       "      <th>S2</th>\n",
       "      <th>S3</th>\n",
       "      <th>S4</th>\n",
       "      <th>S5</th>\n",
       "    </tr>\n",
       "    <tr>\n",
       "      <th>RInumber</th>\n",
       "      <th></th>\n",
       "      <th></th>\n",
       "      <th></th>\n",
       "      <th></th>\n",
       "      <th></th>\n",
       "      <th></th>\n",
       "      <th></th>\n",
       "      <th></th>\n",
       "      <th></th>\n",
       "    </tr>\n",
       "  </thead>\n",
       "  <tbody>\n",
       "    <tr>\n",
       "      <th>RI1</th>\n",
       "      <td>C06593</td>\n",
       "      <td>114.091340</td>\n",
       "      <td>420.6627</td>\n",
       "      <td>positive</td>\n",
       "      <td>0.005583</td>\n",
       "      <td>0.005715</td>\n",
       "      <td>0.006027</td>\n",
       "      <td>0.002645</td>\n",
       "      <td>0.003441</td>\n",
       "    </tr>\n",
       "    <tr>\n",
       "      <th>RI2</th>\n",
       "      <td>C01585</td>\n",
       "      <td>117.091006</td>\n",
       "      <td>343.2985</td>\n",
       "      <td>positive</td>\n",
       "      <td>0.000305</td>\n",
       "      <td>0.000486</td>\n",
       "      <td>0.000613</td>\n",
       "      <td>0.000389</td>\n",
       "      <td>0.000436</td>\n",
       "    </tr>\n",
       "    <tr>\n",
       "      <th>RI3</th>\n",
       "      <td>C02948</td>\n",
       "      <td>117.091006</td>\n",
       "      <td>343.2985</td>\n",
       "      <td>positive</td>\n",
       "      <td>0.000305</td>\n",
       "      <td>0.000486</td>\n",
       "      <td>0.000613</td>\n",
       "      <td>0.000389</td>\n",
       "      <td>0.000436</td>\n",
       "    </tr>\n",
       "    <tr>\n",
       "      <th>RI4</th>\n",
       "      <td>C03739</td>\n",
       "      <td>117.091006</td>\n",
       "      <td>343.2985</td>\n",
       "      <td>positive</td>\n",
       "      <td>0.000305</td>\n",
       "      <td>0.000486</td>\n",
       "      <td>0.000613</td>\n",
       "      <td>0.000389</td>\n",
       "      <td>0.000436</td>\n",
       "    </tr>\n",
       "    <tr>\n",
       "      <th>RI5</th>\n",
       "      <td>C12293</td>\n",
       "      <td>117.091006</td>\n",
       "      <td>343.2985</td>\n",
       "      <td>positive</td>\n",
       "      <td>0.000305</td>\n",
       "      <td>0.000486</td>\n",
       "      <td>0.000613</td>\n",
       "      <td>0.000389</td>\n",
       "      <td>0.000436</td>\n",
       "    </tr>\n",
       "  </tbody>\n",
       "</table>\n",
       "</div>"
      ],
      "text/plain": [
       "         cNumber  ChargedMass        RT   ionMode        S1        S2  \\\n",
       "RInumber                                                                \n",
       "RI1       C06593   114.091340  420.6627  positive  0.005583  0.005715   \n",
       "RI2       C01585   117.091006  343.2985  positive  0.000305  0.000486   \n",
       "RI3       C02948   117.091006  343.2985  positive  0.000305  0.000486   \n",
       "RI4       C03739   117.091006  343.2985  positive  0.000305  0.000486   \n",
       "RI5       C12293   117.091006  343.2985  positive  0.000305  0.000486   \n",
       "\n",
       "                S3        S4        S5  \n",
       "RInumber                                \n",
       "RI1       0.006027  0.002645  0.003441  \n",
       "RI2       0.000613  0.000389  0.000436  \n",
       "RI3       0.000613  0.000389  0.000436  \n",
       "RI4       0.000613  0.000389  0.000436  \n",
       "RI5       0.000613  0.000389  0.000436  "
      ]
     },
     "execution_count": 4,
     "metadata": {},
     "output_type": "execute_result"
    }
   ],
   "source": [
    "CO_fromMATLAB=pd.read_csv(mtabFile, index_col='RInumber')\n",
    "# CO_fromMATLAB=CO_RawData[CO_RawData.sum(axis=1)!=0]\n",
    "#read in the data from MATLAB and take a quick look\n",
    "CO_fromMATLAB.head(n=5)"
   ]
  },
  {
   "cell_type": "markdown",
   "metadata": {},
   "source": [
    "make the list of unique cNumbers here, do the KEGG thing and filter the list before I start splitting up the dataframes into data and metadata..."
   ]
  },
  {
   "cell_type": "code",
   "execution_count": 5,
   "metadata": {
    "collapsed": false
   },
   "outputs": [],
   "source": [
    "#make a list of the unique CO numbers for the CreateHash_COtoKO.py. Export the list as CSV\n",
    "td = CO_fromMATLAB.groupby('cNumber').count()\n",
    "COnumbers = td.drop(list(td.columns.values),axis=1)\n",
    "del td\n",
    "COnumbers.to_csv('exportCOnumbers.csv',header=True)"
   ]
  },
  {
   "cell_type": "markdown",
   "metadata": {},
   "source": [
    "###Write a couple of functions to swap between CO and RInumbers"
   ]
  },
  {
   "cell_type": "code",
   "execution_count": 6,
   "metadata": {
    "collapsed": true
   },
   "outputs": [],
   "source": [
    "def findRInumber(dataIn,KEGGin):\n",
    "    #find possible RI numbers for a given KEGG number. \n",
    "    dataOut = []\n",
    "    for i,KEGG in enumerate(dataIn['KEGG']):\n",
    "        if KEGG == KEGGin:\n",
    "            t = dataIn.index[i]\n",
    "            dataOut.append(t)\n",
    "    return dataOut\n",
    "\n",
    "##For example: this will give back one row, C18028 will be multiple\n",
    "#m = findRInumber(forRelatedness,'C00078') "
   ]
  },
  {
   "cell_type": "code",
   "execution_count": 7,
   "metadata": {
    "collapsed": true
   },
   "outputs": [],
   "source": [
    "def convertRItoCO(dataIn,RIin):\n",
    "    #do the reverse, given an RInumber find the cNumber\n",
    "    dataOut = dataIn.loc[RIin].loc['cNumber']\n",
    "    return dataOut\n",
    "\n",
    "##This will always be a single value\n",
    "#m = convertRItoCO(forRelatedness,'RI2')"
   ]
  },
  {
   "cell_type": "code",
   "execution_count": 8,
   "metadata": {
    "collapsed": true
   },
   "outputs": [],
   "source": [
    "#slight change, no need to send in a comparison file if it always the same thing\n",
    "def convertRItoCO2(RIin):\n",
    "    #do the reverse, given an RInumber find the cNumber\n",
    "    dataOut = CO_fromMATLAB.loc[RIin].loc['cNumber']\n",
    "    return dataOut\n",
    "\n",
    "##This will always be a single value, also uses CO_fromMATLAB as input "
   ]
  },
  {
   "cell_type": "code",
   "execution_count": 9,
   "metadata": {
    "collapsed": false
   },
   "outputs": [],
   "source": [
    "#but had trouble getting a tuple to work as an index.\n",
    "dayList = ['S1','S2','S3','S4','S5'] #this makes a list (mutable, can be changed)\n",
    "CO_RawData = CO_fromMATLAB.loc[:,dayList]"
   ]
  },
  {
   "cell_type": "code",
   "execution_count": 10,
   "metadata": {
    "collapsed": false
   },
   "outputs": [
    {
     "data": {
      "text/html": [
       "<div>\n",
       "<table border=\"1\" class=\"dataframe\">\n",
       "  <thead>\n",
       "    <tr style=\"text-align: right;\">\n",
       "      <th></th>\n",
       "      <th>S1</th>\n",
       "      <th>S2</th>\n",
       "      <th>S3</th>\n",
       "      <th>S4</th>\n",
       "      <th>S5</th>\n",
       "    </tr>\n",
       "    <tr>\n",
       "      <th>RInumber</th>\n",
       "      <th></th>\n",
       "      <th></th>\n",
       "      <th></th>\n",
       "      <th></th>\n",
       "      <th></th>\n",
       "    </tr>\n",
       "  </thead>\n",
       "  <tbody>\n",
       "    <tr>\n",
       "      <th>RI1</th>\n",
       "      <td>0.005583</td>\n",
       "      <td>0.005715</td>\n",
       "      <td>0.006027</td>\n",
       "      <td>0.002645</td>\n",
       "      <td>0.003441</td>\n",
       "    </tr>\n",
       "    <tr>\n",
       "      <th>RI2</th>\n",
       "      <td>0.000305</td>\n",
       "      <td>0.000486</td>\n",
       "      <td>0.000613</td>\n",
       "      <td>0.000389</td>\n",
       "      <td>0.000436</td>\n",
       "    </tr>\n",
       "    <tr>\n",
       "      <th>RI3</th>\n",
       "      <td>0.000305</td>\n",
       "      <td>0.000486</td>\n",
       "      <td>0.000613</td>\n",
       "      <td>0.000389</td>\n",
       "      <td>0.000436</td>\n",
       "    </tr>\n",
       "    <tr>\n",
       "      <th>RI4</th>\n",
       "      <td>0.000305</td>\n",
       "      <td>0.000486</td>\n",
       "      <td>0.000613</td>\n",
       "      <td>0.000389</td>\n",
       "      <td>0.000436</td>\n",
       "    </tr>\n",
       "    <tr>\n",
       "      <th>RI5</th>\n",
       "      <td>0.000305</td>\n",
       "      <td>0.000486</td>\n",
       "      <td>0.000613</td>\n",
       "      <td>0.000389</td>\n",
       "      <td>0.000436</td>\n",
       "    </tr>\n",
       "  </tbody>\n",
       "</table>\n",
       "</div>"
      ],
      "text/plain": [
       "                S1        S2        S3        S4        S5\n",
       "RInumber                                                  \n",
       "RI1       0.005583  0.005715  0.006027  0.002645  0.003441\n",
       "RI2       0.000305  0.000486  0.000613  0.000389  0.000436\n",
       "RI3       0.000305  0.000486  0.000613  0.000389  0.000436\n",
       "RI4       0.000305  0.000486  0.000613  0.000389  0.000436\n",
       "RI5       0.000305  0.000486  0.000613  0.000389  0.000436"
      ]
     },
     "execution_count": 10,
     "metadata": {},
     "output_type": "execute_result"
    }
   ],
   "source": [
    "CO_RawData.head(5)"
   ]
  },
  {
   "cell_type": "code",
   "execution_count": 11,
   "metadata": {
    "collapsed": false
   },
   "outputs": [],
   "source": [
    "#Load PhytoKEGG Annotations\n",
    "#from Harriet...doesn't work, complaining about header=False \n",
    "#AllPhytoKO_ann=pd.read_table('AllPhytoKegg_annotated.tab', header=False, delimiter='\\t')\n",
    "# Z:\\KLtemp\\TranscriptomicsData_Feb2016\n",
    "#try this instead (note double \\\\ at end)\n",
    "pathToData = 'Z:\\KLtemp\\TranscriptomicsData_Feb2016\\\\'\n",
    "AllPhytoKO_ann=pd.read_table((pathToData + 'AllPhytoKegg_annotated.tab'), delimiter='\\t')"
   ]
  },
  {
   "cell_type": "code",
   "execution_count": 12,
   "metadata": {
    "collapsed": false
   },
   "outputs": [],
   "source": [
    "InsituCounts=pd.read_table((pathToData + 'AllInsitu_NoZero.tab'), index_col='gID')"
   ]
  },
  {
   "cell_type": "code",
   "execution_count": 13,
   "metadata": {
    "collapsed": false
   },
   "outputs": [],
   "source": [
    "#normalize to the library size\n",
    "InsituTPM=InsituCounts.copy()\n",
    "InsituTPM[['S1', 'S2', 'S3', 'S4', 'S5']]=(InsituCounts[['S1', 'S2', 'S3', 'S4', 'S5']]/InsituCounts[['S1', 'S2', 'S3', 'S4', 'S5']].sum())*10**6\n",
    "\n",
    "#Add annotation information\n",
    "InsituCounts=InsituCounts.join(AllPhytoKO_ann)\n",
    "InsituTPM=InsituTPM.join(AllPhytoKO_ann)\n",
    "InsituCounts=InsituCounts.dropna()\n",
    "InsituTPM=InsituTPM.dropna()"
   ]
  },
  {
   "cell_type": "code",
   "execution_count": 14,
   "metadata": {
    "collapsed": false
   },
   "outputs": [],
   "source": [
    "KO_RawData=InsituTPM.groupby('kID').sum()"
   ]
  },
  {
   "cell_type": "code",
   "execution_count": 15,
   "metadata": {
    "collapsed": false
   },
   "outputs": [
    {
     "data": {
      "text/html": [
       "<div>\n",
       "<table border=\"1\" class=\"dataframe\">\n",
       "  <thead>\n",
       "    <tr style=\"text-align: right;\">\n",
       "      <th></th>\n",
       "      <th>S1</th>\n",
       "      <th>S2</th>\n",
       "      <th>S3</th>\n",
       "      <th>S4</th>\n",
       "      <th>S5</th>\n",
       "    </tr>\n",
       "    <tr>\n",
       "      <th>kID</th>\n",
       "      <th></th>\n",
       "      <th></th>\n",
       "      <th></th>\n",
       "      <th></th>\n",
       "      <th></th>\n",
       "    </tr>\n",
       "  </thead>\n",
       "  <tbody>\n",
       "    <tr>\n",
       "      <th>K00001</th>\n",
       "      <td>3.418232</td>\n",
       "      <td>4.263402</td>\n",
       "      <td>4.675860</td>\n",
       "      <td>5.484786</td>\n",
       "      <td>7.124730</td>\n",
       "    </tr>\n",
       "    <tr>\n",
       "      <th>K00002</th>\n",
       "      <td>3.530673</td>\n",
       "      <td>3.253258</td>\n",
       "      <td>3.624972</td>\n",
       "      <td>3.035270</td>\n",
       "      <td>3.707540</td>\n",
       "    </tr>\n",
       "    <tr>\n",
       "      <th>K00003</th>\n",
       "      <td>29.043725</td>\n",
       "      <td>19.578968</td>\n",
       "      <td>12.091113</td>\n",
       "      <td>5.617912</td>\n",
       "      <td>8.062782</td>\n",
       "    </tr>\n",
       "    <tr>\n",
       "      <th>K00004</th>\n",
       "      <td>0.449767</td>\n",
       "      <td>0.594202</td>\n",
       "      <td>0.791118</td>\n",
       "      <td>0.639004</td>\n",
       "      <td>0.714706</td>\n",
       "    </tr>\n",
       "    <tr>\n",
       "      <th>K00005</th>\n",
       "      <td>0.157419</td>\n",
       "      <td>0.163406</td>\n",
       "      <td>0.307001</td>\n",
       "      <td>0.319502</td>\n",
       "      <td>0.469026</td>\n",
       "    </tr>\n",
       "  </tbody>\n",
       "</table>\n",
       "</div>"
      ],
      "text/plain": [
       "               S1         S2         S3        S4        S5\n",
       "kID                                                        \n",
       "K00001   3.418232   4.263402   4.675860  5.484786  7.124730\n",
       "K00002   3.530673   3.253258   3.624972  3.035270  3.707540\n",
       "K00003  29.043725  19.578968  12.091113  5.617912  8.062782\n",
       "K00004   0.449767   0.594202   0.791118  0.639004  0.714706\n",
       "K00005   0.157419   0.163406   0.307001  0.319502  0.469026"
      ]
     },
     "execution_count": 15,
     "metadata": {},
     "output_type": "execute_result"
    }
   ],
   "source": [
    "KO_RawData.head(5)"
   ]
  },
  {
   "cell_type": "code",
   "execution_count": 16,
   "metadata": {
    "collapsed": true
   },
   "outputs": [],
   "source": [
    "def NormalizeToMean(DF):\n",
    "    DF_meanNorm=DF.copy()\n",
    "    out=DF_meanNorm.copy()\n",
    "    DF_meanNorm['mean']=DF.mean(axis=1)\n",
    "\n",
    "    for i in out.columns:\n",
    "        out[i]=DF_meanNorm[i]/DF_meanNorm['mean']\n",
    "    DF_meanNorm=DF_meanNorm.T.drop('mean').T\n",
    "    return out\n",
    "\n",
    "def NormalizeToMax(DF):\n",
    "    DF_meanNorm=DF.copy()\n",
    "    out=DF_meanNorm.copy()\n",
    "    DF_meanNorm['max']=DF.max(axis=1)\n",
    "    for i in out.columns:\n",
    "        out[i]=DF_meanNorm[i]/DF_meanNorm['max']\n",
    "    DF_meanNorm=DF_meanNorm.T.drop('max').T\n",
    "    return out\n",
    "\n",
    "def NormalizeToMean_CV(DF):\n",
    "    out=DF.copy()\n",
    "    out['mean']=DF.mean(axis=1)\n",
    "    out['SD']=DF.std(axis=1)\n",
    "    \n",
    "    out['CV']=out['SD']/out['mean']\n",
    "    return out"
   ]
  },
  {
   "cell_type": "code",
   "execution_count": 17,
   "metadata": {
    "collapsed": false
   },
   "outputs": [],
   "source": [
    "#several options for normalizing the data\n",
    "CO_Norm2Mean=NormalizeToMean(CO_RawData) #this is what gets used in the original code\n",
    "KO_Norm2Mean=NormalizeToMean(KO_RawData) #this is what gets used in the original code"
   ]
  },
  {
   "cell_type": "code",
   "execution_count": 18,
   "metadata": {
    "collapsed": true
   },
   "outputs": [],
   "source": [
    "#use _finalOption variable names to make life easier\n",
    "KO_finalOption = KO_Norm2Mean.dropna()\n",
    "CO_finalOption = CO_Norm2Mean.dropna() #already 'limited' this before the normalization"
   ]
  },
  {
   "cell_type": "code",
   "execution_count": 19,
   "metadata": {
    "collapsed": false
   },
   "outputs": [
    {
     "name": "stdout",
     "output_type": "stream",
     "text": [
      "Automatically created module for IPython interactive environment\n"
     ]
    }
   ],
   "source": [
    "from sklearn.metrics import silhouette_samples, silhouette_score\n",
    "\n",
    "import matplotlib.pyplot as plt\n",
    "import matplotlib.cm as cm\n",
    "import numpy as np\n",
    "\n",
    "#this next line prints up some sort of pre-canned details about the program. \n",
    "print(__doc__) \n",
    "\n",
    "def kmeanCluster(data,nc):\n",
    "    #kmeans=KMeans(n_clusters=nc)\n",
    "    kmeans = KMeans(n_clusters = nc, max_iter = 1000, n_init = 50, init = 'random')\n",
    "    kmeans.fit(data)\n",
    "    newData=data.copy()\n",
    "    newData['kmeans']=kmeans.labels_\n",
    "    return newData\n",
    "    \n",
    "def PlotKmeans(KmeansPD, kSize=10, figSizeX=1, figSizeY=5, color='k'):\n",
    "    KmeansPD['kmeans'].plot(kind='hist', bins=kSize, color=color)\n",
    "    fig,axs=plt.subplots(figSizeX, figSizeY)\n",
    "    axs=[item for sublist in axs for item in sublist]\n",
    "    fig.set_size_inches(9,12)\n",
    "    for ax, y in zip(axs,range(kSize)):\n",
    "        pltData=KmeansPD[KmeansPD.kmeans==y].T.drop('kmeans')\n",
    "        pltData.plot(ax=ax, legend=False, grid=False, color=color)"
   ]
  },
  {
   "cell_type": "code",
   "execution_count": 20,
   "metadata": {
    "collapsed": false
   },
   "outputs": [],
   "source": [
    "##First, combine the CO and the KO data\n",
    "#Combined_KO_CO_MeanNorm=KO_limited_Norm2Mean.append(CO_limited_Norm2Mean)\n",
    "Combined_KO_CO_final=KO_finalOption.append(CO_finalOption.loc[:,(dayList)])"
   ]
  },
  {
   "cell_type": "markdown",
   "metadata": {
    "collapsed": true
   },
   "source": [
    "#go back to Kmeans and finding the right group"
   ]
  },
  {
   "cell_type": "code",
   "execution_count": 21,
   "metadata": {
    "collapsed": false
   },
   "outputs": [],
   "source": [
    "filename = 'nClustersRequired.py'\n",
    "%run $filename"
   ]
  },
  {
   "cell_type": "code",
   "execution_count": 22,
   "metadata": {
    "collapsed": false
   },
   "outputs": [],
   "source": [
    "#cheat for the moment...save the data for the data I have as a CSV file and then read it in.\n",
    "#figure out the format later.\n",
    "dataFilename = 'NB_unconnected_combined_for_kmeans.csv'\n",
    "Combined_KO_CO_final.to_csv(dataFilename)\n",
    "\n",
    "data = Data(dataFilename)\n",
    "#pattern_labels are the rows...for us this will the RInumber\n",
    "pattern_labels = []\n",
    "patterns_data, pattern_labels = data.load_data()"
   ]
  },
  {
   "cell_type": "code",
   "execution_count": 23,
   "metadata": {
    "collapsed": true
   },
   "outputs": [],
   "source": [
    "def forest_run(dimensions, patterns, pattern_labels, metric='qe', fNamePrefix = '', k_up=20, k_down=2, simulations=55, iterations=50):\n",
    "    \"\"\"\n",
    "    A method for watching Forest Gump run\n",
    "    :param dimensions: the dimensionality of the data\n",
    "    :param patterns: the data itself\n",
    "    :param metric: the quality metric\n",
    "    :fNamePrefix: put text in here if I want to add a unique prefix to the data file spit out at end\n",
    "    :param k_up: the maximum number of clusters\n",
    "    :param k_down: the minimum number of clusters\n",
    "    :param simulations: the number of simulations for each k\n",
    "    :param iterations: the number of iterations for each k-means pass\n",
    "    \"\"\"\n",
    "    # variable to store the best result\n",
    "    best_clustering = None\n",
    "    # the quality of that result\n",
    "    best_quality = 1000.00\n",
    "    # write results out to file while simulating\n",
    "    file_out = fNamePrefix + 'MonteCarloFinalResults' + '_' + metric + '.csv'\n",
    "    #with open(file_out, 'w', newline='') as f: #newline doesn't work here\n",
    "    with open(file_out,'w') as f:\n",
    "        # different k values to test on\n",
    "        for i in range(k_down, k_up):\n",
    "            num_clusters = i\n",
    "            # number of retries / simulations\n",
    "            print('working on ' , i, '# of kmeans groups') #works, but doesn't look as I intended.\n",
    "            \n",
    "            for j in range(simulations):\n",
    "                # create a clustering solution and apply k-means\n",
    "                clustering = Clustering(dimensions, num_clusters, patterns, 0.0001)\n",
    "                clustering.k_means_clustering(iterations)\n",
    "                # used to compute quality of the solution\n",
    "                quality = ClusteringQuality(clustering, 0.0001)\n",
    "                this_quality = 0.0\n",
    "                if metric == 'qe':\n",
    "                    this_quality = quality.quantization_error()\n",
    "                if metric == 'si':\n",
    "                    this_quality = quality.average_silhouette_index()\n",
    "                if metric == 'db':\n",
    "                    this_quality = quality.davies_bouldin()\n",
    "                # update the best clustering\n",
    "                if this_quality < best_quality:\n",
    "                    best_quality = this_quality\n",
    "                    best_clustering = clustering\n",
    "                    #print(\"Updated best clustering\") #comment out, clogging up display\n",
    "                # write result to the file\n",
    "                result = [num_clusters, this_quality]\n",
    "                for x in result:\n",
    "                    f.write(str(x))\n",
    "                    f.write(\",\")\n",
    "                f.write(\"\\n\")\n",
    "                f.flush()\n",
    "                #print(j, result) #comment out, clogging up display\n",
    "                \n",
    "        # print the actual clustering out to console...comment this out, too much information\n",
    "        #best_clustering.print_solution(pattern_labels)"
   ]
  },
  {
   "cell_type": "code",
   "execution_count": 24,
   "metadata": {
    "collapsed": true
   },
   "outputs": [],
   "source": [
    "dimensions = 5 #this is a function of the data itself. In the NB data we have five sampling days.\n",
    "setSimulations = 100\n",
    "setIterations = 100 #this is the default from the Turing Finance code\n",
    "setKup = 20\n",
    "setKdown = 2"
   ]
  },
  {
   "cell_type": "code",
   "execution_count": 25,
   "metadata": {
    "collapsed": true
   },
   "outputs": [],
   "source": [
    "#for now, set if to False for the forest_run in the next three cells...that is time consuming"
   ]
  },
  {
   "cell_type": "code",
   "execution_count": 26,
   "metadata": {
    "collapsed": false
   },
   "outputs": [],
   "source": [
    "prefix = 'unconnected_norm2mean_'\n",
    "\n",
    "if False:   \n",
    "    forest_run(dimensions, patterns_data, pattern_labels, metric='db', fNamePrefix = prefix,\n",
    "           simulations=setSimulations, k_down=setKdown, k_up=setKup, iterations = setIterations)\n",
    "\n",
    "#read in the results\n",
    "riScores_db=pd.read_csv((prefix + 'MonteCarloFinalResults_db.csv'),header=None,delimiter=',',\n",
    "                index_col=False,names=['nClusters', 'score'])\n",
    "\n",
    "#optimal cluster solution has the smallest Davies-Bouldin index"
   ]
  },
  {
   "cell_type": "code",
   "execution_count": 27,
   "metadata": {
    "collapsed": false
   },
   "outputs": [
    {
     "data": {
      "image/png": "[encoded data removed]",
      "text/plain": [
       "<matplotlib.figure.Figure at 0x54925358>"
      ]
     },
     "metadata": {},
     "output_type": "display_data"
    }
   ],
   "source": [
    "grouped = riScores_db.groupby('nClusters')\n",
    "means = grouped.mean().unstack()\n",
    "errors = grouped.std().unstack()\n",
    "fig, ax = plt.subplots()\n",
    "plt.plot(range(setKdown,setKup),means,marker = 'o',color = '#1b9e77')\n",
    "plt.errorbar(range(setKdown,setKup),means,errors,marker = 'o',color = '#1b9e77')\n",
    "plt.title('Kmeans, Davies-Bouldin')\n",
    "ax.set_xlabel('nClusters')\n",
    "plt.show() #??? why is now showing all plots?"
   ]
  },
  {
   "cell_type": "code",
   "execution_count": 28,
   "metadata": {
    "collapsed": false
   },
   "outputs": [
    {
     "data": {
      "text/plain": [
       "{u'eps': u'Encapsulated Postscript',\n",
       " u'jpeg': u'Joint Photographic Experts Group',\n",
       " u'jpg': u'Joint Photographic Experts Group',\n",
       " u'pdf': u'Portable Document Format',\n",
       " u'pgf': u'PGF code for LaTeX',\n",
       " u'png': u'Portable Network Graphics',\n",
       " u'ps': u'Postscript',\n",
       " u'raw': u'Raw RGBA bitmap',\n",
       " u'rgba': u'Raw RGBA bitmap',\n",
       " u'svg': u'Scalable Vector Graphics',\n",
       " u'svgz': u'Scalable Vector Graphics',\n",
       " u'tif': u'Tagged Image File Format',\n",
       " u'tiff': u'Tagged Image File Format'}"
      ]
     },
     "execution_count": 28,
     "metadata": {},
     "output_type": "execute_result"
    },
    {
     "data": {
      "text/plain": [
       "<matplotlib.figure.Figure at 0x1b78aac8>"
      ]
     },
     "metadata": {},
     "output_type": "display_data"
    }
   ],
   "source": [
    "plt.gcf().canvas.get_supported_filetypes()"
   ]
  },
  {
   "cell_type": "code",
   "execution_count": 29,
   "metadata": {
    "collapsed": true
   },
   "outputs": [],
   "source": [
    "# #need this to make a file where the text is actually editable (as oppossed to outlines)\n",
    "# #import matplotlib as mpl #KL moved to first cell 2/12/2016\n",
    "fig.savefig('DaviesBouldin_allGenesAndCpds.pdf')"
   ]
  },
  {
   "cell_type": "code",
   "execution_count": 30,
   "metadata": {
    "collapsed": false
   },
   "outputs": [],
   "source": [
    "if False:\n",
    "    prefix = 'unconnected_norm2mean_'\n",
    "\n",
    "    if False:\n",
    "        forest_run(dimensions, patterns_data, pattern_labels, metric='qe', fNamePrefix = prefix,\n",
    "               simulations=setSimulations, k_down=setKdown, k_up=setKup, iterations = setIterations)\n",
    "\n",
    "    #now read in the results\n",
    "    riScores_qe=pd.read_csv((prefix + 'MonteCarloFinalResults_qe.csv'),header=None,delimiter=',',\n",
    "                    index_col=False,names=['nClusters', 'score'])\n",
    "\n",
    "    #goal is to minimize quantization error. QE is the distance between a sample\n",
    "    #and its representation. Lower quantization errors represent a good data cluster.\n",
    "    grouped = riScores_qe.groupby('nClusters')\n",
    "    means = grouped.mean().unstack()\n",
    "    errors = grouped.std().unstack()\n",
    "    fig, ax = plt.subplots()\n",
    "    plt.plot(range(setKdown,setKup),means,marker = 'o',color = '#1b9e77')\n",
    "    plt.errorbar(range(setKdown,setKup),means,errors,marker = 'o',color = '#1b9e77')\n",
    "    plt.title('Kmeans, Quantization error')\n",
    "    ax.set_xlabel('nClusters')\n",
    "    plt.show()"
   ]
  },
  {
   "cell_type": "code",
   "execution_count": 31,
   "metadata": {
    "collapsed": false
   },
   "outputs": [],
   "source": [
    "if False: ##silhouette is really slow cfd to the other\n",
    "    prefix = 'newKO_norm2mean_'\n",
    "\n",
    "    # #silhouette is quite slow cfd to the other two metrics\n",
    "    if False:\n",
    "        forest_run(dimensions, patterns_data, pattern_labels, metric='si', fNamePrefix = prefix,\n",
    "               simulations=setSimulations, k_down=setKdown, k_up=setKup, iterations = setIterations)\n",
    "\n",
    "    riScores_si=pd.read_csv((prefix + 'MonteCarloFinalResults_si.csv'),header=None,delimiter=',',\n",
    "                    index_col=False,names=['nClusters', 'score'])\n",
    "\n",
    "\n",
    "    ##note, want to maximize the silhouette value for each pattern in the dataset\n",
    "    grouped = riScores_si.groupby('nClusters')\n",
    "    means = grouped.mean().unstack()\n",
    "    errors = grouped.std().unstack()\n",
    "    fig, ax = plt.subplots()\n",
    "    plt.plot(range(setKdown,setKup),means,marker = 'o',color = '#1b9e77')\n",
    "    plt.errorbar(range(setKdown,setKup),means,errors,marker = 'o',color = '#1b9e77')\n",
    "    plt.title('Kmeans, silhouette index')\n",
    "    ax.set_xlabel('nClusters')\n",
    "    plt.show()\n",
    "\n",
    "    #remember, want to maximize this value"
   ]
  },
  {
   "cell_type": "markdown",
   "metadata": {
    "collapsed": true
   },
   "source": [
    "#Move forward with 'best' number of clusters"
   ]
  },
  {
   "cell_type": "code",
   "execution_count": 106,
   "metadata": {
    "collapsed": true
   },
   "outputs": [],
   "source": [
    "#setting # of clusters manually, also some good options with lower # of clusters I think\n",
    "#this number will get used later when plotting up the BRITE categories and the Kmeans clusters\n",
    "# makeNclusters = 7  #optimal based on Davies-Bouldin\n",
    "makeNclusters = 6 #allows direct comparison to connected data"
   ]
  },
  {
   "cell_type": "code",
   "execution_count": 107,
   "metadata": {
    "collapsed": true
   },
   "outputs": [],
   "source": [
    "#do the K-means clustering with the final # of clusters\n",
    "CcoClust=kmeanCluster(Combined_KO_CO_final, makeNclusters) #was 18 \n",
    "\n",
    "#this will result in a data frame with the kmeans cluster as an added column. Remember\n",
    "#this will have RI numbers for the compounds"
   ]
  },
  {
   "cell_type": "code",
   "execution_count": 110,
   "metadata": {
    "collapsed": false
   },
   "outputs": [
    {
     "data": {
      "image/png": "[encoded data removed]",
      "text/plain": [
       "<matplotlib.figure.Figure at 0x587b8358>"
      ]
     },
     "metadata": {},
     "output_type": "display_data"
    },
    {
     "data": {
      "image/png": "[encoded data removed]",
      "text/plain": [
       "<matplotlib.figure.Figure at 0x4632c2b0>"
      ]
     },
     "metadata": {},
     "output_type": "display_data"
    }
   ],
   "source": [
    "#import matplotlib as mpl\n",
    "def PlotKmeansCombined(KmeansPD, kSize=10, figSizeX=1, figSizeY=5, color='k'):\n",
    "    KmeansPD['kmeans'].plot(kind='hist', bins=kSize, color='k',range = (0,kSize),align = 'left')\n",
    "    fig,axs=plt.subplots(figSizeX, figSizeY)\n",
    "    axs=[item for sublist in axs for item in sublist]\n",
    "    fig.set_size_inches(15,9)\n",
    "    i=KmeansPD.index\n",
    "    i=list(i)\n",
    "    Ks=re.compile('K.*')\n",
    "    #Cs=re.compile('C.*')\n",
    "    Cs = re.compile('R.*') #this is the RInumber I created...for the moment, do not need the Cnumber\n",
    "    C = filter(Cs.search, i)  \n",
    "    K = filter(Ks.search, i)  \n",
    "    Ksplit=KmeansPD.loc[K]\n",
    "    Csplit=KmeansPD.loc[C]\n",
    "    for ax, y in zip(axs,range(kSize)):\n",
    "        KData=Ksplit[Ksplit.kmeans==y].T.drop('kmeans')\n",
    "        KData.plot(ax=ax, legend=False, grid=False, color='b')\n",
    "        CData=Csplit[Csplit.kmeans==y].T.drop('kmeans')\n",
    "        CData.plot(ax=ax, legend=False, grid=False, color='r')\n",
    "        SumKC=len(KData.T)+len(CData.T)\n",
    "        KPct=(len(KData.T))\n",
    "        CPct=(len(CData.T))\n",
    "        ax.set_title('nGenes ' + str(KPct) + ', nCpds ' + str(CPct) + ', Cluster ' + str(y))\n",
    "        ax.set_ylim([0,5])\n",
    "    mpl.rcParams['pdf.fonttype'] = 42\n",
    "#     fig.savefig('CombinedKOandCO_Kmeans_allGenesAndCpds.pdf')\n",
    "    fig.savefig('CombinedKOandCO_Kmeans_allGenesAndCpds.png')\n",
    "\n",
    "PlotKmeansCombined(CcoClust,makeNclusters,2,3, 'r') "
   ]
  },
  {
   "cell_type": "markdown",
   "metadata": {},
   "source": [
    "pick up here to change to using biopython module to get maps with merged KO and CO data within a K means group\n",
    "12 November 2015"
   ]
  },
  {
   "cell_type": "code",
   "execution_count": 112,
   "metadata": {
    "collapsed": false
   },
   "outputs": [],
   "source": [
    "from Bio import SeqIO\n",
    "from Bio.KEGG.REST import *\n",
    "from Bio.KEGG.KGML import KGML_parser\n",
    "from Bio.Graphics.KGML_vis import KGMLCanvas\n",
    "from Bio.Graphics.ColorSpiral import ColorSpiral\n",
    "\n",
    "from IPython.display import Image, HTML\n",
    "\n",
    "# import random #seems like I can probably skip this, but just comment out in case that is not true\n",
    "\n",
    "# A bit of code that will help us display the PDF output\n",
    "def PDF(filename):\n",
    "    return HTML('<iframe src=%s width=700 height=350></iframe>' % filename)\n",
    "\n",
    "# A bit of helper code to shorten long text\n",
    "def head(text, lines=10):\n",
    "    \"\"\" Print the first lines lines of the passed text.\n",
    "    \"\"\"\n",
    "    print '\\n'.join(text.split('\\n')[:lines] + ['[...]'])"
   ]
  },
  {
   "cell_type": "code",
   "execution_count": 113,
   "metadata": {
    "collapsed": true
   },
   "outputs": [],
   "source": [
    "#set up a function to get the list of K orthologues for a given pathway (must be defined as ko00140 NOT map00140)\n",
    "def getKfrom_ko(ko_id):\n",
    "    pathway_file = kegg_get(ko_id).read()  # query and read the pathway\n",
    "    K_list = []\n",
    "\n",
    "    current_section = None\n",
    "    for line in pathway_file.rstrip().split(\"\\n\"):\n",
    "        section = line[:12].strip()  # section names are within 12 columns\n",
    "        if not section == \"\":\n",
    "            current_section = section\n",
    "        if current_section == \"ORTHOLOGY\":\n",
    "            K_identifiers = line[12:].split(\"; \")\n",
    "            t = K_identifiers[0]\n",
    "            K_id = t[0:6]\n",
    "\n",
    "            if not K_id in K_list:\n",
    "                K_list.append(K_id)\n",
    "    return K_list"
   ]
  },
  {
   "cell_type": "code",
   "execution_count": 114,
   "metadata": {
    "collapsed": true
   },
   "outputs": [],
   "source": [
    "#set up a function to get the list of compounds for a given pathway (must be defined as ko00140 NOT map00140)\n",
    "def getCfrom_ko(ko_id):\n",
    "    pathway_file = kegg_get(ko_id).read()  # query and read the pathway\n",
    "    compound_list = []\n",
    "\n",
    "    current_section = None\n",
    "    for line in pathway_file.rstrip().split(\"\\n\"):\n",
    "        section = line[:12].strip()  # section names are within 12 columns\n",
    "        if not section == \"\":\n",
    "            current_section = section\n",
    "        if current_section == \"COMPOUND\":\n",
    "            compound_identifiers = line[12:].split(\"; \")\n",
    "            t = compound_identifiers[0]\n",
    "            compound_id = t[0:6]\n",
    "\n",
    "            if not compound_id in compound_list:\n",
    "                compound_list.append(compound_id)\n",
    "    return compound_list"
   ]
  },
  {
   "cell_type": "code",
   "execution_count": 115,
   "metadata": {
    "collapsed": false
   },
   "outputs": [
    {
     "data": {
      "text/plain": [
       "486"
      ]
     },
     "execution_count": 115,
     "metadata": {},
     "output_type": "execute_result"
    }
   ],
   "source": [
    "allPathways = kegg_list(\"pathway\").read()\n",
    "len(allPathways.split('\\n'))"
   ]
  },
  {
   "cell_type": "code",
   "execution_count": 116,
   "metadata": {
    "collapsed": true
   },
   "outputs": [],
   "source": [
    "#so, 481 pathways at KEGG, not all of which are likely to be interesting.\n",
    "#up to 483 on 12/16/2015"
   ]
  },
  {
   "cell_type": "code",
   "execution_count": 117,
   "metadata": {
    "collapsed": true
   },
   "outputs": [],
   "source": [
    "trimPath = []\n",
    "current_section = None\n",
    "for line in allPathways.rstrip().split(\"\\n\"):\n",
    "#     Tracer()()\n",
    "    tp = line[8:13]\n",
    "    \n",
    "    trimPath.append('ko' + tp)"
   ]
  },
  {
   "cell_type": "code",
   "execution_count": 118,
   "metadata": {
    "collapsed": false
   },
   "outputs": [],
   "source": [
    "#have some cases where KEGG will send back a pathway, but the pathway itself is not searchable...seems to \n",
    "#be a KEGG bug, 'ko00351' was first, then realized there are many of these,\n",
    "#did this list manually since I thought it would be short...\n",
    "toDelete = ('ko00351','ko01010','ko01060', 'ko01061',  'ko01062', 'ko01063', 'ko01064', 'ko01065', 'ko01066',\n",
    " 'ko01070', 'ko07011', 'ko07012', 'ko07013', 'ko07014', 'ko07015', 'ko07016', 'ko07017', 'ko07018', 'ko07019',\n",
    " 'ko07020', 'ko07021', 'ko07023', 'ko07024', 'ko07025', 'ko07026', 'ko07027', 'ko07028', 'ko07029', 'ko07030',\n",
    " 'ko07031', 'ko07032', 'ko07033', 'ko07034', 'ko07035', 'ko07036', 'ko07037', 'ko07038', 'ko07039', 'ko07040',\n",
    " 'ko07041', 'ko07042', 'ko07043', 'ko07044', 'ko07045', 'ko07046', 'ko07047', 'ko07048', 'ko07049', 'ko07050',\n",
    " 'ko07051', 'ko07052', 'ko07053', 'ko07054', 'ko07055', 'ko07056', 'ko07057', 'ko07110', 'ko07112', 'ko07114',\n",
    " 'ko07117', 'ko07211', 'ko07212', 'ko07213', 'ko07214', 'ko07215', 'ko07216', 'ko07217', 'ko07218', 'ko07219',\n",
    " 'ko07220', 'ko07221', 'ko07222', 'ko07223', 'ko07224', 'ko07225', 'ko07226', 'ko07227', 'ko07228', 'ko07229',\n",
    " 'ko07230', 'ko07231', 'ko07232', 'ko07233', 'ko07234', 'ko07235','ko04933')\n",
    "\n",
    "#probably a way to do this without the for loop, but this will work\n",
    "for item in toDelete:\n",
    "    trimPath.remove(item)"
   ]
  },
  {
   "cell_type": "code",
   "execution_count": 119,
   "metadata": {
    "collapsed": false
   },
   "outputs": [],
   "source": [
    "colLabel = ['nCpds','nGenes'] #starting with this is easiest - makes one list, no need to flatten\n",
    "\n",
    "for item in range(makeNclusters):\n",
    "    colLabel.append('Km' + str(item) + '_cpd')\n",
    "    colLabel.append('Km' + str(item) + '_gene')\n",
    "    \n",
    "gatherCounts = pd.DataFrame(0, index = trimPath, columns = colLabel)"
   ]
  },
  {
   "cell_type": "code",
   "execution_count": 120,
   "metadata": {
    "collapsed": false
   },
   "outputs": [],
   "source": [
    "shortList = ['ko03010','ko03013']"
   ]
  },
  {
   "cell_type": "code",
   "execution_count": 121,
   "metadata": {
    "collapsed": true
   },
   "outputs": [],
   "source": [
    "#need to change this next bit to NOT require things to be related...this is going to take forever to run..."
   ]
  },
  {
   "cell_type": "code",
   "execution_count": 122,
   "metadata": {
    "collapsed": false
   },
   "outputs": [
    {
     "data": {
      "text/html": [
       "<div>\n",
       "<table border=\"1\" class=\"dataframe\">\n",
       "  <thead>\n",
       "    <tr style=\"text-align: right;\">\n",
       "      <th></th>\n",
       "      <th>KEGG</th>\n",
       "      <th>S1</th>\n",
       "      <th>S2</th>\n",
       "      <th>S3</th>\n",
       "      <th>S4</th>\n",
       "      <th>S5</th>\n",
       "      <th>kmeans</th>\n",
       "    </tr>\n",
       "  </thead>\n",
       "  <tbody>\n",
       "    <tr>\n",
       "      <th>RI4933</th>\n",
       "      <td>C08252</td>\n",
       "      <td>0.272679</td>\n",
       "      <td>2.745732</td>\n",
       "      <td>0.411982</td>\n",
       "      <td>0.538033</td>\n",
       "      <td>1.031575</td>\n",
       "      <td>0</td>\n",
       "    </tr>\n",
       "    <tr>\n",
       "      <th>RI4934</th>\n",
       "      <td>C06782</td>\n",
       "      <td>0.781078</td>\n",
       "      <td>3.791043</td>\n",
       "      <td>0.000000</td>\n",
       "      <td>0.000000</td>\n",
       "      <td>0.427880</td>\n",
       "      <td>5</td>\n",
       "    </tr>\n",
       "    <tr>\n",
       "      <th>RI4935</th>\n",
       "      <td>C12219</td>\n",
       "      <td>0.063244</td>\n",
       "      <td>4.936756</td>\n",
       "      <td>0.000000</td>\n",
       "      <td>0.000000</td>\n",
       "      <td>0.000000</td>\n",
       "      <td>5</td>\n",
       "    </tr>\n",
       "    <tr>\n",
       "      <th>RI4936</th>\n",
       "      <td>C08976</td>\n",
       "      <td>0.000000</td>\n",
       "      <td>4.068887</td>\n",
       "      <td>0.554701</td>\n",
       "      <td>0.138484</td>\n",
       "      <td>0.237929</td>\n",
       "      <td>5</td>\n",
       "    </tr>\n",
       "    <tr>\n",
       "      <th>RI4937</th>\n",
       "      <td>C16296</td>\n",
       "      <td>0.341598</td>\n",
       "      <td>3.657856</td>\n",
       "      <td>0.338609</td>\n",
       "      <td>0.295842</td>\n",
       "      <td>0.366096</td>\n",
       "      <td>5</td>\n",
       "    </tr>\n",
       "  </tbody>\n",
       "</table>\n",
       "</div>"
      ],
      "text/plain": [
       "          KEGG        S1        S2        S3        S4        S5  kmeans\n",
       "RI4933  C08252  0.272679  2.745732  0.411982  0.538033  1.031575       0\n",
       "RI4934  C06782  0.781078  3.791043  0.000000  0.000000  0.427880       5\n",
       "RI4935  C12219  0.063244  4.936756  0.000000  0.000000  0.000000       5\n",
       "RI4936  C08976  0.000000  4.068887  0.554701  0.138484  0.237929       5\n",
       "RI4937  C16296  0.341598  3.657856  0.338609  0.295842  0.366096       5"
      ]
     },
     "execution_count": 122,
     "metadata": {},
     "output_type": "execute_result"
    }
   ],
   "source": [
    "#But...for the CheckRelatedness...do need to go back to the cNumber...\n",
    "#for now, easiest to just make yet another matrix and put the cNumbers back in.\n",
    "notRelated = CcoClust.copy(deep=True) #make a copy of the CcoClust data frame\n",
    "notRelated.insert(0,'KEGG',\"\") #add a column called 'KEGG'\n",
    "\n",
    "for idx in range(0,len(notRelated)):\n",
    "    t = notRelated.iloc[idx,:].name\n",
    "\n",
    "    if t[0]=='R':\n",
    "        #go find the matching cNumber in CO_RawData_all\n",
    "        t2 = CO_fromMATLAB.loc[t,('cNumber')]\n",
    "        notRelated.ix[idx,('KEGG')] = t2\n",
    "    elif t[0] == 'K':\n",
    "        #just copy the K number over\n",
    "        notRelated.ix[idx,('KEGG')] = t\n",
    "        \n",
    "notRelated.tail(5)"
   ]
  },
  {
   "cell_type": "code",
   "execution_count": null,
   "metadata": {
    "collapsed": true
   },
   "outputs": [],
   "source": []
  },
  {
   "cell_type": "code",
   "execution_count": 123,
   "metadata": {
    "collapsed": false,
    "scrolled": false
   },
   "outputs": [],
   "source": [
    "#this set of looks works on one pathway at a time, only plotting if I get more than one case with a reaction\n",
    "#containing both a gene and a metabolite within the pathway of interest\n",
    "if True: #can be time consuming (off for editing).\n",
    "    \n",
    "    #setup the strings to match first\n",
    "    rnString = re.compile('(?:[rn:R])(\\d+)$') #will return R00190\n",
    "    cpdString = re.compile('(?:[cpd:C])(\\d+)$') #will return C00190\n",
    "\n",
    "    size = 20 #turns out I can increase the size of the compounds in the plots\n",
    "\n",
    "    for kn in range(makeNclusters):\n",
    "#         print kn\n",
    "    #for kn in range(5,6): \n",
    "    #for kn in range(0):    \n",
    "\n",
    "        fullSet = set(notRelated.KEGG)\n",
    "        oneK = notRelated[notRelated.kmeans == kn] #get gene & transcript information for one Kmeans group\n",
    "        getKm = 'Km' + str(kn)\n",
    "\n",
    "#         #check if the directories exist \n",
    "#         directoryPDF = 'plots_6Kmeans_unconnected' + str(kn) + '/PDFfiles'\n",
    "#         if not os.path.exists(directoryPDF):\n",
    "#             os.makedirs(directoryPDF)\n",
    "\n",
    "#         #check if the directories exist \n",
    "#         directoryPNG = 'plots_6Kmeans_unconnected' + str(kn) + '/PNGfiles'\n",
    "#         if not os.path.exists(directoryPNG):\n",
    "#             os.makedirs(directoryPNG)    \n",
    "        \n",
    "        for item in trimPath: #searching within one pathway at a time\n",
    "        #for item in shortList: #short list for testing\n",
    "            #print kn, item\n",
    "            plotPathway = [] #gather up yes/no and will only plot if have linked genes/mtabs\n",
    "        \n",
    "            genes = getKfrom_ko(item)\n",
    "            compounds = getCfrom_ko(item)\n",
    "\n",
    "            gatherCounts.loc[item,'nCpds'] = len(compounds)\n",
    "            gatherCounts.loc[item,'nGenes'] = len(genes)     \n",
    "\n",
    "            #have to track genes and compounds differently for the biopython plotting later on \n",
    "            setG = set(genes)\n",
    "            setC = set(compounds)\n",
    "            setB = set(oneK.KEGG)\n",
    "            intGenes = setG.intersection(setB)\n",
    "            intCompounds = setC.intersection(setB)\n",
    "\n",
    "            gatherCounts.loc[item,(getKm + '_gene')] = len(intGenes)\n",
    "            gatherCounts.loc[item,(getKm + '_cpd')] = len(intCompounds)\n",
    "\n",
    " "
   ]
  },
  {
   "cell_type": "code",
   "execution_count": 124,
   "metadata": {
    "collapsed": true
   },
   "outputs": [],
   "source": [
    "#want to export gatherCounts, with the added pathway name as a new column\n",
    "gatherCounts['pathwayInfo'] = ''\n",
    "gatherCounts['pathwayGroup_A'] = ''\n",
    "gatherCounts['pathwayGroup_B'] = ''\n",
    "gatherCounts['pathwayGroup_C'] = ''"
   ]
  },
  {
   "cell_type": "code",
   "execution_count": 125,
   "metadata": {
    "collapsed": false
   },
   "outputs": [
    {
     "data": {
      "text/plain": [
       "pandas.core.frame.DataFrame"
      ]
     },
     "execution_count": 125,
     "metadata": {},
     "output_type": "execute_result"
    }
   ],
   "source": [
    "type(gatherCounts)"
   ]
  },
  {
   "cell_type": "code",
   "execution_count": 126,
   "metadata": {
    "collapsed": false
   },
   "outputs": [
    {
     "data": {
      "text/plain": [
       "(399, 18)"
      ]
     },
     "execution_count": 126,
     "metadata": {},
     "output_type": "execute_result"
    }
   ],
   "source": [
    "#still the same size, just more values in each cell in the data frame\n",
    "gatherCounts.shape"
   ]
  },
  {
   "cell_type": "code",
   "execution_count": null,
   "metadata": {
    "collapsed": true
   },
   "outputs": [],
   "source": []
  },
  {
   "cell_type": "code",
   "execution_count": 127,
   "metadata": {
    "collapsed": true
   },
   "outputs": [],
   "source": [
    "#organize pathways into the groups defined in the BRITE file (didn't work well for compounds, \n",
    "#but the pathway groups seem useful)\n",
    "def ReadBRITEfile(briteFile):\n",
    "    forBrite = pd.DataFrame(columns = ['map','A','B','C','wholeThing'])\n",
    "    # set up the expressions to match each level in the BRITE hierarchy\n",
    "    \n",
    "    textA = re.compile(r'(^A<b>)(.+)(</b>)\\s*(.*)$')\n",
    "    textB = re.compile(r'(^B)\\s*(.*)$')\n",
    "    textC = re.compile(r'(\\d+)\\s*(.*)$')\n",
    "    #this relies on the fact that the rows are in order: A, with B subheadings, then C subheadings\n",
    "    setA = []\n",
    "    idxA = []\n",
    "\n",
    "    setB = []\n",
    "    setC = []\n",
    "\n",
    "    with open(briteFile) as f:\n",
    "        for idx,line in enumerate(f):\n",
    "            if line[0] is not '#': #skip over the comments\n",
    "                mA = textA.search(line) \n",
    "                mB = textB.search(line) \n",
    "                mC = textC.search(line) \n",
    "                if mA:\n",
    "                    setA = mA.group(2)\n",
    "                    #house cleaning (probably c)\n",
    "                    idxA = idx\n",
    "                    forBrite.loc[idx,'A'] = setA\n",
    "                    forBrite.loc[idx,'wholeThing'] = line #using this as a double check for now\n",
    "                    #forBrite.loc[idx,'map'] = mC.group(1)\n",
    "                elif mB:\n",
    "                    setB = mB.group(2)\n",
    "                    forBrite.loc[idx,'A'] = setA\n",
    "                    forBrite.loc[idx,'B'] = setB\n",
    "                    forBrite.loc[idx,'wholeThing'] = line\n",
    "                    #forBrite.loc[idx,'map'] = mC.group(1)\n",
    "                elif mC:\n",
    "                    #Tracer()()\n",
    "                    setC = mC.group(2)\n",
    "                    forBrite.loc[idx,'A'] = setA\n",
    "                    forBrite.loc[idx,'B'] = setB\n",
    "                    forBrite.loc[idx,'C'] = setC\n",
    "                    forBrite.loc[idx,'wholeThing'] = line\n",
    "                    forBrite.loc[idx,'map'] = mC.group(1)\n",
    "\n",
    "        return forBrite"
   ]
  },
  {
   "cell_type": "code",
   "execution_count": 128,
   "metadata": {
    "collapsed": false
   },
   "outputs": [
    {
     "data": {
      "text/html": [
       "<div>\n",
       "<table border=\"1\" class=\"dataframe\">\n",
       "  <thead>\n",
       "    <tr style=\"text-align: right;\">\n",
       "      <th></th>\n",
       "      <th>map</th>\n",
       "      <th>A</th>\n",
       "      <th>B</th>\n",
       "      <th>C</th>\n",
       "      <th>wholeThing</th>\n",
       "    </tr>\n",
       "  </thead>\n",
       "  <tbody>\n",
       "    <tr>\n",
       "      <th>10</th>\n",
       "      <td>01100</td>\n",
       "      <td>Metabolism</td>\n",
       "      <td>Global and overview maps</td>\n",
       "      <td>Metabolic pathways</td>\n",
       "      <td>C    01100  Metabolic pathways\\n</td>\n",
       "    </tr>\n",
       "  </tbody>\n",
       "</table>\n",
       "</div>"
      ],
      "text/plain": [
       "      map           A                         B                   C  \\\n",
       "10  01100  Metabolism  Global and overview maps  Metabolic pathways   \n",
       "\n",
       "                          wholeThing  \n",
       "10  C    01100  Metabolic pathways\\n  "
      ]
     },
     "execution_count": 128,
     "metadata": {},
     "output_type": "execute_result"
    }
   ],
   "source": [
    "D = glob.glob('br08901.keg') #from http://www.genome.jp/kegg-bin/get_htext?br08901.keg; 12/15/2015\n",
    "allBRITE=[]\n",
    "for idx,nof in enumerate(D):\n",
    "    allBRITE = ReadBRITEfile(nof) \n",
    "    \n",
    "allBRITE.loc[allBRITE['map']=='01100']"
   ]
  },
  {
   "cell_type": "code",
   "execution_count": 129,
   "metadata": {
    "collapsed": false
   },
   "outputs": [],
   "source": [
    "#KEGG seems to be updating pathways...finding some where gatherCounts has a pathway, \n",
    "#but it is missing from the BRITE file\n",
    "#ko04139, added to KEGG 12/1/15, pathway is: 'regulation of mitophagy' \n",
    "#ko04211, added to KEGG 12/14/15, pathway is 'longevity regulating pathway mammal\n",
    "#let's delete it from gatherCounts\n",
    "\n",
    "gatherCounts = gatherCounts.drop(['ko04139'])\n",
    "gatherCounts = gatherCounts.drop(['ko04211'])\n",
    "gatherCounts = gatherCounts.drop(['ko04212']) #longevity regularing pathway - worm\n",
    "\n",
    "\n",
    "#note that this cell will only work once"
   ]
  },
  {
   "cell_type": "code",
   "execution_count": 130,
   "metadata": {
    "collapsed": true
   },
   "outputs": [],
   "source": [
    "gatherCounts = gatherCounts.drop(['ko04213'])"
   ]
  },
  {
   "cell_type": "code",
   "execution_count": 131,
   "metadata": {
    "collapsed": false
   },
   "outputs": [
    {
     "ename": "IndexError",
     "evalue": "index 0 is out of bounds for axis 0 with size 0",
     "output_type": "error",
     "traceback": [
      "\u001b[1;31m---------------------------------------------------------------------------\u001b[0m",
      "\u001b[1;31mIndexError\u001b[0m                                Traceback (most recent call last)",
      "\u001b[1;32m<ipython-input-131-b0c88ce68cbc>\u001b[0m in \u001b[0;36m<module>\u001b[1;34m()\u001b[0m\n\u001b[0;32m     12\u001b[0m     \u001b[0mt\u001b[0m \u001b[1;33m=\u001b[0m \u001b[0mallBRITE\u001b[0m\u001b[1;33m.\u001b[0m\u001b[0mloc\u001b[0m\u001b[1;33m[\u001b[0m\u001b[0mallBRITE\u001b[0m\u001b[1;33m[\u001b[0m\u001b[1;34m'map'\u001b[0m\u001b[1;33m]\u001b[0m\u001b[1;33m==\u001b[0m\u001b[0mitem\u001b[0m\u001b[1;33m[\u001b[0m\u001b[1;36m2\u001b[0m\u001b[1;33m:\u001b[0m\u001b[1;33m]\u001b[0m\u001b[1;33m]\u001b[0m\u001b[1;33m\u001b[0m\u001b[0m\n\u001b[0;32m     13\u001b[0m \u001b[1;33m\u001b[0m\u001b[0m\n\u001b[1;32m---> 14\u001b[1;33m     \u001b[0mgatherCounts\u001b[0m\u001b[1;33m.\u001b[0m\u001b[0mset_value\u001b[0m\u001b[1;33m(\u001b[0m\u001b[0mitem\u001b[0m\u001b[1;33m,\u001b[0m\u001b[1;34m'pathwayGroup_A'\u001b[0m\u001b[1;33m,\u001b[0m\u001b[0mt\u001b[0m\u001b[1;33m[\u001b[0m\u001b[1;34m'A'\u001b[0m\u001b[1;33m]\u001b[0m\u001b[1;33m.\u001b[0m\u001b[0mvalues\u001b[0m\u001b[1;33m[\u001b[0m\u001b[1;36m0\u001b[0m\u001b[1;33m]\u001b[0m\u001b[1;33m)\u001b[0m\u001b[1;33m\u001b[0m\u001b[0m\n\u001b[0m\u001b[0;32m     15\u001b[0m     \u001b[0mgatherCounts\u001b[0m\u001b[1;33m.\u001b[0m\u001b[0mset_value\u001b[0m\u001b[1;33m(\u001b[0m\u001b[0mitem\u001b[0m\u001b[1;33m,\u001b[0m\u001b[1;34m'pathwayGroup_B'\u001b[0m\u001b[1;33m,\u001b[0m\u001b[0mt\u001b[0m\u001b[1;33m[\u001b[0m\u001b[1;34m'B'\u001b[0m\u001b[1;33m]\u001b[0m\u001b[1;33m.\u001b[0m\u001b[0mvalues\u001b[0m\u001b[1;33m[\u001b[0m\u001b[1;36m0\u001b[0m\u001b[1;33m]\u001b[0m\u001b[1;33m)\u001b[0m\u001b[1;33m\u001b[0m\u001b[0m\n\u001b[0;32m     16\u001b[0m     \u001b[0mgatherCounts\u001b[0m\u001b[1;33m.\u001b[0m\u001b[0mset_value\u001b[0m\u001b[1;33m(\u001b[0m\u001b[0mitem\u001b[0m\u001b[1;33m,\u001b[0m\u001b[1;34m'pathwayGroup_C'\u001b[0m\u001b[1;33m,\u001b[0m\u001b[0mt\u001b[0m\u001b[1;33m[\u001b[0m\u001b[1;34m'C'\u001b[0m\u001b[1;33m]\u001b[0m\u001b[1;33m.\u001b[0m\u001b[0mvalues\u001b[0m\u001b[1;33m[\u001b[0m\u001b[1;36m0\u001b[0m\u001b[1;33m]\u001b[0m\u001b[1;33m)\u001b[0m\u001b[1;33m\u001b[0m\u001b[0m\n",
      "\u001b[1;31mIndexError\u001b[0m: index 0 is out of bounds for axis 0 with size 0"
     ]
    }
   ],
   "source": [
    "#put the pathway name and group into the data frame before exporting it\n",
    "for item in gatherCounts.index:\n",
    "    #if this error appears: IndexError: index 0 is out of bounds for axis 0 with size 0\n",
    "    #KEGG has updated a pathway, but not the BRITE file (see above...) have to delete that \n",
    "    #row from GatherCounts; run again with the next row uncommented out to find the culprit.\n",
    "    #print item\n",
    "    \n",
    "    pathstr = kegg_list(item).read()\n",
    "    #this next line splits the string at the '\\t', then keeps the piece at index = 1, and strips off the '\\n'\n",
    "    gatherCounts.loc[item,('pathwayInfo')] = pathstr.split('\\t')[1].rstrip()\n",
    "    \n",
    "    t = allBRITE.loc[allBRITE['map']==item[2:]]  \n",
    "\n",
    "    gatherCounts.set_value(item,'pathwayGroup_A',t['A'].values[0])\n",
    "    gatherCounts.set_value(item,'pathwayGroup_B',t['B'].values[0])\n",
    "    gatherCounts.set_value(item,'pathwayGroup_C',t['C'].values[0])\n",
    "    \n",
    "    del t"
   ]
  },
  {
   "cell_type": "code",
   "execution_count": null,
   "metadata": {
    "collapsed": true
   },
   "outputs": [],
   "source": [
    "if False:\n",
    "    #now export the result as CSV file\n",
    "    gatherCounts.to_csv('pathways_with_Kmeans_KOnorm2Mean.2016.02.16.csv', header = True)"
   ]
  },
  {
   "cell_type": "code",
   "execution_count": null,
   "metadata": {
    "collapsed": false
   },
   "outputs": [],
   "source": [
    "#now...save all that so I don't have to do this everytime BUT be careful with re-assigning K means group numbers!\n",
    "cpk.dump(gatherCounts, open('gatherCounts_unconnected_norm2mean.2016.03.31.pickle', 'wb'))\n",
    "gatherCounts = cpk.load(open('gatherCounts_unconnected_norm2mean.2016.03.31.pickle','rb'))\n",
    "gatherCounts.head(2)"
   ]
  },
  {
   "cell_type": "code",
   "execution_count": null,
   "metadata": {
    "collapsed": false
   },
   "outputs": [],
   "source": [
    "newCols = colLabel[2:] #this is actually all the columns (used in plotting)\n",
    "newCols"
   ]
  },
  {
   "cell_type": "code",
   "execution_count": null,
   "metadata": {
    "collapsed": false
   },
   "outputs": [],
   "source": [
    "cpdCols = colLabel[2::2]\n",
    "cpdCols "
   ]
  },
  {
   "cell_type": "code",
   "execution_count": null,
   "metadata": {
    "collapsed": false
   },
   "outputs": [],
   "source": [
    "geneCols = colLabel[3::2]\n",
    "geneCols"
   ]
  },
  {
   "cell_type": "code",
   "execution_count": null,
   "metadata": {
    "collapsed": true
   },
   "outputs": [],
   "source": [
    "#pluck code from Harriet, trim down a bit, need a few pieces\n",
    "import palettable.colorbrewer as b2m\n",
    "from matplotlib.colors import LogNorm, NoNorm, BoundaryNorm"
   ]
  },
  {
   "cell_type": "code",
   "execution_count": null,
   "metadata": {
    "collapsed": true
   },
   "outputs": [],
   "source": [
    "def HeatMap(heatmapData, columns=None,colormap=b2m.sequential.GnBu_9.get_mpl_colormap(), m=1e-5):\n",
    "    #note - m in the above function is a small, but non-zero number, allows the LogNorm function to work\n",
    "    #clean up the data to make a pretty heatmap\n",
    "    heatmapData['mean']=heatmapData.mean(skipna = 1, axis=1) #calculate mean value for each class\n",
    "    heatmapData=heatmapData.sort_values(by='mean', ascending=False)#Sort by the mean value\n",
    "    heatmapData=heatmapData.drop('mean',1) #drop mean column\n",
    "    heatmapData=heatmapData.loc[heatmapData.sum(axis=1)!=0]\n",
    "\n",
    "    col_labels=list(heatmapData.index)\n",
    "    row_labels=list(heatmapData.columns.values)\n",
    "    fig3,ax3=plt.subplots()\n",
    "    fig3.set_figheight(len(col_labels)/2)\n",
    "    fig3.set_figwidth(len(row_labels)*2)\n",
    "    \n",
    "    #this works, but I haven't quite figured out the best values for the colors (though I like the green/blue)\n",
    "    bounds = np.linspace(heatmapData.min().min() ,heatmapData.max().max())\n",
    "    heatmap3 = ax3.pcolor(heatmapData, cmap=colormap, norm=BoundaryNorm(boundaries = bounds,ncolors=1000))\n",
    "       \n",
    "    ax3.set_xticks(np.arange(heatmapData.shape[1])+0.5, minor=False)\n",
    "    ax3.set_yticks(np.arange(heatmapData.shape[0])+0.5, minor=False)\n",
    "    ax3.invert_yaxis()\n",
    "    ax3.xaxis.tick_top()\n",
    "    ax3.margins(0,0)\n",
    "\n",
    "    ax3.set_xticklabels(row_labels, minor=False)\n",
    "    ax3.set_yticklabels(col_labels, minor=False)\n",
    "    plt.colorbar(heatmap3)\n",
    "    plt.show()\n",
    "    return fig3\n",
    "\n",
    "\n",
    "#Testing=HeatMap(data)\n",
    "#Testing.savefig('testing.png', bbox_inches = 'tight')\n",
    "\n",
    "#Testing.savefig('Insitu_KEGG_Heatmap.pdf')"
   ]
  },
  {
   "cell_type": "code",
   "execution_count": null,
   "metadata": {
    "collapsed": false
   },
   "outputs": [],
   "source": [
    "##let's narrow in on the metabolism group since that is the only one that is really interesting\n",
    "plotMetabolism = gatherCounts[gatherCounts.loc[:,'pathwayGroup_A']=='Metabolism']\n",
    "\n",
    "s = plotMetabolism[(plotMetabolism.loc[:,newCols].values > 0).any(axis=1)]\n",
    "dataToPlot = s.loc[:,newCols]\n",
    "\n",
    "pGroup = pd.unique(plotMetabolism.pathwayGroup_B.ravel())\n",
    "\n",
    "newDFmtab = pd.DataFrame(index = pGroup,columns = newCols)\n",
    "\n",
    "for i, group in s.groupby('pathwayGroup_B'): #pathwayGroup_C is the most detailed rendition\n",
    "    d2 = group.loc[:,newCols]\n",
    "    out = d2.sum(axis=0)\n",
    "    newDFmtab.loc[i,newCols] = out\n",
    "    \n",
    "#this next line is the part that selects compounds or genes    \n",
    "# toPlot_heatmap = newDFmtab.loc[:,cpdCols]\n",
    "toPlot_heatmap = newDFmtab.loc[:,geneCols]\n",
    "\n",
    "\n",
    "# The global and overview maps will be empty, so get rid of it\n",
    "toPlot_heatmap = toPlot_heatmap.drop(['Global and overview maps'])\n",
    "\n",
    "figOut = HeatMap(toPlot_heatmap)\n",
    "figOut.savefig('Heatmap_all.png', bbox_inches = 'tight')"
   ]
  },
  {
   "cell_type": "code",
   "execution_count": null,
   "metadata": {
    "collapsed": false
   },
   "outputs": [],
   "source": [
    "##let's narrow in on the metabolism group since that is the only one that is really interesting\n",
    "plotMetabolism = gatherCounts[gatherCounts.loc[:,'pathwayGroup_A']=='Metabolism']\n",
    "\n",
    "s = plotMetabolism[(plotMetabolism.loc[:,newCols].values > 0).any(axis=1)]\n",
    "dataToPlot = s.loc[:,newCols]\n",
    "\n",
    "pGroup = pd.unique(plotMetabolism.pathwayGroup_B.ravel())\n",
    "\n",
    "newDFmtab = pd.DataFrame(index = pGroup,columns = newCols)\n",
    "\n",
    "for i, group in s.groupby('pathwayGroup_B'): #pathwayGroup_C is the most detailed rendition\n",
    "    d2 = group.loc[:,newCols]\n",
    "    out = d2.sum(axis=0)\n",
    "    newDFmtab.loc[i,newCols] = out\n",
    "    \n",
    "#this next line is the part that selects compounds or genes    \n",
    "toPlot_heatmap = newDFmtab.loc[:,cpdCols]\n",
    "# toPlot_heatmap = newDFmtab.loc[:,geneCols]\n",
    "\n",
    "\n",
    "# The global and overview maps will be empty, so get rid of it\n",
    "toPlot_heatmap = toPlot_heatmap.drop(['Global and overview maps'])\n",
    "\n",
    "figOut = HeatMap(toPlot_heatmap)\n",
    "figOut.savefig('Heatmap_all.png', bbox_inches = 'tight')"
   ]
  },
  {
   "cell_type": "code",
   "execution_count": null,
   "metadata": {
    "collapsed": false
   },
   "outputs": [],
   "source": [
    "toPlot_heatmap.max()"
   ]
  },
  {
   "cell_type": "code",
   "execution_count": null,
   "metadata": {
    "collapsed": true
   },
   "outputs": [],
   "source": [
    "#with this rendition of K means, Km0 is the group with no changes...largest number of genes/compounds"
   ]
  },
  {
   "cell_type": "code",
   "execution_count": null,
   "metadata": {
    "collapsed": true
   },
   "outputs": [],
   "source": []
  },
  {
   "cell_type": "code",
   "execution_count": null,
   "metadata": {
    "collapsed": true
   },
   "outputs": [],
   "source": []
  }
 ],
 "metadata": {
  "kernelspec": {
   "display_name": "Python 2",
   "language": "python",
   "name": "python2"
  },
  "language_info": {
   "codemirror_mode": {
    "name": "ipython",
    "version": 2
   },
   "file_extension": ".py",
   "mimetype": "text/x-python",
   "name": "python",
   "nbconvert_exporter": "python",
   "pygments_lexer": "ipython2",
   "version": "2.7.9"
  }
 },
 "nbformat": 4,
 "nbformat_minor": 0
}
