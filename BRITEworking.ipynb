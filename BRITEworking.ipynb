{
 "cells": [
  {
   "cell_type": "code",
   "execution_count": 1,
   "metadata": {
    "collapsed": true
   },
   "outputs": [],
   "source": [
    "import csv\n",
    "import re"
   ]
  },
  {
   "cell_type": "code",
   "execution_count": 2,
   "metadata": {
    "collapsed": true
   },
   "outputs": [],
   "source": [
    "with open('KEGG_BRITE_br/br08002.keg','rb') as f:\n",
    "    reader = csv.reader(f,delimiter = '\\t')\n",
    "    for row in reader:\n",
    "        if row == ['A<b>Antibiotics</b>']:\n",
    "            print row"
   ]
  },
  {
   "cell_type": "markdown",
   "metadata": {},
   "source": [
    "essentially...want to search for a given compound, find its group. Then can plot by group either as the most specific group or all the way up the hierarchy to the broadest group"
   ]
  },
  {
   "cell_type": "code",
   "execution_count": 3,
   "metadata": {
    "collapsed": true
   },
   "outputs": [],
   "source": [
    "import cPickle as cpk"
   ]
  },
  {
   "cell_type": "code",
   "execution_count": 4,
   "metadata": {
    "collapsed": false
   },
   "outputs": [],
   "source": [
    "WorkingFile = cpk.load(open('exportCOnumbers.csv.pickle','r'))"
   ]
  },
  {
   "cell_type": "code",
   "execution_count": 5,
   "metadata": {
    "collapsed": false
   },
   "outputs": [
    {
     "data": {
      "text/plain": [
       "{'Modules': [],\n",
       " 'Name': 'C14666',\n",
       " 'Reaction': {},\n",
       " 'Related CO': [],\n",
       " 'Related KO': []}"
      ]
     },
     "execution_count": 5,
     "metadata": {},
     "output_type": "execute_result"
    }
   ],
   "source": [
    "WorkingFile['C14666']"
   ]
  },
  {
   "cell_type": "code",
   "execution_count": 40,
   "metadata": {
    "collapsed": true
   },
   "outputs": [],
   "source": [
    "import pandas as pd\n",
    "import numpy as np"
   ]
  },
  {
   "cell_type": "code",
   "execution_count": 7,
   "metadata": {
    "collapsed": false
   },
   "outputs": [],
   "source": [
    "briteFile=pd.read_table('KEGG_BRITE_br/br08002.keg',sep = '\\t',skiprows=7)"
   ]
  },
  {
   "cell_type": "code",
   "execution_count": 8,
   "metadata": {
    "collapsed": false
   },
   "outputs": [
    {
     "data": {
      "text/html": [
       "<div style=\"max-height:1000px;max-width:1500px;overflow:auto;\">\n",
       "<table border=\"1\" class=\"dataframe\">\n",
       "  <thead>\n",
       "    <tr style=\"text-align: right;\">\n",
       "      <th></th>\n",
       "      <th>!</th>\n",
       "    </tr>\n",
       "  </thead>\n",
       "  <tbody>\n",
       "    <tr>\n",
       "      <th>0</th>\n",
       "      <td>                A&lt;b&gt;FA  Fatty acyls&lt;/b&gt;</td>\n",
       "    </tr>\n",
       "    <tr>\n",
       "      <th>1</th>\n",
       "      <td>     B  FA01 Fatty Acids and Conjugates</td>\n",
       "    </tr>\n",
       "    <tr>\n",
       "      <th>2</th>\n",
       "      <td> C    FA0101 Straight chain fatty acids</td>\n",
       "    </tr>\n",
       "    <tr>\n",
       "      <th>3</th>\n",
       "      <td>             D      C00058  Formic acid</td>\n",
       "    </tr>\n",
       "    <tr>\n",
       "      <th>4</th>\n",
       "      <td>             D      C00033  Acetic acid</td>\n",
       "    </tr>\n",
       "    <tr>\n",
       "      <th>5</th>\n",
       "      <td>          D      C00163  Propanoic acid</td>\n",
       "    </tr>\n",
       "    <tr>\n",
       "      <th>6</th>\n",
       "      <td>           D      C00246  Butanoic acid</td>\n",
       "    </tr>\n",
       "    <tr>\n",
       "      <th>7</th>\n",
       "      <td>          D      C00803  Pentanoic acid</td>\n",
       "    </tr>\n",
       "    <tr>\n",
       "      <th>8</th>\n",
       "      <td>           D      C01585  Hexanoic acid</td>\n",
       "    </tr>\n",
       "    <tr>\n",
       "      <th>9</th>\n",
       "      <td>          D      C17714  Heptanoic acid</td>\n",
       "    </tr>\n",
       "  </tbody>\n",
       "</table>\n",
       "</div>"
      ],
      "text/plain": [
       "                                        !\n",
       "0                 A<b>FA  Fatty acyls</b>\n",
       "1      B  FA01 Fatty Acids and Conjugates\n",
       "2  C    FA0101 Straight chain fatty acids\n",
       "3              D      C00058  Formic acid\n",
       "4              D      C00033  Acetic acid\n",
       "5           D      C00163  Propanoic acid\n",
       "6            D      C00246  Butanoic acid\n",
       "7           D      C00803  Pentanoic acid\n",
       "8            D      C01585  Hexanoic acid\n",
       "9           D      C17714  Heptanoic acid"
      ]
     },
     "execution_count": 8,
     "metadata": {},
     "output_type": "execute_result"
    }
   ],
   "source": [
    "briteFile.head(10)"
   ]
  },
  {
   "cell_type": "code",
   "execution_count": 9,
   "metadata": {
    "collapsed": false
   },
   "outputs": [
    {
     "data": {
      "text/plain": [
       "(2803, 1)"
      ]
     },
     "execution_count": 9,
     "metadata": {},
     "output_type": "execute_result"
    }
   ],
   "source": [
    "briteFile.shape"
   ]
  },
  {
   "cell_type": "code",
   "execution_count": 10,
   "metadata": {
    "collapsed": false
   },
   "outputs": [
    {
     "data": {
      "text/plain": [
       "!    D      C01585  Hexanoic acid\n",
       "Name: 8, dtype: object"
      ]
     },
     "execution_count": 10,
     "metadata": {},
     "output_type": "execute_result"
    }
   ],
   "source": [
    "briteFile.loc[8,:]"
   ]
  },
  {
   "cell_type": "code",
   "execution_count": 11,
   "metadata": {
    "collapsed": false
   },
   "outputs": [
    {
     "data": {
      "text/plain": [
       "!    D      C01585  Hexanoic acid\n",
       "Name: 8, dtype: object"
      ]
     },
     "execution_count": 11,
     "metadata": {},
     "output_type": "execute_result"
    }
   ],
   "source": [
    "m = briteFile.loc[8,:]\n",
    "m"
   ]
  },
  {
   "cell_type": "code",
   "execution_count": 12,
   "metadata": {
    "collapsed": false
   },
   "outputs": [
    {
     "data": {
      "text/plain": [
       "pandas.core.series.Series"
      ]
     },
     "execution_count": 12,
     "metadata": {},
     "output_type": "execute_result"
    }
   ],
   "source": [
    "type(m)"
   ]
  },
  {
   "cell_type": "code",
   "execution_count": 13,
   "metadata": {
    "collapsed": true
   },
   "outputs": [],
   "source": [
    "briteRE = re.compile(r'(^D)\\s+(C\\d{5})\\s*(.*)$') #three groups: D, C#, text with name"
   ]
  },
  {
   "cell_type": "code",
   "execution_count": 14,
   "metadata": {
    "collapsed": false
   },
   "outputs": [
    {
     "data": {
      "text/plain": [
       "Index([u'!'], dtype='object')"
      ]
     },
     "execution_count": 14,
     "metadata": {},
     "output_type": "execute_result"
    }
   ],
   "source": [
    "m.index"
   ]
  },
  {
   "cell_type": "code",
   "execution_count": 15,
   "metadata": {
    "collapsed": false
   },
   "outputs": [
    {
     "data": {
      "text/plain": [
       "'D      C01585  Hexanoic acid'"
      ]
     },
     "execution_count": 15,
     "metadata": {},
     "output_type": "execute_result"
    }
   ],
   "source": [
    "m['!']"
   ]
  },
  {
   "cell_type": "code",
   "execution_count": 16,
   "metadata": {
    "collapsed": false
   },
   "outputs": [
    {
     "data": {
      "text/plain": [
       "count                                1\n",
       "unique                               1\n",
       "top       D      C01585  Hexanoic acid\n",
       "freq                                 1\n",
       "Name: 8, dtype: object"
      ]
     },
     "execution_count": 16,
     "metadata": {},
     "output_type": "execute_result"
    }
   ],
   "source": [
    "m.describe()"
   ]
  },
  {
   "cell_type": "code",
   "execution_count": 17,
   "metadata": {
    "collapsed": false
   },
   "outputs": [
    {
     "data": {
      "text/plain": [
       "'D      C01585  Hexanoic acid'"
      ]
     },
     "execution_count": 17,
     "metadata": {},
     "output_type": "execute_result"
    }
   ],
   "source": [
    "m.item()"
   ]
  },
  {
   "cell_type": "code",
   "execution_count": 18,
   "metadata": {
    "collapsed": false
   },
   "outputs": [
    {
     "data": {
      "text/plain": [
       "array(['D      C01585  Hexanoic acid'], dtype=object)"
      ]
     },
     "execution_count": 18,
     "metadata": {},
     "output_type": "execute_result"
    }
   ],
   "source": [
    "m.ravel()"
   ]
  },
  {
   "cell_type": "code",
   "execution_count": 19,
   "metadata": {
    "collapsed": false
   },
   "outputs": [
    {
     "data": {
      "text/plain": [
       "<bound method Series.unstack of !    D      C01585  Hexanoic acid\n",
       "Name: 8, dtype: object>"
      ]
     },
     "execution_count": 19,
     "metadata": {},
     "output_type": "execute_result"
    }
   ],
   "source": [
    "m.unstack"
   ]
  },
  {
   "cell_type": "code",
   "execution_count": 20,
   "metadata": {
    "collapsed": false
   },
   "outputs": [],
   "source": [
    "r = m.unstack"
   ]
  },
  {
   "cell_type": "code",
   "execution_count": 21,
   "metadata": {
    "collapsed": false
   },
   "outputs": [
    {
     "data": {
      "text/plain": [
       "<bound method Series.unstack of !    D      C01585  Hexanoic acid\n",
       "Name: 8, dtype: object>"
      ]
     },
     "execution_count": 21,
     "metadata": {},
     "output_type": "execute_result"
    }
   ],
   "source": [
    "r"
   ]
  },
  {
   "cell_type": "code",
   "execution_count": null,
   "metadata": {
    "collapsed": true
   },
   "outputs": [],
   "source": []
  },
  {
   "cell_type": "code",
   "execution_count": 22,
   "metadata": {
    "collapsed": false
   },
   "outputs": [
    {
     "data": {
      "text/html": [
       "<div style=\"max-height:1000px;max-width:1500px;overflow:auto;\">\n",
       "<table border=\"1\" class=\"dataframe\">\n",
       "  <thead>\n",
       "    <tr style=\"text-align: right;\">\n",
       "      <th></th>\n",
       "      <th>!</th>\n",
       "    </tr>\n",
       "  </thead>\n",
       "  <tbody>\n",
       "    <tr>\n",
       "      <th>5</th>\n",
       "      <td> D      C00163  Propanoic acid</td>\n",
       "    </tr>\n",
       "  </tbody>\n",
       "</table>\n",
       "</div>"
      ],
      "text/plain": [
       "                               !\n",
       "5  D      C00163  Propanoic acid"
      ]
     },
     "execution_count": 22,
     "metadata": {},
     "output_type": "execute_result"
    }
   ],
   "source": [
    "m = briteFile[briteFile['!'].str.contains(\"C00163\")]\n",
    "m"
   ]
  },
  {
   "cell_type": "markdown",
   "metadata": {},
   "source": [
    "so, now can I search back up the rows to find the C, B, and A compound information?"
   ]
  },
  {
   "cell_type": "code",
   "execution_count": 23,
   "metadata": {
    "collapsed": false
   },
   "outputs": [
    {
     "data": {
      "text/plain": [
       "pandas.core.frame.DataFrame"
      ]
     },
     "execution_count": 23,
     "metadata": {},
     "output_type": "execute_result"
    }
   ],
   "source": [
    "type(m)"
   ]
  },
  {
   "cell_type": "code",
   "execution_count": 24,
   "metadata": {
    "collapsed": false
   },
   "outputs": [
    {
     "data": {
      "text/plain": [
       "Int64Index([5], dtype='int64')"
      ]
     },
     "execution_count": 24,
     "metadata": {},
     "output_type": "execute_result"
    }
   ],
   "source": [
    "m.index"
   ]
  },
  {
   "cell_type": "code",
   "execution_count": 25,
   "metadata": {
    "collapsed": false
   },
   "outputs": [],
   "source": [
    "df = briteFile.copy(deep = True)"
   ]
  },
  {
   "cell_type": "code",
   "execution_count": 26,
   "metadata": {
    "collapsed": false
   },
   "outputs": [],
   "source": [
    "r = m.loc"
   ]
  },
  {
   "cell_type": "code",
   "execution_count": 27,
   "metadata": {
    "collapsed": false
   },
   "outputs": [
    {
     "data": {
      "text/plain": [
       "<pandas.core.indexing._LocIndexer at 0xc4539e8>"
      ]
     },
     "execution_count": 27,
     "metadata": {},
     "output_type": "execute_result"
    }
   ],
   "source": [
    "r"
   ]
  },
  {
   "cell_type": "code",
   "execution_count": null,
   "metadata": {
    "collapsed": true
   },
   "outputs": [],
   "source": []
  },
  {
   "cell_type": "code",
   "execution_count": 32,
   "metadata": {
    "collapsed": false
   },
   "outputs": [],
   "source": [
    "briteFile = 'KEGG_BRITE_br/br08002.keg'\n",
    "#britekoRE = re.compile(r'^[A-Z]\\s+(K\\d{5})\\s*(.*)$') #example from kegg.py\n",
    "\n",
    "readDlevel = re.compile(r'(^D)\\s+(C\\d{5})\\s*(.*)$') #three groups: D, C#, text with name\n"
   ]
  },
  {
   "cell_type": "code",
   "execution_count": 33,
   "metadata": {
    "collapsed": false
   },
   "outputs": [],
   "source": [
    "my_dict = {}\n",
    "#counter = 1\n",
    "with open(briteFile) as f:\n",
    "    for line in f:\n",
    "        #print line\n",
    "        m = briteRE.search(line)\n",
    "        if m:\n",
    "            cNumber = m.group(2)\n",
    "            level = m.group(1)\n",
    "            cName=m.group(3)\n",
    "            small = {}\n",
    "            small['level'] = level\n",
    "            small['cName'] = cName\n",
    "            my_dict[cNumber]=small\n"
   ]
  },
  {
   "cell_type": "code",
   "execution_count": 34,
   "metadata": {
    "collapsed": false
   },
   "outputs": [
    {
     "data": {
      "text/plain": [
       "{'cName': '(E)-4-Nitrostilbene', 'level': 'D'}"
      ]
     },
     "execution_count": 34,
     "metadata": {},
     "output_type": "execute_result"
    }
   ],
   "source": [
    "my_dict['C14662']"
   ]
  },
  {
   "cell_type": "code",
   "execution_count": 120,
   "metadata": {
    "collapsed": true
   },
   "outputs": [],
   "source": [
    "briteFile = 'KEGG_BRITE_br/br08002.keg'\n",
    "# textA = re.compile(r'(^A)\\s*(.*)$')\n",
    "textA = re.compile(r'(^A<b>)(.+)(</b>)\\s*(.*)$')\n",
    "textB = re.compile(r'(^B)\\s*(.*)$')\n",
    "textC = re.compile(r'(^C)\\s*(.*)$')\n",
    "textD = re.compile(r'(^D)\\s+(C\\d{5})\\s*(.*)$') #three groups: D, C#, text with name\n",
    "text_cNumber = re.compile(r'(\\d*)+(C\\d{5})\\s*(.*)$')"
   ]
  },
  {
   "cell_type": "code",
   "execution_count": 121,
   "metadata": {
    "collapsed": false
   },
   "outputs": [
    {
     "data": {
      "text/html": [
       "<div style=\"max-height:1000px;max-width:1500px;overflow:auto;\">\n",
       "<table border=\"1\" class=\"dataframe\">\n",
       "  <thead>\n",
       "    <tr style=\"text-align: right;\">\n",
       "      <th></th>\n",
       "      <th>cNumber</th>\n",
       "      <th>A</th>\n",
       "      <th>B</th>\n",
       "      <th>C</th>\n",
       "      <th>D</th>\n",
       "      <th>wholeThing</th>\n",
       "    </tr>\n",
       "  </thead>\n",
       "  <tbody>\n",
       "    <tr>\n",
       "      <th>8 </th>\n",
       "      <td>    NaN</td>\n",
       "      <td> FA  Fatty acyls</td>\n",
       "      <td>                             NaN</td>\n",
       "      <td>                               NaN</td>\n",
       "      <td>    NaN</td>\n",
       "      <td>                A&lt;b&gt;FA  Fatty acyls&lt;/b&gt;\\n</td>\n",
       "    </tr>\n",
       "    <tr>\n",
       "      <th>9 </th>\n",
       "      <td>    NaN</td>\n",
       "      <td> FA  Fatty acyls</td>\n",
       "      <td> FA01 Fatty Acids and Conjugates</td>\n",
       "      <td>                               NaN</td>\n",
       "      <td>    NaN</td>\n",
       "      <td>     B  FA01 Fatty Acids and Conjugates\\n</td>\n",
       "    </tr>\n",
       "    <tr>\n",
       "      <th>10</th>\n",
       "      <td>    NaN</td>\n",
       "      <td> FA  Fatty acyls</td>\n",
       "      <td> FA01 Fatty Acids and Conjugates</td>\n",
       "      <td> FA0101 Straight chain fatty acids</td>\n",
       "      <td>    NaN</td>\n",
       "      <td> C    FA0101 Straight chain fatty acids\\n</td>\n",
       "    </tr>\n",
       "    <tr>\n",
       "      <th>11</th>\n",
       "      <td> C00058</td>\n",
       "      <td> FA  Fatty acyls</td>\n",
       "      <td> FA01 Fatty Acids and Conjugates</td>\n",
       "      <td> FA0101 Straight chain fatty acids</td>\n",
       "      <td> C00058</td>\n",
       "      <td>             D      C00058  Formic acid\\n</td>\n",
       "    </tr>\n",
       "    <tr>\n",
       "      <th>12</th>\n",
       "      <td> C00033</td>\n",
       "      <td> FA  Fatty acyls</td>\n",
       "      <td> FA01 Fatty Acids and Conjugates</td>\n",
       "      <td> FA0101 Straight chain fatty acids</td>\n",
       "      <td> C00033</td>\n",
       "      <td>             D      C00033  Acetic acid\\n</td>\n",
       "    </tr>\n",
       "  </tbody>\n",
       "</table>\n",
       "</div>"
      ],
      "text/plain": [
       "   cNumber                A                                B  \\\n",
       "8      NaN  FA  Fatty acyls                              NaN   \n",
       "9      NaN  FA  Fatty acyls  FA01 Fatty Acids and Conjugates   \n",
       "10     NaN  FA  Fatty acyls  FA01 Fatty Acids and Conjugates   \n",
       "11  C00058  FA  Fatty acyls  FA01 Fatty Acids and Conjugates   \n",
       "12  C00033  FA  Fatty acyls  FA01 Fatty Acids and Conjugates   \n",
       "\n",
       "                                    C       D  \\\n",
       "8                                 NaN     NaN   \n",
       "9                                 NaN     NaN   \n",
       "10  FA0101 Straight chain fatty acids     NaN   \n",
       "11  FA0101 Straight chain fatty acids  C00058   \n",
       "12  FA0101 Straight chain fatty acids  C00033   \n",
       "\n",
       "                                  wholeThing  \n",
       "8                  A<b>FA  Fatty acyls</b>\\n  \n",
       "9       B  FA01 Fatty Acids and Conjugates\\n  \n",
       "10  C    FA0101 Straight chain fatty acids\\n  \n",
       "11              D      C00058  Formic acid\\n  \n",
       "12              D      C00033  Acetic acid\\n  "
      ]
     },
     "execution_count": 121,
     "metadata": {},
     "output_type": "execute_result"
    }
   ],
   "source": [
    "forBrite.head(5)"
   ]
  },
  {
   "cell_type": "markdown",
   "metadata": {},
   "source": [
    "logic not quite right below...but getting close. Stopping for night."
   ]
  },
  {
   "cell_type": "code",
   "execution_count": 122,
   "metadata": {
    "collapsed": false
   },
   "outputs": [],
   "source": [
    "from IPython.core.debugger import Tracer\n",
    "forBrite = pd.DataFrame(columns = ['cNumber','A','B','C','D','wholeThing'])\n",
    "\n",
    "#this relies on the fact that the rows are in order: A, with B subheadings, then C subheadings, finally D subheadings\n",
    "setA = []\n",
    "idxA = []\n",
    "\n",
    "setB = []\n",
    "setC = []\n",
    "setD = []\n",
    "\n",
    "with open(briteFile) as f:\n",
    "    for idx,line in enumerate(f):\n",
    "        mA = textA.search(line) \n",
    "        mB = textB.search(line) \n",
    "        mC = textC.search(line) \n",
    "        mD = textD.search(line) \n",
    "        if mA:\n",
    "            setA = mA.group(2)\n",
    "            #house cleaning (probably c)\n",
    "            idxA = idx\n",
    "            forBrite.loc[idx,'A'] = setA\n",
    "            forBrite.loc[idx,'wholeThing'] = line #using this as a double check for now\n",
    "        elif mB:\n",
    "            setB = mB.group(2)\n",
    "            forBrite.loc[idx,'A'] = setA\n",
    "            forBrite.loc[idx,'B'] = setB\n",
    "            forBrite.loc[idx,'wholeThing'] = line\n",
    "        elif mC:\n",
    "            setC = mC.group(2)\n",
    "            forBrite.loc[idx,'A'] = setA\n",
    "            forBrite.loc[idx,'B'] = setB\n",
    "            forBrite.loc[idx,'wholeThing'] = line\n",
    "            \n",
    "            #Look for a cNumber               \n",
    "            test = text_cNumber.search(line)\n",
    "            if test:\n",
    "                #put the cNumber into the right place\n",
    "                forBrite.loc[idx,'cNumber'] = test.group(2)\n",
    "            else: \n",
    "                forBrite.loc[idx,'C'] = setC\n",
    "            \n",
    "        elif mD:\n",
    "            forBrite.loc[idx,'A'] = setA\n",
    "            forBrite.loc[idx,'B'] = setB\n",
    "            forBrite.loc[idx,'C'] = setC\n",
    "            forBrite.loc[idx,'wholeThing'] = line\n",
    "            \n",
    "            #look for the cNumber               \n",
    "            test = text_cNumber.search(line)\n",
    "            if test:\n",
    "                #put the cNumber into the right place\n",
    "                forBrite.loc[idx,'cNumber'] = test.group(2)\n",
    "            else: \n",
    "                #not sure this will ever be anything, but put here for now\n",
    "                forBrite.loc[idx,'D'] = mD.group(2)\n"
   ]
  },
  {
   "cell_type": "code",
   "execution_count": 123,
   "metadata": {
    "collapsed": false
   },
   "outputs": [
    {
     "data": {
      "text/html": [
       "<div style=\"max-height:1000px;max-width:1500px;overflow:auto;\">\n",
       "<table border=\"1\" class=\"dataframe\">\n",
       "  <thead>\n",
       "    <tr style=\"text-align: right;\">\n",
       "      <th></th>\n",
       "      <th>cNumber</th>\n",
       "      <th>A</th>\n",
       "      <th>B</th>\n",
       "      <th>C</th>\n",
       "      <th>D</th>\n",
       "      <th>wholeThing</th>\n",
       "    </tr>\n",
       "  </thead>\n",
       "  <tbody>\n",
       "    <tr>\n",
       "      <th>8   </th>\n",
       "      <td>    NaN</td>\n",
       "      <td> FA  Fatty acyls</td>\n",
       "      <td>                                           NaN</td>\n",
       "      <td>                                               NaN</td>\n",
       "      <td> NaN</td>\n",
       "      <td>                         A&lt;b&gt;FA  Fatty acyls&lt;/b&gt;\\n</td>\n",
       "    </tr>\n",
       "    <tr>\n",
       "      <th>9   </th>\n",
       "      <td>    NaN</td>\n",
       "      <td> FA  Fatty acyls</td>\n",
       "      <td>               FA01 Fatty Acids and Conjugates</td>\n",
       "      <td>                                               NaN</td>\n",
       "      <td> NaN</td>\n",
       "      <td>              B  FA01 Fatty Acids and Conjugates\\n</td>\n",
       "    </tr>\n",
       "    <tr>\n",
       "      <th>10  </th>\n",
       "      <td>    NaN</td>\n",
       "      <td> FA  Fatty acyls</td>\n",
       "      <td>               FA01 Fatty Acids and Conjugates</td>\n",
       "      <td>                 FA0101 Straight chain fatty acids</td>\n",
       "      <td> NaN</td>\n",
       "      <td>          C    FA0101 Straight chain fatty acids\\n</td>\n",
       "    </tr>\n",
       "    <tr>\n",
       "      <th>11  </th>\n",
       "      <td> C00058</td>\n",
       "      <td> FA  Fatty acyls</td>\n",
       "      <td>               FA01 Fatty Acids and Conjugates</td>\n",
       "      <td>                 FA0101 Straight chain fatty acids</td>\n",
       "      <td> NaN</td>\n",
       "      <td>                      D      C00058  Formic acid\\n</td>\n",
       "    </tr>\n",
       "    <tr>\n",
       "      <th>12  </th>\n",
       "      <td> C00033</td>\n",
       "      <td> FA  Fatty acyls</td>\n",
       "      <td>               FA01 Fatty Acids and Conjugates</td>\n",
       "      <td>                 FA0101 Straight chain fatty acids</td>\n",
       "      <td> NaN</td>\n",
       "      <td>                      D      C00033  Acetic acid\\n</td>\n",
       "    </tr>\n",
       "    <tr>\n",
       "      <th>13  </th>\n",
       "      <td> C00163</td>\n",
       "      <td> FA  Fatty acyls</td>\n",
       "      <td>               FA01 Fatty Acids and Conjugates</td>\n",
       "      <td>                 FA0101 Straight chain fatty acids</td>\n",
       "      <td> NaN</td>\n",
       "      <td>                   D      C00163  Propanoic acid\\n</td>\n",
       "    </tr>\n",
       "    <tr>\n",
       "      <th>14  </th>\n",
       "      <td> C00246</td>\n",
       "      <td> FA  Fatty acyls</td>\n",
       "      <td>               FA01 Fatty Acids and Conjugates</td>\n",
       "      <td>                 FA0101 Straight chain fatty acids</td>\n",
       "      <td> NaN</td>\n",
       "      <td>                    D      C00246  Butanoic acid\\n</td>\n",
       "    </tr>\n",
       "    <tr>\n",
       "      <th>15  </th>\n",
       "      <td> C00803</td>\n",
       "      <td> FA  Fatty acyls</td>\n",
       "      <td>               FA01 Fatty Acids and Conjugates</td>\n",
       "      <td>                 FA0101 Straight chain fatty acids</td>\n",
       "      <td> NaN</td>\n",
       "      <td>                   D      C00803  Pentanoic acid\\n</td>\n",
       "    </tr>\n",
       "    <tr>\n",
       "      <th>16  </th>\n",
       "      <td> C01585</td>\n",
       "      <td> FA  Fatty acyls</td>\n",
       "      <td>               FA01 Fatty Acids and Conjugates</td>\n",
       "      <td>                 FA0101 Straight chain fatty acids</td>\n",
       "      <td> NaN</td>\n",
       "      <td>                    D      C01585  Hexanoic acid\\n</td>\n",
       "    </tr>\n",
       "    <tr>\n",
       "      <th>17  </th>\n",
       "      <td> C17714</td>\n",
       "      <td> FA  Fatty acyls</td>\n",
       "      <td>               FA01 Fatty Acids and Conjugates</td>\n",
       "      <td>                 FA0101 Straight chain fatty acids</td>\n",
       "      <td> NaN</td>\n",
       "      <td>                   D      C17714  Heptanoic acid\\n</td>\n",
       "    </tr>\n",
       "    <tr>\n",
       "      <th>18  </th>\n",
       "      <td> C06423</td>\n",
       "      <td> FA  Fatty acyls</td>\n",
       "      <td>               FA01 Fatty Acids and Conjugates</td>\n",
       "      <td>                 FA0101 Straight chain fatty acids</td>\n",
       "      <td> NaN</td>\n",
       "      <td>                    D      C06423  Octanoic acid\\n</td>\n",
       "    </tr>\n",
       "    <tr>\n",
       "      <th>19  </th>\n",
       "      <td> C01601</td>\n",
       "      <td> FA  Fatty acyls</td>\n",
       "      <td>               FA01 Fatty Acids and Conjugates</td>\n",
       "      <td>                 FA0101 Straight chain fatty acids</td>\n",
       "      <td> NaN</td>\n",
       "      <td>                    D      C01601  Nonanoic acid\\n</td>\n",
       "    </tr>\n",
       "    <tr>\n",
       "      <th>20  </th>\n",
       "      <td> C17715</td>\n",
       "      <td> FA  Fatty acyls</td>\n",
       "      <td>               FA01 Fatty Acids and Conjugates</td>\n",
       "      <td>                 FA0101 Straight chain fatty acids</td>\n",
       "      <td> NaN</td>\n",
       "      <td>                  D      C17715  Undecanoic acid\\n</td>\n",
       "    </tr>\n",
       "    <tr>\n",
       "      <th>21  </th>\n",
       "      <td> C01571</td>\n",
       "      <td> FA  Fatty acyls</td>\n",
       "      <td>               FA01 Fatty Acids and Conjugates</td>\n",
       "      <td>                 FA0101 Straight chain fatty acids</td>\n",
       "      <td> NaN</td>\n",
       "      <td>                    D      C01571  Decanoic acid\\n</td>\n",
       "    </tr>\n",
       "    <tr>\n",
       "      <th>22  </th>\n",
       "      <td> C02679</td>\n",
       "      <td> FA  Fatty acyls</td>\n",
       "      <td>               FA01 Fatty Acids and Conjugates</td>\n",
       "      <td>                 FA0101 Straight chain fatty acids</td>\n",
       "      <td> NaN</td>\n",
       "      <td>                  D      C02679  Dodecanoic acid\\n</td>\n",
       "    </tr>\n",
       "    <tr>\n",
       "      <th>23  </th>\n",
       "      <td> C17076</td>\n",
       "      <td> FA  Fatty acyls</td>\n",
       "      <td>               FA01 Fatty Acids and Conjugates</td>\n",
       "      <td>                 FA0101 Straight chain fatty acids</td>\n",
       "      <td> NaN</td>\n",
       "      <td>                 D      C17076  Tridecanoic acid\\n</td>\n",
       "    </tr>\n",
       "    <tr>\n",
       "      <th>24  </th>\n",
       "      <td> C06424</td>\n",
       "      <td> FA  Fatty acyls</td>\n",
       "      <td>               FA01 Fatty Acids and Conjugates</td>\n",
       "      <td>                 FA0101 Straight chain fatty acids</td>\n",
       "      <td> NaN</td>\n",
       "      <td>               D      C06424  Tetradecanoic acid\\n</td>\n",
       "    </tr>\n",
       "    <tr>\n",
       "      <th>25  </th>\n",
       "      <td> C16537</td>\n",
       "      <td> FA  Fatty acyls</td>\n",
       "      <td>               FA01 Fatty Acids and Conjugates</td>\n",
       "      <td>                 FA0101 Straight chain fatty acids</td>\n",
       "      <td> NaN</td>\n",
       "      <td>               D      C16537  Pentadecanoic acid\\n</td>\n",
       "    </tr>\n",
       "    <tr>\n",
       "      <th>26  </th>\n",
       "      <td> C00249</td>\n",
       "      <td> FA  Fatty acyls</td>\n",
       "      <td>               FA01 Fatty Acids and Conjugates</td>\n",
       "      <td>                 FA0101 Straight chain fatty acids</td>\n",
       "      <td> NaN</td>\n",
       "      <td>                D      C00249  Hexadecanoic acid\\n</td>\n",
       "    </tr>\n",
       "    <tr>\n",
       "      <th>27  </th>\n",
       "      <td> C01530</td>\n",
       "      <td> FA  Fatty acyls</td>\n",
       "      <td>               FA01 Fatty Acids and Conjugates</td>\n",
       "      <td>                 FA0101 Straight chain fatty acids</td>\n",
       "      <td> NaN</td>\n",
       "      <td>                D      C01530  Octadecanoic acid\\n</td>\n",
       "    </tr>\n",
       "    <tr>\n",
       "      <th>28  </th>\n",
       "      <td> C16535</td>\n",
       "      <td> FA  Fatty acyls</td>\n",
       "      <td>               FA01 Fatty Acids and Conjugates</td>\n",
       "      <td>                 FA0101 Straight chain fatty acids</td>\n",
       "      <td> NaN</td>\n",
       "      <td>                D      C16535  Nonadecanoic acid\\n</td>\n",
       "    </tr>\n",
       "    <tr>\n",
       "      <th>29  </th>\n",
       "      <td> C06425</td>\n",
       "      <td> FA  Fatty acyls</td>\n",
       "      <td>               FA01 Fatty Acids and Conjugates</td>\n",
       "      <td>                 FA0101 Straight chain fatty acids</td>\n",
       "      <td> NaN</td>\n",
       "      <td>                   D      C06425  Icosanoic acid\\n</td>\n",
       "    </tr>\n",
       "    <tr>\n",
       "      <th>30  </th>\n",
       "      <td> C08281</td>\n",
       "      <td> FA  Fatty acyls</td>\n",
       "      <td>               FA01 Fatty Acids and Conjugates</td>\n",
       "      <td>                 FA0101 Straight chain fatty acids</td>\n",
       "      <td> NaN</td>\n",
       "      <td>                  D      C08281  Docosanoic acid\\n</td>\n",
       "    </tr>\n",
       "    <tr>\n",
       "      <th>31  </th>\n",
       "      <td> C08320</td>\n",
       "      <td> FA  Fatty acyls</td>\n",
       "      <td>               FA01 Fatty Acids and Conjugates</td>\n",
       "      <td>                 FA0101 Straight chain fatty acids</td>\n",
       "      <td> NaN</td>\n",
       "      <td>               D      C08320  Tetracosanoic acid\\n</td>\n",
       "    </tr>\n",
       "    <tr>\n",
       "      <th>32  </th>\n",
       "      <td>    NaN</td>\n",
       "      <td> FA  Fatty acyls</td>\n",
       "      <td>               FA01 Fatty Acids and Conjugates</td>\n",
       "      <td>                       FA0102 Branched fatty acids</td>\n",
       "      <td> NaN</td>\n",
       "      <td>                C    FA0102 Branched fatty acids\\n</td>\n",
       "    </tr>\n",
       "    <tr>\n",
       "      <th>33  </th>\n",
       "      <td> C08262</td>\n",
       "      <td> FA  Fatty acyls</td>\n",
       "      <td>               FA01 Fatty Acids and Conjugates</td>\n",
       "      <td>                       FA0102 Branched fatty acids</td>\n",
       "      <td> NaN</td>\n",
       "      <td>            D      C08262  3-Methylbutanoic acid\\n</td>\n",
       "    </tr>\n",
       "    <tr>\n",
       "      <th>34  </th>\n",
       "      <td> C16665</td>\n",
       "      <td> FA  Fatty acyls</td>\n",
       "      <td>               FA01 Fatty Acids and Conjugates</td>\n",
       "      <td>                       FA0102 Branched fatty acids</td>\n",
       "      <td> NaN</td>\n",
       "      <td>      D      C16665  12-Methyltetradecanoic acid\\n</td>\n",
       "    </tr>\n",
       "    <tr>\n",
       "      <th>35  </th>\n",
       "      <td> C16462</td>\n",
       "      <td> FA  Fatty acyls</td>\n",
       "      <td>               FA01 Fatty Acids and Conjugates</td>\n",
       "      <td>                       FA0102 Branched fatty acids</td>\n",
       "      <td> NaN</td>\n",
       "      <td>     D      C16462  3,7-Dimethyl-6-octenoic acid\\n</td>\n",
       "    </tr>\n",
       "    <tr>\n",
       "      <th>36  </th>\n",
       "      <td> C13787</td>\n",
       "      <td> FA  Fatty acyls</td>\n",
       "      <td>               FA01 Fatty Acids and Conjugates</td>\n",
       "      <td>                       FA0102 Branched fatty acids</td>\n",
       "      <td> NaN</td>\n",
       "      <td>   D      C13787  17-Methyl-6Z-octadecenoic acid\\n</td>\n",
       "    </tr>\n",
       "    <tr>\n",
       "      <th>37  </th>\n",
       "      <td> C00141</td>\n",
       "      <td> FA  Fatty acyls</td>\n",
       "      <td>               FA01 Fatty Acids and Conjugates</td>\n",
       "      <td>                       FA0102 Branched fatty acids</td>\n",
       "      <td> NaN</td>\n",
       "      <td>      D      C00141  3-Methyl-2-oxobutanoic acid\\n</td>\n",
       "    </tr>\n",
       "    <tr>\n",
       "      <th>...</th>\n",
       "      <td>...</td>\n",
       "      <td>...</td>\n",
       "      <td>...</td>\n",
       "      <td>...</td>\n",
       "      <td>...</td>\n",
       "      <td>...</td>\n",
       "    </tr>\n",
       "    <tr>\n",
       "      <th>2776</th>\n",
       "      <td> C10254</td>\n",
       "      <td> PK  Polyketides</td>\n",
       "      <td>                     PK13 Aromatic polyketides</td>\n",
       "      <td> PK1309 Diphenyl ethers, biphenyls, dibenzyls a...</td>\n",
       "      <td> NaN</td>\n",
       "      <td>                D      C10254  Dihydropinosylvin\\n</td>\n",
       "    </tr>\n",
       "    <tr>\n",
       "      <th>2777</th>\n",
       "      <td> C10255</td>\n",
       "      <td> PK  Polyketides</td>\n",
       "      <td>                     PK13 Aromatic polyketides</td>\n",
       "      <td> PK1309 Diphenyl ethers, biphenyls, dibenzyls a...</td>\n",
       "      <td> NaN</td>\n",
       "      <td>               D      C10255  Dihydroresveratrol\\n</td>\n",
       "    </tr>\n",
       "    <tr>\n",
       "      <th>2778</th>\n",
       "      <td> C10256</td>\n",
       "      <td> PK  Polyketides</td>\n",
       "      <td>                     PK13 Aromatic polyketides</td>\n",
       "      <td> PK1309 Diphenyl ethers, biphenyls, dibenzyls a...</td>\n",
       "      <td> NaN</td>\n",
       "      <td> D      C10256  4,4'-Dihydroxy-3,5-dimethoxydih...</td>\n",
       "    </tr>\n",
       "    <tr>\n",
       "      <th>2779</th>\n",
       "      <td> C10259</td>\n",
       "      <td> PK  Polyketides</td>\n",
       "      <td>                     PK13 Aromatic polyketides</td>\n",
       "      <td> PK1309 Diphenyl ethers, biphenyls, dibenzyls a...</td>\n",
       "      <td> NaN</td>\n",
       "      <td>                     D      C10259  Glepidotin C\\n</td>\n",
       "    </tr>\n",
       "    <tr>\n",
       "      <th>2780</th>\n",
       "      <td> C10268</td>\n",
       "      <td> PK  Polyketides</td>\n",
       "      <td>                     PK13 Aromatic polyketides</td>\n",
       "      <td> PK1309 Diphenyl ethers, biphenyls, dibenzyls a...</td>\n",
       "      <td> NaN</td>\n",
       "      <td>                   D      C10268  Lunularic acid\\n</td>\n",
       "    </tr>\n",
       "    <tr>\n",
       "      <th>2781</th>\n",
       "      <td> C10269</td>\n",
       "      <td> PK  Polyketides</td>\n",
       "      <td>                     PK13 Aromatic polyketides</td>\n",
       "      <td> PK1309 Diphenyl ethers, biphenyls, dibenzyls a...</td>\n",
       "      <td> NaN</td>\n",
       "      <td>                        D      C10269  Lunularin\\n</td>\n",
       "    </tr>\n",
       "    <tr>\n",
       "      <th>2782</th>\n",
       "      <td> C10271</td>\n",
       "      <td> PK  Polyketides</td>\n",
       "      <td>                     PK13 Aromatic polyketides</td>\n",
       "      <td> PK1309 Diphenyl ethers, biphenyls, dibenzyls a...</td>\n",
       "      <td> NaN</td>\n",
       "      <td>         D      C10271  3'-O-Methylbatatasin III\\n</td>\n",
       "    </tr>\n",
       "    <tr>\n",
       "      <th>2783</th>\n",
       "      <td> C10281</td>\n",
       "      <td> PK  Polyketides</td>\n",
       "      <td>                     PK13 Aromatic polyketides</td>\n",
       "      <td> PK1309 Diphenyl ethers, biphenyls, dibenzyls a...</td>\n",
       "      <td> NaN</td>\n",
       "      <td>        D      C10281  4-Prenyldihydropinosylvin\\n</td>\n",
       "    </tr>\n",
       "    <tr>\n",
       "      <th>2784</th>\n",
       "      <td> C14341</td>\n",
       "      <td> PK  Polyketides</td>\n",
       "      <td>                     PK13 Aromatic polyketides</td>\n",
       "      <td> PK1309 Diphenyl ethers, biphenyls, dibenzyls a...</td>\n",
       "      <td> NaN</td>\n",
       "      <td>           D      C14341  4,4'-Dihydroxybibenzyl\\n</td>\n",
       "    </tr>\n",
       "    <tr>\n",
       "      <th>2785</th>\n",
       "      <td> C14685</td>\n",
       "      <td> PK  Polyketides</td>\n",
       "      <td>                     PK13 Aromatic polyketides</td>\n",
       "      <td> PK1309 Diphenyl ethers, biphenyls, dibenzyls a...</td>\n",
       "      <td> NaN</td>\n",
       "      <td>              D      C14685  1,2-Dihydrostilbene\\n</td>\n",
       "    </tr>\n",
       "    <tr>\n",
       "      <th>2786</th>\n",
       "      <td>    NaN</td>\n",
       "      <td> PK  Polyketides</td>\n",
       "      <td>                     PK13 Aromatic polyketides</td>\n",
       "      <td>                             PK1310 Benzofuranoids</td>\n",
       "      <td> NaN</td>\n",
       "      <td>                      C    PK1310 Benzofuranoids\\n</td>\n",
       "    </tr>\n",
       "    <tr>\n",
       "      <th>2787</th>\n",
       "      <td>    NaN</td>\n",
       "      <td> PK  Polyketides</td>\n",
       "      <td>                     PK13 Aromatic polyketides</td>\n",
       "      <td>                             PK1311 Benzopyranoids</td>\n",
       "      <td> NaN</td>\n",
       "      <td>                      C    PK1311 Benzopyranoids\\n</td>\n",
       "    </tr>\n",
       "    <tr>\n",
       "      <th>2788</th>\n",
       "      <td> C09010</td>\n",
       "      <td> PK  Polyketides</td>\n",
       "      <td>                     PK13 Aromatic polyketides</td>\n",
       "      <td>                             PK1311 Benzopyranoids</td>\n",
       "      <td> NaN</td>\n",
       "      <td>                          D      C09010  Khellin\\n</td>\n",
       "    </tr>\n",
       "    <tr>\n",
       "      <th>2789</th>\n",
       "      <td> C09016</td>\n",
       "      <td> PK  Polyketides</td>\n",
       "      <td>                     PK13 Aromatic polyketides</td>\n",
       "      <td>                             PK1311 Benzopyranoids</td>\n",
       "      <td> NaN</td>\n",
       "      <td>             D      C09016  5-O-Methylvisamminol\\n</td>\n",
       "    </tr>\n",
       "    <tr>\n",
       "      <th>2790</th>\n",
       "      <td> C09049</td>\n",
       "      <td> PK  Polyketides</td>\n",
       "      <td>                     PK13 Aromatic polyketides</td>\n",
       "      <td>                             PK1311 Benzopyranoids</td>\n",
       "      <td> NaN</td>\n",
       "      <td>                         D      C09049  Visnagin\\n</td>\n",
       "    </tr>\n",
       "    <tr>\n",
       "      <th>2791</th>\n",
       "      <td>    NaN</td>\n",
       "      <td> PK  Polyketides</td>\n",
       "      <td>                     PK13 Aromatic polyketides</td>\n",
       "      <td>                 PK1312 Other aromatic polyketides</td>\n",
       "      <td> NaN</td>\n",
       "      <td>          C    PK1312 Other aromatic polyketides\\n</td>\n",
       "    </tr>\n",
       "    <tr>\n",
       "      <th>2792</th>\n",
       "      <td> C07578</td>\n",
       "      <td> PK  Polyketides</td>\n",
       "      <td>                     PK13 Aromatic polyketides</td>\n",
       "      <td>                 PK1312 Other aromatic polyketides</td>\n",
       "      <td> NaN</td>\n",
       "      <td>                      D      C07578  Cannabidiol\\n</td>\n",
       "    </tr>\n",
       "    <tr>\n",
       "      <th>2793</th>\n",
       "      <td> C07580</td>\n",
       "      <td> PK  Polyketides</td>\n",
       "      <td>                     PK13 Aromatic polyketides</td>\n",
       "      <td>                 PK1312 Other aromatic polyketides</td>\n",
       "      <td> NaN</td>\n",
       "      <td>                       D      C07580  Cannabinol\\n</td>\n",
       "    </tr>\n",
       "    <tr>\n",
       "      <th>2794</th>\n",
       "      <td> C10784</td>\n",
       "      <td> PK  Polyketides</td>\n",
       "      <td>                     PK13 Aromatic polyketides</td>\n",
       "      <td>                 PK1312 Other aromatic polyketides</td>\n",
       "      <td> NaN</td>\n",
       "      <td>               D      C10784  Cannabidiolic acid\\n</td>\n",
       "    </tr>\n",
       "    <tr>\n",
       "      <th>2795</th>\n",
       "      <td>    NaN</td>\n",
       "      <td> PK  Polyketides</td>\n",
       "      <td> PK14 Non-ribosomal peptide/polyketide hybrids</td>\n",
       "      <td>                                               NaN</td>\n",
       "      <td> NaN</td>\n",
       "      <td> B  PK14 Non-ribosomal peptide/polyketide hybri...</td>\n",
       "    </tr>\n",
       "    <tr>\n",
       "      <th>2796</th>\n",
       "      <td> C01790</td>\n",
       "      <td> PK  Polyketides</td>\n",
       "      <td> PK14 Non-ribosomal peptide/polyketide hybrids</td>\n",
       "      <td>                                               NaN</td>\n",
       "      <td> NaN</td>\n",
       "      <td>                        C    C01790  Capreomycin\\n</td>\n",
       "    </tr>\n",
       "    <tr>\n",
       "      <th>2797</th>\n",
       "      <td> C06854</td>\n",
       "      <td> PK  Polyketides</td>\n",
       "      <td> PK14 Non-ribosomal peptide/polyketide hybrids</td>\n",
       "      <td>                                               NaN</td>\n",
       "      <td> NaN</td>\n",
       "      <td>                       C    C06854  Bleomycin A2\\n</td>\n",
       "    </tr>\n",
       "    <tr>\n",
       "      <th>2798</th>\n",
       "      <td> C01895</td>\n",
       "      <td> PK  Polyketides</td>\n",
       "      <td> PK14 Non-ribosomal peptide/polyketide hybrids</td>\n",
       "      <td>                                               NaN</td>\n",
       "      <td> NaN</td>\n",
       "      <td>                       C    C01895  Bleomycin B2\\n</td>\n",
       "    </tr>\n",
       "    <tr>\n",
       "      <th>2799</th>\n",
       "      <td> C05086</td>\n",
       "      <td> PK  Polyketides</td>\n",
       "      <td> PK14 Non-ribosomal peptide/polyketide hybrids</td>\n",
       "      <td>                                               NaN</td>\n",
       "      <td> NaN</td>\n",
       "      <td>                      C    C05086  Cyclosporin A\\n</td>\n",
       "    </tr>\n",
       "    <tr>\n",
       "      <th>2800</th>\n",
       "      <td> C06689</td>\n",
       "      <td> PK  Polyketides</td>\n",
       "      <td> PK14 Non-ribosomal peptide/polyketide hybrids</td>\n",
       "      <td>                                               NaN</td>\n",
       "      <td> NaN</td>\n",
       "      <td>                         C    C06689  Vancomycin\\n</td>\n",
       "    </tr>\n",
       "    <tr>\n",
       "      <th>2801</th>\n",
       "      <td> C01775</td>\n",
       "      <td> PK  Polyketides</td>\n",
       "      <td> PK14 Non-ribosomal peptide/polyketide hybrids</td>\n",
       "      <td>                                               NaN</td>\n",
       "      <td> NaN</td>\n",
       "      <td>                        C    C01775  Actinomycin\\n</td>\n",
       "    </tr>\n",
       "    <tr>\n",
       "      <th>2802</th>\n",
       "      <td> C08057</td>\n",
       "      <td> PK  Polyketides</td>\n",
       "      <td> PK14 Non-ribosomal peptide/polyketide hybrids</td>\n",
       "      <td>                                               NaN</td>\n",
       "      <td> NaN</td>\n",
       "      <td>                        C    C08057  Cycloserine\\n</td>\n",
       "    </tr>\n",
       "    <tr>\n",
       "      <th>2803</th>\n",
       "      <td> C11612</td>\n",
       "      <td> PK  Polyketides</td>\n",
       "      <td> PK14 Non-ribosomal peptide/polyketide hybrids</td>\n",
       "      <td>                                               NaN</td>\n",
       "      <td> NaN</td>\n",
       "      <td>                        C    C11612  Polymyxin B\\n</td>\n",
       "    </tr>\n",
       "    <tr>\n",
       "      <th>2804</th>\n",
       "      <td> C06770</td>\n",
       "      <td> PK  Polyketides</td>\n",
       "      <td> PK14 Non-ribosomal peptide/polyketide hybrids</td>\n",
       "      <td>                                               NaN</td>\n",
       "      <td> NaN</td>\n",
       "      <td>                      C    C06770  Actinomycin D\\n</td>\n",
       "    </tr>\n",
       "    <tr>\n",
       "      <th>2805</th>\n",
       "      <td>    NaN</td>\n",
       "      <td> PK  Polyketides</td>\n",
       "      <td>                        PK00 Other Polyketides</td>\n",
       "      <td>                                               NaN</td>\n",
       "      <td> NaN</td>\n",
       "      <td>                       B  PK00 Other Polyketides\\n</td>\n",
       "    </tr>\n",
       "  </tbody>\n",
       "</table>\n",
       "<p>2091 rows × 6 columns</p>\n",
       "</div>"
      ],
      "text/plain": [
       "     cNumber                A                                              B  \\\n",
       "8        NaN  FA  Fatty acyls                                            NaN   \n",
       "9        NaN  FA  Fatty acyls                FA01 Fatty Acids and Conjugates   \n",
       "10       NaN  FA  Fatty acyls                FA01 Fatty Acids and Conjugates   \n",
       "11    C00058  FA  Fatty acyls                FA01 Fatty Acids and Conjugates   \n",
       "12    C00033  FA  Fatty acyls                FA01 Fatty Acids and Conjugates   \n",
       "13    C00163  FA  Fatty acyls                FA01 Fatty Acids and Conjugates   \n",
       "14    C00246  FA  Fatty acyls                FA01 Fatty Acids and Conjugates   \n",
       "15    C00803  FA  Fatty acyls                FA01 Fatty Acids and Conjugates   \n",
       "16    C01585  FA  Fatty acyls                FA01 Fatty Acids and Conjugates   \n",
       "17    C17714  FA  Fatty acyls                FA01 Fatty Acids and Conjugates   \n",
       "18    C06423  FA  Fatty acyls                FA01 Fatty Acids and Conjugates   \n",
       "19    C01601  FA  Fatty acyls                FA01 Fatty Acids and Conjugates   \n",
       "20    C17715  FA  Fatty acyls                FA01 Fatty Acids and Conjugates   \n",
       "21    C01571  FA  Fatty acyls                FA01 Fatty Acids and Conjugates   \n",
       "22    C02679  FA  Fatty acyls                FA01 Fatty Acids and Conjugates   \n",
       "23    C17076  FA  Fatty acyls                FA01 Fatty Acids and Conjugates   \n",
       "24    C06424  FA  Fatty acyls                FA01 Fatty Acids and Conjugates   \n",
       "25    C16537  FA  Fatty acyls                FA01 Fatty Acids and Conjugates   \n",
       "26    C00249  FA  Fatty acyls                FA01 Fatty Acids and Conjugates   \n",
       "27    C01530  FA  Fatty acyls                FA01 Fatty Acids and Conjugates   \n",
       "28    C16535  FA  Fatty acyls                FA01 Fatty Acids and Conjugates   \n",
       "29    C06425  FA  Fatty acyls                FA01 Fatty Acids and Conjugates   \n",
       "30    C08281  FA  Fatty acyls                FA01 Fatty Acids and Conjugates   \n",
       "31    C08320  FA  Fatty acyls                FA01 Fatty Acids and Conjugates   \n",
       "32       NaN  FA  Fatty acyls                FA01 Fatty Acids and Conjugates   \n",
       "33    C08262  FA  Fatty acyls                FA01 Fatty Acids and Conjugates   \n",
       "34    C16665  FA  Fatty acyls                FA01 Fatty Acids and Conjugates   \n",
       "35    C16462  FA  Fatty acyls                FA01 Fatty Acids and Conjugates   \n",
       "36    C13787  FA  Fatty acyls                FA01 Fatty Acids and Conjugates   \n",
       "37    C00141  FA  Fatty acyls                FA01 Fatty Acids and Conjugates   \n",
       "...      ...              ...                                            ...   \n",
       "2776  C10254  PK  Polyketides                      PK13 Aromatic polyketides   \n",
       "2777  C10255  PK  Polyketides                      PK13 Aromatic polyketides   \n",
       "2778  C10256  PK  Polyketides                      PK13 Aromatic polyketides   \n",
       "2779  C10259  PK  Polyketides                      PK13 Aromatic polyketides   \n",
       "2780  C10268  PK  Polyketides                      PK13 Aromatic polyketides   \n",
       "2781  C10269  PK  Polyketides                      PK13 Aromatic polyketides   \n",
       "2782  C10271  PK  Polyketides                      PK13 Aromatic polyketides   \n",
       "2783  C10281  PK  Polyketides                      PK13 Aromatic polyketides   \n",
       "2784  C14341  PK  Polyketides                      PK13 Aromatic polyketides   \n",
       "2785  C14685  PK  Polyketides                      PK13 Aromatic polyketides   \n",
       "2786     NaN  PK  Polyketides                      PK13 Aromatic polyketides   \n",
       "2787     NaN  PK  Polyketides                      PK13 Aromatic polyketides   \n",
       "2788  C09010  PK  Polyketides                      PK13 Aromatic polyketides   \n",
       "2789  C09016  PK  Polyketides                      PK13 Aromatic polyketides   \n",
       "2790  C09049  PK  Polyketides                      PK13 Aromatic polyketides   \n",
       "2791     NaN  PK  Polyketides                      PK13 Aromatic polyketides   \n",
       "2792  C07578  PK  Polyketides                      PK13 Aromatic polyketides   \n",
       "2793  C07580  PK  Polyketides                      PK13 Aromatic polyketides   \n",
       "2794  C10784  PK  Polyketides                      PK13 Aromatic polyketides   \n",
       "2795     NaN  PK  Polyketides  PK14 Non-ribosomal peptide/polyketide hybrids   \n",
       "2796  C01790  PK  Polyketides  PK14 Non-ribosomal peptide/polyketide hybrids   \n",
       "2797  C06854  PK  Polyketides  PK14 Non-ribosomal peptide/polyketide hybrids   \n",
       "2798  C01895  PK  Polyketides  PK14 Non-ribosomal peptide/polyketide hybrids   \n",
       "2799  C05086  PK  Polyketides  PK14 Non-ribosomal peptide/polyketide hybrids   \n",
       "2800  C06689  PK  Polyketides  PK14 Non-ribosomal peptide/polyketide hybrids   \n",
       "2801  C01775  PK  Polyketides  PK14 Non-ribosomal peptide/polyketide hybrids   \n",
       "2802  C08057  PK  Polyketides  PK14 Non-ribosomal peptide/polyketide hybrids   \n",
       "2803  C11612  PK  Polyketides  PK14 Non-ribosomal peptide/polyketide hybrids   \n",
       "2804  C06770  PK  Polyketides  PK14 Non-ribosomal peptide/polyketide hybrids   \n",
       "2805     NaN  PK  Polyketides                         PK00 Other Polyketides   \n",
       "\n",
       "                                                      C    D  \\\n",
       "8                                                   NaN  NaN   \n",
       "9                                                   NaN  NaN   \n",
       "10                    FA0101 Straight chain fatty acids  NaN   \n",
       "11                    FA0101 Straight chain fatty acids  NaN   \n",
       "12                    FA0101 Straight chain fatty acids  NaN   \n",
       "13                    FA0101 Straight chain fatty acids  NaN   \n",
       "14                    FA0101 Straight chain fatty acids  NaN   \n",
       "15                    FA0101 Straight chain fatty acids  NaN   \n",
       "16                    FA0101 Straight chain fatty acids  NaN   \n",
       "17                    FA0101 Straight chain fatty acids  NaN   \n",
       "18                    FA0101 Straight chain fatty acids  NaN   \n",
       "19                    FA0101 Straight chain fatty acids  NaN   \n",
       "20                    FA0101 Straight chain fatty acids  NaN   \n",
       "21                    FA0101 Straight chain fatty acids  NaN   \n",
       "22                    FA0101 Straight chain fatty acids  NaN   \n",
       "23                    FA0101 Straight chain fatty acids  NaN   \n",
       "24                    FA0101 Straight chain fatty acids  NaN   \n",
       "25                    FA0101 Straight chain fatty acids  NaN   \n",
       "26                    FA0101 Straight chain fatty acids  NaN   \n",
       "27                    FA0101 Straight chain fatty acids  NaN   \n",
       "28                    FA0101 Straight chain fatty acids  NaN   \n",
       "29                    FA0101 Straight chain fatty acids  NaN   \n",
       "30                    FA0101 Straight chain fatty acids  NaN   \n",
       "31                    FA0101 Straight chain fatty acids  NaN   \n",
       "32                          FA0102 Branched fatty acids  NaN   \n",
       "33                          FA0102 Branched fatty acids  NaN   \n",
       "34                          FA0102 Branched fatty acids  NaN   \n",
       "35                          FA0102 Branched fatty acids  NaN   \n",
       "36                          FA0102 Branched fatty acids  NaN   \n",
       "37                          FA0102 Branched fatty acids  NaN   \n",
       "...                                                 ...  ...   \n",
       "2776  PK1309 Diphenyl ethers, biphenyls, dibenzyls a...  NaN   \n",
       "2777  PK1309 Diphenyl ethers, biphenyls, dibenzyls a...  NaN   \n",
       "2778  PK1309 Diphenyl ethers, biphenyls, dibenzyls a...  NaN   \n",
       "2779  PK1309 Diphenyl ethers, biphenyls, dibenzyls a...  NaN   \n",
       "2780  PK1309 Diphenyl ethers, biphenyls, dibenzyls a...  NaN   \n",
       "2781  PK1309 Diphenyl ethers, biphenyls, dibenzyls a...  NaN   \n",
       "2782  PK1309 Diphenyl ethers, biphenyls, dibenzyls a...  NaN   \n",
       "2783  PK1309 Diphenyl ethers, biphenyls, dibenzyls a...  NaN   \n",
       "2784  PK1309 Diphenyl ethers, biphenyls, dibenzyls a...  NaN   \n",
       "2785  PK1309 Diphenyl ethers, biphenyls, dibenzyls a...  NaN   \n",
       "2786                              PK1310 Benzofuranoids  NaN   \n",
       "2787                              PK1311 Benzopyranoids  NaN   \n",
       "2788                              PK1311 Benzopyranoids  NaN   \n",
       "2789                              PK1311 Benzopyranoids  NaN   \n",
       "2790                              PK1311 Benzopyranoids  NaN   \n",
       "2791                  PK1312 Other aromatic polyketides  NaN   \n",
       "2792                  PK1312 Other aromatic polyketides  NaN   \n",
       "2793                  PK1312 Other aromatic polyketides  NaN   \n",
       "2794                  PK1312 Other aromatic polyketides  NaN   \n",
       "2795                                                NaN  NaN   \n",
       "2796                                                NaN  NaN   \n",
       "2797                                                NaN  NaN   \n",
       "2798                                                NaN  NaN   \n",
       "2799                                                NaN  NaN   \n",
       "2800                                                NaN  NaN   \n",
       "2801                                                NaN  NaN   \n",
       "2802                                                NaN  NaN   \n",
       "2803                                                NaN  NaN   \n",
       "2804                                                NaN  NaN   \n",
       "2805                                                NaN  NaN   \n",
       "\n",
       "                                             wholeThing  \n",
       "8                             A<b>FA  Fatty acyls</b>\\n  \n",
       "9                  B  FA01 Fatty Acids and Conjugates\\n  \n",
       "10             C    FA0101 Straight chain fatty acids\\n  \n",
       "11                         D      C00058  Formic acid\\n  \n",
       "12                         D      C00033  Acetic acid\\n  \n",
       "13                      D      C00163  Propanoic acid\\n  \n",
       "14                       D      C00246  Butanoic acid\\n  \n",
       "15                      D      C00803  Pentanoic acid\\n  \n",
       "16                       D      C01585  Hexanoic acid\\n  \n",
       "17                      D      C17714  Heptanoic acid\\n  \n",
       "18                       D      C06423  Octanoic acid\\n  \n",
       "19                       D      C01601  Nonanoic acid\\n  \n",
       "20                     D      C17715  Undecanoic acid\\n  \n",
       "21                       D      C01571  Decanoic acid\\n  \n",
       "22                     D      C02679  Dodecanoic acid\\n  \n",
       "23                    D      C17076  Tridecanoic acid\\n  \n",
       "24                  D      C06424  Tetradecanoic acid\\n  \n",
       "25                  D      C16537  Pentadecanoic acid\\n  \n",
       "26                   D      C00249  Hexadecanoic acid\\n  \n",
       "27                   D      C01530  Octadecanoic acid\\n  \n",
       "28                   D      C16535  Nonadecanoic acid\\n  \n",
       "29                      D      C06425  Icosanoic acid\\n  \n",
       "30                     D      C08281  Docosanoic acid\\n  \n",
       "31                  D      C08320  Tetracosanoic acid\\n  \n",
       "32                   C    FA0102 Branched fatty acids\\n  \n",
       "33               D      C08262  3-Methylbutanoic acid\\n  \n",
       "34         D      C16665  12-Methyltetradecanoic acid\\n  \n",
       "35        D      C16462  3,7-Dimethyl-6-octenoic acid\\n  \n",
       "36      D      C13787  17-Methyl-6Z-octadecenoic acid\\n  \n",
       "37         D      C00141  3-Methyl-2-oxobutanoic acid\\n  \n",
       "...                                                 ...  \n",
       "2776                 D      C10254  Dihydropinosylvin\\n  \n",
       "2777                D      C10255  Dihydroresveratrol\\n  \n",
       "2778  D      C10256  4,4'-Dihydroxy-3,5-dimethoxydih...  \n",
       "2779                      D      C10259  Glepidotin C\\n  \n",
       "2780                    D      C10268  Lunularic acid\\n  \n",
       "2781                         D      C10269  Lunularin\\n  \n",
       "2782          D      C10271  3'-O-Methylbatatasin III\\n  \n",
       "2783         D      C10281  4-Prenyldihydropinosylvin\\n  \n",
       "2784            D      C14341  4,4'-Dihydroxybibenzyl\\n  \n",
       "2785               D      C14685  1,2-Dihydrostilbene\\n  \n",
       "2786                       C    PK1310 Benzofuranoids\\n  \n",
       "2787                       C    PK1311 Benzopyranoids\\n  \n",
       "2788                           D      C09010  Khellin\\n  \n",
       "2789              D      C09016  5-O-Methylvisamminol\\n  \n",
       "2790                          D      C09049  Visnagin\\n  \n",
       "2791           C    PK1312 Other aromatic polyketides\\n  \n",
       "2792                       D      C07578  Cannabidiol\\n  \n",
       "2793                        D      C07580  Cannabinol\\n  \n",
       "2794                D      C10784  Cannabidiolic acid\\n  \n",
       "2795  B  PK14 Non-ribosomal peptide/polyketide hybri...  \n",
       "2796                         C    C01790  Capreomycin\\n  \n",
       "2797                        C    C06854  Bleomycin A2\\n  \n",
       "2798                        C    C01895  Bleomycin B2\\n  \n",
       "2799                       C    C05086  Cyclosporin A\\n  \n",
       "2800                          C    C06689  Vancomycin\\n  \n",
       "2801                         C    C01775  Actinomycin\\n  \n",
       "2802                         C    C08057  Cycloserine\\n  \n",
       "2803                         C    C11612  Polymyxin B\\n  \n",
       "2804                       C    C06770  Actinomycin D\\n  \n",
       "2805                        B  PK00 Other Polyketides\\n  \n",
       "\n",
       "[2091 rows x 6 columns]"
      ]
     },
     "execution_count": 123,
     "metadata": {},
     "output_type": "execute_result"
    }
   ],
   "source": [
    "forBrite"
   ]
  },
  {
   "cell_type": "code",
   "execution_count": null,
   "metadata": {
    "collapsed": true
   },
   "outputs": [],
   "source": []
  },
  {
   "cell_type": "code",
   "execution_count": null,
   "metadata": {
    "collapsed": true
   },
   "outputs": [],
   "source": []
  },
  {
   "cell_type": "code",
   "execution_count": null,
   "metadata": {
    "collapsed": true
   },
   "outputs": [],
   "source": []
  },
  {
   "cell_type": "code",
   "execution_count": null,
   "metadata": {
    "collapsed": true
   },
   "outputs": [],
   "source": []
  },
  {
   "cell_type": "code",
   "execution_count": null,
   "metadata": {
    "collapsed": true
   },
   "outputs": [],
   "source": []
  }
 ],
 "metadata": {
  "kernelspec": {
   "display_name": "Python 2",
   "language": "python",
   "name": "python2"
  },
  "language_info": {
   "codemirror_mode": {
    "name": "ipython",
    "version": 2
   },
   "file_extension": ".py",
   "mimetype": "text/x-python",
   "name": "python",
   "nbconvert_exporter": "python",
   "pygments_lexer": "ipython2",
   "version": "2.7.9"
  }
 },
 "nbformat": 4,
 "nbformat_minor": 0
}
