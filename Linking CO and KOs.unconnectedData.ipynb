{
 "cells": [
  {
   "cell_type": "markdown",
   "metadata": {},
   "source": [
    "# Krista, working on linking CO and KO\n",
    "#from HA species...2/10/2016 "
   ]
  },
  {
   "cell_type": "code",
   "execution_count": 2,
   "metadata": {
    "collapsed": false
   },
   "outputs": [],
   "source": [
    "import pandas as pd\n",
    "import urllib2\n",
    "from bs4 import BeautifulSoup\n",
    "import re\n",
    "from sklearn.cluster import KMeans\n",
    "# import palettable as pal\n",
    "from itertools import chain\n",
    "import os\n",
    "import os.path #? not sure if I need both\n",
    "import glob\n",
    "import numpy as np\n",
    "from IPython.core.debugger import Tracer #used this to step into the function and debug it, also need line with Tracer()() \n",
    "\n",
    "import matplotlib.pyplot as plt\n",
    "import matplotlib as mpl #KL moved this here 2/12/2016\n",
    "#BUT...then messes with the plotting\n",
    "mpl.rcParams['pdf.fonttype'] = 42\n",
    "%matplotlib inline\n",
    "from collections import Counter\n",
    "import cPickle as cpk\n",
    "\n",
    "from stackedBarGraph import StackedBarGrapher\n",
    "SBG = StackedBarGrapher()\n",
    "\n"
   ]
  },
  {
   "cell_type": "markdown",
   "metadata": {},
   "source": [
    "Also, will need to export the following from MATLAB\n",
    "(1) RInumber, (2) CO number, (3) ion mode information\n",
    "\n",
    "The KEGG CO numbers from the RI data are not unique. In MATLAB, I have created a new value 'RInumber' which is an arbitrary number for each 'mzRT' feature. The data exported out of MATLAB include that number, the corresponding KEGG CO number, and whether the feature was observed in positive or negative ion mode. These data will be uesd to create a lookup table which allow use of the CO numbers or RInumbers as needed."
   ]
  },
  {
   "cell_type": "code",
   "execution_count": 3,
   "metadata": {
    "collapsed": false
   },
   "outputs": [],
   "source": [
    "mtabFile = 'RImetabolites_isomers.2015.08.27.csv' #first column is RInumber"
   ]
  },
  {
   "cell_type": "code",
   "execution_count": 4,
   "metadata": {
    "collapsed": false
   },
   "outputs": [
    {
     "data": {
      "text/html": [
       "<div style=\"max-height:1000px;max-width:1500px;overflow:auto;\">\n",
       "<table border=\"1\" class=\"dataframe\">\n",
       "  <thead>\n",
       "    <tr style=\"text-align: right;\">\n",
       "      <th></th>\n",
       "      <th>cNumber</th>\n",
       "      <th>ChargedMass</th>\n",
       "      <th>RT</th>\n",
       "      <th>ionMode</th>\n",
       "      <th>S1</th>\n",
       "      <th>S2</th>\n",
       "      <th>S3</th>\n",
       "      <th>S4</th>\n",
       "      <th>S5</th>\n",
       "    </tr>\n",
       "    <tr>\n",
       "      <th>RInumber</th>\n",
       "      <th></th>\n",
       "      <th></th>\n",
       "      <th></th>\n",
       "      <th></th>\n",
       "      <th></th>\n",
       "      <th></th>\n",
       "      <th></th>\n",
       "      <th></th>\n",
       "      <th></th>\n",
       "    </tr>\n",
       "  </thead>\n",
       "  <tbody>\n",
       "    <tr>\n",
       "      <th>RI1</th>\n",
       "      <td> C06593</td>\n",
       "      <td> 114.091340</td>\n",
       "      <td> 420.6627</td>\n",
       "      <td> positive</td>\n",
       "      <td> 0.005583</td>\n",
       "      <td> 0.005715</td>\n",
       "      <td> 0.006027</td>\n",
       "      <td> 0.002645</td>\n",
       "      <td> 0.003441</td>\n",
       "    </tr>\n",
       "    <tr>\n",
       "      <th>RI2</th>\n",
       "      <td> C01585</td>\n",
       "      <td> 117.091006</td>\n",
       "      <td> 343.2985</td>\n",
       "      <td> positive</td>\n",
       "      <td> 0.000305</td>\n",
       "      <td> 0.000486</td>\n",
       "      <td> 0.000613</td>\n",
       "      <td> 0.000389</td>\n",
       "      <td> 0.000436</td>\n",
       "    </tr>\n",
       "    <tr>\n",
       "      <th>RI3</th>\n",
       "      <td> C02948</td>\n",
       "      <td> 117.091006</td>\n",
       "      <td> 343.2985</td>\n",
       "      <td> positive</td>\n",
       "      <td> 0.000305</td>\n",
       "      <td> 0.000486</td>\n",
       "      <td> 0.000613</td>\n",
       "      <td> 0.000389</td>\n",
       "      <td> 0.000436</td>\n",
       "    </tr>\n",
       "    <tr>\n",
       "      <th>RI4</th>\n",
       "      <td> C03739</td>\n",
       "      <td> 117.091006</td>\n",
       "      <td> 343.2985</td>\n",
       "      <td> positive</td>\n",
       "      <td> 0.000305</td>\n",
       "      <td> 0.000486</td>\n",
       "      <td> 0.000613</td>\n",
       "      <td> 0.000389</td>\n",
       "      <td> 0.000436</td>\n",
       "    </tr>\n",
       "    <tr>\n",
       "      <th>RI5</th>\n",
       "      <td> C12293</td>\n",
       "      <td> 117.091006</td>\n",
       "      <td> 343.2985</td>\n",
       "      <td> positive</td>\n",
       "      <td> 0.000305</td>\n",
       "      <td> 0.000486</td>\n",
       "      <td> 0.000613</td>\n",
       "      <td> 0.000389</td>\n",
       "      <td> 0.000436</td>\n",
       "    </tr>\n",
       "  </tbody>\n",
       "</table>\n",
       "</div>"
      ],
      "text/plain": [
       "         cNumber  ChargedMass        RT   ionMode        S1        S2  \\\n",
       "RInumber                                                                \n",
       "RI1       C06593   114.091340  420.6627  positive  0.005583  0.005715   \n",
       "RI2       C01585   117.091006  343.2985  positive  0.000305  0.000486   \n",
       "RI3       C02948   117.091006  343.2985  positive  0.000305  0.000486   \n",
       "RI4       C03739   117.091006  343.2985  positive  0.000305  0.000486   \n",
       "RI5       C12293   117.091006  343.2985  positive  0.000305  0.000486   \n",
       "\n",
       "                S3        S4        S5  \n",
       "RInumber                                \n",
       "RI1       0.006027  0.002645  0.003441  \n",
       "RI2       0.000613  0.000389  0.000436  \n",
       "RI3       0.000613  0.000389  0.000436  \n",
       "RI4       0.000613  0.000389  0.000436  \n",
       "RI5       0.000613  0.000389  0.000436  "
      ]
     },
     "execution_count": 4,
     "metadata": {},
     "output_type": "execute_result"
    }
   ],
   "source": [
    "CO_fromMATLAB=pd.read_csv(mtabFile, index_col='RInumber')\n",
    "# CO_fromMATLAB=CO_RawData[CO_RawData.sum(axis=1)!=0]\n",
    "#read in the data from MATLAB and take a quick look\n",
    "CO_fromMATLAB.head(n=5)"
   ]
  },
  {
   "cell_type": "markdown",
   "metadata": {},
   "source": [
    "make the list of unique cNumbers here, do the KEGG thing and filter the list before I start splitting up the dataframes into data and metadata..."
   ]
  },
  {
   "cell_type": "code",
   "execution_count": 5,
   "metadata": {
    "collapsed": false
   },
   "outputs": [],
   "source": [
    "#make a list of the unique CO numbers for the CreateHash_COtoKO.py. Export the list as CSV\n",
    "td = CO_fromMATLAB.groupby('cNumber').count()\n",
    "COnumbers = td.drop(list(td.columns.values),axis=1)\n",
    "del td\n",
    "COnumbers.to_csv('exportCOnumbers.csv',header=True)"
   ]
  },
  {
   "cell_type": "markdown",
   "metadata": {},
   "source": [
    "###Write a couple of functions to swap between CO and RInumbers"
   ]
  },
  {
   "cell_type": "code",
   "execution_count": 6,
   "metadata": {
    "collapsed": true
   },
   "outputs": [],
   "source": [
    "def findRInumber(dataIn,KEGGin):\n",
    "    #find possible RI numbers for a given KEGG number. \n",
    "    dataOut = []\n",
    "    for i,KEGG in enumerate(dataIn['KEGG']):\n",
    "        if KEGG == KEGGin:\n",
    "            t = dataIn.index[i]\n",
    "            dataOut.append(t)\n",
    "    return dataOut\n",
    "\n",
    "##For example: this will give back one row, C18028 will be multiple\n",
    "#m = findRInumber(forRelatedness,'C00078') "
   ]
  },
  {
   "cell_type": "code",
   "execution_count": 7,
   "metadata": {
    "collapsed": true
   },
   "outputs": [],
   "source": [
    "def convertRItoCO(dataIn,RIin):\n",
    "    #do the reverse, given an RInumber find the cNumber\n",
    "    dataOut = dataIn.loc[RIin].loc['cNumber']\n",
    "    return dataOut\n",
    "\n",
    "##This will always be a single value\n",
    "#m = convertRItoCO(forRelatedness,'RI2')"
   ]
  },
  {
   "cell_type": "code",
   "execution_count": 8,
   "metadata": {
    "collapsed": true
   },
   "outputs": [],
   "source": [
    "#slight change, no need to send in a comparison file if it always the same thing\n",
    "def convertRItoCO2(RIin):\n",
    "    #do the reverse, given an RInumber find the cNumber\n",
    "    dataOut = CO_fromMATLAB.loc[RIin].loc['cNumber']\n",
    "    return dataOut\n",
    "\n",
    "##This will always be a single value, also uses CO_fromMATLAB as input "
   ]
  },
  {
   "cell_type": "code",
   "execution_count": 9,
   "metadata": {
    "collapsed": false
   },
   "outputs": [],
   "source": [
    "#but had trouble getting a tuple to work as an index.\n",
    "dayList = ['S1','S2','S3','S4','S5'] #this makes a list (mutable, can be changed)\n",
    "CO_RawData = CO_fromMATLAB.loc[:,dayList]"
   ]
  },
  {
   "cell_type": "code",
   "execution_count": 10,
   "metadata": {
    "collapsed": false
   },
   "outputs": [
    {
     "data": {
      "text/html": [
       "<div style=\"max-height:1000px;max-width:1500px;overflow:auto;\">\n",
       "<table border=\"1\" class=\"dataframe\">\n",
       "  <thead>\n",
       "    <tr style=\"text-align: right;\">\n",
       "      <th></th>\n",
       "      <th>S1</th>\n",
       "      <th>S2</th>\n",
       "      <th>S3</th>\n",
       "      <th>S4</th>\n",
       "      <th>S5</th>\n",
       "    </tr>\n",
       "    <tr>\n",
       "      <th>RInumber</th>\n",
       "      <th></th>\n",
       "      <th></th>\n",
       "      <th></th>\n",
       "      <th></th>\n",
       "      <th></th>\n",
       "    </tr>\n",
       "  </thead>\n",
       "  <tbody>\n",
       "    <tr>\n",
       "      <th>RI1</th>\n",
       "      <td> 0.005583</td>\n",
       "      <td> 0.005715</td>\n",
       "      <td> 0.006027</td>\n",
       "      <td> 0.002645</td>\n",
       "      <td> 0.003441</td>\n",
       "    </tr>\n",
       "    <tr>\n",
       "      <th>RI2</th>\n",
       "      <td> 0.000305</td>\n",
       "      <td> 0.000486</td>\n",
       "      <td> 0.000613</td>\n",
       "      <td> 0.000389</td>\n",
       "      <td> 0.000436</td>\n",
       "    </tr>\n",
       "    <tr>\n",
       "      <th>RI3</th>\n",
       "      <td> 0.000305</td>\n",
       "      <td> 0.000486</td>\n",
       "      <td> 0.000613</td>\n",
       "      <td> 0.000389</td>\n",
       "      <td> 0.000436</td>\n",
       "    </tr>\n",
       "    <tr>\n",
       "      <th>RI4</th>\n",
       "      <td> 0.000305</td>\n",
       "      <td> 0.000486</td>\n",
       "      <td> 0.000613</td>\n",
       "      <td> 0.000389</td>\n",
       "      <td> 0.000436</td>\n",
       "    </tr>\n",
       "    <tr>\n",
       "      <th>RI5</th>\n",
       "      <td> 0.000305</td>\n",
       "      <td> 0.000486</td>\n",
       "      <td> 0.000613</td>\n",
       "      <td> 0.000389</td>\n",
       "      <td> 0.000436</td>\n",
       "    </tr>\n",
       "  </tbody>\n",
       "</table>\n",
       "</div>"
      ],
      "text/plain": [
       "                S1        S2        S3        S4        S5\n",
       "RInumber                                                  \n",
       "RI1       0.005583  0.005715  0.006027  0.002645  0.003441\n",
       "RI2       0.000305  0.000486  0.000613  0.000389  0.000436\n",
       "RI3       0.000305  0.000486  0.000613  0.000389  0.000436\n",
       "RI4       0.000305  0.000486  0.000613  0.000389  0.000436\n",
       "RI5       0.000305  0.000486  0.000613  0.000389  0.000436"
      ]
     },
     "execution_count": 10,
     "metadata": {},
     "output_type": "execute_result"
    }
   ],
   "source": [
    "CO_RawData.head(5)"
   ]
  },
  {
   "cell_type": "code",
   "execution_count": 11,
   "metadata": {
    "collapsed": false
   },
   "outputs": [],
   "source": [
    "#Load PhytoKEGG Annotations\n",
    "#from Harriet...doesn't work, complaining about header=False \n",
    "#AllPhytoKO_ann=pd.read_table('AllPhytoKegg_annotated.tab', header=False, delimiter='\\t')\n",
    "# Z:\\KLtemp\\TranscriptomicsData_Feb2016\n",
    "#try this instead (note double \\\\ at end)\n",
    "pathToData = 'Z:\\KLtemp\\TranscriptomicsData_Feb2016\\\\'\n",
    "AllPhytoKO_ann=pd.read_table((pathToData + 'AllPhytoKegg_annotated.tab'), delimiter='\\t')"
   ]
  },
  {
   "cell_type": "code",
   "execution_count": 12,
   "metadata": {
    "collapsed": false
   },
   "outputs": [],
   "source": [
    "InsituCounts=pd.read_table((pathToData + 'AllInsitu_NoZero.tab'), index_col='gID')"
   ]
  },
  {
   "cell_type": "code",
   "execution_count": 13,
   "metadata": {
    "collapsed": false
   },
   "outputs": [],
   "source": [
    "#normalize to the library size\n",
    "InsituTPM=InsituCounts.copy()\n",
    "InsituTPM[['S1', 'S2', 'S3', 'S4', 'S5']]=(InsituCounts[['S1', 'S2', 'S3', 'S4', 'S5']]/InsituCounts[['S1', 'S2', 'S3', 'S4', 'S5']].sum())*10**6\n",
    "\n",
    "#Add annotation information\n",
    "InsituCounts=InsituCounts.join(AllPhytoKO_ann)\n",
    "InsituTPM=InsituTPM.join(AllPhytoKO_ann)\n",
    "InsituCounts=InsituCounts.dropna()\n",
    "InsituTPM=InsituTPM.dropna()"
   ]
  },
  {
   "cell_type": "code",
   "execution_count": 14,
   "metadata": {
    "collapsed": false
   },
   "outputs": [],
   "source": [
    "KO_RawData=InsituTPM.groupby('kID').sum()"
   ]
  },
  {
   "cell_type": "code",
   "execution_count": 15,
   "metadata": {
    "collapsed": false
   },
   "outputs": [
    {
     "data": {
      "text/html": [
       "<div style=\"max-height:1000px;max-width:1500px;overflow:auto;\">\n",
       "<table border=\"1\" class=\"dataframe\">\n",
       "  <thead>\n",
       "    <tr style=\"text-align: right;\">\n",
       "      <th></th>\n",
       "      <th>S1</th>\n",
       "      <th>S2</th>\n",
       "      <th>S3</th>\n",
       "      <th>S4</th>\n",
       "      <th>S5</th>\n",
       "    </tr>\n",
       "    <tr>\n",
       "      <th>kID</th>\n",
       "      <th></th>\n",
       "      <th></th>\n",
       "      <th></th>\n",
       "      <th></th>\n",
       "      <th></th>\n",
       "    </tr>\n",
       "  </thead>\n",
       "  <tbody>\n",
       "    <tr>\n",
       "      <th>K00001</th>\n",
       "      <td>  3.418232</td>\n",
       "      <td>  4.263402</td>\n",
       "      <td>  4.675860</td>\n",
       "      <td> 5.484786</td>\n",
       "      <td> 7.124730</td>\n",
       "    </tr>\n",
       "    <tr>\n",
       "      <th>K00002</th>\n",
       "      <td>  3.530673</td>\n",
       "      <td>  3.253258</td>\n",
       "      <td>  3.624972</td>\n",
       "      <td> 3.035270</td>\n",
       "      <td> 3.707540</td>\n",
       "    </tr>\n",
       "    <tr>\n",
       "      <th>K00003</th>\n",
       "      <td> 29.043725</td>\n",
       "      <td> 19.578968</td>\n",
       "      <td> 12.091113</td>\n",
       "      <td> 5.617912</td>\n",
       "      <td> 8.062782</td>\n",
       "    </tr>\n",
       "    <tr>\n",
       "      <th>K00004</th>\n",
       "      <td>  0.449767</td>\n",
       "      <td>  0.594202</td>\n",
       "      <td>  0.791118</td>\n",
       "      <td> 0.639004</td>\n",
       "      <td> 0.714706</td>\n",
       "    </tr>\n",
       "    <tr>\n",
       "      <th>K00005</th>\n",
       "      <td>  0.157419</td>\n",
       "      <td>  0.163406</td>\n",
       "      <td>  0.307001</td>\n",
       "      <td> 0.319502</td>\n",
       "      <td> 0.469026</td>\n",
       "    </tr>\n",
       "  </tbody>\n",
       "</table>\n",
       "</div>"
      ],
      "text/plain": [
       "               S1         S2         S3        S4        S5\n",
       "kID                                                        \n",
       "K00001   3.418232   4.263402   4.675860  5.484786  7.124730\n",
       "K00002   3.530673   3.253258   3.624972  3.035270  3.707540\n",
       "K00003  29.043725  19.578968  12.091113  5.617912  8.062782\n",
       "K00004   0.449767   0.594202   0.791118  0.639004  0.714706\n",
       "K00005   0.157419   0.163406   0.307001  0.319502  0.469026"
      ]
     },
     "execution_count": 15,
     "metadata": {},
     "output_type": "execute_result"
    }
   ],
   "source": [
    "KO_RawData.head(5)"
   ]
  },
  {
   "cell_type": "code",
   "execution_count": 16,
   "metadata": {
    "collapsed": true
   },
   "outputs": [],
   "source": [
    "def NormalizeToMean(DF):\n",
    "    DF_meanNorm=DF.copy()\n",
    "    out=DF_meanNorm.copy()\n",
    "    DF_meanNorm['mean']=DF.mean(axis=1)\n",
    "\n",
    "    for i in out.columns:\n",
    "        out[i]=DF_meanNorm[i]/DF_meanNorm['mean']\n",
    "    DF_meanNorm=DF_meanNorm.T.drop('mean').T\n",
    "    return out\n",
    "\n",
    "def NormalizeToMax(DF):\n",
    "    DF_meanNorm=DF.copy()\n",
    "    out=DF_meanNorm.copy()\n",
    "    DF_meanNorm['max']=DF.max(axis=1)\n",
    "    for i in out.columns:\n",
    "        out[i]=DF_meanNorm[i]/DF_meanNorm['max']\n",
    "    DF_meanNorm=DF_meanNorm.T.drop('max').T\n",
    "    return out\n",
    "\n",
    "def NormalizeToMean_CV(DF):\n",
    "    out=DF.copy()\n",
    "    out['mean']=DF.mean(axis=1)\n",
    "    out['SD']=DF.std(axis=1)\n",
    "    \n",
    "    out['CV']=out['SD']/out['mean']\n",
    "    return out"
   ]
  },
  {
   "cell_type": "code",
   "execution_count": 17,
   "metadata": {
    "collapsed": false
   },
   "outputs": [],
   "source": [
    "#several options for normalizing the data\n",
    "CO_Norm2Mean=NormalizeToMean(CO_RawData) #this is what gets used in the original code\n",
    "KO_Norm2Mean=NormalizeToMean(KO_RawData) #this is what gets used in the original code"
   ]
  },
  {
   "cell_type": "code",
   "execution_count": 18,
   "metadata": {
    "collapsed": true
   },
   "outputs": [],
   "source": [
    "#use _finalOption variable names to make life easier\n",
    "KO_finalOption = KO_Norm2Mean.dropna()\n",
    "CO_finalOption = CO_Norm2Mean.dropna() #already 'limited' this before the normalization"
   ]
  },
  {
   "cell_type": "code",
   "execution_count": 19,
   "metadata": {
    "collapsed": false
   },
   "outputs": [
    {
     "name": "stdout",
     "output_type": "stream",
     "text": [
      "Automatically created module for IPython interactive environment\n"
     ]
    }
   ],
   "source": [
    "from sklearn.metrics import silhouette_samples, silhouette_score\n",
    "\n",
    "import matplotlib.pyplot as plt\n",
    "import matplotlib.cm as cm\n",
    "import numpy as np\n",
    "\n",
    "#this next line prints up some sort of pre-canned details about the program. \n",
    "print(__doc__) \n",
    "\n",
    "def kmeanCluster(data,nc):\n",
    "    #kmeans=KMeans(n_clusters=nc)\n",
    "    kmeans = KMeans(n_clusters = nc, max_iter = 1000, n_init = 50, init = 'random')\n",
    "    kmeans.fit(data)\n",
    "    newData=data.copy()\n",
    "    newData['kmeans']=kmeans.labels_\n",
    "    return newData\n",
    "    \n",
    "def PlotKmeans(KmeansPD, kSize=10, figSizeX=1, figSizeY=5, color='k'):\n",
    "    KmeansPD['kmeans'].plot(kind='hist', bins=kSize, color=color)\n",
    "    fig,axs=plt.subplots(figSizeX, figSizeY)\n",
    "    axs=[item for sublist in axs for item in sublist]\n",
    "    fig.set_size_inches(9,12)\n",
    "    for ax, y in zip(axs,range(kSize)):\n",
    "        pltData=KmeansPD[KmeansPD.kmeans==y].T.drop('kmeans')\n",
    "        pltData.plot(ax=ax, legend=False, grid=False, color=color)"
   ]
  },
  {
   "cell_type": "code",
   "execution_count": 20,
   "metadata": {
    "collapsed": false
   },
   "outputs": [],
   "source": [
    "##First, combine the CO and the KO data\n",
    "#Combined_KO_CO_MeanNorm=KO_limited_Norm2Mean.append(CO_limited_Norm2Mean)\n",
    "Combined_KO_CO_final=KO_finalOption.append(CO_finalOption.loc[:,(dayList)])"
   ]
  },
  {
   "cell_type": "markdown",
   "metadata": {
    "collapsed": true
   },
   "source": [
    "#go back to Kmeans and finding the right group"
   ]
  },
  {
   "cell_type": "code",
   "execution_count": 21,
   "metadata": {
    "collapsed": false
   },
   "outputs": [],
   "source": [
    "filename = 'nClustersRequired.py'\n",
    "%run $filename"
   ]
  },
  {
   "cell_type": "code",
   "execution_count": 22,
   "metadata": {
    "collapsed": false
   },
   "outputs": [],
   "source": [
    "#cheat for the moment...save the data for the data I have as a CSV file and then read it in.\n",
    "#figure out the format later.\n",
    "dataFilename = 'NB_unconnected_combined_for_kmeans.csv'\n",
    "Combined_KO_CO_final.to_csv(dataFilename)\n",
    "\n",
    "data = Data(dataFilename)\n",
    "#pattern_labels are the rows...for us this will the RInumber\n",
    "pattern_labels = []\n",
    "patterns_data, pattern_labels = data.load_data()"
   ]
  },
  {
   "cell_type": "code",
   "execution_count": 23,
   "metadata": {
    "collapsed": true
   },
   "outputs": [],
   "source": [
    "def forest_run(dimensions, patterns, pattern_labels, metric='qe', fNamePrefix = '', k_up=20, k_down=2, simulations=55, iterations=50):\n",
    "    \"\"\"\n",
    "    A method for watching Forest Gump run\n",
    "    :param dimensions: the dimensionality of the data\n",
    "    :param patterns: the data itself\n",
    "    :param metric: the quality metric\n",
    "    :fNamePrefix: put text in here if I want to add a unique prefix to the data file spit out at end\n",
    "    :param k_up: the maximum number of clusters\n",
    "    :param k_down: the minimum number of clusters\n",
    "    :param simulations: the number of simulations for each k\n",
    "    :param iterations: the number of iterations for each k-means pass\n",
    "    \"\"\"\n",
    "    # variable to store the best result\n",
    "    best_clustering = None\n",
    "    # the quality of that result\n",
    "    best_quality = 1000.00\n",
    "    # write results out to file while simulating\n",
    "    file_out = fNamePrefix + 'MonteCarloFinalResults' + '_' + metric + '.csv'\n",
    "    #with open(file_out, 'w', newline='') as f: #newline doesn't work here\n",
    "    with open(file_out,'w') as f:\n",
    "        # different k values to test on\n",
    "        for i in range(k_down, k_up):\n",
    "            num_clusters = i\n",
    "            # number of retries / simulations\n",
    "            print('working on ' , i, '# of kmeans groups') #works, but doesn't look as I intended.\n",
    "            \n",
    "            for j in range(simulations):\n",
    "                # create a clustering solution and apply k-means\n",
    "                clustering = Clustering(dimensions, num_clusters, patterns, 0.0001)\n",
    "                clustering.k_means_clustering(iterations)\n",
    "                # used to compute quality of the solution\n",
    "                quality = ClusteringQuality(clustering, 0.0001)\n",
    "                this_quality = 0.0\n",
    "                if metric == 'qe':\n",
    "                    this_quality = quality.quantization_error()\n",
    "                if metric == 'si':\n",
    "                    this_quality = quality.average_silhouette_index()\n",
    "                if metric == 'db':\n",
    "                    this_quality = quality.davies_bouldin()\n",
    "                # update the best clustering\n",
    "                if this_quality < best_quality:\n",
    "                    best_quality = this_quality\n",
    "                    best_clustering = clustering\n",
    "                    #print(\"Updated best clustering\") #comment out, clogging up display\n",
    "                # write result to the file\n",
    "                result = [num_clusters, this_quality]\n",
    "                for x in result:\n",
    "                    f.write(str(x))\n",
    "                    f.write(\",\")\n",
    "                f.write(\"\\n\")\n",
    "                f.flush()\n",
    "                #print(j, result) #comment out, clogging up display\n",
    "                \n",
    "        # print the actual clustering out to console...comment this out, too much information\n",
    "        #best_clustering.print_solution(pattern_labels)"
   ]
  },
  {
   "cell_type": "code",
   "execution_count": 24,
   "metadata": {
    "collapsed": true
   },
   "outputs": [],
   "source": [
    "dimensions = 5 #this is a function of the data itself. In the NB data we have five sampling days.\n",
    "setSimulations = 100\n",
    "setIterations = 100 #this is the default from the Turing Finance code\n",
    "setKup = 20\n",
    "setKdown = 2"
   ]
  },
  {
   "cell_type": "code",
   "execution_count": 25,
   "metadata": {
    "collapsed": true
   },
   "outputs": [],
   "source": [
    "#for now, set if to False for the forest_run in the next three cells...that is time consuming"
   ]
  },
  {
   "cell_type": "code",
   "execution_count": 26,
   "metadata": {
    "collapsed": false
   },
   "outputs": [
    {
     "name": "stdout",
     "output_type": "stream",
     "text": [
      "('working on ', 2, '# of kmeans groups')\n",
      "('working on ', 3, '# of kmeans groups')\n",
      "('working on ', 4, '# of kmeans groups')\n",
      "('working on ', 5, '# of kmeans groups')\n",
      "('working on ', 6, '# of kmeans groups')\n",
      "('working on ', 7, '# of kmeans groups')\n",
      "('working on ', 8, '# of kmeans groups')\n",
      "('working on ', 9, '# of kmeans groups')\n",
      "('working on ', 10, '# of kmeans groups')\n",
      "('working on ', 11, '# of kmeans groups')\n",
      "('working on ', 12, '# of kmeans groups')\n",
      "('working on ', 13, '# of kmeans groups')\n",
      "('working on ', 14, '# of kmeans groups')\n",
      "('working on ', 15, '# of kmeans groups')\n",
      "('working on ', 16, '# of kmeans groups')\n",
      "('working on ', 17, '# of kmeans groups')\n",
      "('working on ', 18, '# of kmeans groups')\n",
      "('working on ', 19, '# of kmeans groups')\n"
     ]
    }
   ],
   "source": [
    "prefix = 'unconnected_norm2mean_'\n",
    "\n",
    "if True:   \n",
    "    forest_run(dimensions, patterns_data, pattern_labels, metric='db', fNamePrefix = prefix,\n",
    "           simulations=setSimulations, k_down=setKdown, k_up=setKup, iterations = setIterations)\n",
    "\n",
    "#read in the results\n",
    "riScores_db=pd.read_csv((prefix + 'MonteCarloFinalResults_db.csv'),header=None,delimiter=',',\n",
    "                index_col=False,names=['nClusters', 'score'])\n",
    "\n",
    "#optimal cluster solution has the smallest Davies-Bouldin index"
   ]
  },
  {
   "cell_type": "code",
   "execution_count": 27,
   "metadata": {
    "collapsed": false
   },
   "outputs": [
    {
     "data": {
      "image/png": "[encoded data removed]",
      "text/plain": [
       "<matplotlib.figure.Figure at 0x5c413198>"
      ]
     },
     "metadata": {},
     "output_type": "display_data"
    }
   ],
   "source": [
    "grouped = riScores_db.groupby('nClusters')\n",
    "means = grouped.mean().unstack()\n",
    "errors = grouped.std().unstack()\n",
    "fig, ax = plt.subplots()\n",
    "plt.plot(range(setKdown,setKup),means,marker = 'o',color = '#1b9e77')\n",
    "plt.errorbar(range(setKdown,setKup),means,errors,marker = 'o',color = '#1b9e77')\n",
    "plt.title('Kmeans, Davies-Bouldin')\n",
    "ax.set_xlabel('nClusters')\n",
    "plt.show() #??? why is now showing all plots?"
   ]
  },
  {
   "cell_type": "code",
   "execution_count": 28,
   "metadata": {
    "collapsed": false
   },
   "outputs": [
    {
     "data": {
      "text/plain": [
       "{u'eps': u'Encapsulated Postscript',\n",
       " u'jpeg': u'Joint Photographic Experts Group',\n",
       " u'jpg': u'Joint Photographic Experts Group',\n",
       " u'pdf': u'Portable Document Format',\n",
       " u'pgf': u'PGF code for LaTeX',\n",
       " u'png': u'Portable Network Graphics',\n",
       " u'ps': u'Postscript',\n",
       " u'raw': u'Raw RGBA bitmap',\n",
       " u'rgba': u'Raw RGBA bitmap',\n",
       " u'svg': u'Scalable Vector Graphics',\n",
       " u'svgz': u'Scalable Vector Graphics',\n",
       " u'tif': u'Tagged Image File Format',\n",
       " u'tiff': u'Tagged Image File Format'}"
      ]
     },
     "execution_count": 28,
     "metadata": {},
     "output_type": "execute_result"
    },
    {
     "data": {
      "text/plain": [
       "<matplotlib.figure.Figure at 0x1970fba8>"
      ]
     },
     "metadata": {},
     "output_type": "display_data"
    }
   ],
   "source": [
    "plt.gcf().canvas.get_supported_filetypes()"
   ]
  },
  {
   "cell_type": "code",
   "execution_count": 32,
   "metadata": {
    "collapsed": true
   },
   "outputs": [],
   "source": [
    "# #need this to make a file where the text is actually editable (as oppossed to outlines)\n",
    "# #import matplotlib as mpl #KL moved to first cell 2/12/2016\n",
    "fig.savefig('DaviesBouldin_allGenesAndCpds.pdf')"
   ]
  },
  {
   "cell_type": "code",
   "execution_count": 30,
   "metadata": {
    "collapsed": false
   },
   "outputs": [],
   "source": [
    "if False:\n",
    "    prefix = 'unconnected_norm2mean_'\n",
    "\n",
    "    if False:\n",
    "        forest_run(dimensions, patterns_data, pattern_labels, metric='qe', fNamePrefix = prefix,\n",
    "               simulations=setSimulations, k_down=setKdown, k_up=setKup, iterations = setIterations)\n",
    "\n",
    "    #now read in the results\n",
    "    riScores_qe=pd.read_csv((prefix + 'MonteCarloFinalResults_qe.csv'),header=None,delimiter=',',\n",
    "                    index_col=False,names=['nClusters', 'score'])\n",
    "\n",
    "    #goal is to minimize quantization error. QE is the distance between a sample\n",
    "    #and its representation. Lower quantization errors represent a good data cluster.\n",
    "    grouped = riScores_qe.groupby('nClusters')\n",
    "    means = grouped.mean().unstack()\n",
    "    errors = grouped.std().unstack()\n",
    "    fig, ax = plt.subplots()\n",
    "    plt.plot(range(setKdown,setKup),means,marker = 'o',color = '#1b9e77')\n",
    "    plt.errorbar(range(setKdown,setKup),means,errors,marker = 'o',color = '#1b9e77')\n",
    "    plt.title('Kmeans, Quantization error')\n",
    "    ax.set_xlabel('nClusters')\n",
    "    plt.show()"
   ]
  },
  {
   "cell_type": "code",
   "execution_count": 31,
   "metadata": {
    "collapsed": false
   },
   "outputs": [],
   "source": [
    "if False: ##silhouette is really slow cfd to the other\n",
    "    prefix = 'newKO_norm2mean_'\n",
    "\n",
    "    # #silhouette is quite slow cfd to the other two metrics\n",
    "    if False:\n",
    "        forest_run(dimensions, patterns_data, pattern_labels, metric='si', fNamePrefix = prefix,\n",
    "               simulations=setSimulations, k_down=setKdown, k_up=setKup, iterations = setIterations)\n",
    "\n",
    "    riScores_si=pd.read_csv((prefix + 'MonteCarloFinalResults_si.csv'),header=None,delimiter=',',\n",
    "                    index_col=False,names=['nClusters', 'score'])\n",
    "\n",
    "\n",
    "    ##note, want to maximize the silhouette value for each pattern in the dataset\n",
    "    grouped = riScores_si.groupby('nClusters')\n",
    "    means = grouped.mean().unstack()\n",
    "    errors = grouped.std().unstack()\n",
    "    fig, ax = plt.subplots()\n",
    "    plt.plot(range(setKdown,setKup),means,marker = 'o',color = '#1b9e77')\n",
    "    plt.errorbar(range(setKdown,setKup),means,errors,marker = 'o',color = '#1b9e77')\n",
    "    plt.title('Kmeans, silhouette index')\n",
    "    ax.set_xlabel('nClusters')\n",
    "    plt.show()\n",
    "\n",
    "    #remember, want to maximize this value"
   ]
  },
  {
   "cell_type": "markdown",
   "metadata": {
    "collapsed": true
   },
   "source": [
    "#Move forward with 'best' number of clusters"
   ]
  },
  {
   "cell_type": "code",
   "execution_count": 33,
   "metadata": {
    "collapsed": true
   },
   "outputs": [],
   "source": [
    "#setting # of clusters manually, also some good options with lower # of clusters I think\n",
    "#this number will get used later when plotting up the BRITE categories and the Kmeans clusters\n",
    "makeNclusters = 7"
   ]
  },
  {
   "cell_type": "code",
   "execution_count": 34,
   "metadata": {
    "collapsed": true
   },
   "outputs": [],
   "source": [
    "#do the K-means clustering with the final # of clusters\n",
    "CcoClust=kmeanCluster(Combined_KO_CO_final, makeNclusters) #was 18 \n",
    "\n",
    "#this will result in a data frame with the kmeans cluster as an added column. Remember\n",
    "#this will have RI numbers for the compounds"
   ]
  },
  {
   "cell_type": "code",
   "execution_count": 36,
   "metadata": {
    "collapsed": false
   },
   "outputs": [
    {
     "data": {
      "image/png": "[encoded data removed]",
      "text/plain": [
       "<matplotlib.figure.Figure at 0x5a938278>"
      ]
     },
     "metadata": {},
     "output_type": "display_data"
    },
    {
     "data": {
      "image/png": "[encoded data removed]",
      "text/plain": [
       "<matplotlib.figure.Figure at 0x46d2ffd0>"
      ]
     },
     "metadata": {},
     "output_type": "display_data"
    }
   ],
   "source": [
    "#import matplotlib as mpl\n",
    "def PlotKmeansCombined(KmeansPD, kSize=10, figSizeX=1, figSizeY=5, color='k'):\n",
    "    KmeansPD['kmeans'].plot(kind='hist', bins=kSize, color='k',range = (0,kSize),align = 'left')\n",
    "    fig,axs=plt.subplots(figSizeX, figSizeY)\n",
    "    axs=[item for sublist in axs for item in sublist]\n",
    "    fig.set_size_inches(15,9)\n",
    "    i=KmeansPD.index\n",
    "    i=list(i)\n",
    "    Ks=re.compile('K.*')\n",
    "    #Cs=re.compile('C.*')\n",
    "    Cs = re.compile('R.*') #this is the RInumber I created...for the moment, do not need the Cnumber\n",
    "    C = filter(Cs.search, i)  \n",
    "    K = filter(Ks.search, i)  \n",
    "    Ksplit=KmeansPD.loc[K]\n",
    "    Csplit=KmeansPD.loc[C]\n",
    "    for ax, y in zip(axs,range(kSize)):\n",
    "        KData=Ksplit[Ksplit.kmeans==y].T.drop('kmeans')\n",
    "        KData.plot(ax=ax, legend=False, grid=False, color='b')\n",
    "        CData=Csplit[Csplit.kmeans==y].T.drop('kmeans')\n",
    "        CData.plot(ax=ax, legend=False, grid=False, color='r')\n",
    "        SumKC=len(KData.T)+len(CData.T)\n",
    "        KPct=(len(KData.T))\n",
    "        CPct=(len(CData.T))\n",
    "        ax.set_title('nGenes ' + str(KPct) + ', nCpds ' + str(CPct) + ', Cluster ' + str(y))\n",
    "        ax.set_ylim([0,5])\n",
    "    mpl.rcParams['pdf.fonttype'] = 42\n",
    "    fig.savefig('CombinedKOandCO_Kmeans_allGenesAndCpds.pdf')\n",
    "\n",
    "PlotKmeansCombined(CcoClust,makeNclusters,3,3, 'r') "
   ]
  },
  {
   "cell_type": "markdown",
   "metadata": {},
   "source": [
    "pick up here to change to using biopython module to get maps with merged KO and CO data within a K means group\n",
    "12 November 2015"
   ]
  },
  {
   "cell_type": "code",
   "execution_count": null,
   "metadata": {
    "collapsed": false
   },
   "outputs": [],
   "source": [
    "from Bio import SeqIO\n",
    "from Bio.KEGG.REST import *\n",
    "from Bio.KEGG.KGML import KGML_parser\n",
    "from Bio.Graphics.KGML_vis import KGMLCanvas\n",
    "from Bio.Graphics.ColorSpiral import ColorSpiral\n",
    "\n",
    "from IPython.display import Image, HTML\n",
    "\n",
    "# import random #seems like I can probably skip this, but just comment out in case that is not true\n",
    "\n",
    "# A bit of code that will help us display the PDF output\n",
    "def PDF(filename):\n",
    "    return HTML('<iframe src=%s width=700 height=350></iframe>' % filename)\n",
    "\n",
    "# A bit of helper code to shorten long text\n",
    "def head(text, lines=10):\n",
    "    \"\"\" Print the first lines lines of the passed text.\n",
    "    \"\"\"\n",
    "    print '\\n'.join(text.split('\\n')[:lines] + ['[...]'])"
   ]
  },
  {
   "cell_type": "code",
   "execution_count": null,
   "metadata": {
    "collapsed": true
   },
   "outputs": [],
   "source": [
    "#set up a function to get the list of K orthologues for a given pathway (must be defined as ko00140 NOT map00140)\n",
    "def getKfrom_ko(ko_id):\n",
    "    pathway_file = kegg_get(ko_id).read()  # query and read the pathway\n",
    "    K_list = []\n",
    "\n",
    "    current_section = None\n",
    "    for line in pathway_file.rstrip().split(\"\\n\"):\n",
    "        section = line[:12].strip()  # section names are within 12 columns\n",
    "        if not section == \"\":\n",
    "            current_section = section\n",
    "        if current_section == \"ORTHOLOGY\":\n",
    "            K_identifiers = line[12:].split(\"; \")\n",
    "            t = K_identifiers[0]\n",
    "            K_id = t[0:6]\n",
    "\n",
    "            if not K_id in K_list:\n",
    "                K_list.append(K_id)\n",
    "    return K_list"
   ]
  },
  {
   "cell_type": "code",
   "execution_count": null,
   "metadata": {
    "collapsed": true
   },
   "outputs": [],
   "source": [
    "#set up a function to get the list of compounds for a given pathway (must be defined as ko00140 NOT map00140)\n",
    "def getCfrom_ko(ko_id):\n",
    "    pathway_file = kegg_get(ko_id).read()  # query and read the pathway\n",
    "    compound_list = []\n",
    "\n",
    "    current_section = None\n",
    "    for line in pathway_file.rstrip().split(\"\\n\"):\n",
    "        section = line[:12].strip()  # section names are within 12 columns\n",
    "        if not section == \"\":\n",
    "            current_section = section\n",
    "        if current_section == \"COMPOUND\":\n",
    "            compound_identifiers = line[12:].split(\"; \")\n",
    "            t = compound_identifiers[0]\n",
    "            compound_id = t[0:6]\n",
    "\n",
    "            if not compound_id in compound_list:\n",
    "                compound_list.append(compound_id)\n",
    "    return compound_list"
   ]
  },
  {
   "cell_type": "code",
   "execution_count": null,
   "metadata": {
    "collapsed": false
   },
   "outputs": [],
   "source": [
    "allPathways = kegg_list(\"pathway\").read()\n",
    "len(allPathways.split('\\n'))"
   ]
  },
  {
   "cell_type": "code",
   "execution_count": null,
   "metadata": {
    "collapsed": true
   },
   "outputs": [],
   "source": [
    "#so, 481 pathways at KEGG, not all of which are likely to be interesting.\n",
    "#up to 483 on 12/16/2015"
   ]
  },
  {
   "cell_type": "code",
   "execution_count": null,
   "metadata": {
    "collapsed": true
   },
   "outputs": [],
   "source": [
    "trimPath = []\n",
    "current_section = None\n",
    "for line in allPathways.rstrip().split(\"\\n\"):\n",
    "#     Tracer()()\n",
    "    tp = line[8:13]\n",
    "    \n",
    "    trimPath.append('ko' + tp)"
   ]
  },
  {
   "cell_type": "code",
   "execution_count": null,
   "metadata": {
    "collapsed": false
   },
   "outputs": [],
   "source": [
    "#have some cases where KEGG will send back a pathway, but the pathway itself is not searchable...seems to \n",
    "#be a KEGG bug, 'ko00351' was first, then realized there are many of these,\n",
    "#did this list manually since I thought it would be short...\n",
    "toDelete = ('ko00351','ko01010','ko01060', 'ko01061',  'ko01062', 'ko01063', 'ko01064', 'ko01065', 'ko01066',\n",
    " 'ko01070', 'ko07011', 'ko07012', 'ko07013', 'ko07014', 'ko07015', 'ko07016', 'ko07017', 'ko07018', 'ko07019',\n",
    " 'ko07020', 'ko07021', 'ko07023', 'ko07024', 'ko07025', 'ko07026', 'ko07027', 'ko07028', 'ko07029', 'ko07030',\n",
    " 'ko07031', 'ko07032', 'ko07033', 'ko07034', 'ko07035', 'ko07036', 'ko07037', 'ko07038', 'ko07039', 'ko07040',\n",
    " 'ko07041', 'ko07042', 'ko07043', 'ko07044', 'ko07045', 'ko07046', 'ko07047', 'ko07048', 'ko07049', 'ko07050',\n",
    " 'ko07051', 'ko07052', 'ko07053', 'ko07054', 'ko07055', 'ko07056', 'ko07057', 'ko07110', 'ko07112', 'ko07114',\n",
    " 'ko07117', 'ko07211', 'ko07212', 'ko07213', 'ko07214', 'ko07215', 'ko07216', 'ko07217', 'ko07218', 'ko07219',\n",
    " 'ko07220', 'ko07221', 'ko07222', 'ko07223', 'ko07224', 'ko07225', 'ko07226', 'ko07227', 'ko07228', 'ko07229',\n",
    " 'ko07230', 'ko07231', 'ko07232', 'ko07233', 'ko07234', 'ko07235','ko04933')\n",
    "\n",
    "#probably a way to do this without the for loop, but this will work\n",
    "for item in toDelete:\n",
    "    trimPath.remove(item)"
   ]
  },
  {
   "cell_type": "code",
   "execution_count": null,
   "metadata": {
    "collapsed": false
   },
   "outputs": [],
   "source": [
    "colLabel = ['nCpds','nGenes'] #starting with this is easiest - makes one list, no need to flatten\n",
    "\n",
    "for item in range(makeNclusters):\n",
    "    colLabel.append('Km' + str(item) + '_cpd')\n",
    "    colLabel.append('Km' + str(item) + '_gene')\n",
    "    \n",
    "gatherCounts = pd.DataFrame(0, index = trimPath, columns = colLabel)"
   ]
  },
  {
   "cell_type": "code",
   "execution_count": null,
   "metadata": {
    "collapsed": false
   },
   "outputs": [],
   "source": [
    "# #useColors = pal.colorbrewer.diverging.PiYG_4.hex_colors\n",
    "# useColors = pal.colorbrewer.qualitative.Set3_4_r.hex_colors\n",
    "# # useColors = pal.colorbrewer.qualitative.Accent_4_r.hex_colors\n",
    "# # useColors = pal.colorbrewer.qualitative.Dark2_4.hex_colors\n",
    "# # cmap=pal.colorbrewer.sequential.YlOrRd_5.get_mpl_colormap()\n",
    "\n",
    "##manually set the colors [red,white,blue]\n",
    "#useColors = ('#e41a1c','#f7f7f7','#377eb8') \n",
    "\n",
    "#add a fourth color: items in the data set, but not linked to a gene or cpd\n",
    "useColors = pal.colorbrewer.qualitative.Set1_3.hex_colors\n",
    "useColors.insert(1,'#f7f7f7') ## [red,white,blue, green]"
   ]
  },
  {
   "cell_type": "markdown",
   "metadata": {},
   "source": [
    "##Filtering pathways to plot based on reactions"
   ]
  },
  {
   "cell_type": "code",
   "execution_count": null,
   "metadata": {
    "collapsed": false
   },
   "outputs": [],
   "source": [
    "useColors"
   ]
  },
  {
   "cell_type": "code",
   "execution_count": null,
   "metadata": {
    "collapsed": false
   },
   "outputs": [],
   "source": [
    "shortList = ['ko03010','ko03013']"
   ]
  },
  {
   "cell_type": "code",
   "execution_count": null,
   "metadata": {
    "collapsed": false,
    "scrolled": false
   },
   "outputs": [],
   "source": [
    "#this set of looks works on one pathway at a time, only plotting if I get more than one case with a reaction\n",
    "#containing both a gene and a metabolite within the pathway of interest\n",
    "if True: #can be time consuming (off for editing).\n",
    "    \n",
    "    #setup the strings to match first\n",
    "    rnString = re.compile('(?:[rn:R])(\\d+)$') #will return R00190\n",
    "    cpdString = re.compile('(?:[cpd:C])(\\d+)$') #will return C00190\n",
    "\n",
    "    size = 20 #turns out I can increase the size of the compounds in the plots\n",
    "\n",
    "    for kn in range(makeNclusters):\n",
    "    #for kn in range(5,6): \n",
    "    #for kn in range(0):    \n",
    "\n",
    "        fullSet = set(forRelatedness.KEGG)\n",
    "        oneK = forRelatedness[forRelatedness.kmeans == kn] #get gene & transcript information for one Kmeans group\n",
    "        getKm = 'Km' + str(kn)\n",
    "\n",
    "        #check if the directories exist \n",
    "        directoryPDF = 'plots_6Kmeans' + str(kn) + '/PDFfiles'\n",
    "        if not os.path.exists(directoryPDF):\n",
    "            os.makedirs(directoryPDF)\n",
    "\n",
    "        #check if the directories exist \n",
    "        directoryPNG = 'plots_6Kmeans' + str(kn) + '/PNGfiles'\n",
    "        if not os.path.exists(directoryPNG):\n",
    "            os.makedirs(directoryPNG)    \n",
    "        \n",
    "        for item in trimPath: #searching within one pathway at a time\n",
    "        #for item in shortList: #short list for testing\n",
    "            print kn, item\n",
    "            plotPathway = [] #gather up yes/no and will only plot if have linked genes/mtabs\n",
    "        \n",
    "            genes = getKfrom_ko(item)\n",
    "            compounds = getCfrom_ko(item)\n",
    "\n",
    "            gatherCounts.loc[item,'nCpds'] = len(compounds)\n",
    "            gatherCounts.loc[item,'nGenes'] = len(genes)     \n",
    "\n",
    "            #have to track genes and compounds differently for the biopython plotting later on \n",
    "            setG = set(genes)\n",
    "            setC = set(compounds)\n",
    "            setB = set(oneK.KEGG)\n",
    "            intGenes = setG.intersection(setB)\n",
    "            intCompounds = setC.intersection(setB)\n",
    "\n",
    "            gatherCounts.loc[item,(getKm + '_gene')] = len(intGenes)\n",
    "            gatherCounts.loc[item,(getKm + '_cpd')] = len(intCompounds)\n",
    "\n",
    "            #now, before plotting, look for intersection of genes/compounds using the reaction information\n",
    "            current_section = None\n",
    "            \n",
    "            for gen in intGenes: #go through each gene...one at a time\n",
    "                #Tracer()()\n",
    "                rnList = kegg_link('reaction',gen).read() #get the list of reactions for that gene\n",
    "                \n",
    "                #can have cases where there is a gene and no reaction (K02906 for example). This returns rnList = '\\n'\n",
    "                #since this is not actually empty...need a few way to filter those out\n",
    "                test = '\\n'\n",
    "                if test != rnList: #most cases....will move on\n",
    "                \n",
    "                    for line in rnList.rstrip().split('\\n'):\n",
    "                        countCpd = []\n",
    "                        countGene = []\n",
    "\n",
    "                        m = rnString.search(line) #get the reaction number\n",
    "\n",
    "                        cpdList = kegg_link('cpd',m.group(0)).read() #now go get the compounds for that reaction\n",
    "\n",
    "                        #can have no compounds in a reaction (only glycans, begin with G, nothing I have matched)\n",
    "                        if len(cpdList) > 1: #will be true if cpdList includes compounds\n",
    "                            for line2 in cpdList.rstrip().split('\\n'):\n",
    "                                m2 = cpdString.search(line2).group(0)\n",
    "                                #now that I have a compound, check if it is in intCompounds\n",
    "                                #Tracer()()\n",
    "                                if m2 in intCompounds:\n",
    "                                    #Tracer()()\n",
    "                                    countCpd.append(m2) \n",
    "                                    countGene.append(gen)\n",
    "                                    plotPathway.append('yes')\n",
    "\n",
    "                        ##Now, plot the PNG files (one for each reaction within a pathway)\n",
    "                        if len(countCpd) > 0:\n",
    "                            kData = pd.DataFrame(columns = dayList)\n",
    "                            for k in set(countGene):\n",
    "                                kData = kData.append(oneK.ix[k,dayList])\n",
    "\n",
    "                            cData = pd.DataFrame(columns = dayList)\n",
    "                            for co in set(countCpd):\n",
    "                                #convert CO to RI, can have multiple options\n",
    "                                j = findRInumber(oneK,co)\n",
    "                                cData = cData.append(oneK.loc[j,dayList])\n",
    "\n",
    "                            fig,ax = plt.subplots(1)\n",
    "                            cData.T.plot(color = 'k',ax=ax)\n",
    "                            kData.T.plot(color = 'r',ax=ax)\n",
    "\n",
    "                            handles, labels = ax.get_legend_handles_labels()\n",
    "                            #convert the RI numbers to COnumbers for the figure\n",
    "                            for ia, a in enumerate(labels):\n",
    "                                #add compound/gene name to the legend\n",
    "                                if a[0]== 'R':\n",
    "                                    tLabel = convertRItoCO(CO_fromMATLAB,a)\n",
    "                                    fn = kegg_list(tLabel).read()                          \n",
    "                                    labels[ia] = fn\n",
    "                                elif a[0] == 'K':\n",
    "                                    fn = kegg_list(a).read()\n",
    "                                    labels[ia] = fn\n",
    "\n",
    "                            #Tracer()()\n",
    "                            ax.legend(handles, labels, bbox_to_anchor = ([-1, 0.5]))\n",
    "                            fig.suptitle('pathway ' + item + ', Kmeans grp ' + str(kn))\n",
    "                            pngName = 'pathway' + item + '_' + m.group(0) + '.png'\n",
    "                            fig.savefig(directoryPNG + '/' + pngName, bbox_inches = 'tight')\n",
    "                            pngName = None #empty it in case that is where I am having issues\n",
    "                            plt.close()\n",
    "                            #Tracer()()\n",
    "\n",
    "            if len(plotPathway) > 0: # not empty\n",
    "                ## plot the pathway map for this pathway, get details from KEGG for plotting\n",
    "                pathway = KGML_parser.read(kegg_get(item, \"kgml\"))\n",
    "                \n",
    "                for element in pathway.orthologs:\n",
    "                    #print element.name\n",
    "                    for graphic in element.graphics:\n",
    "                        tg = element.name[3:9] #skip over the 'ko:'\n",
    "\n",
    "                        if (tg in intGenes):\n",
    "                            #in the pathway AND in the set for this particular K means group\n",
    "                            graphic.bgcolor = useColors[0] #red\n",
    "\n",
    "                        elif (tg in fullSet) and (tg in genes) and (tg not in intGenes):\n",
    "                            #in the pathway AND in the set of genes from RI, but *not* in this Kmeans group\n",
    "                            graphic.bgcolor = useColors[2] #blue\n",
    "\n",
    "                        elif (tg not in fullSet) and (tg in genes) and (tg not in KO_Norm2Mean.index.tolist()):\n",
    "                            #in the pathway, but *not* in anything from the RI samples\n",
    "                            graphic.bgcolor = useColors[1] #white\n",
    "                        \n",
    "                        elif (tg not in fullSet) and (tg in genes) and (tg in KO_Norm2Mean.index.tolist()): #seems like a hack\n",
    "                            #an unconnected gene in the RI data\n",
    "                            graphic.bgcolor = useColors[3] #green\n",
    "\n",
    "                # Change the colours of compounds\n",
    "                for element in pathway.compounds:\n",
    "                    for graphic in element.graphics:\n",
    "                        tc = element.name[4:10] #skip over the 'cpd:'\n",
    "\n",
    "                        if (tc in intCompounds):\n",
    "                            #in the pathway AND in the set for this particular K means group\n",
    "                            graphic.bgcolor = useColors[0] #red\n",
    "                            graphic.width = size\n",
    "                            graphic.height = size\n",
    "\n",
    "                        elif (tc in fullSet) and (tc in compounds) and (tc not in intCompounds):\n",
    "                            #in the pathway AND in the set of compounds from RI, but *not* in this Kmeans group\n",
    "                            graphic.bgcolor = useColors[2] #blue\n",
    "                            graphic.width = size\n",
    "                            graphic.height = size\n",
    "\n",
    "                        elif (tc not in fullSet) and (tc in compounds) and (tc not in CO_fromMATLAB.cNumber.values):\n",
    "                            #in the pathway, but *not* in anything from the RI samples\n",
    "                            graphic.bgcolor = useColors[1] #white\n",
    "                                                      \n",
    "                        elif (tc not in fullSet) and (tc in compounds) and (tc in CO_fromMATLAB.cNumber.values): #seems like a hack\n",
    "                            #unconnected compound in the RI data\n",
    "                            graphic.bgcolor = useColors[3] #green\n",
    "                            graphic.width = size\n",
    "                            graphic.height = size\n",
    "\n",
    "                canvas = KGMLCanvas(pathway, import_imagemap=True)\n",
    "                pdfName = 'mapWithColors_' + str(item) + '.pdf'\n",
    "                canvas.draw(directoryPDF + '/' + pdfName)\n",
    "                pdfName = None #empty it in case that is where I am having issues\n",
    "                #PDF(fName) #comment this out to *not* see the PDF within the iPython notebook':"
   ]
  },
  {
   "cell_type": "code",
   "execution_count": null,
   "metadata": {
    "collapsed": true
   },
   "outputs": [],
   "source": [
    "#want to export gatherCounts, with the added pathway name as a new column\n",
    "gatherCounts['pathwayInfo'] = ''\n",
    "gatherCounts['pathwayGroup_A'] = ''\n",
    "gatherCounts['pathwayGroup_B'] = ''"
   ]
  },
  {
   "cell_type": "code",
   "execution_count": null,
   "metadata": {
    "collapsed": true
   },
   "outputs": [],
   "source": [
    "#organize pathways into the groups defined in the BRITE file (didn't work well for compounds, \n",
    "#but the pathway groups seem useful)\n",
    "def ReadBRITEfile(briteFile):\n",
    "    forBrite = pd.DataFrame(columns = ['map','A','B','C','wholeThing'])\n",
    "    # set up the expressions to match each level in the BRITE hierarchy\n",
    "    \n",
    "    textA = re.compile(r'(^A<b>)(.+)(</b>)\\s*(.*)$')\n",
    "    textB = re.compile(r'(^B)\\s*(.*)$')\n",
    "    textC = re.compile(r'(\\d+)\\s*(.*)$')\n",
    "    #this relies on the fact that the rows are in order: A, with B subheadings, then C subheadings\n",
    "    setA = []\n",
    "    idxA = []\n",
    "\n",
    "    setB = []\n",
    "    setC = []\n",
    "\n",
    "    with open(briteFile) as f:\n",
    "        for idx,line in enumerate(f):\n",
    "            if line[0] is not '#': #skip over the comments\n",
    "                mA = textA.search(line) \n",
    "                mB = textB.search(line) \n",
    "                mC = textC.search(line) \n",
    "                if mA:\n",
    "                    setA = mA.group(2)\n",
    "                    #house cleaning (probably c)\n",
    "                    idxA = idx\n",
    "                    forBrite.loc[idx,'A'] = setA\n",
    "                    forBrite.loc[idx,'wholeThing'] = line #using this as a double check for now\n",
    "                    #forBrite.loc[idx,'map'] = mC.group(1)\n",
    "                elif mB:\n",
    "                    setB = mB.group(2)\n",
    "                    forBrite.loc[idx,'A'] = setA\n",
    "                    forBrite.loc[idx,'B'] = setB\n",
    "                    forBrite.loc[idx,'wholeThing'] = line\n",
    "                    #forBrite.loc[idx,'map'] = mC.group(1)\n",
    "                elif mC:\n",
    "                    #Tracer()()\n",
    "                    setC = mC.group(2)\n",
    "                    forBrite.loc[idx,'A'] = setA\n",
    "                    forBrite.loc[idx,'B'] = setB\n",
    "                    forBrite.loc[idx,'C'] = setC\n",
    "                    forBrite.loc[idx,'wholeThing'] = line\n",
    "                    forBrite.loc[idx,'map'] = mC.group(1)\n",
    "\n",
    "        return forBrite"
   ]
  },
  {
   "cell_type": "code",
   "execution_count": null,
   "metadata": {
    "collapsed": false
   },
   "outputs": [],
   "source": [
    "D = glob.glob('br08901.keg') #from http://www.genome.jp/kegg-bin/get_htext?br08901.keg; 12/15/2015\n",
    "allBRITE=[]\n",
    "for idx,nof in enumerate(D):\n",
    "    allBRITE = ReadBRITEfile(nof) \n",
    "    \n",
    "allBRITE.loc[allBRITE['map']=='01100']"
   ]
  },
  {
   "cell_type": "code",
   "execution_count": null,
   "metadata": {
    "collapsed": false
   },
   "outputs": [],
   "source": [
    "#KEGG seems to be updating pathways...finding some where gatherCounts has a pathway, \n",
    "#but it is missing from the BRITE file\n",
    "#ko04139, added to KEGG 12/1/15, pathway is: 'regulation of mitophagy' \n",
    "#ko04211, added to KEGG 12/14/15, pathway is 'longevity regulating pathway mammal\n",
    "#let's delete it from gatherCounts\n",
    "\n",
    "gatherCounts = gatherCounts.drop(['ko04139'])\n",
    "gatherCounts = gatherCounts.drop(['ko04211'])\n",
    "gatherCounts = gatherCounts.drop(['ko04212']) #longevity regularing pathway - worm\n",
    "\n",
    "\n",
    "#note that this cell will only work once"
   ]
  },
  {
   "cell_type": "code",
   "execution_count": null,
   "metadata": {
    "collapsed": true
   },
   "outputs": [],
   "source": [
    "gatherCounts = gatherCounts.drop(['ko04213'])"
   ]
  },
  {
   "cell_type": "code",
   "execution_count": null,
   "metadata": {
    "collapsed": false
   },
   "outputs": [],
   "source": [
    "#put the pathway name and group into the data frame before exporting it\n",
    "for item in gatherCounts.index:\n",
    "    #if this error appears: IndexError: index 0 is out of bounds for axis 0 with size 0\n",
    "    #KEGG has updated a pathway, but not the BRITE file (see above...) have to delete that \n",
    "    #row from GatherCounts; run again with the next row uncommented out to find the culprit.\n",
    "    #print item\n",
    "    \n",
    "    pathstr = kegg_list(item).read()\n",
    "    #this next line splits the string at the '\\t', then keeps the piece at index = 1, and strips off the '\\n'\n",
    "    gatherCounts.loc[item,('pathwayInfo')] = pathstr.split('\\t')[1].rstrip()\n",
    "    \n",
    "    t = allBRITE.loc[allBRITE['map']==item[2:]]  \n",
    "\n",
    "    gatherCounts.set_value(item,'pathwayGroup_A',t['A'].values[0])\n",
    "    gatherCounts.set_value(item,'pathwayGroup_B',t['B'].values[0])\n",
    "    del t"
   ]
  },
  {
   "cell_type": "code",
   "execution_count": null,
   "metadata": {
    "collapsed": true
   },
   "outputs": [],
   "source": [
    "if True:\n",
    "    #now export the result as CSV file\n",
    "    gatherCounts.to_csv('pathways_with_Kmeans_KOnorm2Mean.2016.02.16.csv', header = True)"
   ]
  },
  {
   "cell_type": "code",
   "execution_count": null,
   "metadata": {
    "collapsed": false
   },
   "outputs": [],
   "source": [
    "#now...save all that so I don't have to do this everytime BUT be careful with re-assigning K means group numbers!\n",
    "cpk.dump(gatherCounts, open('gatherCounts_norm2mean.pickle', 'wb'))\n",
    "cpk.load(open('gatherCounts_norm2mean.pickle','rb'))\n",
    "gatherCounts.head(2)"
   ]
  },
  {
   "cell_type": "code",
   "execution_count": null,
   "metadata": {
    "collapsed": false
   },
   "outputs": [],
   "source": [
    "colLabel"
   ]
  },
  {
   "cell_type": "code",
   "execution_count": null,
   "metadata": {
    "collapsed": true
   },
   "outputs": [],
   "source": [
    "newCols = colLabel[2:]"
   ]
  },
  {
   "cell_type": "code",
   "execution_count": null,
   "metadata": {
    "collapsed": false
   },
   "outputs": [],
   "source": [
    "cpdCols = colLabel[2::2]\n",
    "cpdCols "
   ]
  },
  {
   "cell_type": "code",
   "execution_count": null,
   "metadata": {
    "collapsed": false
   },
   "outputs": [],
   "source": [
    "geneCols = colLabel[3::2]\n",
    "geneCols"
   ]
  },
  {
   "cell_type": "code",
   "execution_count": null,
   "metadata": {
    "collapsed": false
   },
   "outputs": [],
   "source": [
    "#only keep the ones where I have some value...no sense in tracking zeros\n",
    "s = gatherCounts[(gatherCounts.loc[:,newCols].values > 0).any(axis=1)]\n",
    "pGroup = pd.unique(s.pathwayGroup_A.ravel())"
   ]
  },
  {
   "cell_type": "code",
   "execution_count": null,
   "metadata": {
    "collapsed": false
   },
   "outputs": [],
   "source": [
    "dfHighest = pd.DataFrame(index = pGroup,columns = newCols)\n",
    "#do the math - add up the genes/cpds by higher level grouping\n",
    "for i, group in s.groupby('pathwayGroup_A'):\n",
    "    d2 = group.loc[:,newCols]\n",
    "    out = d2.sum(axis=0)\n",
    "    dfHighest.loc[i,newCols] = out"
   ]
  },
  {
   "cell_type": "code",
   "execution_count": null,
   "metadata": {
    "collapsed": false
   },
   "outputs": [],
   "source": [
    "# playing around with color palettes\n",
    "useColors = pal.colorbrewer.qualitative.Paired_12.hex_colors\n",
    "dfHighest.plot(kind = 'bar',color=useColors)"
   ]
  },
  {
   "cell_type": "code",
   "execution_count": null,
   "metadata": {
    "collapsed": false
   },
   "outputs": [],
   "source": [
    "useColors = pal.colorbrewer.qualitative.Set1_6.hex_colors\n",
    "toPlot = dfHighest.loc[:,cpdCols]\n",
    "toPlot.plot(kind = 'bar',color = useColors)"
   ]
  },
  {
   "cell_type": "code",
   "execution_count": null,
   "metadata": {
    "collapsed": false
   },
   "outputs": [],
   "source": [
    "useColors = pal.colorbrewer.qualitative.Set1_6.hex_colors\n",
    "toPlot = dfHighest.loc[:,geneCols]\n",
    "toPlot.plot(kind = 'bar',color = useColors)"
   ]
  },
  {
   "cell_type": "code",
   "execution_count": null,
   "metadata": {
    "collapsed": true
   },
   "outputs": [],
   "source": [
    "##let's narrow in on the metabolism group since that is the only one that is really interesting\n",
    "plotMetabolism = gatherCounts[gatherCounts.loc[:,'pathwayGroup_A']=='Metabolism']"
   ]
  },
  {
   "cell_type": "code",
   "execution_count": null,
   "metadata": {
    "collapsed": true
   },
   "outputs": [],
   "source": [
    "s = plotMetabolism[(plotMetabolism.loc[:,newCols].values > 0).any(axis=1)]\n",
    "dataToPlot = s.loc[:,newCols]\n",
    "\n",
    "pGroup = pd.unique(plotMetabolism.pathwayGroup_B.ravel())\n",
    "\n",
    "newDFmtab = pd.DataFrame(index = pGroup,columns = newCols)\n",
    "\n",
    "for i, group in s.groupby('pathwayGroup_B'):\n",
    "    d2 = group.loc[:,newCols]\n",
    "    out = d2.sum(axis=0)\n",
    "    newDFmtab.loc[i,newCols] = out"
   ]
  },
  {
   "cell_type": "code",
   "execution_count": null,
   "metadata": {
    "collapsed": false
   },
   "outputs": [],
   "source": [
    "useColors = pal.colorbrewer.qualitative.Set1_6.hex_colors\n",
    "toPlot_cpds = newDFmtab.loc[:,cpdCols]\n",
    "toPlot_cpds.plot(kind = 'barh',color=useColors,figsize=(8,8))\n",
    "# toPlot_cpds.to_csv('compounds_byKmeans.csv')"
   ]
  },
  {
   "cell_type": "code",
   "execution_count": null,
   "metadata": {
    "collapsed": false
   },
   "outputs": [],
   "source": [
    "useColors = pal.colorbrewer.qualitative.Set1_6.hex_colors\n",
    "toPlot_cpds = newDFmtab.loc[:,geneCols]\n",
    "toPlot_cpds.plot(kind = 'barh',color=useColors,figsize = (8,8))"
   ]
  },
  {
   "cell_type": "code",
   "execution_count": null,
   "metadata": {
    "collapsed": false
   },
   "outputs": [],
   "source": [
    "useColors = pal.colorbrewer.qualitative.Paired_12.hex_colors\n",
    "toPlot_cpds = newDFmtab.loc[:,cpdCols]\n",
    "toPlot_cpds.T.plot(kind = 'barh',color=useColors,figsize = (12,12))\n",
    "plt.legend(bbox_to_anchor=([-0.15, 0.5]))"
   ]
  },
  {
   "cell_type": "code",
   "execution_count": null,
   "metadata": {
    "collapsed": true
   },
   "outputs": [],
   "source": [
    "s = plotMetabolism[(plotMetabolism.loc[:,newCols].values > 0).any(axis=1)]\n",
    "pGroup = pd.unique(plotMetabolism.pathwayInfo.ravel())\n",
    "newDFmtabLower = pd.DataFrame(index = pGroup,columns = newCols)\n",
    "\n",
    "for i, group in s.groupby('pathwayInfo'):\n",
    "    d2 = group.loc[:,newCols]\n",
    "    out = d2.sum(axis=0)\n",
    "    newDFmtabLower.loc[i,newCols] = out"
   ]
  },
  {
   "cell_type": "code",
   "execution_count": null,
   "metadata": {
    "collapsed": false
   },
   "outputs": [],
   "source": [
    "testing = toPlot_cpds.loc[:,'Km2_cpd']\n",
    "testing.plot(kind = 'barh',color = 'blue')\n",
    "plt.legend(bbox_to_anchor=([-1, 0.5]))"
   ]
  },
  {
   "cell_type": "code",
   "execution_count": null,
   "metadata": {
    "collapsed": false
   },
   "outputs": [],
   "source": [
    "toPlot_cpds_proportion=toPlot_cpds.copy()\n",
    "toPlot_cpds['sum']=toPlot_cpds.sum(axis=1)\n",
    "\n",
    "for i in toPlot_cpds_proportion.columns:\n",
    "    toPlot_cpds_proportion[i]=toPlot_cpds[i]/toPlot_cpds['sum']\n",
    "    \n",
    "toPlot_cpds=toPlot_cpds.T.drop('sum').T"
   ]
  },
  {
   "cell_type": "code",
   "execution_count": null,
   "metadata": {
    "collapsed": true
   },
   "outputs": [],
   "source": [
    "#what about the genes?\n",
    "toPlot_genes = newDFmtab.loc[:,geneCols]\n",
    "toPlot_genes_proportion=toPlot_genes.copy()\n",
    "toPlot_genes['sum']=toPlot_genes.sum(axis=1)\n",
    "for i in toPlot_genes_proportion.columns:\n",
    "    toPlot_genes_proportion[i]=toPlot_genes[i]/toPlot_genes['sum']\n",
    "    \n",
    "toPlot_genes=toPlot_genes.T.drop('sum').T\n",
    "toPlot_genes.to_csv('genes_byKmeans.csv')"
   ]
  },
  {
   "cell_type": "code",
   "execution_count": null,
   "metadata": {
    "collapsed": false
   },
   "outputs": [],
   "source": [
    "#can play around with the colors\n",
    "useColors = pal.colorbrewer.qualitative.Set1_6.hex_colors\n",
    "toPlot_cpds_proportion.plot(kind = 'barh',stacked=True,color=useColors)\n",
    "plt.legend(bbox_to_anchor=([-1, 0.5]))\n",
    "plt.title('proportions')\n",
    "\n",
    "current_figure = plt.gcf()\n",
    "# mpl.rcParams['pdf.fonttype'] = 42\n",
    "#current_figure.savefig('cpd_proportions.pdf')"
   ]
  },
  {
   "cell_type": "code",
   "execution_count": null,
   "metadata": {
    "collapsed": false
   },
   "outputs": [],
   "source": [
    "toPlot_genes_proportion.plot(kind = 'barh',stacked=True,color=useColors)\n",
    "plt.legend(bbox_to_anchor=([-1, 0.5]))\n",
    "plt.title('proportions')\n",
    "\n",
    "current_figure = plt.gcf()\n",
    "mpl.rcParams['pdf.fonttype'] = 42\n",
    "current_figure.savefig('genes_proportions.pdf')"
   ]
  },
  {
   "cell_type": "code",
   "execution_count": null,
   "metadata": {
    "collapsed": false
   },
   "outputs": [],
   "source": [
    "working = toPlot_genes.T\n",
    "workingC = toPlot_cpds.T"
   ]
  },
  {
   "cell_type": "code",
   "execution_count": null,
   "metadata": {
    "collapsed": false
   },
   "outputs": [],
   "source": [
    "working['sum'] = toPlot_genes.T.sum(axis = 1)\n",
    "workingC['sum'] = toPlot_cpds.T.sum(axis=1)"
   ]
  },
  {
   "cell_type": "code",
   "execution_count": null,
   "metadata": {
    "collapsed": false
   },
   "outputs": [],
   "source": [
    "for i in workingC.columns:\n",
    "    workingC[i] = workingC[i]/workingC['sum']\n",
    "workingC = workingC.T.drop('sum').T"
   ]
  },
  {
   "cell_type": "code",
   "execution_count": null,
   "metadata": {
    "collapsed": false
   },
   "outputs": [],
   "source": [
    "for i in working.columns:\n",
    "    working[i] = working[i]/working['sum']\n",
    "working = working.T.drop('sum').T"
   ]
  },
  {
   "cell_type": "code",
   "execution_count": null,
   "metadata": {
    "collapsed": false
   },
   "outputs": [],
   "source": [
    "useColors = pal.colorbrewer.qualitative.Paired_12.hex_colors\n",
    "working.plot(kind = 'barh',stacked=True,color = useColors,figsize=(12,12))\n",
    "plt.legend(bbox_to_anchor=([-1, 0.5]))"
   ]
  },
  {
   "cell_type": "code",
   "execution_count": null,
   "metadata": {
    "collapsed": false
   },
   "outputs": [],
   "source": [
    "useColors = pal.colorbrewer.qualitative.Paired_12.hex_colors\n",
    "workingC.plot(kind = 'barh',stacked=True,color = useColors,figsize=(12,12),xlim=(0,1))\n",
    "plt.legend(bbox_to_anchor=([-1, 0.5]))"
   ]
  },
  {
   "cell_type": "code",
   "execution_count": null,
   "metadata": {
    "collapsed": true
   },
   "outputs": [],
   "source": [
    "#exported this table to a CSV file for the paper (did one for compounds too)\n",
    "toPlot_genes.to_csv('genes.csv')\n",
    "toPlot_cpds.to_csv('cpds.csv')"
   ]
  },
  {
   "cell_type": "code",
   "execution_count": null,
   "metadata": {
    "collapsed": false
   },
   "outputs": [],
   "source": [
    "# plot one compound or gene (for paper)\n",
    "oneCO = 'C02666'\n",
    "plotOne = forRelatedness[forRelatedness['KEGG']==oneCO]\n",
    "kData = plotOne.ix[:,dayList]\n",
    "fig,ax = plt.subplots(1)\n",
    "kData.T.plot(color = 'r',ax=ax, ylim = [0,5])\n",
    "\n",
    "handles, labels = ax.get_legend_handles_labels()\n",
    "#convert the RI numbers to COnumbers for the figure\n",
    "for ia, a in enumerate(labels):\n",
    "    #add compound/gene name to the legend\n",
    "    ##kegg_list('C00020').read()\n",
    "    #will have annoying tabs, use this to find them\n",
    "    if a[0]== 'R':\n",
    "        tLabel = convertRItoCO(CO_fromMATLAB,a)\n",
    "        fn = kegg_list(tLabel).read()                          \n",
    "        labels[ia] = fn\n",
    "    elif a[0] == 'K':\n",
    "        fn = kegg_list(a).read()\n",
    "        labels[ia] = fn\n",
    "\n",
    "ax.legend(handles, labels, bbox_to_anchor = ([-1, 0.5]))\n",
    "fig.suptitle('pathway ' + item + ', Kmeans grp ' + str(kn))\n",
    "pngName = 'pathway' + item + '_' + m.group(0) + '_' + oneCO + '.png'\n",
    "# fig.savefig(pngName)"
   ]
  },
  {
   "cell_type": "code",
   "execution_count": null,
   "metadata": {
    "collapsed": true
   },
   "outputs": [],
   "source": [
    "shortList = ['C00020','C00864','K13799']"
   ]
  },
  {
   "cell_type": "code",
   "execution_count": null,
   "metadata": {
    "collapsed": false
   },
   "outputs": [],
   "source": [
    "shortList"
   ]
  },
  {
   "cell_type": "code",
   "execution_count": null,
   "metadata": {
    "collapsed": false
   },
   "outputs": [],
   "source": [
    "#note change to get values from list with multiple items\n",
    "plotOne = forRelatedness.loc[forRelatedness['KEGG'].isin(shortList)]"
   ]
  },
  {
   "cell_type": "code",
   "execution_count": null,
   "metadata": {
    "collapsed": false
   },
   "outputs": [],
   "source": [
    "plotOne"
   ]
  },
  {
   "cell_type": "code",
   "execution_count": null,
   "metadata": {
    "collapsed": false
   },
   "outputs": [],
   "source": [
    "kData = plotOne.ix[:,dayList]\n",
    "fig,ax = plt.subplots(1)\n",
    "# kData.T.plot(color = 'r',ax=ax, ylim = [0,5])\n",
    "kData.T.plot(ax=ax, ylim = [0,5])\n",
    "\n",
    "handles, labels = ax.get_legend_handles_labels()\n",
    "#convert the RI numbers to COnumbers for the figure\n",
    "for ia, a in enumerate(labels):\n",
    "    #add compound/gene name to the legend\n",
    "    ##kegg_list('C00020').read()\n",
    "    #will have annoying tabs, use this to find them\n",
    "    if a[0]== 'R':\n",
    "        tLabel = convertRItoCO(CO_fromMATLAB,a)\n",
    "        fn = kegg_list(tLabel).read()                          \n",
    "        labels[ia] = fn\n",
    "    elif a[0] == 'K':\n",
    "        fn = kegg_list(a).read()\n",
    "        labels[ia] = fn\n",
    "\n",
    "# ax.legend(handles, labels, bbox_to_anchor = ([-1, 0.5]))\n",
    "# fig.suptitle('pathway ' + item + ', Kmeans grp ' + str(kn))\n",
    "fig.suptitle('plotting select items by hand')\n",
    "pngName = 'pathway' + item + '_' + m.group(0) + '_' + oneCO + '.png'\n",
    "fig.savefig('pantothenate.pdf')"
   ]
  },
  {
   "cell_type": "code",
   "execution_count": null,
   "metadata": {
    "collapsed": false
   },
   "outputs": [],
   "source": [
    "shortList = ['C00590','K00083','K03782','C02666']\n",
    "plotOne = forRelatedness.loc[forRelatedness['KEGG'].isin(shortList)]\n",
    "plotOne"
   ]
  },
  {
   "cell_type": "code",
   "execution_count": null,
   "metadata": {
    "collapsed": false
   },
   "outputs": [],
   "source": [
    "kData = plotOne.ix[:,dayList]\n",
    "fig,ax = plt.subplots(1)\n",
    "kData.T.plot(ax=ax, ylim = [0,5])\n",
    "\n",
    "handles, labels = ax.get_legend_handles_labels()\n",
    "#convert the RI numbers to COnumbers for the figure\n",
    "for ia, a in enumerate(labels):\n",
    "    #add compound/gene name to the legend\n",
    "    ##kegg_list('C00020').read()\n",
    "    #will have annoying tabs, use this to find them\n",
    "    if a[0]== 'R':\n",
    "        tLabel = convertRItoCO(CO_fromMATLAB,a)\n",
    "        fn = kegg_list(tLabel).read()                          \n",
    "        labels[ia] = fn\n",
    "    elif a[0] == 'K':\n",
    "        fn = kegg_list(a).read()\n",
    "        labels[ia] = fn\n",
    "\n",
    "# ax.legend(handles, labels, bbox_to_anchor = ([-1, 0.5]))\n",
    "# fig.suptitle('pathway ' + item + ', Kmeans grp ' + str(kn))\n",
    "fig.suptitle('plotting select items by hand')\n",
    "pdfName = 'PhenlypropanoidPathway2' + '.pdf'\n",
    "mpl.rcParams['pdf.fonttype'] = 42\n",
    "fig.savefig(pdfName)"
   ]
  },
  {
   "cell_type": "code",
   "execution_count": null,
   "metadata": {
    "collapsed": true
   },
   "outputs": [],
   "source": []
  },
  {
   "cell_type": "code",
   "execution_count": null,
   "metadata": {
    "collapsed": true
   },
   "outputs": [],
   "source": []
  },
  {
   "cell_type": "code",
   "execution_count": null,
   "metadata": {
    "collapsed": false
   },
   "outputs": [],
   "source": [
    "shortList = ['C04302','K13497','K00766']\n",
    "plotOne = forRelatedness.loc[forRelatedness['KEGG'].isin(shortList)]\n",
    "plotOne"
   ]
  },
  {
   "cell_type": "code",
   "execution_count": null,
   "metadata": {
    "collapsed": false
   },
   "outputs": [],
   "source": [
    "kData = plotOne.ix[:,dayList]\n",
    "fig,ax = plt.subplots(1)\n",
    "kData.T.plot(ax=ax, ylim = [0,5])\n",
    "\n",
    "handles, labels = ax.get_legend_handles_labels()\n",
    "#convert the RI numbers to COnumbers for the figure\n",
    "for ia, a in enumerate(labels):\n",
    "    #add compound/gene name to the legend\n",
    "    ##kegg_list('C00020').read()\n",
    "    #will have annoying tabs, use this to find them\n",
    "    if a[0]== 'R':\n",
    "        tLabel = convertRItoCO(CO_fromMATLAB,a)\n",
    "        fn = kegg_list(tLabel).read()                          \n",
    "        labels[ia] = fn\n",
    "    elif a[0] == 'K':\n",
    "        fn = kegg_list(a).read()\n",
    "        labels[ia] = fn"
   ]
  },
  {
   "cell_type": "code",
   "execution_count": null,
   "metadata": {
    "collapsed": false
   },
   "outputs": [],
   "source": [
    "kid='K00832'\n",
    "# kid='K00044'\n",
    "allK=InsituTPMGrped[InsituTPMGrped['kID']==kid].sum()\n",
    "allK=allK.drop('kID')\n",
    "allK=allK.astype('float')\n",
    "Dk=Insitu_TPM_DIA.loc[kid]/allK\n",
    "Nk=Insitu_TPM_DIN.loc[kid]/allK\n",
    "Ok=Insitu_TPM_Oth.loc[kid]/allK\n",
    "fig,ax=plt.subplots(1)\n",
    "ax.stackplot(range(5), Dk, Nk, Ok, colors=pal.colorbrewer.qualitative.Set3_6_r.hex_colors, lw=0)\n",
    "ax.set_xticks(range(5))\n",
    "ax.set_xticklabels([1,2,3,4,5])\n",
    "ax.set_ylim(0,1)"
   ]
  },
  {
   "cell_type": "code",
   "execution_count": null,
   "metadata": {
    "collapsed": true
   },
   "outputs": [],
   "source": [
    "kid='K03474'"
   ]
  },
  {
   "cell_type": "code",
   "execution_count": null,
   "metadata": {
    "collapsed": false
   },
   "outputs": [],
   "source": [
    "kid in Insitu_TPM_DIN.index.tolist()"
   ]
  },
  {
   "cell_type": "code",
   "execution_count": null,
   "metadata": {
    "collapsed": false
   },
   "outputs": [],
   "source": [
    "Dk=Insitu_TPM_DIA.loc[kid]/allK\n",
    "Dk"
   ]
  },
  {
   "cell_type": "code",
   "execution_count": null,
   "metadata": {
    "collapsed": false
   },
   "outputs": [],
   "source": [
    "allK"
   ]
  },
  {
   "cell_type": "code",
   "execution_count": null,
   "metadata": {
    "collapsed": false
   },
   "outputs": [],
   "source": [
    "0/allK"
   ]
  },
  {
   "cell_type": "code",
   "execution_count": null,
   "metadata": {
    "collapsed": true
   },
   "outputs": [],
   "source": []
  },
  {
   "cell_type": "code",
   "execution_count": null,
   "metadata": {
    "collapsed": true
   },
   "outputs": [],
   "source": []
  },
  {
   "cell_type": "code",
   "execution_count": null,
   "metadata": {
    "collapsed": false
   },
   "outputs": [],
   "source": [
    "kid='K00461'\n",
    "allK=InsituTPMGrped[InsituTPMGrped['kID']==kid].sum()\n",
    "allK=allK.drop('kID')\n",
    "allK=allK.astype('float')\n",
    "if kid in Insitu_TPM_DIA.index.tolist():\n",
    "    Dk=Insitu_TPM_DIA.loc[kid]/allK\n",
    "else: \n",
    "    Dk = 0/allK\n",
    "\n",
    "if kid in Insitu_TPM_DIN.index.tolist():\n",
    "    Nk=Insitu_TPM_DIN.loc[kid]/allK\n",
    "else:\n",
    "    Nk = 0/allK\n",
    "    \n",
    "if kid in Insitu_TPM_Oth.index.tolist():\n",
    "    Ok=Insitu_TPM_Oth.loc[kid]/allK\n",
    "else:\n",
    "    Ok = 0/allK\n",
    "    \n",
    "fig,ax=plt.subplots(1)\n",
    "ax.stackplot(range(5), Dk, Nk, Ok, colors=pal.colorbrewer.qualitative.Set3_6_r.hex_colors, lw=0)\n",
    "ax.set_xticks(range(5))\n",
    "ax.set_xticklabels([1,2,3,4,5])\n",
    "ax.set_ylim(0,1)"
   ]
  },
  {
   "cell_type": "code",
   "execution_count": null,
   "metadata": {
    "collapsed": true
   },
   "outputs": [],
   "source": []
  }
 ],
 "metadata": {
  "kernelspec": {
   "display_name": "Python 2",
   "language": "python",
   "name": "python2"
  },
  "language_info": {
   "codemirror_mode": {
    "name": "ipython",
    "version": 2
   },
   "file_extension": ".py",
   "mimetype": "text/x-python",
   "name": "python",
   "nbconvert_exporter": "python",
   "pygments_lexer": "ipython2",
   "version": "2.7.9"
  }
 },
 "nbformat": 4,
 "nbformat_minor": 0
}
